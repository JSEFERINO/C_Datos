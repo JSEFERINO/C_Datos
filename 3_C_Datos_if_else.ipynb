{
  "cells": [
    {
      "cell_type": "markdown",
      "metadata": {
        "id": "view-in-github",
        "colab_type": "text"
      },
      "source": [
        "<a href=\"https://colab.research.google.com/github/JSEFERINO/C_Datos/blob/main/3_C_Datos_if_else.ipynb\" target=\"_parent\"><img src=\"https://colab.research.google.com/assets/colab-badge.svg\" alt=\"Open In Colab\"/></a>"
      ]
    },
    {
      "cell_type": "markdown",
      "source": [
        "# **Curso Introductorio a la Ciencia de Datos por Julio Hurtado Márquez**\n",
        "## **Parte I**"
      ],
      "metadata": {
        "id": "IKh2T45AnwtN"
      }
    },
    {
      "cell_type": "code",
      "execution_count": null,
      "metadata": {
        "id": "NUJLmwAkEDNa"
      },
      "outputs": [],
      "source": [
        "import pandas as pd\n",
        "import numpy as np"
      ]
    },
    {
      "cell_type": "markdown",
      "source": [
        "# **Clase No. 3: Introducción Informal - Estructuras**"
      ],
      "metadata": {
        "id": "xPcsXm1UnvF2"
      }
    },
    {
      "cell_type": "markdown",
      "source": [
        "# **14. Estructura de programación secuencial**\n",
        "## **a. Problema: Realizar la carga de dos números enteros por teclado e imprimir su suma y su producto.**"
      ],
      "metadata": {
        "id": "qoCBLvQR-WbA"
      }
    },
    {
      "cell_type": "code",
      "source": [
        "# Estructura de programación secuencial\n",
        "num1=int(input(\"ingrese primer valor:\"))\n",
        "num2=int(input(\"ingrese segundo valor:\"))\n",
        "suma=num1+num2\n",
        "producto=num1*num2\n",
        "print(\"La suma de los dos valores es\")\n",
        "print(suma)\n",
        "print(\"El producto de los dos valores es\")\n",
        "print(producto)"
      ],
      "metadata": {
        "colab": {
          "base_uri": "https://localhost:8080/"
        },
        "id": "S3aktatf-NDD",
        "outputId": "5e0facce-cad2-4fd2-f557-2294966d3c64"
      },
      "execution_count": null,
      "outputs": [
        {
          "output_type": "stream",
          "name": "stdout",
          "text": [
            "ingrese primer valor:12\n",
            "ingrese segundo valor:6\n",
            "La suma de los dos valores es\n",
            "18\n",
            "El producto de los dos valores es\n",
            "72\n"
          ]
        }
      ]
    },
    {
      "cell_type": "markdown",
      "source": [
        "## **b. Problema: Realizar la carga del precio de un producto y la cantidad a llevar. Mostrar cuanto se debe pagar (se ingresa un valor entero en el precio del producto)**\n"
      ],
      "metadata": {
        "id": "zugyQVTo_Aqn"
      }
    },
    {
      "cell_type": "code",
      "source": [
        "precio=int(input(\"Ingrese el precio del producto:\"))\n",
        "cantidad=int(input(\"Ingrese la cantidad de productos a llevar:\"))\n",
        "importe=precio*cantidad\n",
        "print(\"El importe a pagar es\")\n",
        "print(importe)\n"
      ],
      "metadata": {
        "colab": {
          "base_uri": "https://localhost:8080/"
        },
        "id": "PtJ7BaHh_K4H",
        "outputId": "32ce478d-d30c-44cf-9c2a-44465e9b6a82"
      },
      "execution_count": null,
      "outputs": [
        {
          "output_type": "stream",
          "name": "stdout",
          "text": [
            "Ingrese el precio del producto:4500\n",
            "Ingrese la cantidad de productos a llevar:500\n",
            "El importe a pagar es\n",
            "2250000\n"
          ]
        }
      ]
    },
    {
      "cell_type": "markdown",
      "metadata": {
        "id": "gxqFiWS5aSc2"
      },
      "source": [
        "#**15. Estructura condicional simple : Condicional if**\n",
        "\n",
        "- En Python la sentenci _if_ se utiliza para ejecutar un bloque de codigo si una condición es verdadera"
      ]
    },
    {
      "cell_type": "markdown",
      "source": [
        "## **a. Problema: Ingresar el sueldo de una persona, si supera los 5000000 pesos mostrar un mensaje en pantalla indicando que debe abonar impuestos.**"
      ],
      "metadata": {
        "id": "-kYzr9D3GpGB"
      }
    },
    {
      "cell_type": "code",
      "source": [
        "sueldo=int(input(\"Ingrese cual es su sueldo:\"))\n",
        "if sueldo>5000000:\n",
        "    print(\"Esta persona debe abonar impuestos\")"
      ],
      "metadata": {
        "colab": {
          "base_uri": "https://localhost:8080/"
        },
        "id": "s9bPj5UOHLNl",
        "outputId": "554f41ad-075f-4a18-ae41-377b4ccdf12d"
      },
      "execution_count": null,
      "outputs": [
        {
          "output_type": "stream",
          "name": "stdout",
          "text": [
            "Ingrese cual es su sueldo:5000455\n",
            "Esta persona debe abonar impuestos\n"
          ]
        }
      ]
    },
    {
      "cell_type": "markdown",
      "source": [
        "## **b. Problema: Ingresar la edad en años cumplidos e indique si es mayor de edad**"
      ],
      "metadata": {
        "id": "uluGoWRaHrrp"
      }
    },
    {
      "cell_type": "code",
      "source": [
        " edad = int(input(\"Escribe tu edad en años cumplidos\"))\n",
        " if edad>18:\n",
        "  print(\"Eres mayor de Edad \")"
      ],
      "metadata": {
        "id": "GbVL0CMnCtw4",
        "colab": {
          "base_uri": "https://localhost:8080/"
        },
        "outputId": "709dd74c-333a-4b79-f8ae-c59dfe56b464"
      },
      "execution_count": null,
      "outputs": [
        {
          "output_type": "stream",
          "name": "stdout",
          "text": [
            "Escribe tu edad en años cumplidos67\n",
            "Eres mayor de Edad \n"
          ]
        }
      ]
    },
    {
      "cell_type": "markdown",
      "source": [
        "## **16. Estructura condicional compuesta : _if_ _else_**\n",
        "\n",
        "- La sentencia _if-else_ en Python se usa para ejecutar diferentes bloques de código dependiendo si se cumple o no una determinada condición"
      ],
      "metadata": {
        "id": "rmCmZXM1Dgs_"
      }
    },
    {
      "cell_type": "markdown",
      "source": [
        "## **a. Problema: Ingresar la edad en años cumplidos e indique si es mayor de edad o en su defecto mayor de edad**"
      ],
      "metadata": {
        "id": "LNz-PBjbIVq1"
      }
    },
    {
      "cell_type": "code",
      "execution_count": null,
      "metadata": {
        "id": "Z4b1PgYBZj28",
        "colab": {
          "base_uri": "https://localhost:8080/"
        },
        "outputId": "80b84c89-99ac-47f6-d4c1-bf8e5b65baaa"
      },
      "outputs": [
        {
          "output_type": "stream",
          "name": "stdout",
          "text": [
            "Escribe tu edad en años cumplidos 14\n",
            "Eres menor de Edad\n"
          ]
        }
      ],
      "source": [
        "edad = int(input(\"Escribe tu edad en años cumplidos \"))\n",
        "if edad>=18:\n",
        "  print(\"Eres mayor de Edad\")\n",
        "else:\n",
        "  print(\"Eres menor de Edad\")\n"
      ]
    },
    {
      "cell_type": "markdown",
      "source": [
        "## **b. Problema: Con una edad fija  en años cumplidos e indique si es mayor de edad o en su defecto mayor de edad**"
      ],
      "metadata": {
        "id": "KZVAGF0QJe7W"
      }
    },
    {
      "cell_type": "code",
      "execution_count": null,
      "metadata": {
        "id": "o5I2T7nNZj8q",
        "colab": {
          "base_uri": "https://localhost:8080/"
        },
        "outputId": "1863d5ea-7727-4cbc-c085-2be48eb2be14"
      },
      "outputs": [
        {
          "output_type": "stream",
          "name": "stdout",
          "text": [
            "Eres menor de Edad\n"
          ]
        }
      ],
      "source": [
        "edad = 16\n",
        "if edad>=18:\n",
        "  print(\"Eres mayor de Edad\")\n",
        "else:\n",
        "  print(\"Eres menor de Edad\")"
      ]
    },
    {
      "cell_type": "markdown",
      "source": [
        "# **17. Estructuras condicionales anidadas**"
      ],
      "metadata": {
        "id": "VIPML7w2Jt7L"
      }
    },
    {
      "cell_type": "markdown",
      "source": [
        "## **a. Ejemplo escriba un programa que clasifique la edad segun las categorias que aparecen a continuación usando: la estructura  _if_ _elif_  _else_**\n",
        "\n",
        "- Primera Infancia (0-5 años)\n",
        "- Infancia (6 - 11 años)\n",
        "- Adolescencia (12 - 18 años)\n",
        "- Juventud (18 - 26 años)\n",
        "- Adultez (27- 59 años)\n",
        "- Persona Mayor (60 años o mas) envejecimiento y vejez"
      ],
      "metadata": {
        "id": "Z8AcNaBMFEfk"
      }
    },
    {
      "cell_type": "code",
      "execution_count": null,
      "metadata": {
        "id": "dXXKdQOffIOF",
        "colab": {
          "base_uri": "https://localhost:8080/"
        },
        "outputId": "b8cf8c02-a7fe-420a-e61a-4a32bbbe11f4"
      },
      "outputs": [
        {
          "output_type": "stream",
          "name": "stdout",
          "text": [
            "Eres mayor de Edad\n"
          ]
        }
      ],
      "source": [
        "edad = 18\n",
        "if edad>=18:\n",
        "  print(\"Eres mayor de Edad\")\n",
        "elif edad>=13:\n",
        "  print(\"Eres un adolescente\")\n",
        "else:\n",
        "  print(\"Eres menor de Edad\")"
      ]
    },
    {
      "cell_type": "code",
      "execution_count": null,
      "metadata": {
        "id": "7DBxk0cRfIc3",
        "colab": {
          "base_uri": "https://localhost:8080/"
        },
        "outputId": "d2ea63fe-c3a8-4a00-cf75-d36d6d88832f"
      },
      "outputs": [
        {
          "output_type": "stream",
          "name": "stdout",
          "text": [
            "Eres un adolescente\n"
          ]
        }
      ],
      "source": [
        "edad = 16\n",
        "if edad>=18:\n",
        "  print(\"Eres mayor de Edad\")\n",
        "elif edad>=13:\n",
        "  print(\"Eres un adolescente\")\n",
        "else:\n",
        "  print(\"Eres menor de Edad\")"
      ]
    },
    {
      "cell_type": "markdown",
      "source": [
        "## **b. Ejemplo escriba un programa que clasifique la edad segun las categorias que aparecen a continuación usando: la estructura  _if_ _elif_  _else_**\n",
        "\n",
        "- Primera Infancia (0-5 años)\n",
        "- Infancia (6 - 11 años)\n",
        "- Adolescencia (12 - 18 años)\n",
        "- Juventud (18 - 26 años)\n",
        "- Adultez (27- 59 años)\n",
        "- Persona Mayor (60 años o mas) envejecimiento y vejez"
      ],
      "metadata": {
        "id": "6pWbZ2cEKXyW"
      }
    },
    {
      "cell_type": "code",
      "execution_count": null,
      "metadata": {
        "id": "UwlSu3Z-fImS",
        "colab": {
          "base_uri": "https://localhost:8080/"
        },
        "outputId": "90f8dcac-5fe3-4d5c-ff27-41d84d7f4204"
      },
      "outputs": [
        {
          "output_type": "stream",
          "name": "stdout",
          "text": [
            "Escribe tu edad en años cumplidos 80\n",
            "Escribe tu nombre Pedro\n",
            "Con tu edad 80 años cumplidos. Pedro\n",
            "Eres un adulto mayor\n"
          ]
        }
      ],
      "source": [
        "edad = int(input(\"Escribe tu edad en años cumplidos \"))\n",
        "nombre = input(\"Escribe tu nombre \")\n",
        "if edad>=60:\n",
        "  print('Con tu edad', edad, 'años cumplidos.',nombre)\n",
        "  print(\"Eres un adulto mayor\")\n",
        "elif edad>=27:\n",
        "  print('Con tu edad', edad, 'años cumplidos.',nombre)\n",
        "  print(\"Eres una persona adulta\")\n",
        "elif edad>=18:\n",
        "  print('Con tu edad', edad, 'años cumplidos.',nombre)\n",
        "  print(\"Eres una persona Jóven\")\n",
        "elif edad>=12:\n",
        "  print('Con tu edad', edad, 'años cumplidos.',nombre)\n",
        "  print(\"Eres una persona adolescente\")\n",
        "elif edad>=6:\n",
        "  print('Con tu edad', edad, 'años cumplidos.',nombre)\n",
        "  print(\"Eres un infante\")\n",
        "else:\n",
        "  print('Con tu edad', edad, 'años cumplidos.',nombre)\n",
        "  print(\"Te encuentras en tu niñez\")"
      ]
    },
    {
      "cell_type": "markdown",
      "source": [
        "# **c. Un caso más corto**"
      ],
      "metadata": {
        "id": "OKGUuz20PP3i"
      }
    },
    {
      "cell_type": "code",
      "execution_count": null,
      "metadata": {
        "id": "NjWh7glDfIrQ",
        "colab": {
          "base_uri": "https://localhost:8080/"
        },
        "outputId": "73a23293-5e5d-4d4b-f357-0c1e8a97fd8e"
      },
      "outputs": [
        {
          "output_type": "stream",
          "name": "stdout",
          "text": [
            "Eres mayor de Edad\n"
          ]
        }
      ],
      "source": [
        "edad = 50\n",
        "if edad>=18:\n",
        "  print(\"Eres mayor de Edad\")\n",
        "elif edad>=13:\n",
        "  print(\"Eres un adolescente\")\n",
        "else:\n",
        "  print(\"Eres menor de Edad\")"
      ]
    },
    {
      "cell_type": "markdown",
      "source": [
        "# **d. Estructuras condicionales anidadas - con Listas**"
      ],
      "metadata": {
        "id": "13pXrfs1P9Aw"
      }
    },
    {
      "cell_type": "code",
      "execution_count": null,
      "metadata": {
        "id": "XT1NKs9fgD1H",
        "colab": {
          "base_uri": "https://localhost:8080/"
        },
        "outputId": "fb57a046-40a6-4dde-ad84-9db880c45439"
      },
      "outputs": [
        {
          "output_type": "execute_result",
          "data": {
            "text/plain": [
              "['Bolívar', 'Atlántico', 'Magdalena', 'Córdoba', 'Sucre', 'Cesar', 'Guajira']"
            ]
          },
          "metadata": {},
          "execution_count": 15
        }
      ],
      "source": [
        "dptos = [\"Bolívar\", \"Atlántico\", \"Magdalena\", \"Córdoba\", \"Sucre\", \"Cesar\", \"Guajira\"]\n",
        "dptos"
      ]
    },
    {
      "cell_type": "code",
      "execution_count": null,
      "metadata": {
        "id": "bDdMc_qmgEKe",
        "colab": {
          "base_uri": "https://localhost:8080/"
        },
        "outputId": "420d7b76-355d-429c-aa92-a96decca0451"
      },
      "outputs": [
        {
          "output_type": "stream",
          "name": "stdout",
          "text": [
            "Córdoba  es un dpto de la costa\n"
          ]
        }
      ],
      "source": [
        "if \"Córdoba\" in dptos:\n",
        "  print(\"Córdoba  es un dpto de la costa\")\n",
        "else: \n",
        "  print(\"Córdoba no es un dpto de la costa\")"
      ]
    },
    {
      "cell_type": "markdown",
      "source": [
        "# **e. más general**"
      ],
      "metadata": {
        "id": "_ktUw_BdW-8H"
      }
    },
    {
      "cell_type": "code",
      "execution_count": null,
      "metadata": {
        "id": "b2cRdcUfgD7L",
        "colab": {
          "base_uri": "https://localhost:8080/"
        },
        "outputId": "ee5eb28e-6d9d-4a33-e035-59857cc3777c"
      },
      "outputs": [
        {
          "output_type": "stream",
          "name": "stdout",
          "text": [
            "Ingrese un dpto de Colombia, la primera letra en MAYUSCULA Risaralda\n",
            "Risaralda no es un dpto de Colombia\n"
          ]
        }
      ],
      "source": [
        "dpto = input(\"Ingrese un dpto de Colombia, la primera letra en MAYUSCULA \")\n",
        "if dpto in dptos:\n",
        "  print(dpto,\"es un dpto de Colombia\")\n",
        "else: \n",
        "  print(dpto,\"no es un dpto de Colombia\")"
      ]
    },
    {
      "cell_type": "markdown",
      "source": [
        "## **18. Operadores de Comparación y Lógicos**\n",
        "+ **Operadores de Comparación**\n",
        "\n",
        "|Operador|\tLeer|Descripción|\n",
        "|:--:|:--:|:--:|\n",
        "|>|\tMayor que.| True si el operando de la izquierda es estrictamente mayor que el de la derecha; False en caso contrario.\n",
        "|>=|\tMayor o igual que.| True si el operando de la izquierda es mayor o igual que el de la derecha; False en caso contrario.\n",
        "|<|\tMenor que.| True si el operando de la izquierda es estrictamente menor que el de la derecha; False en caso contrario.\n",
        "|<=|\tMenor o igual que.| True si el operando de la izquierda es menor o igual que el de la derecha; False en caso contrario.\n",
        "|==\t|Igual. |True si el operando de la izquierda es igual que el de la derecha; False en caso contrario.\n",
        "|!=|\tDistinto. |True si los operandos son distintos; False en caso contrario.\n",
        "\n",
        "\n",
        "\n",
        "+ **Operadores Lógicos**\n",
        "- Los operadores lógicos utilizados en Python son and , or y not .\n",
        "\n",
        "|Operación\t|Resultado|\tDescripción|\n",
        "|:--:|:--:|:--:|\n",
        "|a or b\t|Si a se evalúa a falso, entonces devuelve b, si no devuelve a\t|Solo se evalúa el segundo operando si el primero es falso|\n",
        "|a and b\t|Si a se evalúa a falso, entonces devuelve a, si no devuelve b\t|Solo se evalúa el segundo operando si el primero es verdadero|\n",
        "|not a\t|Si a se evalúa a falso, entonces devuelve True, si no devuelve False\t|Tiene menos prioridad que otros operadores no booleanos|\n"
      ],
      "metadata": {
        "id": "vB5hbGDbH7I2"
      }
    },
    {
      "cell_type": "markdown",
      "source": [
        "## **a. Problema: Confeccionar un programa que pida por teclado tres notas de un alumno, calcule el promedio e imprima alguno de estos mensajes:**\n",
        "\n",
        "- Si el promedio es $\\geq 4.5$ mostrar \"Excelente\".\n",
        "- Si el promedio es $\\geq4.0$ y $<4.5$ mostrar \"Muy bueno\".\n",
        "- Si el promedio es $\\geq3.5$ y $<4.0$ mostrar \" bueno\".\n",
        "- Si el promedio es $\\geq3.0$ y $<3.5$ mostrar \" Aceptable\".\n",
        "- Si el promedio es $<3.0$ mostrar \"Reprobado\".\n",
        "\n"
      ],
      "metadata": {
        "id": "S3qqsGI3X55m"
      }
    },
    {
      "cell_type": "code",
      "source": [
        "promedio = float(input(\"Escribe tu nota promedio, usa punto para decimales  \"))\n",
        "nombre = input(\"Escribe tu nombre \")\n",
        "if promedio>=4.5:\n",
        "  print(nombre,' tienes un promedio de ', promedio)\n",
        "  print(\"Eres un estudiante excelente\")\n",
        "elif promedio>=4.0 and promedio<4.5:\n",
        "  print(nombre,' tienes un promedio de ', promedio)\n",
        "  print(\"Eres un estudiante Muy bueno\")\n",
        "elif promedio>=3.5 and promedio<4.0:\n",
        "  print(nombre,' tienes un promedio de ', promedio)\n",
        "  print(\"Eres un estudiante  bueno\")\n",
        "elif promedio>=3.0 and promedio<3.5:\n",
        "  print(nombre,' tienes un promedio de ', promedio)\n",
        "  print(\"Eres un estudiante aceptable\")\n",
        "else:\n",
        "  print(nombre,' tienes un promedio de ', promedio)\n",
        "  print(\"Eres un estudiante deficiente\")\n"
      ],
      "metadata": {
        "colab": {
          "base_uri": "https://localhost:8080/"
        },
        "id": "C3HpMYlJsuJB",
        "outputId": "b5a5d675-2964-4d9f-e202-5fa80d58721d"
      },
      "execution_count": null,
      "outputs": [
        {
          "output_type": "stream",
          "name": "stdout",
          "text": [
            "Escribe tu nota promedio, usa punto para decimales  4.8\n",
            "Escribe tu nombre Julio\n",
            "Julio  tienes un promedio de  4.8\n",
            "Eres un estudiante excelente\n"
          ]
        }
      ]
    },
    {
      "cell_type": "markdown",
      "source": [
        "## **b. Ejemplo escriba un programa que clasifique la edad segun las categorias que aparecen a continuación usando: la estructura  _if_ _elif_  _else_**\n",
        "\n",
        "- Primera Infancia (0-5 años)\n",
        "- Infancia (6 - 11 años)\n",
        "- Adolescencia (12 - 18 años)\n",
        "- Juventud (18 - 26 años)\n",
        "- Adultez (27- 59 años)\n",
        "- Persona Mayor (60 años o mas) envejecimiento y vejez"
      ],
      "metadata": {
        "id": "WqWk16I9wWsY"
      }
    },
    {
      "cell_type": "code",
      "source": [
        "a = int(input(\"Escribe tu edad en años cumplidos \"))\n",
        "b = int(input(\"Escribe tu edad en años cumplidos \"))\n",
        "if (a>=60 or b>=60):\n",
        "  print('Como tienen edades de: ',a,'y',b ,\"Almenos uno de ustede es un adulto mayor\")\n",
        "elif (a>=60 and b>=60):\n",
        "  print('Como tienen edades de: ',a,'y',b ,\"Ustedes son adultos mayores\")\n",
        "elif ((a>=27 and b>=60) or (a>=60 and b>=27)):\n",
        "  print('Como tienen edades de: ',a,'y',b ,\"Uno de Ustedes es una persona Adulta\")\n",
        "elif (a>=27 and b>=27):\n",
        "  print('Como tienen edades de: ',a,'y',b ,\"Ustedes son Personas Adulta\")\n",
        "elif ((a>=18 and b>=27) or (a>=27 and b>=18)):\n",
        "  print('Como tienen edades de: ',a,'y',b ,\"Uno de Ustedes es una persona Jóven\")\n",
        "elif (a>=18 and b>=18):\n",
        "  print('Como tienen edades de: ',a,'y',b ,\"Ustedes son Personas Jóvenes\")\n",
        "\n",
        "elif ((a>=12 and b>=18) or (a>=18 and b>=12)):\n",
        "  print('Como tienen edades de: ',a,'y',b ,\"Uno de Ustedes es una persona Adolescente\")\n",
        "elif (a>=12 and b>=12):\n",
        "  print('Como tienen edades de: ',a,'y',b ,\"Ustedes son Personas Adolescentes\")\n",
        "\n",
        "elif ((a>=12 and b>=6) or (a>=6 and b>=12)):\n",
        "  print('Como tienen edades de: ',a,'y',b ,\"Uno de Ustedes es un infante\")\n",
        "elif (a>=6 and b>=6):\n",
        "  print('Como tienen edades de: ',a,'y',b ,\"Ustedes son infantes\")\n",
        "\n",
        "else:\n",
        "  print('Como tienen edades de: ',a,'y',b ,\"Almenos hay un bebé entre nosotros\")"
      ],
      "metadata": {
        "id": "S2obrveIOexl",
        "colab": {
          "base_uri": "https://localhost:8080/"
        },
        "outputId": "93f7b95f-42f8-494d-971b-508e10964bf5"
      },
      "execution_count": null,
      "outputs": [
        {
          "output_type": "stream",
          "name": "stdout",
          "text": [
            "Escribe tu edad en años cumplidos 8\n",
            "Escribe tu edad en años cumplidos 12\n",
            "Como tienen edades de:  8 y 12 Uno de Ustedes es un infante\n"
          ]
        }
      ]
    },
    {
      "cell_type": "markdown",
      "source": [
        "# **c. Construye un programa que lea  tres números enteros distintos y nos muestre el mayor.**"
      ],
      "metadata": {
        "id": "cOZVkPKl1sIe"
      }
    },
    {
      "cell_type": "code",
      "source": [
        "a=int(input(\"Ingrese primer valor:\"))\n",
        "b=int(input(\"Ingrese segundo valor:\"))\n",
        "c=int(input(\"Ingrese tercer valor:\"))\n",
        "print(\"El mayor de los tres valores es\")\n",
        "if a>b and a>c:\n",
        "    print(a)\n",
        "else:\n",
        "    if b>c:\n",
        "        print(b)\n",
        "    else:\n",
        "        print(c)"
      ],
      "metadata": {
        "colab": {
          "base_uri": "https://localhost:8080/"
        },
        "id": "ej5dflc413RK",
        "outputId": "333e0963-eaec-417f-ff36-d268a56552f3"
      },
      "execution_count": null,
      "outputs": [
        {
          "output_type": "stream",
          "name": "stdout",
          "text": [
            "Ingrese primer valor:4\n",
            "Ingrese segundo valor:6\n",
            "Ingrese tercer valor:8\n",
            "El mayor de los tres valores es\n",
            "8\n"
          ]
        }
      ]
    },
    {
      "cell_type": "code",
      "source": [
        "if(5>2 and 1>=9):\n",
        "  print(\"Se cumple una condicion\")\n",
        "else:\n",
        "  print(\"No se cumplieron todas las condiciones\")"
      ],
      "metadata": {
        "id": "WTcIAhqTNysa",
        "colab": {
          "base_uri": "https://localhost:8080/"
        },
        "outputId": "53b8bbed-9751-46d2-e0ec-098159383620"
      },
      "execution_count": null,
      "outputs": [
        {
          "output_type": "stream",
          "name": "stdout",
          "text": [
            "No se cumplieron todas las condiciones\n"
          ]
        }
      ]
    },
    {
      "cell_type": "code",
      "source": [
        "if(5>2 or 1>=9):\n",
        "  print(\"Solo uno se cumple\")"
      ],
      "metadata": {
        "id": "V6qniXOUNgCn",
        "colab": {
          "base_uri": "https://localhost:8080/"
        },
        "outputId": "8c06a618-5fb2-49dd-f7b8-466a4fdc6bca"
      },
      "execution_count": null,
      "outputs": [
        {
          "output_type": "stream",
          "name": "stdout",
          "text": [
            "Solo uno se cumple\n"
          ]
        }
      ]
    },
    {
      "cell_type": "markdown",
      "source": [
        "# **20. Ejercicios**\n",
        "## **1) Realiza un programa que lea dos números por teclado y permita elegir entre 3 opciones en un menú:** \n",
        "* Mostrar una suma de los dos números\n",
        "* Mostrar una resta de los dos números (el primero menos el segundo)\n",
        "* Mostrar una multiplicación de los dos números\n",
        "* En caso de no introducir una opción válida, el programa informará de que no es correcta."
      ],
      "metadata": {
        "id": "bi20kdBDb10D"
      }
    },
    {
      "cell_type": "code",
      "source": [
        "# Completa el ejercicio aquí\n",
        "n1 = float(input(\"Introduce un número: \") )\n",
        "n2 = float(input(\"Introduce otro número: \") )\n",
        "opcion = 0\n",
        "           \n",
        "print(\"¿Qué quieres hacer? \\n1) Sumar los dos números\\n2) Restar los dos números\\n3) Multiplicar los dos números\")\n",
        "opcion = int(input(\"Introduce un número: \") )     \n",
        "\n",
        "if opcion == 1:\n",
        "    print(\"La suma de\",n1,\"+\",n2,\"es\",n1+n2)\n",
        "elif opcion == 2:\n",
        "    print(\"La resta de\",n1,\"-\",n2,\"es\",n1-n2)\n",
        "elif opcion == 3:\n",
        "    print(\"El producto de\",n1,\"*\",n2,\"es\",n1*n2)\n",
        "else:\n",
        "    print(\"Opción incorrecta\")"
      ],
      "metadata": {
        "colab": {
          "base_uri": "https://localhost:8080/"
        },
        "id": "ZCB-1qvGcA0v",
        "outputId": "722687d5-37a0-4db9-9657-e82638c2ffaf"
      },
      "execution_count": null,
      "outputs": [
        {
          "output_type": "stream",
          "name": "stdout",
          "text": [
            "Introduce un número: 9\n",
            "Introduce otro número: 5\n",
            "¿Qué quieres hacer? \n",
            "1) Sumar los dos números\n",
            "2) Restar los dos números\n",
            "3) Multiplicar los dos números\n",
            "Introduce un número: 3\n",
            "El producto de 9.0 * 5.0 es 45.0\n"
          ]
        }
      ]
    }
  ],
  "metadata": {
    "colab": {
      "provenance": [],
      "authorship_tag": "ABX9TyO62A+dHW20lUMTSVXwcKCU",
      "include_colab_link": true
    },
    "kernelspec": {
      "display_name": "Python 3",
      "name": "python3"
    },
    "language_info": {
      "name": "python"
    }
  },
  "nbformat": 4,
  "nbformat_minor": 0
}