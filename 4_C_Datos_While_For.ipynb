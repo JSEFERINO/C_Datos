{
  "cells": [
    {
      "cell_type": "markdown",
      "metadata": {
        "id": "view-in-github",
        "colab_type": "text"
      },
      "source": [
        "<a href=\"https://colab.research.google.com/github/JSEFERINO/C_Datos/blob/main/4_C_Datos_While_For.ipynb\" target=\"_parent\"><img src=\"https://colab.research.google.com/assets/colab-badge.svg\" alt=\"Open In Colab\"/></a>"
      ]
    },
    {
      "cell_type": "markdown",
      "source": [
        "# **Curso Introductorio a la Ciencia de Datos por Julio Hurtado Márquez**\n",
        "## **Parte I**"
      ],
      "metadata": {
        "id": "IKh2T45AnwtN"
      }
    },
    {
      "cell_type": "code",
      "execution_count": null,
      "metadata": {
        "id": "NUJLmwAkEDNa"
      },
      "outputs": [],
      "source": [
        "import pandas as pd\n",
        "import numpy as np"
      ]
    },
    {
      "cell_type": "markdown",
      "source": [
        "# **Clase No. 4: Introducción Informal - Estructuras**"
      ],
      "metadata": {
        "id": "xPcsXm1UnvF2"
      }
    },
    {
      "cell_type": "markdown",
      "source": [
        "Andina: Antioquia, Boyacá, Caldas, Caquetá, Cauca, Cesar, Chocó, Cundinamarca, Huila, Nariño, Norte de Santander, Putumayo, Quindío, Risaralda, Santander, Tolima y Valle del Cauca.\n",
        "Amazonia: Amazonas, Caquetá, Guainía, Guaviare, Meta, Putumayo, Vaupés y Vichada.\n",
        "Caribe: Atlántico, Bolívar, Cesar, Córdoba, La Guajira, Magdalena, Chocó (Acandí y Ungía), Antioquia y Sucre.\n",
        "Insular: San Andrés y Providencia, Bolívar (Islas del Rosario), Bolívar (Islas de San Bernardo), Cauca (Isla Gorgona), Valle del Cauca (Isla de Malpelo).\n",
        "Orinoquía: Arauca, Casanare, Meta y Vichada.\n",
        "Pacífica: Cauca, Valle del Cauca, Chocó y Nariño."
      ],
      "metadata": {
        "id": "l3JyJEYFWaMm"
      }
    },
    {
      "cell_type": "markdown",
      "source": [
        "# **21. Estructura repetitiva while**\n",
        "## **a. Bucle While con condicionante**\n",
        "- El Bucle While es una sentencia de control de flujo que se utiliza para ejecutar un bloque de instrucciones de forma continuada\n",
        "- Su uso principal es ejecutar repetidamente un bloque de código mientras se cumpla una condición. Su estructura es la siguiente:\n",
        "-- _while_ condición:\n",
        "    Bloque de condición"
      ],
      "metadata": {
        "id": "qq8iMnO-Tpwv"
      }
    },
    {
      "cell_type": "code",
      "source": [
        "## **a. Bucle While con condicionante**\n",
        "contador = 0\n",
        "while contador < 3:\n",
        "  contador = contador+1\n",
        "  print(\"El contador tiene valor de: \", contador)"
      ],
      "metadata": {
        "id": "xGR-QbukUkI9",
        "colab": {
          "base_uri": "https://localhost:8080/"
        },
        "outputId": "ebe5f645-b24a-43ec-ab4c-744305362818"
      },
      "execution_count": null,
      "outputs": [
        {
          "output_type": "stream",
          "name": "stdout",
          "text": [
            "El contador tiene valor de:  1\n",
            "El contador tiene valor de:  2\n",
            "El contador tiene valor de:  3\n"
          ]
        }
      ]
    },
    {
      "cell_type": "markdown",
      "source": [
        "## **b. Bucle While con condicionante el _print_ no importa donde se ubique**"
      ],
      "metadata": {
        "id": "NQ8mDBtOlfx-"
      }
    },
    {
      "cell_type": "code",
      "source": [
        "## **b. Bucle While con condicionante el print no importa onde se ubique**\n",
        "contador = 0\n",
        "while contador < 3:\n",
        "  \n",
        "  print(\"El contador tiene valor de: \", contador)\n",
        "  contador = contador+1"
      ],
      "metadata": {
        "colab": {
          "base_uri": "https://localhost:8080/"
        },
        "id": "GqNeXSKzlSiI",
        "outputId": "f69bd93e-db88-4d26-f5ac-f232608f8808"
      },
      "execution_count": null,
      "outputs": [
        {
          "output_type": "stream",
          "name": "stdout",
          "text": [
            "El contador tiene valor de:  0\n",
            "El contador tiene valor de:  1\n",
            "El contador tiene valor de:  2\n"
          ]
        }
      ]
    },
    {
      "cell_type": "markdown",
      "source": [
        "## **c. Bucle While con condicionante: Clasifiquemos los primeros 20 números**"
      ],
      "metadata": {
        "id": "usYhsXCil43a"
      }
    },
    {
      "cell_type": "code",
      "source": [
        "## **c. Bucle While con condicionante: Clasifiquemos los primeros 20 números**\n",
        "contador = 0\n",
        "while contador < 20:\n",
        "  contador = contador+1\n",
        "  if(contador%2==0):\n",
        "    print(\"El contador tiene valor par: \", contador)\n",
        "  else:\n",
        "   print(\"El contador tiene valor impar: \", contador)"
      ],
      "metadata": {
        "id": "oj9dymabUkZx",
        "colab": {
          "base_uri": "https://localhost:8080/"
        },
        "outputId": "d97a77b3-9b2d-457f-c4aa-6d773c1b8f62"
      },
      "execution_count": null,
      "outputs": [
        {
          "output_type": "stream",
          "name": "stdout",
          "text": [
            "El contador tiene valor impar:  1\n",
            "El contador tiene valor par:  2\n",
            "El contador tiene valor impar:  3\n",
            "El contador tiene valor par:  4\n",
            "El contador tiene valor impar:  5\n",
            "El contador tiene valor par:  6\n",
            "El contador tiene valor impar:  7\n",
            "El contador tiene valor par:  8\n",
            "El contador tiene valor impar:  9\n",
            "El contador tiene valor par:  10\n",
            "El contador tiene valor impar:  11\n",
            "El contador tiene valor par:  12\n",
            "El contador tiene valor impar:  13\n",
            "El contador tiene valor par:  14\n",
            "El contador tiene valor impar:  15\n",
            "El contador tiene valor par:  16\n",
            "El contador tiene valor impar:  17\n",
            "El contador tiene valor par:  18\n",
            "El contador tiene valor impar:  19\n",
            "El contador tiene valor par:  20\n"
          ]
        }
      ]
    },
    {
      "cell_type": "markdown",
      "source": [
        "## **d. Clasifiquemos los primeros $n$ números como pares o impares**"
      ],
      "metadata": {
        "id": "9BIE_aX9m93s"
      }
    },
    {
      "cell_type": "code",
      "source": [
        "## **d. Bucle While con condicionante: Clasifiquemos los primeros n números**\n",
        "n = int(input('Ingrese el valor de n '))\n",
        "contador = 0\n",
        "while contador < n:\n",
        "  contador = contador+1\n",
        "  if(contador%2==0):\n",
        "    print(\"El contador tiene valor par: \", contador)\n",
        "  else:\n",
        "   print(\"El contador tiene valor impar: \", contador)"
      ],
      "metadata": {
        "colab": {
          "base_uri": "https://localhost:8080/"
        },
        "id": "GuCQ0aKenXZF",
        "outputId": "cd112591-11c3-46cd-9e9a-82519e605a0e"
      },
      "execution_count": null,
      "outputs": [
        {
          "output_type": "stream",
          "name": "stdout",
          "text": [
            "Ingrese el valor de n 5\n",
            "El contador tiene valor impar:  1\n",
            "El contador tiene valor par:  2\n",
            "El contador tiene valor impar:  3\n",
            "El contador tiene valor par:  4\n",
            "El contador tiene valor impar:  5\n"
          ]
        }
      ]
    },
    {
      "cell_type": "markdown",
      "source": [
        "# **e. Desarrollar un programa que muestre una serie de numeros de tres en tres**"
      ],
      "metadata": {
        "id": "_0xYLkupob8j"
      }
    },
    {
      "cell_type": "code",
      "source": [
        "## **d. Bucle While con condicionante**\n",
        "\n",
        "contador = 0\n",
        "while contador < 20:\n",
        "  contador = contador+3\n",
        "  print(\"El contador tiene valor de: \", contador)"
      ],
      "metadata": {
        "id": "gZEaVoO2UkRP",
        "colab": {
          "base_uri": "https://localhost:8080/"
        },
        "outputId": "c603172a-f488-4340-bf49-075b73a49ab4"
      },
      "execution_count": null,
      "outputs": [
        {
          "output_type": "stream",
          "name": "stdout",
          "text": [
            "El contador tiene valor de:  3\n",
            "El contador tiene valor de:  6\n",
            "El contador tiene valor de:  9\n",
            "El contador tiene valor de:  12\n",
            "El contador tiene valor de:  15\n",
            "El contador tiene valor de:  18\n",
            "El contador tiene valor de:  21\n"
          ]
        }
      ]
    },
    {
      "cell_type": "markdown",
      "source": [
        "## **f. Desarrollar un programa que promedie los primeros numeros 10 numeros.**"
      ],
      "metadata": {
        "id": "6_Jcbm3Fojzt"
      }
    },
    {
      "cell_type": "code",
      "source": [
        "## **f. Desarrollar un programa que promedie los primeros numeros 10 numeros.**\n",
        "x=1\n",
        "suma=0\n",
        "while x<=10:\n",
        "    valor=int(input(\"Ingrese un valor:\"))\n",
        "    suma=suma+valor\n",
        "    x=x+1\n",
        "promedio=suma/10\n",
        "print(\"La suma de los 10 valores es\")\n",
        "print(suma)\n",
        "print(\"El promedio es\")\n",
        "print(promedio)"
      ],
      "metadata": {
        "colab": {
          "base_uri": "https://localhost:8080/"
        },
        "id": "Iw0jBPoOpBW1",
        "outputId": "c88271ea-f977-4dcd-823a-8485050ed53c"
      },
      "execution_count": null,
      "outputs": [
        {
          "output_type": "stream",
          "name": "stdout",
          "text": [
            "Ingrese un valor:1\n",
            "Ingrese un valor:2\n",
            "Ingrese un valor:3\n",
            "Ingrese un valor:4\n",
            "Ingrese un valor:5\n",
            "Ingrese un valor:6\n",
            "Ingrese un valor:7\n",
            "Ingrese un valor:8\n",
            "Ingrese un valor:9\n",
            "Ingrese un valor:10\n",
            "La suma de los 10 valores es\n",
            "55\n",
            "El promedio es\n",
            "5.5\n"
          ]
        }
      ]
    },
    {
      "cell_type": "markdown",
      "source": [
        "## **g. Desarrollar un programa que promedie los cuadrados de primeros numeros 5 numeros.**"
      ],
      "metadata": {
        "id": "CvRGYSnUx7Ts"
      }
    },
    {
      "cell_type": "code",
      "source": [
        "## **f. Desarrollar un programa que promedie los cuadrados de primeros numeros 5 numeros.**\n",
        "x=1\n",
        "suma2=0\n",
        "while x<=5:\n",
        "    valor2=int(input(\"Ingrese un valor:\"))\n",
        "    suma2=suma2+valor2**2\n",
        "    x=x+1\n",
        "promedio2=suma2/5\n",
        "print(\"La suma de los cuadrados de los primeros 5 valores es\")\n",
        "print(suma2)\n",
        "print(\"El promedio es\")\n",
        "print(promedio2)"
      ],
      "metadata": {
        "colab": {
          "base_uri": "https://localhost:8080/"
        },
        "id": "FGkq4Ri1tJZu",
        "outputId": "ce410340-8419-4141-b73e-b947dbec142d"
      },
      "execution_count": null,
      "outputs": [
        {
          "output_type": "stream",
          "name": "stdout",
          "text": [
            "Ingrese un valor:1\n",
            "Ingrese un valor:2\n",
            "Ingrese un valor:3\n",
            "Ingrese un valor:4\n",
            "Ingrese un valor:5\n",
            "La suma de los cuadrados de los primeros 5 valores es\n",
            "55\n",
            "El promedio es\n",
            "11.0\n"
          ]
        }
      ]
    },
    {
      "cell_type": "markdown",
      "source": [
        "## **h. Desarrollar un programa que promedie los primeros numeros $n$ números.**\n",
        "\n",
        "$$\\sum_{i=1}^{n}i=\\frac{n(n+1)}{2}$$"
      ],
      "metadata": {
        "id": "nUnACqrOzJrO"
      }
    },
    {
      "cell_type": "code",
      "source": [
        "## **h. Desarrollar un programa que promedie los primeros numeros n numeros.**\n",
        "n = int(input('Ingrese el valor de n = '))\n",
        "x=1\n",
        "suma=0\n",
        "while x<=n:\n",
        "    valor=int(input(\"Ingrese un valor:\"))\n",
        "    suma=suma+valor\n",
        "    x=x+1\n",
        "promedio=suma/n\n",
        "print('La suma de los primeros', n, 'valores es',suma)\n",
        "\n",
        "print(\"Y su promedio es\")\n",
        "print(promedio)"
      ],
      "metadata": {
        "colab": {
          "base_uri": "https://localhost:8080/"
        },
        "id": "6ifrtp4CyH-B",
        "outputId": "75ffbf62-9930-4767-b317-cc30713f6fe0"
      },
      "execution_count": null,
      "outputs": [
        {
          "output_type": "stream",
          "name": "stdout",
          "text": [
            "Ingrese el valor de n = 5\n",
            "Ingrese un valor:1\n",
            "Ingrese un valor:2\n",
            "Ingrese un valor:3\n",
            "Ingrese un valor:4\n",
            "Ingrese un valor:5\n",
            "La suma de los primeros 5 valores es 15\n",
            "Y su promedio es\n",
            "3.0\n"
          ]
        }
      ]
    },
    {
      "cell_type": "markdown",
      "source": [
        "## **i. Desarrollar un programa que promedie los cuadrados de primeros numeros $n$ numeros.**\n",
        "$$\\sum_{i=1}^{n}i^2=\\frac{n(n+1)(2n+1)}{6}$$"
      ],
      "metadata": {
        "id": "CLQ8Yw_x0dvq"
      }
    },
    {
      "cell_type": "code",
      "source": [
        "## **g. Desarrollar un programa que promedie los cuadrados de primeros numeros n numeros.**\n",
        "n = int(input('Ingrese el valor de n = '))\n",
        "x=1\n",
        "suma2=0\n",
        "while x<=n:\n",
        "    valor2=int(input(\"Ingrese un valor:\"))\n",
        "    suma2=suma2+valor2**2\n",
        "    x=x+1\n",
        "promedio2=suma2/n\n",
        "print('La suma de los cuadrados de los primeros', n, 'valores es',suma2)\n",
        "\n",
        "print(\"Y su promedio es\")\n",
        "print(promedio2)"
      ],
      "metadata": {
        "colab": {
          "base_uri": "https://localhost:8080/"
        },
        "id": "PocN_wYez7LB",
        "outputId": "5224a849-e3e1-4a69-d0af-c52382ba9589"
      },
      "execution_count": null,
      "outputs": [
        {
          "output_type": "stream",
          "name": "stdout",
          "text": [
            "Ingrese el valor de n = 5\n",
            "Ingrese un valor:1\n",
            "Ingrese un valor:2\n",
            "Ingrese un valor:3\n",
            "Ingrese un valor:4\n",
            "Ingrese un valor:5\n",
            "La suma de los cuadrados de los primeros 5 valores es 55\n",
            "Y su promedio es\n",
            "11.0\n"
          ]
        }
      ]
    },
    {
      "cell_type": "markdown",
      "source": [
        "# **20. Bucle While con True**\n",
        "- Su uso principal es para la creación de Menús.\n",
        "- While True:\n",
        "- - print(\"Hola Mundo\"): esto se imprimiria indefinidamente\n",
        "-- Por tanto, en el ejemplo siguiente la opcion _break_ se usa para romper el BUcle"
      ],
      "metadata": {
        "id": "o2NP-FiHWj5J"
      }
    },
    {
      "cell_type": "markdown",
      "source": [
        "## **a. Un MENU con 5 opciones**"
      ],
      "metadata": {
        "id": "CiNUwpChhqgt"
      }
    },
    {
      "cell_type": "code",
      "source": [
        "## **a. Un MENU con 5 opciones**\n",
        "while True:\n",
        "  print('MI SEXO')\n",
        "  print('1. Hembra')\n",
        "  print('2. Macho')\n",
        "  print('3. Intersexual')\n",
        "  print('4. Intersexual con características dominantes masculinas')\n",
        "  print('5. Intersexual con características dominantes femeninas')\n",
        "  print('6. No me identifico con nada')\n",
        "  print('7. SALIR')\n",
        "  opcion = int(input(\"Ingrese número de la Opción de su Sexo: \"))\n",
        "  if(opcion == 1):\n",
        "    print(\"Tu Sexo es Hembra\")\n",
        "    break\n",
        "  if(opcion == 2):\n",
        "    print(\"Tu Sexo es Macho\")\n",
        "    break\n",
        "  if(opcion == 3):\n",
        "    print(\"Tu Sexo es Intersexual\")\n",
        "    break\n",
        "  if(opcion == 4):\n",
        "    print(\"Tu Sexo es Intersexual con características dominantes masculinas\")\n",
        "    break\n",
        "  if(opcion == 5):\n",
        "    print(\"Tu Sexo es Intersexual con características dominantes masculinas\")\n",
        "    break\n",
        "  if(opcion == 6):\n",
        "    print(\"No me identifico con nada\")\n",
        "    break\n",
        "  if(opcion == 7):\n",
        "    print(\"Elegiste salir del programa\")\n",
        "    break\n",
        "  if(opcion !=1 and opcion !=2 and opcion !=3 and opcion !=4 and opcion !=5 and opcion !=6):\n",
        "    print(\"El mundo se acabó\")\n",
        "    break"
      ],
      "metadata": {
        "id": "UF8C_VMAXVqA",
        "colab": {
          "base_uri": "https://localhost:8080/"
        },
        "outputId": "143ab716-556b-4779-e257-60298f0bbd3c"
      },
      "execution_count": null,
      "outputs": [
        {
          "output_type": "stream",
          "name": "stdout",
          "text": [
            "MI SEXO\n",
            "1. Hembra\n",
            "2. Macho\n",
            "3. Intersexual\n",
            "4. Intersexual con características dominantes masculinas\n",
            "5. Intersexual con características dominantes femeninas\n",
            "6. No me identifico con nada\n",
            "7. SALIR\n",
            "Ingrese número de la Opción de su Sexo: 15\n",
            "El mundo se acabó\n"
          ]
        }
      ]
    },
    {
      "cell_type": "markdown",
      "source": [
        "## **b. con las operaciones básicas**"
      ],
      "metadata": {
        "id": "ZlE4kiVKipg3"
      }
    },
    {
      "cell_type": "code",
      "source": [
        "## **b. con las operaciones básicas**\n",
        "while True:\n",
        "  print('MENU')\n",
        "  print('1. SUMA')\n",
        "  print('2. RESTAR')\n",
        "  print('3. MULTIPLICAR')\n",
        "  print('4. DIVIDIR')\n",
        "  print('5. SALIR')\n",
        "  opcion = int(input(\"Ingrese número de la Opción: \"))\n",
        "  if(opcion == 1):\n",
        "    a = float(input(\"Ingrese el primer número: \"))\n",
        "    b = float(input(\"Ingrese el segudo número: \"))\n",
        "    suma = a+b\n",
        "    print(\"Elegiste la SUMA y el total es igual a \", suma)\n",
        "  if(opcion == 2):\n",
        "    a = float(input(\"Ingrese el primer número: \"))\n",
        "    b = float(input(\"Ingrese el segudo número: \"))\n",
        "    resta = a-b\n",
        "    print(\"Elegiste la resta y la diferencia es igual a \", resta)\n",
        "  if(opcion == 3):\n",
        "    a = float(input(\"Ingrese el primer número: \"))\n",
        "    b = float(input(\"Ingrese el segudo número: \"))\n",
        "    producto = a*b\n",
        "    print(\"Elegiste la Multiplicación y el producto es  igual a \", producto)\n",
        "  if(opcion == 4):\n",
        "    a = float(input(\"Ingrese el primer número: \"))\n",
        "    b = float(input(\"Ingrese el segudo número: \"))\n",
        "    producto = a/b\n",
        "    print(\"Elegiste la Dividir y el cociente es  igual a \", producto)\n",
        "  if(opcion == 5):\n",
        "    print(\"Elegiste salir del programa \")\n",
        "    break\n",
        "  if(opcion !=1 and opcion !=2 and opcion !=3 and opcion !=4 and opcion !=4):\n",
        "    print(\"El mundo se acabó\")"
      ],
      "metadata": {
        "id": "_G1yQ9fjZdwo"
      },
      "execution_count": null,
      "outputs": []
    },
    {
      "cell_type": "markdown",
      "source": [
        "## **c. con las operaciones básicas pero mas corto**"
      ],
      "metadata": {
        "id": "Nehu_tiHi4F_"
      }
    },
    {
      "cell_type": "code",
      "source": [
        "## **c. con las operaciones básicas pero mas corto**\n",
        "a = float(input(\"Ingrese el primer número: \"))\n",
        "b = float(input(\"Ingrese el segudo número: \"))\n",
        "while True:\n",
        "  print('MENU')\n",
        "  print('1. SUMA')\n",
        "  print('2. RESTAR')\n",
        "  print('3. MULTIPLICAR')\n",
        "  print('4. DIVIDIR')\n",
        "  print('5. SALIR')\n",
        "  opcion = int(input(\"Ingrese número de la Opción: \"))\n",
        "  if(opcion == 1):\n",
        "     print(\"Elegiste la SUMA y el total es igual a \", a+b)\n",
        "     break\n",
        "  if(opcion == 2):\n",
        "     print(\"Elegiste la resta y la diferencia es igual a \", a-b)\n",
        "     break\n",
        "  if(opcion == 3):\n",
        "    print(\"Elegiste la Multiplicación y el producto es  igual a \", a*b)\n",
        "    break\n",
        "  if(opcion == 4):\n",
        "    print(\"Elegiste la Dividir y el cociente es  igual a \", a/b)\n",
        "    break\n",
        "  if(opcion == 5):\n",
        "    print(\"Elegiste salir del programa \")\n",
        "    break\n",
        "  if(opcion !=1 and opcion !=2 and opcion !=3 and opcion !=4 and opcion !=4):\n",
        "    print(\"El mundo se acabó\")"
      ],
      "metadata": {
        "colab": {
          "base_uri": "https://localhost:8080/"
        },
        "id": "GUd3OhH1gKMB",
        "outputId": "3a27ebe4-f72f-4651-8365-ed4ff928514b"
      },
      "execution_count": null,
      "outputs": [
        {
          "output_type": "stream",
          "name": "stdout",
          "text": [
            "Ingrese el primer número: 5\n",
            "Ingrese el segudo número: 8\n",
            "MENU\n",
            "1. SUMA\n",
            "2. RESTAR\n",
            "3. MULTIPLICAR\n",
            "4. DIVIDIR\n",
            "5. SALIR\n",
            "Ingrese número de la Opción: 3\n",
            "Elegiste la Multiplicación y el producto es  igual a  40.0\n"
          ]
        }
      ]
    },
    {
      "cell_type": "markdown",
      "source": [
        "# **21. Ejercicios**\n",
        "## **a) Realiza un programa que lea un número impar por teclado. Si el usuario no introduce un número impar, debe repetise el proceso hasta que lo introduzca correctamente.**"
      ],
      "metadata": {
        "id": "Aahjz3AAjXSQ"
      }
    },
    {
      "cell_type": "code",
      "source": [
        "# Completa el ejercicio aquí\n",
        "numero = 0\n",
        "while numero % 2 == 0:  # Mientras sea par repetimos el proceso\n",
        "    numero = int(input(\"Introduce un número impar: \") )"
      ],
      "metadata": {
        "colab": {
          "base_uri": "https://localhost:8080/"
        },
        "id": "5-0Z2m79jRm3",
        "outputId": "bb3bd8aa-dde4-464d-9fb8-20c5b02876b0"
      },
      "execution_count": null,
      "outputs": [
        {
          "name": "stdout",
          "output_type": "stream",
          "text": [
            "Introduce un número impar: 6\n",
            "Introduce un número impar: 3\n"
          ]
        }
      ]
    },
    {
      "cell_type": "markdown",
      "source": [
        "## **b) Realiza un programa que sume todos los números pares desde el 0 hasta el 100:**\n",
        "\n",
        "*Sugerencia: Puedes utilizar la funciones sum() y range() para hacerlo más fácil. El tercer parámetro en la función range(inicio, fin, salto) indica un salto de números, pruébalo.*"
      ],
      "metadata": {
        "id": "h45ljsX5kAow"
      }
    },
    {
      "cell_type": "code",
      "source": [
        "# Completa el ejercicio aquí\n",
        "# range(0, 101, 2)\n",
        "from statistics import mean\n",
        "from statistics import stdev\n",
        "suma = sum( range(0, 101, 2) )\n",
        "media = mean(range(0, 101, 2)) # Media aritmética («promedio») de los datos.\n",
        "desviación = stdev(range(0, 101, 2)) #Desviación típica muestral de los datos.\n",
        "print('El total es', suma)\n",
        "print('Desviación típica muestral de los datos',desviación)\n",
        "print(' Media aritmética de los datos', media)\n",
        "\n",
        "\n"
      ],
      "metadata": {
        "colab": {
          "base_uri": "https://localhost:8080/"
        },
        "id": "uyiUr9DpkElg",
        "outputId": "7e8aa748-da48-4526-f95a-b6fdee628339"
      },
      "execution_count": null,
      "outputs": [
        {
          "output_type": "stream",
          "name": "stdout",
          "text": [
            "El total es 2550\n",
            "Desviación típica muestral de los datos 29.732137494637012\n",
            " Media aritmética de los datos 50\n"
          ]
        }
      ]
    },
    {
      "cell_type": "code",
      "source": [
        "# Segunda forma con bucles\n",
        "num = 0\n",
        "suma = 0\n",
        "\n",
        "while num <= 100:\n",
        "    if num % 2 == 0:\n",
        "        suma += num\n",
        "    num += 1\n",
        "    \n",
        "print(suma)"
      ],
      "metadata": {
        "colab": {
          "base_uri": "https://localhost:8080/"
        },
        "id": "QjRlu3-KkUQ-",
        "outputId": "479c4adf-6d36-4d10-d155-d6fbc3259c7a"
      },
      "execution_count": null,
      "outputs": [
        {
          "output_type": "stream",
          "name": "stdout",
          "text": [
            "2550\n"
          ]
        }
      ]
    },
    {
      "cell_type": "markdown",
      "source": [
        "## **c) Realiza un programa que pida al usuario un número entero del 0 al 9, y que mientras el número no sea correcto se repita el proceso. Luego debe comprobar si el número se encuentra en la lista de números y notificarlo:**\n",
        "\n",
        "*Consejo: La sintaxis \"valor in lista\" permite comprobar fácilmente si un valor se encuentra en una lista (devuelve True o False)*"
      ],
      "metadata": {
        "id": "hkPOVz1Rp4he"
      }
    },
    {
      "cell_type": "code",
      "source": [
        "# Completa el ejercicio aquí\n",
        "numeros = [1, 3, 6, 9]\n",
        "\n",
        "while True:\n",
        "    numero = int(input(\"Escribe un número del 0 al 9: \"))\n",
        "    if numero >= 0 and numero <= 9:\n",
        "        break\n",
        "if numero in numeros:\n",
        "    print(\"El número\",numero,\"se encuentra en la lista\",numeros)\n",
        "else:\n",
        "    print(\"El número\",numero,\"no se encuentra en la lista\",numeros)"
      ],
      "metadata": {
        "colab": {
          "base_uri": "https://localhost:8080/"
        },
        "id": "GeSyjJD9qBNe",
        "outputId": "6d022c77-daf0-499b-ae0e-ff0d8d4e98b3"
      },
      "execution_count": null,
      "outputs": [
        {
          "output_type": "stream",
          "name": "stdout",
          "text": [
            "Escribe un número del 0 al 9: 3\n",
            "El número 3 se encuentra en la lista [1, 3, 6, 9]\n"
          ]
        }
      ]
    },
    {
      "cell_type": "markdown",
      "source": [
        "## **d) Utilizando la función range() y la conversión a listas genera las siguientes listas dinámicamente:**\n",
        "* Todos los números del 0 al 10 [0, 1, 2, ..., 10]\n",
        "* Todos los números del -10 al 0 [-10, -9, -8, ..., 0]\n",
        "* Todos los números pares del 0 al 20 [0, 2, 4, ..., 20]\n",
        "* Todos los números impares entre -20 y 0 [-19, -17, -15, ..., -1]\n",
        "* Todos los números múltiples de 5 del 0 al 50 [0, 5, 10, ..., 50]\n",
        "\n",
        "*Pista: Utiliza el tercer parámetro de la función range(inicio, fin, salto).*"
      ],
      "metadata": {
        "id": "D-jbgFaWrslb"
      }
    },
    {
      "cell_type": "code",
      "source": [
        "# Completa el ejercicio aquí\n",
        "print( list( range( 0, 11 ) ) )\n",
        "print( list( range( -10, 1 ) ) )\n",
        "print( list( range( 0, 21, 2 ) ) )\n",
        "print( list( range( -19, 0, 2 ) ) )\n",
        "print( list( range( 0, 51, 5 ) ) )"
      ],
      "metadata": {
        "colab": {
          "base_uri": "https://localhost:8080/"
        },
        "id": "X70GDJ5qrwoY",
        "outputId": "01b79ce3-0c8b-42d4-ecce-1a3ca5ab0f84"
      },
      "execution_count": null,
      "outputs": [
        {
          "output_type": "stream",
          "name": "stdout",
          "text": [
            "[0, 1, 2, 3, 4, 5, 6, 7, 8, 9, 10]\n",
            "[-10, -9, -8, -7, -6, -5, -4, -3, -2, -1, 0]\n",
            "[0, 2, 4, 6, 8, 10, 12, 14, 16, 18, 20]\n",
            "[-19, -17, -15, -13, -11, -9, -7, -5, -3, -1]\n",
            "[0, 5, 10, 15, 20, 25, 30, 35, 40, 45, 50]\n"
          ]
        }
      ]
    },
    {
      "cell_type": "markdown",
      "metadata": {
        "id": "i9BfSYU_iSws"
      },
      "source": [
        "#**22. For loop (bucle for)- bucle for en una lista**\n",
        "- Cualquier problema que requiera una estructura repetitiva se puede resolver empleando la estructura _while_, pero hay otra estructura repetitiva cuyo planteo es más sencillo en ciertas situaciones que tenemos _que recorrer una lista de datos.\n",
        "\n",
        "- En general, la estructura repetitiva for se usa en aquellas situaciones en las cuales queremos que una variable vaya tomando un valor de una lista definida de valores._\n",
        "\n",
        "- Veremos con una serie de ejemplos el empleo del for.\n",
        "- El bucle _for_ se utiliza para recorrer los elementos de un objeto iterable como son las listas y ejecutar un bloque de código.\n",
        "- Posee gran simiitud con el bucle *while* con la unica diferencia que su principal funcionalidad es leer elementos almacenados en una lista"
      ]
    },
    {
      "cell_type": "markdown",
      "metadata": {
        "id": "YydOenq_mzlQ"
      },
      "source": [
        "#**a. Comenzamos con una lista**"
      ]
    },
    {
      "cell_type": "code",
      "execution_count": null,
      "metadata": {
        "id": "HCuhR6IEjDYF"
      },
      "outputs": [],
      "source": [
        "# Comenzamos con una lista\n",
        "dpto = [\"Bolívar\", \"Atlántico\", \"Magdalena\", \"Córdoba\", \"Sucre\", \"Cesar\", \"Guajira\"]\n",
        "ciudad = [\"Cartagena\", \"Barranquilla\", \"Santa Marta\", \"Montería\", \"Sincelejo\", \"Valledupar\", \"Riohacha\"]"
      ]
    },
    {
      "cell_type": "code",
      "execution_count": null,
      "metadata": {
        "id": "l5_hVWVwibbh",
        "colab": {
          "base_uri": "https://localhost:8080/"
        },
        "outputId": "da0ee061-adf7-4ce7-c7a1-bd1f0c38ef19"
      },
      "outputs": [
        {
          "output_type": "stream",
          "name": "stdout",
          "text": [
            "Bolívar\n",
            "Atlántico\n",
            "Magdalena\n",
            "Córdoba\n",
            "Sucre\n",
            "Cesar\n",
            "Guajira\n"
          ]
        }
      ],
      "source": [
        " # Bucle for\n",
        " for x in dpto:\n",
        "   print(x)"
      ]
    },
    {
      "cell_type": "code",
      "execution_count": null,
      "metadata": {
        "id": "0mAV3L8ribrH",
        "colab": {
          "base_uri": "https://localhost:8080/"
        },
        "outputId": "d3ac7d3a-7b48-4893-b788-ddf69a5d4739"
      },
      "outputs": [
        {
          "output_type": "stream",
          "name": "stdout",
          "text": [
            "Cartagena\n",
            "Barranquilla\n",
            "Santa Marta\n",
            "Montería\n",
            "Sincelejo\n",
            "Valledupar\n",
            "Riohacha\n"
          ]
        }
      ],
      "source": [
        "for x in ciudad:\n",
        "   print(x)"
      ]
    },
    {
      "cell_type": "markdown",
      "metadata": {
        "id": "uRVYhaM5kiFO"
      },
      "source": [
        "\n",
        "## **b. El simbolo == es para hacer una comparación valor**"
      ]
    },
    {
      "cell_type": "code",
      "execution_count": null,
      "metadata": {
        "id": "gGD71p9pibwU",
        "colab": {
          "base_uri": "https://localhost:8080/"
        },
        "outputId": "81ab63c8-252b-4277-c763-4e83b281c5d4"
      },
      "outputs": [
        {
          "output_type": "stream",
          "name": "stdout",
          "text": [
            "Bolívar\n"
          ]
        }
      ],
      "source": [
        "dpto4 = dpto.copy()\n",
        "for x in dpto4:\n",
        "  if x == \"Bolívar\":\n",
        "   print(x)"
      ]
    },
    {
      "cell_type": "markdown",
      "metadata": {
        "id": "-fH2hJr_lrFi"
      },
      "source": [
        "# **c. Usando enumerate**"
      ]
    },
    {
      "cell_type": "code",
      "execution_count": null,
      "metadata": {
        "id": "bYta1RRIib1T",
        "colab": {
          "base_uri": "https://localhost:8080/"
        },
        "outputId": "d7baadc3-9590-4a5c-8ba9-baa90f4f6ecf"
      },
      "outputs": [
        {
          "output_type": "stream",
          "name": "stdout",
          "text": [
            "0 Bolívar\n",
            "1 Atlántico\n",
            "2 Magdalena\n",
            "3 Córdoba\n",
            "4 Sucre\n",
            "5 Cesar\n",
            "6 Guajira\n"
          ]
        }
      ],
      "source": [
        "for n, x in enumerate(dpto4):\n",
        "     print(n,x)\n",
        "     "
      ]
    },
    {
      "cell_type": "code",
      "source": [
        "Ciudad_Costa =['Cartagena', 'Santa Marta', 'Montería','Sincelejo','Valledupar', 'Rioahacha', 'Barranquilla']"
      ],
      "metadata": {
        "id": "4wqWZO35vUAs"
      },
      "execution_count": null,
      "outputs": []
    },
    {
      "cell_type": "code",
      "execution_count": null,
      "metadata": {
        "id": "qPzHGq8mma72",
        "colab": {
          "base_uri": "https://localhost:8080/"
        },
        "outputId": "6d800edc-f312-4598-cce4-68dac5a00eae"
      },
      "outputs": [
        {
          "output_type": "stream",
          "name": "stdout",
          "text": [
            "0 Cartagena\n",
            "1 Santa Marta\n",
            "2 Montería\n",
            "3 Sincelejo\n",
            "4 Valledupar\n",
            "5 Rioahacha\n",
            "6 Barranquilla\n"
          ]
        }
      ],
      "source": [
        "for n, x in enumerate(Ciudad_Costa):\n",
        "     print(n, x)"
      ]
    },
    {
      "cell_type": "markdown",
      "metadata": {
        "id": "xFg5XMtumt7v"
      },
      "source": [
        "#**23. For loop (bucle for) - for en un diccionario**"
      ]
    },
    {
      "cell_type": "markdown",
      "source": [
        "## **a. Diccionario con los cumpleaños**"
      ],
      "metadata": {
        "id": "Lzs90uaHzu4c"
      }
    },
    {
      "cell_type": "code",
      "execution_count": null,
      "metadata": {
        "id": "oRG1Rz_1mbB3",
        "colab": {
          "base_uri": "https://localhost:8080/"
        },
        "outputId": "8976d45a-d95b-464f-fe42-e7b7f15c6db4"
      },
      "outputs": [
        {
          "output_type": "execute_result",
          "data": {
            "text/plain": [
              "{'Papá': '6 de Febrero',\n",
              " 'Mamá': '23 de Septiembre',\n",
              " 'Hija_mayor': '21 de Marzo',\n",
              " 'Hija_menor': '21 de Julio'}"
            ]
          },
          "metadata": {},
          "execution_count": 32
        }
      ],
      "source": [
        "## **a. Diccionario con los cumpleaños**\n",
        "cumpleaños = {\"Papá\":\"6 de Febrero\", \"Mamá\":\"23 de Septiembre\", \"Hija_mayor\":\"21 de Marzo\", \"Hija_menor\":\"21 de Julio\"}\n",
        "cumpleaños"
      ]
    },
    {
      "cell_type": "code",
      "execution_count": null,
      "metadata": {
        "id": "t57y7MofmbGI",
        "colab": {
          "base_uri": "https://localhost:8080/"
        },
        "outputId": "ae1a895f-e808-49cf-8254-9c8f26afeac9"
      },
      "outputs": [
        {
          "output_type": "execute_result",
          "data": {
            "text/plain": [
              "dict_items([('Papá', '6 de Febrero'), ('Mamá', '23 de Septiembre'), ('Hija_mayor', '21 de Marzo'), ('Hija_menor', '21 de Julio')])"
            ]
          },
          "metadata": {},
          "execution_count": 33
        }
      ],
      "source": [
        "cumpleaños.items()"
      ]
    },
    {
      "cell_type": "code",
      "execution_count": null,
      "metadata": {
        "id": "6AsBJ4GambKQ",
        "colab": {
          "base_uri": "https://localhost:8080/"
        },
        "outputId": "a10002f1-948a-440c-a368-70c03c4b6d81"
      },
      "outputs": [
        {
          "output_type": "stream",
          "name": "stdout",
          "text": [
            "Papá cumple el dia  6 de Febrero\n",
            "Mamá cumple el dia  23 de Septiembre\n",
            "Hija_mayor cumple el dia  21 de Marzo\n",
            "Hija_menor cumple el dia  21 de Julio\n"
          ]
        }
      ],
      "source": [
        "for key, value in cumpleaños.items():\n",
        "     print(key, \"cumple el dia \", value)"
      ]
    },
    {
      "cell_type": "markdown",
      "source": [
        "## **b. Un programa que cuente las letras de un párrafo con for**"
      ],
      "metadata": {
        "id": "wiapc467z6i6"
      }
    },
    {
      "cell_type": "code",
      "execution_count": null,
      "metadata": {
        "id": "JUPlpJVMwTFN",
        "colab": {
          "base_uri": "https://localhost:8080/"
        },
        "outputId": "2113eea4-3d1a-4962-cf2f-58189db2f702"
      },
      "outputs": [
        {
          "output_type": "execute_result",
          "data": {
            "text/plain": [
              "27"
            ]
          },
          "metadata": {},
          "execution_count": 38
        }
      ],
      "source": [
        "letras = [\"a\", \"b\",\"c\", \"d\",\"e\", \"f\",\"g\", \"h\",\"i\", \"j\",\"k\", \"l\",\"m\", \"n\",\"o\", \"p\",\"q\", \"r\",\"s\", \"t\",\"u\", \"v\", \"x\", \"y\",\"z\", \"ñ\", \"w\"]\n",
        "len(letras)"
      ]
    },
    {
      "cell_type": "code",
      "execution_count": null,
      "metadata": {
        "id": "5dscACb8yWgQ"
      },
      "outputs": [],
      "source": [
        "parrafo = \"La ciencia de datos es importante porque combina herramientas, métodos y tecnología para generar significado a partir de los datos. Las organizaciones modernas están inundadas de datos; hay una proliferación de dispositivos que pueden recopilar y almacenar información de manera automática. Los sistemas en línea y los portales de pago capturan más datos en los campos del comercio electrónico, la medicina, las finanzas y cualquier otro aspecto de la vida humana. Disponemos de grandes cantidades de datos de texto, audio, video e imágenes\""
      ]
    },
    {
      "cell_type": "code",
      "execution_count": null,
      "metadata": {
        "id": "t2cVdUHlxirI",
        "colab": {
          "base_uri": "https://localhost:8080/"
        },
        "outputId": "67c57025-324b-4f8a-c0d7-12d3347d306a"
      },
      "outputs": [
        {
          "output_type": "stream",
          "name": "stdout",
          "text": [
            "letra a frecuencia  58\n",
            "letra b frecuencia  1\n",
            "letra c frecuencia  21\n",
            "letra d frecuencia  30\n",
            "letra e frecuencia  49\n",
            "letra f frecuencia  4\n",
            "letra g frecuencia  7\n",
            "letra h frecuencia  3\n",
            "letra i frecuencia  34\n",
            "letra j frecuencia  0\n",
            "letra k frecuencia  0\n",
            "letra l frecuencia  15\n",
            "letra m frecuencia  17\n",
            "letra n frecuencia  33\n",
            "letra o frecuencia  40\n",
            "letra p frecuencia  14\n",
            "letra q frecuencia  3\n",
            "letra r frecuencia  25\n",
            "letra s frecuencia  35\n",
            "letra t frecuencia  24\n",
            "letra u frecuencia  11\n",
            "letra v frecuencia  3\n",
            "letra x frecuencia  1\n",
            "letra y frecuencia  5\n",
            "letra z frecuencia  2\n",
            "letra ñ frecuencia  0\n",
            "letra w frecuencia  0\n"
          ]
        }
      ],
      "source": [
        "for letra in letras:\n",
        "     frecuencia = parrafo.count(letra)\n",
        "     print('letra',letra,'frecuencia ',frecuencia)\n"
      ]
    },
    {
      "cell_type": "markdown",
      "source": [
        "# **24. Ejemplos de Bucles: while - for -condicionales**"
      ],
      "metadata": {
        "id": "2gWWH0jiKTKT"
      }
    },
    {
      "cell_type": "markdown",
      "source": [
        "# **a. Ejemplos de bucles while: Por ejemplo, el siguiente programa escribe los números del 1 al 3:**"
      ],
      "metadata": {
        "id": "38sAMevjLJzv"
      }
    },
    {
      "cell_type": "code",
      "source": [
        "# Ejemplo de bucle while 1\n",
        "i = 1\n",
        "while i <= 3:\n",
        "    print(i)\n",
        "    i += 1\n",
        "print(\"Programa terminado\")"
      ],
      "metadata": {
        "colab": {
          "base_uri": "https://localhost:8080/"
        },
        "id": "X1O0jolaKcAk",
        "outputId": "cbeafb0c-0ab1-4a5c-deb3-44b12ecfeb08"
      },
      "execution_count": null,
      "outputs": [
        {
          "output_type": "stream",
          "name": "stdout",
          "text": [
            "1\n",
            "2\n",
            "3\n",
            "Programa terminado\n"
          ]
        }
      ]
    },
    {
      "cell_type": "markdown",
      "source": [
        "# **b. Ejemplo de bucle while 2: imprime los siguientes numeros**"
      ],
      "metadata": {
        "id": "JR1v05TPMlng"
      }
    },
    {
      "cell_type": "code",
      "source": [
        "# **b. Ejemplo de bucle while 2: imprime los siguientes numeros**\n",
        "i = 1\n",
        "while i <= 5:\n",
        "  i += 1\n",
        "  print(i)\n",
        "    \n",
        "print(\"Programa terminado\")"
      ],
      "metadata": {
        "colab": {
          "base_uri": "https://localhost:8080/"
        },
        "id": "UiNYDuW7KcMT",
        "outputId": "014efb21-4303-43b9-cc95-31ab6a77d2d1"
      },
      "execution_count": null,
      "outputs": [
        {
          "output_type": "stream",
          "name": "stdout",
          "text": [
            "2\n",
            "3\n",
            "4\n",
            "5\n",
            "6\n",
            "Programa terminado\n"
          ]
        }
      ]
    },
    {
      "cell_type": "markdown",
      "source": [
        "# **c. Realiza un programa que pida al usuario cuantos números quiere introducir. Luego lee todos los números y realiza una media aritmética:**"
      ],
      "metadata": {
        "id": "9IthXFUCOJH-"
      }
    },
    {
      "cell_type": "code",
      "source": [
        "# Completa el ejercicio aquí\n",
        "suma = 0\n",
        "numeros = int(input(\"¿Cuántos números quieres introducir? \") )\n",
        "for x in range(numeros):\n",
        "    suma += float(input(\"Introduce un número: \") )\n",
        "print(\"Se han introducido\",numeros,\"números que en total han sumado\",suma,\"y la media es\",suma/numeros)"
      ],
      "metadata": {
        "colab": {
          "base_uri": "https://localhost:8080/"
        },
        "id": "kKFQkPU7L4Dt",
        "outputId": "c42ef5d8-22a2-45af-a30f-8090ada089f1"
      },
      "execution_count": null,
      "outputs": [
        {
          "output_type": "stream",
          "name": "stdout",
          "text": [
            "¿Cuántos números quieres introducir? 5\n",
            "Introduce un número: 8\n",
            "Introduce un número: 6\n",
            "Introduce un número: 7\n",
            "Introduce un número: 9\n",
            "Introduce un número: 10\n",
            "Se han introducido 5 números que en total han sumado 40.0 y la media es 8.0\n"
          ]
        }
      ]
    },
    {
      "cell_type": "markdown",
      "source": [
        "## **d. Dadas dos listas, debes generar una tercera con todos los elementos que se repitan en ellas, pero no debe repetise ningún elemento en la nueva lista:**"
      ],
      "metadata": {
        "id": "Sb3ERn-i4mV1"
      }
    },
    {
      "cell_type": "code",
      "source": [
        "# Completa el ejercicio aquí\n",
        "lista_1 = [\"h\",'o','l','a',' ', 'm','u','n','d','o']\n",
        "lista_2 = [\"h\",'o','l','a',' ', 'l','u','n','a']\n",
        "\n",
        "lista_3 = []\n",
        "\n",
        "for letra in lista_1:\n",
        "    if letra in lista_2 and letra not in lista_3:\n",
        "        lista_3.append(letra)\n",
        "\n",
        "print(lista_3)"
      ],
      "metadata": {
        "colab": {
          "base_uri": "https://localhost:8080/"
        },
        "id": "4khiHhc0NVwT",
        "outputId": "e272a685-c64b-46e7-99cd-3ee1a188ef56"
      },
      "execution_count": null,
      "outputs": [
        {
          "output_type": "stream",
          "name": "stdout",
          "text": [
            "['h', 'o', 'l', 'a', ' ', 'u', 'n']\n"
          ]
        }
      ]
    },
    {
      "cell_type": "markdown",
      "source": [
        "# **e. Escribe un programa que te solicite un numero positivo y que no se detenga hasta que lo escriba**"
      ],
      "metadata": {
        "id": "GbyDpt4YQtdV"
      }
    },
    {
      "cell_type": "code",
      "source": [
        "# **e. Ejemplo de bucle while 5**\n",
        "numero = int(input(\"Escriba un número positivo: \"))\n",
        "while numero < 0:\n",
        "    print(\"¡Bruto has escrito un número negativo! Inténtelo de nuevo\")\n",
        "    numero = int(input(\"Escriba un número positivo: \"))\n",
        "print(\"Gracias por su colaboración\")"
      ],
      "metadata": {
        "colab": {
          "base_uri": "https://localhost:8080/"
        },
        "id": "04kiIFTXPd0q",
        "outputId": "d9077eee-9de0-4475-a655-eeef76a9dba8"
      },
      "execution_count": null,
      "outputs": [
        {
          "output_type": "stream",
          "name": "stdout",
          "text": [
            "Escriba un número positivo: -9\n",
            "¡Bruto has escrito un número negativo! Inténtelo de nuevo\n",
            "Escriba un número positivo: 9\n",
            "Gracias por su colaboración\n"
          ]
        }
      ]
    },
    {
      "cell_type": "markdown",
      "source": [
        "## **f. imprimiendo los primeros 10 numeros. Usando _continue_no imprime el 7**"
      ],
      "metadata": {
        "id": "HkLocnLVWQ0h"
      }
    },
    {
      "cell_type": "code",
      "source": [
        "# **g. imprimiendo los primeros 10 numeros. Usando _continue_no imprime el 7**\n",
        "i = 0\n",
        "while i<10:\n",
        "  i+=1\n",
        "  if i==7:\n",
        "    continue\n",
        "  print(i)"
      ],
      "metadata": {
        "colab": {
          "base_uri": "https://localhost:8080/"
        },
        "id": "aCsLfWLNWAiS",
        "outputId": "faf39d09-ae2e-4515-bd04-37d6b42cbf08"
      },
      "execution_count": null,
      "outputs": [
        {
          "output_type": "stream",
          "name": "stdout",
          "text": [
            "1\n",
            "2\n",
            "3\n",
            "4\n",
            "5\n",
            "6\n",
            "8\n",
            "9\n",
            "10\n"
          ]
        }
      ]
    },
    {
      "cell_type": "markdown",
      "source": [
        "##**h. imprimiendo los primeros 10 numeros. Usando _break_ para detener el ciclo**"
      ],
      "metadata": {
        "id": "_OXcB0SvW8bY"
      }
    },
    {
      "cell_type": "code",
      "source": [
        "# **h. imprimiendo los primeros 10 numeros. Usando _break_ para detener el ciclo**\n",
        "i = 0\n",
        "while True:\n",
        "  i+=1\n",
        "  if i==15:\n",
        "    break\n",
        "  print(i)"
      ],
      "metadata": {
        "colab": {
          "base_uri": "https://localhost:8080/"
        },
        "id": "1BT79F7UWesJ",
        "outputId": "3b80d8fa-d607-4fcc-b5ee-40e4a20d86df"
      },
      "execution_count": null,
      "outputs": [
        {
          "output_type": "stream",
          "name": "stdout",
          "text": [
            "1\n",
            "2\n",
            "3\n",
            "4\n",
            "5\n",
            "6\n",
            "7\n",
            "8\n",
            "9\n",
            "10\n",
            "11\n",
            "12\n",
            "13\n",
            "14\n"
          ]
        }
      ]
    },
    {
      "cell_type": "markdown",
      "source": [
        "# **i. Bucles infinitos**"
      ],
      "metadata": {
        "id": "BHmg4aQIRB-E"
      }
    },
    {
      "cell_type": "code",
      "source": [
        "# **f. Bucles infinitos**\n",
        "i =0\n",
        "while True:\n",
        "    i+=1\n",
        "    print(i)\n",
        "    if i==13:\n",
        "        break"
      ],
      "metadata": {
        "colab": {
          "base_uri": "https://localhost:8080/"
        },
        "id": "aqDfopfXQYHW",
        "outputId": "7b3f2341-afed-4cc2-e3b5-f58dfe19edab"
      },
      "execution_count": null,
      "outputs": [
        {
          "output_type": "stream",
          "name": "stdout",
          "text": [
            "1\n",
            "2\n",
            "3\n",
            "4\n",
            "5\n",
            "6\n",
            "7\n",
            "8\n",
            "9\n",
            "10\n",
            "11\n",
            "12\n",
            "13\n"
          ]
        }
      ]
    },
    {
      "cell_type": "markdown",
      "source": [
        "# **25. Combinación _while+if+else_**\n",
        "\n",
        "- Explicación: \n",
        "- - Creamos una  lista vacía (lineas=[ ]), y damos una instrucción al usuario (print(“escriba algunas líneas”)). \n",
        "- - Usamos un ciclo infinito (while True) y recibimos datos del usuario guardándolos en s (s = input()).\n",
        "- - Comparamos si s tiene algo (if s), en tal caso, añadimos (.append) el dato escrito por el usuario convertido a mayúscula (s.upper()) a la lista (lineas). \n",
        "- - Si s no tiene nada (else), usamos break para salir del ciclo. \n",
        "- - Fuera del ciclo while hacemos un for para recorrer toda la lista (lineas) imprimiendo cada dato guardado en ella."
      ],
      "metadata": {
        "id": "SlA9ix9RS1Na"
      }
    },
    {
      "cell_type": "markdown",
      "source": [
        "## **a. Construyendo un refran_**"
      ],
      "metadata": {
        "id": "7xkqs-W-7RNZ"
      }
    },
    {
      "cell_type": "code",
      "source": [
        "# **a. Construyendo un refran_**\n",
        "lineas = []\n",
        "print (\"Escriba algunas lineas. Deje en blanco para finalizar: \")\n",
        "while True: #ciclo infinito\n",
        "    s = input() # leemos las lineas con input\n",
        "    if s: #si la linea contiene algun valor\n",
        "        lineas.append(s.upper()) #agregamos el valor en mayuscula\n",
        "    else:\n",
        "        break;\n",
        "\n",
        "for refran in lineas: #recorremos la lista imprimmiendo cada uno de sus datos\n",
        "    print (refran)"
      ],
      "metadata": {
        "colab": {
          "base_uri": "https://localhost:8080/"
        },
        "id": "tNsFRvvKRrMN",
        "outputId": "0a4c0bcb-aac5-4bde-f38c-36bacbebe208"
      },
      "execution_count": null,
      "outputs": [
        {
          "output_type": "stream",
          "name": "stdout",
          "text": [
            "Escriba algunas lineas. Deje en blanco para finalizar: \n",
            "Perro que ladra  \n",
            "No muerde\n",
            "\n",
            "PERRO QUE LADRA  \n",
            "NO MUERDE\n"
          ]
        }
      ]
    },
    {
      "cell_type": "markdown",
      "source": [
        "## **b. Una lista con los nombres de mis estudiantes**"
      ],
      "metadata": {
        "id": "KhREMHAg8TAi"
      }
    },
    {
      "cell_type": "code",
      "source": [
        "## **b. Una lista con los nombres de mis estudiantes**\n",
        "Curso = [] # Aqui apareceran los nombres de mis estudiantes\n",
        "print (\"Escriba Nombres Deje en blanco para finalizar:  \") #comienzo a ingresar los nombres\n",
        "while True:\n",
        "    s = input() # Aqui almaceno los nombres\n",
        "    if s:\n",
        "        Curso.append(s.upper()) # Los agrego a la lista en mayusculas\n",
        "    else:\n",
        "        break;\n",
        "\n",
        "for alumno in Curso: # imprimo la lista\n",
        "    print (alumno)"
      ],
      "metadata": {
        "colab": {
          "base_uri": "https://localhost:8080/"
        },
        "id": "0NwdSpHuRrqL",
        "outputId": "a083cea1-7fc9-4669-a8a0-16667ab1e558"
      },
      "execution_count": null,
      "outputs": [
        {
          "output_type": "stream",
          "name": "stdout",
          "text": [
            "Escriba Nombres Deje en blanco para finalizar:  \n",
            "Marcos\n",
            "Alejandra, Mará\n",
            "Eugenia\n",
            "Marelis\n",
            "Yomarlys\n",
            "\n",
            "MARCOS\n",
            "ALEJANDRA, MARÁ\n",
            "EUGENIA\n",
            "MARELIS\n",
            "YOMARLYS\n"
          ]
        }
      ]
    },
    {
      "cell_type": "markdown",
      "source": [
        "# **c. Bitacora de operaciones: Una letra y un valor: D deposito y R: Retiro**\n",
        "- Escriba un programa que administre una cuenta bancaria, usando una bitácora de operaciones. La bitácora de operaciones tiene la siguiente forma:\n",
        "- - D 100 significa que depositó 100 pesos\n",
        "- - R 50 significa que retiró 50 pesos\n",
        "\n",
        "- Introducir una linea vacia indica que ha finalizado la bitacora.\n",
        "- Análisis: Vamos a utilizar un ciclo infinito pues no sabemos cuántas líneas tendrá la bitácora. Debemos detectar cuando introduzca una línea en blanco. Cada linea hay que separar la primera letra del valor numérico. Si la letra es “D”, sumar a saldo el valor numérico. Si la letra es “R”, restar a saldo el valor numérico."
      ],
      "metadata": {
        "id": "pq5y0Xqna7cS"
      }
    },
    {
      "cell_type": "code",
      "source": [
        "# **h. Bitacora de operaciones: Una letra y un valor: D deposito y R: Retiro**\n",
        "saldo = 0 # Cual es el saldo\n",
        "print (\"Escriba la bitacora de operaciones: \")\n",
        "while True: #No sabemos cuantas lineas va a introducir\n",
        "    s = input() # INtrodusca un valor\n",
        "    if not s:\n",
        "        break\n",
        "    datos = s.split(\" \") # separar utilizando espcio en blanco\n",
        "    operacion = datos[0]\n",
        "    monto = int(datos[1])\n",
        "    if operacion==\"D\":\n",
        "        saldo+=monto # saldo + monto\n",
        "    elif operacion==\"R\":\n",
        "        saldo-=monto #saldo - monto\n",
        "    else:\n",
        "        pass\n",
        "print ('En este momento tu saldo es de', saldo)"
      ],
      "metadata": {
        "colab": {
          "base_uri": "https://localhost:8080/"
        },
        "id": "n116zXLRXtWR",
        "outputId": "ed60d9ca-1cd1-4f63-ee4b-e3e1723f297c"
      },
      "execution_count": null,
      "outputs": [
        {
          "output_type": "stream",
          "name": "stdout",
          "text": [
            "Escriba la bitacora de operaciones: \n",
            "D 1000\n",
            "D 3000\n",
            "D 5000\n",
            "R 900\n",
            "\n",
            "En este momento tu saldo es de 8100\n"
          ]
        }
      ]
    }
  ],
  "metadata": {
    "colab": {
      "provenance": [],
      "authorship_tag": "ABX9TyPKSTeWuiL//V3xLZG5Gcw0",
      "include_colab_link": true
    },
    "kernelspec": {
      "display_name": "Python 3",
      "name": "python3"
    },
    "language_info": {
      "name": "python"
    }
  },
  "nbformat": 4,
  "nbformat_minor": 0
}