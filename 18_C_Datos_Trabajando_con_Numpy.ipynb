{
  "nbformat": 4,
  "nbformat_minor": 0,
  "metadata": {
    "colab": {
      "provenance": [],
      "authorship_tag": "ABX9TyNe9UFfUX0wLGzem3ngpwDB",
      "include_colab_link": true
    },
    "kernelspec": {
      "name": "python3",
      "display_name": "Python 3"
    },
    "language_info": {
      "name": "python"
    }
  },
  "cells": [
    {
      "cell_type": "markdown",
      "metadata": {
        "id": "view-in-github",
        "colab_type": "text"
      },
      "source": [
        "<a href=\"https://colab.research.google.com/github/JSEFERINO/C_Datos/blob/main/18_C_Datos_Trabajando_con_Numpy.ipynb\" target=\"_parent\"><img src=\"https://colab.research.google.com/assets/colab-badge.svg\" alt=\"Open In Colab\"/></a>"
      ]
    },
    {
      "cell_type": "markdown",
      "source": [
        "# **Curso Introductorio a la Ciencia de Datos por Julio Hurtado Márquez**\n",
        "## **Parte VI- Numpy**\n",
        "# **95. Numpy - El objeto array numpy**\n",
        "\n",
        "### **Objetos Python:**\t\n",
        "- **números objeto de alto nivel:** enteros, de punto flotante\n",
        "- **contenedores:** listas (inserción y agregar elementos), diccionarios (búsqueda rápida)\n",
        "\n",
        "### **Numpy dispone lo siguiente:**\n",
        " \t\n",
        "- paquete de extensión Python para matrices multidimensionales\n",
        "- cercano al hardware (eficiente)\n",
        "- diseñado para cálculo científico (conveniente)"
      ],
      "metadata": {
        "id": "4N9tU69YmNlt"
      }
    },
    {
      "cell_type": "markdown",
      "source": [
        "# **a. Sólo la libreria Numpy**"
      ],
      "metadata": {
        "id": "I1UuujZGmfHp"
      }
    },
    {
      "cell_type": "code",
      "source": [
        "# **a. Sólo la libreria Numpy**\n",
        "import numpy as np"
      ],
      "metadata": {
        "id": "tBNQ2aQQik07"
      },
      "execution_count": null,
      "outputs": []
    },
    {
      "cell_type": "markdown",
      "source": [
        "#**b. Arreglo Numpy - Vector**"
      ],
      "metadata": {
        "id": "-85c_Wy9mgpU"
      }
    },
    {
      "cell_type": "code",
      "source": [
        "#**b. Arreglo Numpy - Vector**\n",
        "A = np.array([1, 2, 3]) # Un vector fila\n",
        "print('El vector construido es A =',A) # Imprimiendo el vector"
      ],
      "metadata": {
        "colab": {
          "base_uri": "https://localhost:8080/"
        },
        "id": "f_7osg0Fir2N",
        "outputId": "794dbdd0-17e7-4f73-c6e5-80e23018629e"
      },
      "execution_count": null,
      "outputs": [
        {
          "output_type": "stream",
          "name": "stdout",
          "text": [
            "El vector construido es A = [1 2 3]\n"
          ]
        }
      ]
    },
    {
      "cell_type": "code",
      "source": [
        "A.ndim, A.shape, len(A)"
      ],
      "metadata": {
        "colab": {
          "base_uri": "https://localhost:8080/"
        },
        "id": "EP635MaMrFJi",
        "outputId": "95c0ade0-5cc3-4785-fa19-82eabdd88dd7"
      },
      "execution_count": null,
      "outputs": [
        {
          "output_type": "execute_result",
          "data": {
            "text/plain": [
              "(1, (3,), 3)"
            ]
          },
          "metadata": {},
          "execution_count": 425
        }
      ]
    },
    {
      "cell_type": "markdown",
      "source": [
        "#**c. Arreglo Numpy - Matriz 2*2** "
      ],
      "metadata": {
        "id": "p1nAdhRynRp3"
      }
    },
    {
      "cell_type": "code",
      "source": [
        "#**c. Arreglo Numpy - Matriz 2*2** \n",
        "B = np.array([[1, 2], [3, 4]]) # Una matriz 2X2\n",
        "print('La Matriz construida es B =',B) # Imprimiendo el la Matriz"
      ],
      "metadata": {
        "colab": {
          "base_uri": "https://localhost:8080/"
        },
        "id": "Ksxmhp5PjLuA",
        "outputId": "27e7c480-4074-432d-d7ff-4a9ebb95c96b"
      },
      "execution_count": null,
      "outputs": [
        {
          "output_type": "stream",
          "name": "stdout",
          "text": [
            "La Matriz construida es B = [[1 2]\n",
            " [3 4]]\n"
          ]
        }
      ]
    },
    {
      "cell_type": "code",
      "source": [
        "B.ndim, B.shape, len(B)# devuelve el tamaño de la primera dimension"
      ],
      "metadata": {
        "colab": {
          "base_uri": "https://localhost:8080/"
        },
        "id": "xD-9YLulrJJw",
        "outputId": "7995609b-a1ee-4076-8819-371e60735f7c"
      },
      "execution_count": null,
      "outputs": [
        {
          "output_type": "execute_result",
          "data": {
            "text/plain": [
              "(2, (2, 2), 2)"
            ]
          },
          "metadata": {},
          "execution_count": 427
        }
      ]
    },
    {
      "cell_type": "markdown",
      "source": [
        "#**d. Arreglo Numpy - Matriz 2*3** "
      ],
      "metadata": {
        "id": "FXrNh8Bnn4yO"
      }
    },
    {
      "cell_type": "code",
      "source": [
        "#**d. Arreglo Numpy - Matriz 2*3** \n",
        "C = np.array([[1, 2, 5], [3, 4, 8]]) # Una matriz 2X3\n",
        "print('La Matriz construida es C =',C) # Imprimiendo el la Matriz"
      ],
      "metadata": {
        "colab": {
          "base_uri": "https://localhost:8080/"
        },
        "id": "59vJ1CpqkKZO",
        "outputId": "db74801f-5943-45bd-922c-7c85f6e87c87"
      },
      "execution_count": null,
      "outputs": [
        {
          "output_type": "stream",
          "name": "stdout",
          "text": [
            "La Matriz construida es C = [[1 2 5]\n",
            " [3 4 8]]\n"
          ]
        }
      ]
    },
    {
      "cell_type": "code",
      "source": [
        "C.ndim, C.shape, len(C)# devuelve el tamaño de la primera dimension"
      ],
      "metadata": {
        "colab": {
          "base_uri": "https://localhost:8080/"
        },
        "id": "NR6DZLD6rd8B",
        "outputId": "bc0ded28-a791-4819-cbeb-ae715e3bc48e"
      },
      "execution_count": null,
      "outputs": [
        {
          "output_type": "execute_result",
          "data": {
            "text/plain": [
              "(2, (2, 3), 2)"
            ]
          },
          "metadata": {},
          "execution_count": 429
        }
      ]
    },
    {
      "cell_type": "markdown",
      "source": [
        "#**e. Arreglo Numpy - Matriz 3*3 y dimensiones** "
      ],
      "metadata": {
        "id": "8f_8BmBioEPu"
      }
    },
    {
      "cell_type": "code",
      "source": [
        "#**e. Arreglo Numpy - Matriz 3*3** \n",
        "D = np.array([[1, 2, 5], [3, 4, 8], [13, 14, 18]]) # Una matriz 3X3\n",
        "print('La Matriz construida es D =',D) # Imprimiendo el la Matriz"
      ],
      "metadata": {
        "colab": {
          "base_uri": "https://localhost:8080/"
        },
        "id": "oqdAOPBokT3E",
        "outputId": "5a69eb53-001f-4856-bbce-850efbce1d49"
      },
      "execution_count": null,
      "outputs": [
        {
          "output_type": "stream",
          "name": "stdout",
          "text": [
            "La Matriz construida es D = [[ 1  2  5]\n",
            " [ 3  4  8]\n",
            " [13 14 18]]\n"
          ]
        }
      ]
    },
    {
      "cell_type": "code",
      "source": [
        "D.ndim, D.shape, len(D)# devuelve el tamaño de la primera dimension"
      ],
      "metadata": {
        "colab": {
          "base_uri": "https://localhost:8080/"
        },
        "id": "HPHUiOcHrk4Y",
        "outputId": "f707c16b-1da9-41b6-a013-26a093690225"
      },
      "execution_count": null,
      "outputs": [
        {
          "output_type": "execute_result",
          "data": {
            "text/plain": [
              "(2, (3, 3), 3)"
            ]
          },
          "metadata": {},
          "execution_count": 431
        }
      ]
    },
    {
      "cell_type": "code",
      "source": [
        "#**e. Arreglo Numpy - Matriz 3*3** \n",
        "E = np.array([[1, 2, 5], [3, 4, 8], [13, 14, 18]], ndmin=1) # Una matriz 3X3\n",
        "print('La Matriz construida es E =',E) # Imprimiendo el la Matriz"
      ],
      "metadata": {
        "colab": {
          "base_uri": "https://localhost:8080/"
        },
        "id": "F4X3-dxzofpu",
        "outputId": "bcaf6793-14e2-4af0-f3fe-54992e89658c"
      },
      "execution_count": null,
      "outputs": [
        {
          "output_type": "stream",
          "name": "stdout",
          "text": [
            "La Matriz construida es E = [[ 1  2  5]\n",
            " [ 3  4  8]\n",
            " [13 14 18]]\n"
          ]
        }
      ]
    },
    {
      "cell_type": "code",
      "source": [
        "E.ndim, E.shape, len(E)# devuelve el tamaño de la primera dimension"
      ],
      "metadata": {
        "colab": {
          "base_uri": "https://localhost:8080/"
        },
        "id": "LkkNyFrCrrHA",
        "outputId": "5d65736a-dfec-4e5e-fe97-51e96b72ad75"
      },
      "execution_count": null,
      "outputs": [
        {
          "output_type": "execute_result",
          "data": {
            "text/plain": [
              "(2, (3, 3), 3)"
            ]
          },
          "metadata": {},
          "execution_count": 433
        }
      ]
    },
    {
      "cell_type": "code",
      "source": [
        "#**e. Arreglo Numpy - Matriz 3*3**\n",
        "F = np.array([[1, 2, 5], [3, 4, 8], [13, 14, 18]], ndmin=2) # Una matriz 3X3 dimensiones minima\n",
        "print('La Matriz construida es F =',F) # Imprimiendo el la Matriz"
      ],
      "metadata": {
        "colab": {
          "base_uri": "https://localhost:8080/"
        },
        "id": "VAVXz4AJlOui",
        "outputId": "bed06e6b-e3d2-4ae4-d138-ec3178567994"
      },
      "execution_count": null,
      "outputs": [
        {
          "output_type": "stream",
          "name": "stdout",
          "text": [
            "La Matriz construida es F = [[ 1  2  5]\n",
            " [ 3  4  8]\n",
            " [13 14 18]]\n"
          ]
        }
      ]
    },
    {
      "cell_type": "code",
      "source": [
        "F.ndim, F.shape"
      ],
      "metadata": {
        "colab": {
          "base_uri": "https://localhost:8080/"
        },
        "id": "hCWvMwRRrvZR",
        "outputId": "6862d69b-a57d-4d64-ac47-88de5762b497"
      },
      "execution_count": null,
      "outputs": [
        {
          "output_type": "execute_result",
          "data": {
            "text/plain": [
              "(2, (3, 3))"
            ]
          },
          "metadata": {},
          "execution_count": 435
        }
      ]
    },
    {
      "cell_type": "code",
      "source": [
        "G = np.array([[1, 2, 5], [3, 4, 8], [13, 14, 18]], ndmin=3) # Una matriz 3X3 dimensiones minima\n",
        "print('La Matriz construida es G =',G) # Imprimiendo el la Matriz"
      ],
      "metadata": {
        "colab": {
          "base_uri": "https://localhost:8080/"
        },
        "id": "3km8zH4_lTSp",
        "outputId": "b0031980-f2f1-40d3-c0d1-5be9a50ebf2c"
      },
      "execution_count": null,
      "outputs": [
        {
          "output_type": "stream",
          "name": "stdout",
          "text": [
            "La Matriz construida es G = [[[ 1  2  5]\n",
            "  [ 3  4  8]\n",
            "  [13 14 18]]]\n"
          ]
        }
      ]
    },
    {
      "cell_type": "code",
      "source": [
        "G.ndim, G.shape"
      ],
      "metadata": {
        "colab": {
          "base_uri": "https://localhost:8080/"
        },
        "id": "IMFAOqKir0_m",
        "outputId": "46571b03-cbab-4aa9-9d37-3876d9eb5be7"
      },
      "execution_count": null,
      "outputs": [
        {
          "output_type": "execute_result",
          "data": {
            "text/plain": [
              "(3, (1, 3, 3))"
            ]
          },
          "metadata": {},
          "execution_count": 437
        }
      ]
    },
    {
      "cell_type": "code",
      "source": [
        "H = np.array([[1, 2, 5], [3, 4, 8], [13, 14, 18]], ndmin=4) # Una matriz 3X3 dimensiones minima\n",
        "print('La Matriz construida es H =',H) # Imprimiendo el la Matriz"
      ],
      "metadata": {
        "colab": {
          "base_uri": "https://localhost:8080/"
        },
        "id": "NBQHT31rlZN3",
        "outputId": "6b1dfd1c-a792-4b5b-ae36-327af06ac32d"
      },
      "execution_count": null,
      "outputs": [
        {
          "output_type": "stream",
          "name": "stdout",
          "text": [
            "La Matriz construida es H = [[[[ 1  2  5]\n",
            "   [ 3  4  8]\n",
            "   [13 14 18]]]]\n"
          ]
        }
      ]
    },
    {
      "cell_type": "code",
      "source": [
        "H.ndim, H.shape, len(H)# devuelve el tamaño de la primera dimension"
      ],
      "metadata": {
        "colab": {
          "base_uri": "https://localhost:8080/"
        },
        "id": "VRzy9agpr712",
        "outputId": "83c092b5-8152-4f59-f1e2-29791bd732d1"
      },
      "execution_count": null,
      "outputs": [
        {
          "output_type": "execute_result",
          "data": {
            "text/plain": [
              "(4, (1, 1, 3, 3), 1)"
            ]
          },
          "metadata": {},
          "execution_count": 439
        }
      ]
    },
    {
      "cell_type": "markdown",
      "source": [
        "# **f. Una matriz 3X3 compleja**"
      ],
      "metadata": {
        "id": "x3GgL3pmtN6n"
      }
    },
    {
      "cell_type": "code",
      "source": [
        "J = np.array([[1, 2, 5], [3, 4, 8], [13, 14, 18]], dtype=complex) # Una matriz 3X3 compleja\n",
        "print('La Matriz construida es J =',J) # Imprimiendo el la Matriz"
      ],
      "metadata": {
        "colab": {
          "base_uri": "https://localhost:8080/"
        },
        "id": "wFSeTbJUlgLf",
        "outputId": "ba737ed8-41ff-4d0d-8d45-84a5f535cd14"
      },
      "execution_count": null,
      "outputs": [
        {
          "output_type": "stream",
          "name": "stdout",
          "text": [
            "La Matriz construida es J = [[ 1.+0.j  2.+0.j  5.+0.j]\n",
            " [ 3.+0.j  4.+0.j  8.+0.j]\n",
            " [13.+0.j 14.+0.j 18.+0.j]]\n"
          ]
        }
      ]
    },
    {
      "cell_type": "markdown",
      "source": [
        "# **g. Los contenedores eficientes en memoria, proporcionan operaciones numéricas rápidas.**\n",
        "\n",
        "- Cada vez que se ejecuta esta línea de código, _%timeit_ mide el tiempo que tomó. \n",
        "- Tenga en cuenta que _%timeit_ no siempre ejecuta una operación 10000 veces.\n",
        "- Lo ejecuta una vez y decide cuántas veces se debe ejecutar la operación.\n",
        "- El objetivo es tener suficientes medidas sin necesitar 1 hora para dar una estimación. Si lo intenta con una más grande l, %timeitpodría ejecutarse solo 1000 veces."
      ],
      "metadata": {
        "id": "ySZLE-bDxt2G"
      }
    },
    {
      "cell_type": "code",
      "source": [
        "# **g. Los contenedores eficientes en memoria, proporcionan operaciones numéricas rápidas. CON LISTAS**\n",
        "L = range(1000)\n",
        "%timeit [i**2 for i in L] # [i**2 for i in l] ha sido llamado por %timeit10000 veces"
      ],
      "metadata": {
        "colab": {
          "base_uri": "https://localhost:8080/"
        },
        "id": "UmLggpf9vQIa",
        "outputId": "b52c1954-ecb3-48ae-ebbc-263112e1f448"
      },
      "execution_count": null,
      "outputs": [
        {
          "output_type": "stream",
          "name": "stdout",
          "text": [
            "390 µs ± 79.3 µs per loop (mean ± std. dev. of 7 runs, 1000 loops each)\n"
          ]
        }
      ]
    },
    {
      "cell_type": "code",
      "source": [
        "# **g. Los contenedores eficientes en memoria, proporcionan operaciones numéricas rápidas. CON NUmpy**\n",
        "a = np.arange(1000)\n",
        "\n",
        "%timeit a**2"
      ],
      "metadata": {
        "colab": {
          "base_uri": "https://localhost:8080/"
        },
        "id": "mTcfpFYBwuED",
        "outputId": "db645980-a438-4cc9-b5f9-e9ba3d9c3887"
      },
      "execution_count": null,
      "outputs": [
        {
          "output_type": "stream",
          "name": "stdout",
          "text": [
            "2.51 µs ± 86.6 ns per loop (mean ± std. dev. of 7 runs, 100000 loops each)\n"
          ]
        }
      ]
    },
    {
      "cell_type": "markdown",
      "source": [
        "# **96. Numpy - Funciones para crear arreglos**"
      ],
      "metadata": {
        "id": "fGRPZYcE2cdr"
      }
    },
    {
      "cell_type": "markdown",
      "source": [
        "## **a. Uniformemente espaciados**"
      ],
      "metadata": {
        "id": "RXjqoq4Y3PO6"
      }
    },
    {
      "cell_type": "code",
      "source": [
        "## **a. Uniformemente espaciados**\n",
        "a = np.arange(10) # 0 ... n-1  (!)\n",
        "a"
      ],
      "metadata": {
        "colab": {
          "base_uri": "https://localhost:8080/"
        },
        "id": "zlSc3fge2vyx",
        "outputId": "da2512a3-b3de-4d6e-c9c7-722480deb08a"
      },
      "execution_count": null,
      "outputs": [
        {
          "output_type": "execute_result",
          "data": {
            "text/plain": [
              "array([0, 1, 2, 3, 4, 5, 6, 7, 8, 9])"
            ]
          },
          "metadata": {},
          "execution_count": 443
        }
      ]
    },
    {
      "cell_type": "code",
      "source": [
        "b = np.arange(1, 9, 2) # inicio, final (excluido), paso\n",
        "b"
      ],
      "metadata": {
        "colab": {
          "base_uri": "https://localhost:8080/"
        },
        "id": "AcfAVURx27iQ",
        "outputId": "fa00cf6b-df6e-421e-9ed0-b724039f848d"
      },
      "execution_count": null,
      "outputs": [
        {
          "output_type": "execute_result",
          "data": {
            "text/plain": [
              "array([1, 3, 5, 7])"
            ]
          },
          "metadata": {},
          "execution_count": 444
        }
      ]
    },
    {
      "cell_type": "markdown",
      "source": [
        "## **b. por número de puntos**"
      ],
      "metadata": {
        "id": "VzbKMl5w3bOA"
      }
    },
    {
      "cell_type": "code",
      "source": [
        "## **b. por número de puntos**\n",
        "c = np.linspace(0, 1, 6)   # inicio, final, número de puntos\n",
        "c"
      ],
      "metadata": {
        "colab": {
          "base_uri": "https://localhost:8080/"
        },
        "id": "-8y4mRyr3fle",
        "outputId": "f293ba17-b984-4fc7-8d89-93adaeef07fe"
      },
      "execution_count": null,
      "outputs": [
        {
          "output_type": "execute_result",
          "data": {
            "text/plain": [
              "array([0. , 0.2, 0.4, 0.6, 0.8, 1. ])"
            ]
          },
          "metadata": {},
          "execution_count": 445
        }
      ]
    },
    {
      "cell_type": "code",
      "source": [
        "d = np.linspace(0, 1, 5, endpoint=False)\n",
        "d"
      ],
      "metadata": {
        "colab": {
          "base_uri": "https://localhost:8080/"
        },
        "id": "WZe-dYcD3Ym-",
        "outputId": "8633c11b-663a-4973-90c7-cf7782342f27"
      },
      "execution_count": null,
      "outputs": [
        {
          "output_type": "execute_result",
          "data": {
            "text/plain": [
              "array([0. , 0.2, 0.4, 0.6, 0.8])"
            ]
          },
          "metadata": {},
          "execution_count": 446
        }
      ]
    },
    {
      "cell_type": "markdown",
      "source": [
        "## **c. Arreglos comunes**"
      ],
      "metadata": {
        "id": "eDHNnUUD5HKz"
      }
    },
    {
      "cell_type": "code",
      "source": [
        "a = np.ones((3, 3))  # recuerde: (3, 3) es una tupla\n",
        "a"
      ],
      "metadata": {
        "colab": {
          "base_uri": "https://localhost:8080/"
        },
        "id": "Yk5hy0ee5UOy",
        "outputId": "682cba86-b404-4174-8316-beb8b43a4847"
      },
      "execution_count": null,
      "outputs": [
        {
          "output_type": "execute_result",
          "data": {
            "text/plain": [
              "array([[1., 1., 1.],\n",
              "       [1., 1., 1.],\n",
              "       [1., 1., 1.]])"
            ]
          },
          "metadata": {},
          "execution_count": 447
        }
      ]
    },
    {
      "cell_type": "code",
      "source": [
        "b = np.zeros((2, 2))\n",
        "b"
      ],
      "metadata": {
        "colab": {
          "base_uri": "https://localhost:8080/"
        },
        "id": "AO3OH6O-5UTA",
        "outputId": "e10b41bd-ea5b-446b-d71a-e40ccfc92e2b"
      },
      "execution_count": null,
      "outputs": [
        {
          "output_type": "execute_result",
          "data": {
            "text/plain": [
              "array([[0., 0.],\n",
              "       [0., 0.]])"
            ]
          },
          "metadata": {},
          "execution_count": 448
        }
      ]
    },
    {
      "cell_type": "code",
      "source": [
        "c = np.eye(3)\n",
        "c"
      ],
      "metadata": {
        "colab": {
          "base_uri": "https://localhost:8080/"
        },
        "id": "p0LO7YPo5UWv",
        "outputId": "e64f6857-27fd-43d1-c08a-ce4ba79212dc"
      },
      "execution_count": null,
      "outputs": [
        {
          "output_type": "execute_result",
          "data": {
            "text/plain": [
              "array([[1., 0., 0.],\n",
              "       [0., 1., 0.],\n",
              "       [0., 0., 1.]])"
            ]
          },
          "metadata": {},
          "execution_count": 449
        }
      ]
    },
    {
      "cell_type": "code",
      "source": [
        "d = np.diag(np.array([1, 2, 3, 4]))\n",
        "d"
      ],
      "metadata": {
        "colab": {
          "base_uri": "https://localhost:8080/"
        },
        "id": "x_t4NxUr5Uax",
        "outputId": "65ee5fe7-4036-47fe-e8e7-3f7e477a318c"
      },
      "execution_count": null,
      "outputs": [
        {
          "output_type": "execute_result",
          "data": {
            "text/plain": [
              "array([[1, 0, 0, 0],\n",
              "       [0, 2, 0, 0],\n",
              "       [0, 0, 3, 0],\n",
              "       [0, 0, 0, 4]])"
            ]
          },
          "metadata": {},
          "execution_count": 450
        }
      ]
    },
    {
      "cell_type": "markdown",
      "source": [
        "# **d. Números seudoaleatorios (Mersenne Twister PRNG)**"
      ],
      "metadata": {
        "id": "griJ1-pf8lqn"
      }
    },
    {
      "cell_type": "code",
      "source": [
        "a = np.random.rand(4)       # uniformes in [0, 1]\n",
        "a"
      ],
      "metadata": {
        "colab": {
          "base_uri": "https://localhost:8080/"
        },
        "id": "p3zLB-qL8jr7",
        "outputId": "60f9fffb-1d21-494b-b566-43e14be43577"
      },
      "execution_count": null,
      "outputs": [
        {
          "output_type": "execute_result",
          "data": {
            "text/plain": [
              "array([0.7849367 , 0.97209836, 0.85097142, 0.54359433])"
            ]
          },
          "metadata": {},
          "execution_count": 451
        }
      ]
    },
    {
      "cell_type": "code",
      "source": [
        "b = np.random.randn(4)      # Gaussianos\n",
        "b"
      ],
      "metadata": {
        "colab": {
          "base_uri": "https://localhost:8080/"
        },
        "id": "PY5S6CO69TR6",
        "outputId": "6018e315-2fee-46ae-e827-6d56202a8e58"
      },
      "execution_count": null,
      "outputs": [
        {
          "output_type": "execute_result",
          "data": {
            "text/plain": [
              "array([-0.02410447, -0.88865742, -2.91573775, -0.9718405 ])"
            ]
          },
          "metadata": {},
          "execution_count": 452
        }
      ]
    },
    {
      "cell_type": "code",
      "source": [
        "np.random.seed(1234)        # Establece la semilla aleatoria"
      ],
      "metadata": {
        "id": "Ky6g8dbz9cuI"
      },
      "execution_count": null,
      "outputs": []
    },
    {
      "cell_type": "markdown",
      "source": [
        "# **97. Tipos de datos básicos**"
      ],
      "metadata": {
        "id": "XcAeoLxo-d1T"
      }
    },
    {
      "cell_type": "markdown",
      "source": [
        "#**a. Data Types**\n",
        "- Usted puede haber notado que, en algunos casos, los elementos del arreglo se muestran con un punto (por ejemplo, 2. vs 2). \n",
        "- Esto se debe a los tipos de datos utilizados"
      ],
      "metadata": {
        "id": "t-9Et9ysmpdh"
      }
    },
    {
      "cell_type": "code",
      "source": [
        "a = np.array([1, 2, 3])\n",
        "a.dtype"
      ],
      "metadata": {
        "colab": {
          "base_uri": "https://localhost:8080/"
        },
        "id": "6isVhM2V_Aix",
        "outputId": "a8f3954c-6cd5-4ae8-a480-76d2019622e3"
      },
      "execution_count": null,
      "outputs": [
        {
          "output_type": "execute_result",
          "data": {
            "text/plain": [
              "dtype('int64')"
            ]
          },
          "metadata": {},
          "execution_count": 454
        }
      ]
    },
    {
      "cell_type": "code",
      "source": [
        "b = np.array([1., 2., 3.])\n",
        "b.dtype"
      ],
      "metadata": {
        "colab": {
          "base_uri": "https://localhost:8080/"
        },
        "id": "klCMOXyV_K6y",
        "outputId": "e1f8b6d3-bbaa-4cbb-feec-d388d0d3ce10"
      },
      "execution_count": null,
      "outputs": [
        {
          "output_type": "execute_result",
          "data": {
            "text/plain": [
              "dtype('float64')"
            ]
          },
          "metadata": {},
          "execution_count": 455
        }
      ]
    },
    {
      "cell_type": "markdown",
      "source": [
        "# **b. Puede especificar explícitamente qué tipo de datos desea**"
      ],
      "metadata": {
        "id": "mM59L0lF_fWC"
      }
    },
    {
      "cell_type": "code",
      "source": [
        "c = np.array([1, 2, 3], dtype=float)\n",
        "c.dtype"
      ],
      "metadata": {
        "colab": {
          "base_uri": "https://localhost:8080/"
        },
        "id": "DEUW2w_b_K-n",
        "outputId": "51ebec35-8e0c-42c8-b558-fa5ae5d12316"
      },
      "execution_count": null,
      "outputs": [
        {
          "output_type": "execute_result",
          "data": {
            "text/plain": [
              "dtype('float64')"
            ]
          },
          "metadata": {},
          "execution_count": 456
        }
      ]
    },
    {
      "cell_type": "markdown",
      "source": [
        "# **c. El tipo de dato por defecto es de punto flotante**"
      ],
      "metadata": {
        "id": "dQ4NMMXa_x-V"
      }
    },
    {
      "cell_type": "code",
      "source": [
        "a = np.ones((3, 3))\n",
        "a.dtype"
      ],
      "metadata": {
        "colab": {
          "base_uri": "https://localhost:8080/"
        },
        "id": "kFhn7fq4_LCS",
        "outputId": "1d0126e8-2ca8-432e-bed4-06ac2ccbc165"
      },
      "execution_count": null,
      "outputs": [
        {
          "output_type": "execute_result",
          "data": {
            "text/plain": [
              "dtype('float64')"
            ]
          },
          "metadata": {},
          "execution_count": 457
        }
      ]
    },
    {
      "cell_type": "markdown",
      "source": [
        "# **d. Complejos**"
      ],
      "metadata": {
        "id": "RN5tcZ36AOIn"
      }
    },
    {
      "cell_type": "code",
      "source": [
        "d = np.array([1+2j, 3+4j, 5+6*1j])\n",
        "d.dtype"
      ],
      "metadata": {
        "colab": {
          "base_uri": "https://localhost:8080/"
        },
        "id": "T214mKUgAEjF",
        "outputId": "cad5ecdb-d803-467a-f438-57e2d4a914af"
      },
      "execution_count": null,
      "outputs": [
        {
          "output_type": "execute_result",
          "data": {
            "text/plain": [
              "dtype('complex128')"
            ]
          },
          "metadata": {},
          "execution_count": 458
        }
      ]
    },
    {
      "cell_type": "markdown",
      "source": [
        "# **e. Booleanos**"
      ],
      "metadata": {
        "id": "SuKTsuV6AXfM"
      }
    },
    {
      "cell_type": "code",
      "source": [
        "e = np.array([True, False, False, True])\n",
        "e.dtype"
      ],
      "metadata": {
        "colab": {
          "base_uri": "https://localhost:8080/"
        },
        "id": "iICbznKnAEne",
        "outputId": "fa1f4215-cea1-4a74-8901-b062ad8e5eb1"
      },
      "execution_count": null,
      "outputs": [
        {
          "output_type": "execute_result",
          "data": {
            "text/plain": [
              "dtype('bool')"
            ]
          },
          "metadata": {},
          "execution_count": 459
        }
      ]
    },
    {
      "cell_type": "markdown",
      "source": [
        "# **f. Cadenas**"
      ],
      "metadata": {
        "id": "USxfyuBuBuL_"
      }
    },
    {
      "cell_type": "code",
      "source": [
        "f = np.array(['Bonjour', 'Hello', 'Hallo',])\n",
        "f.dtype     # <--- las cadenas en f contienen máximo 7 letras"
      ],
      "metadata": {
        "colab": {
          "base_uri": "https://localhost:8080/"
        },
        "id": "t88z6b31AErU",
        "outputId": "69aa257b-bb63-4717-dd1b-1dab74572cdb"
      },
      "execution_count": null,
      "outputs": [
        {
          "output_type": "execute_result",
          "data": {
            "text/plain": [
              "dtype('<U7')"
            ]
          },
          "metadata": {},
          "execution_count": 460
        }
      ]
    },
    {
      "cell_type": "markdown",
      "source": [
        "# **g. Muchos más tipos de datos**"
      ],
      "metadata": {
        "id": "iFakkKxyCXAM"
      }
    },
    {
      "cell_type": "code",
      "source": [
        "dt = np.dtype(np.int32)\n",
        "print(dt)"
      ],
      "metadata": {
        "colab": {
          "base_uri": "https://localhost:8080/"
        },
        "id": "v04xKuVWmUwO",
        "outputId": "3f41d733-38bc-45cf-e383-7ba34982901f"
      },
      "execution_count": null,
      "outputs": [
        {
          "output_type": "stream",
          "name": "stdout",
          "text": [
            "int32\n"
          ]
        }
      ]
    },
    {
      "cell_type": "code",
      "source": [
        "# int8, int16, int32, int64 pueden ser reemplazado por las correspondientes cadenas \"i1\", \"i2\", \"i4\", etc\n",
        "dt = np.dtype(\"i1\")\n",
        "print(dt)"
      ],
      "metadata": {
        "colab": {
          "base_uri": "https://localhost:8080/"
        },
        "id": "mfEDyo5knInS",
        "outputId": "f871af5d-7a7d-41da-d446-04583b56f22b"
      },
      "execution_count": null,
      "outputs": [
        {
          "output_type": "stream",
          "name": "stdout",
          "text": [
            "int8\n"
          ]
        }
      ]
    },
    {
      "cell_type": "code",
      "source": [
        "dt = np.dtype(\"i2\")\n",
        "print(dt)"
      ],
      "metadata": {
        "colab": {
          "base_uri": "https://localhost:8080/"
        },
        "id": "Mo1zuRYUnjaP",
        "outputId": "0e05fd8f-b74f-41a5-979b-8b954a0356e0"
      },
      "execution_count": null,
      "outputs": [
        {
          "output_type": "stream",
          "name": "stdout",
          "text": [
            "int16\n"
          ]
        }
      ]
    },
    {
      "cell_type": "code",
      "source": [
        "dt = np.dtype(\"i4\")\n",
        "print(dt)"
      ],
      "metadata": {
        "colab": {
          "base_uri": "https://localhost:8080/"
        },
        "id": "G-ukrxlanjkO",
        "outputId": "ce936e02-143d-421d-9d4d-da0e9559ea11"
      },
      "execution_count": null,
      "outputs": [
        {
          "output_type": "stream",
          "name": "stdout",
          "text": [
            "int32\n"
          ]
        }
      ]
    },
    {
      "cell_type": "markdown",
      "source": [
        "# **98. Visualización básica**\n",
        "-  Ahora que tenemos nuestros primeros arreglos de datos, vamos a visualizarlos."
      ],
      "metadata": {
        "id": "r809HFWDIjjT"
      }
    },
    {
      "cell_type": "markdown",
      "source": [
        "# **a. Otra Librería**"
      ],
      "metadata": {
        "id": "IXMWvp7aI8cI"
      }
    },
    {
      "cell_type": "code",
      "source": [
        "import matplotlib.pyplot as plt  # en forma ordenada"
      ],
      "metadata": {
        "id": "diDinBkpInCx"
      },
      "execution_count": null,
      "outputs": []
    },
    {
      "cell_type": "markdown",
      "source": [
        "# **b. Arreglos 1D**"
      ],
      "metadata": {
        "id": "nTLpgSd_JkNh"
      }
    },
    {
      "cell_type": "code",
      "source": [
        "# **b. Arreglos 1D**\n",
        "x = np.linspace(0, 3, 20)\n",
        "y = np.linspace(0, 9, 20)\n",
        "plt.plot(x, y)       # gráfica con línea continua [<matplotlib.lines.Line2D object at ...>]\n",
        "plt.plot(x, y, 'o')  # gráfica con línea punteada [<matplotlib.lines.Line2D object at ...>]\n",
        "plt.show()           # <-- mostrar la gráfica (en Ipython no es necesario)"
      ],
      "metadata": {
        "colab": {
          "base_uri": "https://localhost:8080/",
          "height": 430
        },
        "id": "oUCqHwrpInGn",
        "outputId": "8ffb9d1e-9a9b-447e-e090-6847f4418ae8"
      },
      "execution_count": null,
      "outputs": [
        {
          "output_type": "display_data",
          "data": {
            "text/plain": [
              "<Figure size 640x480 with 1 Axes>"
            ],
            "image/png": "[encoded data removed]"
          },
          "metadata": {}
        }
      ]
    },
    {
      "cell_type": "markdown",
      "source": [
        "# **c. Arreglos 2D (como las imágenes)**"
      ],
      "metadata": {
        "id": "B20YhypbKTht"
      }
    },
    {
      "cell_type": "code",
      "source": [
        "# **c. Arreglos 2D (como las imágenes)**\n",
        "image = np.random.rand(30, 30)\n",
        "plt.imshow(image, cmap=plt.cm.hot) #<matplotlib.image.AxesImage at 0xb763f0c>\n",
        "plt.colorbar() # <matplotlib.colorbar.Colorbar instance at 0xb7e538c>\n",
        "plt.show()"
      ],
      "metadata": {
        "colab": {
          "base_uri": "https://localhost:8080/",
          "height": 430
        },
        "id": "Yx15P7YiInKl",
        "outputId": "cfb49c0e-ca69-4a5a-d4e3-637c9186fcfd"
      },
      "execution_count": null,
      "outputs": [
        {
          "output_type": "display_data",
          "data": {
            "text/plain": [
              "<Figure size 640x480 with 2 Axes>"
            ],
            "image/png": "[encoded data removed]"
          },
          "metadata": {}
        }
      ]
    },
    {
      "cell_type": "markdown",
      "source": [
        "# **99. Indexado y segmentado**\n",
        "- **Los elementos de un arreglo se puede acceder y asignar de la misma forma que otras secuencias de Python (por ejemplo, listas)**"
      ],
      "metadata": {
        "id": "GGhJYKnoM3pN"
      }
    },
    {
      "cell_type": "markdown",
      "source": [
        "# **a. Los elementos de un arreglo se puede acceder**"
      ],
      "metadata": {
        "id": "lI0Ct3UYNdT5"
      }
    },
    {
      "cell_type": "code",
      "source": [
        "# **a. Los elementos de un arreglo se puede acceder**\n",
        "a = np.arange(10)\n",
        "a\n"
      ],
      "metadata": {
        "colab": {
          "base_uri": "https://localhost:8080/"
        },
        "id": "8yPsoIRRInRp",
        "outputId": "6feb030c-87e4-47d5-af4a-718d6789bfa0"
      },
      "execution_count": null,
      "outputs": [
        {
          "output_type": "execute_result",
          "data": {
            "text/plain": [
              "array([0, 1, 2, 3, 4, 5, 6, 7, 8, 9])"
            ]
          },
          "metadata": {},
          "execution_count": 468
        }
      ]
    },
    {
      "cell_type": "code",
      "source": [
        "# **a. Los elementos de un arreglo se puede acceder**\n",
        "a[0], a[2], a[-1]"
      ],
      "metadata": {
        "colab": {
          "base_uri": "https://localhost:8080/"
        },
        "id": "zSG60C67InYf",
        "outputId": "e1dc0db0-8dd7-4413-fa44-cca837c005fa"
      },
      "execution_count": null,
      "outputs": [
        {
          "output_type": "execute_result",
          "data": {
            "text/plain": [
              "(0, 2, 9)"
            ]
          },
          "metadata": {},
          "execution_count": 469
        }
      ]
    },
    {
      "cell_type": "markdown",
      "source": [
        "# **b. En arreglos multidimensionales, los índices son tuplas de números enteros**"
      ],
      "metadata": {
        "id": "HiTaQwfwN0eI"
      }
    },
    {
      "cell_type": "code",
      "source": [
        "# **b. En arreglos multidimensionales, los índices son tuplas de números enteros**\n",
        "A = np.diag(np.arange(2,5))\n",
        "A"
      ],
      "metadata": {
        "colab": {
          "base_uri": "https://localhost:8080/"
        },
        "id": "5AbzpIlHInbi",
        "outputId": "201d3b8c-d9d4-4bda-be5b-7da93bb44bd2"
      },
      "execution_count": null,
      "outputs": [
        {
          "output_type": "execute_result",
          "data": {
            "text/plain": [
              "array([[2, 0, 0],\n",
              "       [0, 3, 0],\n",
              "       [0, 0, 4]])"
            ]
          },
          "metadata": {},
          "execution_count": 470
        }
      ]
    },
    {
      "cell_type": "code",
      "source": [
        "# **b. En arreglos multidimensionales, los índices son tuplas de números enteros**\n",
        "A[1, 1]"
      ],
      "metadata": {
        "colab": {
          "base_uri": "https://localhost:8080/"
        },
        "id": "AYCSX6gTInfO",
        "outputId": "9a4928f1-b27e-4725-8639-132cf6f9358a"
      },
      "execution_count": null,
      "outputs": [
        {
          "output_type": "execute_result",
          "data": {
            "text/plain": [
              "3"
            ]
          },
          "metadata": {},
          "execution_count": 471
        }
      ]
    },
    {
      "cell_type": "code",
      "source": [
        "# **b. En arreglos multidimensionales, los índices son tuplas de números enteros**\n",
        "A[2, 1] = 10 # tercera fila, segunda columna\n",
        "A"
      ],
      "metadata": {
        "colab": {
          "base_uri": "https://localhost:8080/"
        },
        "id": "JCIt6VclInin",
        "outputId": "64c945f7-4ba4-4218-bb99-3a36718a8b43"
      },
      "execution_count": null,
      "outputs": [
        {
          "output_type": "execute_result",
          "data": {
            "text/plain": [
              "array([[ 2,  0,  0],\n",
              "       [ 0,  3,  0],\n",
              "       [ 0, 10,  4]])"
            ]
          },
          "metadata": {},
          "execution_count": 472
        }
      ]
    },
    {
      "cell_type": "code",
      "source": [
        "# **b. En arreglos multidimensionales, los índices son tuplas de números enteros**\n",
        "A[1]"
      ],
      "metadata": {
        "colab": {
          "base_uri": "https://localhost:8080/"
        },
        "id": "8BdFPPu7Inl7",
        "outputId": "00265f95-79e8-406a-8de9-4079b18190ef"
      },
      "execution_count": null,
      "outputs": [
        {
          "output_type": "execute_result",
          "data": {
            "text/plain": [
              "array([0, 3, 0])"
            ]
          },
          "metadata": {},
          "execution_count": 473
        }
      ]
    },
    {
      "cell_type": "code",
      "source": [
        "# **b. En arreglos multidimensionales, los índices son tuplas de números enteros**\n",
        "A[:,2]"
      ],
      "metadata": {
        "colab": {
          "base_uri": "https://localhost:8080/"
        },
        "id": "JHQWrnP0InpL",
        "outputId": "c1296a63-715b-45d3-b771-1670d88bb2ae"
      },
      "execution_count": null,
      "outputs": [
        {
          "output_type": "execute_result",
          "data": {
            "text/plain": [
              "array([0, 0, 4])"
            ]
          },
          "metadata": {},
          "execution_count": 474
        }
      ]
    },
    {
      "cell_type": "markdown",
      "source": [
        "## **c. Segmentado de arreglos**"
      ],
      "metadata": {
        "id": "cz4TVPQJPZkN"
      }
    },
    {
      "cell_type": "code",
      "source": [
        "## **c. Segmentado de arreglos**\n",
        "B = np.arange(10)\n",
        "B\n"
      ],
      "metadata": {
        "colab": {
          "base_uri": "https://localhost:8080/"
        },
        "id": "2tDvyX3xPdS-",
        "outputId": "829b306f-734c-4488-a489-1dd88d029498"
      },
      "execution_count": null,
      "outputs": [
        {
          "output_type": "execute_result",
          "data": {
            "text/plain": [
              "array([0, 1, 2, 3, 4, 5, 6, 7, 8, 9])"
            ]
          },
          "metadata": {},
          "execution_count": 475
        }
      ]
    },
    {
      "cell_type": "code",
      "source": [
        "## **c. Segmentado de arreglos**\n",
        "B[2:9:3] # [inicio:final:paso]"
      ],
      "metadata": {
        "colab": {
          "base_uri": "https://localhost:8080/"
        },
        "id": "JkhKtVcRPdXe",
        "outputId": "2f7a8a9f-0725-4b37-e9c0-59a8a46738dc"
      },
      "execution_count": null,
      "outputs": [
        {
          "output_type": "execute_result",
          "data": {
            "text/plain": [
              "array([2, 5, 8])"
            ]
          },
          "metadata": {},
          "execution_count": 476
        }
      ]
    },
    {
      "cell_type": "code",
      "source": [
        "## **c. Segmentado de arreglos**\n",
        "B[:4] # Tenga en cuenta que el último índice no es incluido"
      ],
      "metadata": {
        "colab": {
          "base_uri": "https://localhost:8080/"
        },
        "id": "13r3GIxTPdbB",
        "outputId": "92b1a681-f84f-450f-9089-dca4148cce8e"
      },
      "execution_count": null,
      "outputs": [
        {
          "output_type": "execute_result",
          "data": {
            "text/plain": [
              "array([0, 1, 2, 3])"
            ]
          },
          "metadata": {},
          "execution_count": 477
        }
      ]
    },
    {
      "cell_type": "markdown",
      "source": [
        "# **d. Los tres argumentos de segmentado no son necesarios: por defecto, inicio es 0, final es el último y paso es 1**"
      ],
      "metadata": {
        "id": "7U53d8FgQoe9"
      }
    },
    {
      "cell_type": "code",
      "source": [
        "# **d. Los tres argumentos de segmentado no son necesarios: por defecto, inicio es 0, final es el último y paso es 1**\n",
        "B[1:3]"
      ],
      "metadata": {
        "colab": {
          "base_uri": "https://localhost:8080/"
        },
        "id": "iKFVyV2fQa6M",
        "outputId": "305f848e-f5ac-48a8-81fa-e564ff8ccbfe"
      },
      "execution_count": null,
      "outputs": [
        {
          "output_type": "execute_result",
          "data": {
            "text/plain": [
              "array([1, 2])"
            ]
          },
          "metadata": {},
          "execution_count": 478
        }
      ]
    },
    {
      "cell_type": "code",
      "source": [
        "# **d. Los tres argumentos de segmentado no son necesarios: por defecto, inicio es 0, final es el último y paso es 1**\n",
        "B[::2]\n"
      ],
      "metadata": {
        "colab": {
          "base_uri": "https://localhost:8080/"
        },
        "id": "WUJQ0iGwQ2wu",
        "outputId": "cbeb62a6-691e-4b67-8136-e0e4f62f814f"
      },
      "execution_count": null,
      "outputs": [
        {
          "output_type": "execute_result",
          "data": {
            "text/plain": [
              "array([0, 2, 4, 6, 8])"
            ]
          },
          "metadata": {},
          "execution_count": 479
        }
      ]
    },
    {
      "cell_type": "code",
      "source": [
        "# **d. Los tres argumentos de segmentado no son necesarios: por defecto, inicio es 0, final es el último y paso es 1**\n",
        "B[3:]"
      ],
      "metadata": {
        "colab": {
          "base_uri": "https://localhost:8080/"
        },
        "id": "pw6nnaY1Q3Nq",
        "outputId": "529fc2f2-f9ca-4229-bcbc-6fa7ae6d1c91"
      },
      "execution_count": null,
      "outputs": [
        {
          "output_type": "execute_result",
          "data": {
            "text/plain": [
              "array([3, 4, 5, 6, 7, 8, 9])"
            ]
          },
          "metadata": {},
          "execution_count": 480
        }
      ]
    },
    {
      "cell_type": "markdown",
      "source": [
        "# **100. Copias y vistas**\n",
        "- Una operación de segmentado crea una vista del arreglo original, que es sólo una forma de acceder a los datos de un arreglo. Por lo tanto el arreglo original no es copiado en memoria."
      ],
      "metadata": {
        "id": "FKqQil2_VsR3"
      }
    },
    {
      "cell_type": "markdown",
      "source": [
        "# **a. Al modificar una vista, la matriz original es modificado**"
      ],
      "metadata": {
        "id": "1nWKFFsVWnEd"
      }
    },
    {
      "cell_type": "code",
      "source": [
        "# **a. Al modificar una vista, la matriz original es modificado**\n",
        "C = np.arange(10)\n",
        "C"
      ],
      "metadata": {
        "colab": {
          "base_uri": "https://localhost:8080/"
        },
        "id": "_bd_9VWZVvba",
        "outputId": "3f240230-3e89-442c-a112-1351ac134532"
      },
      "execution_count": null,
      "outputs": [
        {
          "output_type": "execute_result",
          "data": {
            "text/plain": [
              "array([0, 1, 2, 3, 4, 5, 6, 7, 8, 9])"
            ]
          },
          "metadata": {},
          "execution_count": 481
        }
      ]
    },
    {
      "cell_type": "code",
      "source": [
        "# **a. Al modificar una vista, la matriz original es modificado**\n",
        "D = C[::2]\n",
        "D"
      ],
      "metadata": {
        "colab": {
          "base_uri": "https://localhost:8080/"
        },
        "id": "0wOrC87WVvfN",
        "outputId": "d683ae08-9ed6-474a-b074-57ae05843622"
      },
      "execution_count": null,
      "outputs": [
        {
          "output_type": "execute_result",
          "data": {
            "text/plain": [
              "array([0, 2, 4, 6, 8])"
            ]
          },
          "metadata": {},
          "execution_count": 482
        }
      ]
    },
    {
      "cell_type": "code",
      "source": [
        "# **a. Al modificar una vista, la matriz original es modificado**\n",
        "D[0] = 12\n",
        "D"
      ],
      "metadata": {
        "colab": {
          "base_uri": "https://localhost:8080/"
        },
        "id": "bY6oMt1rVvi3",
        "outputId": "83c404cb-c0d4-42d5-8442-8a7233b1b6c0"
      },
      "execution_count": null,
      "outputs": [
        {
          "output_type": "execute_result",
          "data": {
            "text/plain": [
              "array([12,  2,  4,  6,  8])"
            ]
          },
          "metadata": {},
          "execution_count": 483
        }
      ]
    },
    {
      "cell_type": "code",
      "source": [
        "# **a. Al modificar una vista, la matriz original es modificado**\n",
        "C\n"
      ],
      "metadata": {
        "colab": {
          "base_uri": "https://localhost:8080/"
        },
        "id": "CmDrpGA8VvmD",
        "outputId": "0ed76002-a428-47c5-a704-0f739c1f85dc"
      },
      "execution_count": null,
      "outputs": [
        {
          "output_type": "execute_result",
          "data": {
            "text/plain": [
              "array([12,  1,  2,  3,  4,  5,  6,  7,  8,  9])"
            ]
          },
          "metadata": {},
          "execution_count": 484
        }
      ]
    },
    {
      "cell_type": "markdown",
      "source": [
        "# **b. La transpuesta es una vista**"
      ],
      "metadata": {
        "id": "k9DHcx15W6QY"
      }
    },
    {
      "cell_type": "code",
      "source": [
        "E = np.ones((10, 10))\n",
        "E"
      ],
      "metadata": {
        "colab": {
          "base_uri": "https://localhost:8080/"
        },
        "id": "3R-ILVJIW9zr",
        "outputId": "6d9a13f0-4940-4eff-d66a-1cd12a1fc0c7"
      },
      "execution_count": null,
      "outputs": [
        {
          "output_type": "execute_result",
          "data": {
            "text/plain": [
              "array([[1., 1., 1., 1., 1., 1., 1., 1., 1., 1.],\n",
              "       [1., 1., 1., 1., 1., 1., 1., 1., 1., 1.],\n",
              "       [1., 1., 1., 1., 1., 1., 1., 1., 1., 1.],\n",
              "       [1., 1., 1., 1., 1., 1., 1., 1., 1., 1.],\n",
              "       [1., 1., 1., 1., 1., 1., 1., 1., 1., 1.],\n",
              "       [1., 1., 1., 1., 1., 1., 1., 1., 1., 1.],\n",
              "       [1., 1., 1., 1., 1., 1., 1., 1., 1., 1.],\n",
              "       [1., 1., 1., 1., 1., 1., 1., 1., 1., 1.],\n",
              "       [1., 1., 1., 1., 1., 1., 1., 1., 1., 1.],\n",
              "       [1., 1., 1., 1., 1., 1., 1., 1., 1., 1.]])"
            ]
          },
          "metadata": {},
          "execution_count": 485
        }
      ]
    },
    {
      "cell_type": "code",
      "source": [
        "E += E.T\n",
        "E"
      ],
      "metadata": {
        "colab": {
          "base_uri": "https://localhost:8080/"
        },
        "id": "1ibqB9w7W922",
        "outputId": "68adc8d1-cce2-4f04-b9c2-67e477e25a49"
      },
      "execution_count": null,
      "outputs": [
        {
          "output_type": "execute_result",
          "data": {
            "text/plain": [
              "array([[2., 2., 2., 2., 2., 2., 2., 2., 2., 2.],\n",
              "       [2., 2., 2., 2., 2., 2., 2., 2., 2., 2.],\n",
              "       [2., 2., 2., 2., 2., 2., 2., 2., 2., 2.],\n",
              "       [2., 2., 2., 2., 2., 2., 2., 2., 2., 2.],\n",
              "       [2., 2., 2., 2., 2., 2., 2., 2., 2., 2.],\n",
              "       [2., 2., 2., 2., 2., 2., 2., 2., 2., 2.],\n",
              "       [2., 2., 2., 2., 2., 2., 2., 2., 2., 2.],\n",
              "       [2., 2., 2., 2., 2., 2., 2., 2., 2., 2.],\n",
              "       [2., 2., 2., 2., 2., 2., 2., 2., 2., 2.],\n",
              "       [2., 2., 2., 2., 2., 2., 2., 2., 2., 2.]])"
            ]
          },
          "metadata": {},
          "execution_count": 486
        }
      ]
    },
    {
      "cell_type": "markdown",
      "source": [
        "# **101. Indexado fancy**\n",
        "- Los arreglos numpy pueden indexarse ​​en segmentos, pero también con arreglos booleanos o arreglos enteros (enmascarados). Este método se llama indexado fancy. Crea copias no vistas."
      ],
      "metadata": {
        "id": "pr6yH29ab7n6"
      }
    },
    {
      "cell_type": "markdown",
      "source": [
        "# **a. Usando enmascarado booleano**"
      ],
      "metadata": {
        "id": "STZrUYuweXuu"
      }
    },
    {
      "cell_type": "code",
      "source": [
        "# **a. Usando enmascarado booleano**\n",
        "np.random.seed(3)\n",
        "A = np.random.random_integers(0, 20, 15)\n",
        "A"
      ],
      "metadata": {
        "colab": {
          "base_uri": "https://localhost:8080/"
        },
        "id": "Kq-rnKBmYXHz",
        "outputId": "481d3a7e-d6a1-4739-f86c-fbcfbe815aec"
      },
      "execution_count": null,
      "outputs": [
        {
          "output_type": "stream",
          "name": "stderr",
          "text": [
            "<ipython-input-487-eb8bce90a22c>:3: DeprecationWarning: This function is deprecated. Please call randint(0, 20 + 1) instead\n",
            "  A = np.random.random_integers(0, 20, 15)\n"
          ]
        },
        {
          "output_type": "execute_result",
          "data": {
            "text/plain": [
              "array([10,  3,  8,  0, 19, 10, 11,  9, 10,  6,  0, 20, 12,  7, 14])"
            ]
          },
          "metadata": {},
          "execution_count": 487
        }
      ]
    },
    {
      "cell_type": "markdown",
      "source": [
        "# **b. Los numeros modulo 3**"
      ],
      "metadata": {
        "id": "eEJE0_ejemJ0"
      }
    },
    {
      "cell_type": "code",
      "source": [
        "# **b. Los numeros modulo 3**\n",
        "A % 3 == 0 # Residuo de dividir entre 3 es 0"
      ],
      "metadata": {
        "colab": {
          "base_uri": "https://localhost:8080/"
        },
        "id": "in-J0f29X8sC",
        "outputId": "b1454830-62db-4823-9971-446fb525a52e"
      },
      "execution_count": null,
      "outputs": [
        {
          "output_type": "execute_result",
          "data": {
            "text/plain": [
              "array([False,  True, False,  True, False, False, False,  True, False,\n",
              "        True,  True, False,  True, False, False])"
            ]
          },
          "metadata": {},
          "execution_count": 488
        }
      ]
    },
    {
      "cell_type": "markdown",
      "source": [
        "# **c. Construimos la mascara**"
      ],
      "metadata": {
        "id": "xLJZ6-B7ewFA"
      }
    },
    {
      "cell_type": "code",
      "source": [
        "# **c. Construimos la mascara**\n",
        "mascara = (A % 3 == 0)\n",
        "mascara"
      ],
      "metadata": {
        "colab": {
          "base_uri": "https://localhost:8080/"
        },
        "id": "TshrFqA3do8A",
        "outputId": "4c3b23ae-86e7-4307-94ed-b0ec1508eba2"
      },
      "execution_count": null,
      "outputs": [
        {
          "output_type": "execute_result",
          "data": {
            "text/plain": [
              "array([False,  True, False,  True, False, False, False,  True, False,\n",
              "        True,  True, False,  True, False, False])"
            ]
          },
          "metadata": {},
          "execution_count": 489
        }
      ]
    },
    {
      "cell_type": "markdown",
      "source": [
        "# **d. Extraemos de la data los numeros enmascarados**"
      ],
      "metadata": {
        "id": "NI7gWcnLe4ki"
      }
    },
    {
      "cell_type": "code",
      "source": [
        "# **d. Extraemos de la data los numeros enmascarados**\n",
        "extraer_desde_A = A[mascara] # o tambien,  extraer_desde_a = a[a%3==0]\n",
        "extraer_desde_A           # extrae un subarreglo con máscara"
      ],
      "metadata": {
        "colab": {
          "base_uri": "https://localhost:8080/"
        },
        "id": "ohIqdyxydo_d",
        "outputId": "6dbfa86d-0212-4c03-bb2a-907d6a1ec0b1"
      },
      "execution_count": null,
      "outputs": [
        {
          "output_type": "execute_result",
          "data": {
            "text/plain": [
              "array([ 3,  0,  9,  6,  0, 12])"
            ]
          },
          "metadata": {},
          "execution_count": 490
        }
      ]
    },
    {
      "cell_type": "markdown",
      "source": [
        "# **e. El indexado con máscara puede ser muy útil para asignar un nuevo valor a un subarreglo**"
      ],
      "metadata": {
        "id": "l01Af4Uje9mm"
      }
    },
    {
      "cell_type": "code",
      "source": [
        "# **e. El indexado con máscara puede ser muy útil para asignar un nuevo valor a un subarreglo**\n",
        "A[A % 3 == 0] = -1 # Reemplacemos por -1 los multiplos de 3 \n",
        "A"
      ],
      "metadata": {
        "colab": {
          "base_uri": "https://localhost:8080/"
        },
        "id": "F2m73WsQdpDF",
        "outputId": "a802a6ed-20f5-4fd3-91de-a2ad59215ad9"
      },
      "execution_count": null,
      "outputs": [
        {
          "output_type": "execute_result",
          "data": {
            "text/plain": [
              "array([10, -1,  8, -1, 19, 10, 11, -1, 10, -1, -1, 20, -1,  7, 14])"
            ]
          },
          "metadata": {},
          "execution_count": 491
        }
      ]
    },
    {
      "cell_type": "markdown",
      "source": [
        "# **102. Indexado con una arreglo de enteros**"
      ],
      "metadata": {
        "id": "CHgOQ4rugaD3"
      }
    },
    {
      "cell_type": "markdown",
      "source": [
        "# **a. El arreglo**"
      ],
      "metadata": {
        "id": "qnpbNk98iBGp"
      }
    },
    {
      "cell_type": "code",
      "source": [
        "# **a. El arreglo**\n",
        "B = np.arange(10)\n",
        "B"
      ],
      "metadata": {
        "colab": {
          "base_uri": "https://localhost:8080/"
        },
        "id": "sfS6Qj7IgfPf",
        "outputId": "a6e0fa7b-dc7b-4e05-aa98-bc1ca4ff16b7"
      },
      "execution_count": null,
      "outputs": [
        {
          "output_type": "execute_result",
          "data": {
            "text/plain": [
              "array([0, 1, 2, 3, 4, 5, 6, 7, 8, 9])"
            ]
          },
          "metadata": {},
          "execution_count": 492
        }
      ]
    },
    {
      "cell_type": "markdown",
      "source": [
        "# **b. Una lista en Pyhton**"
      ],
      "metadata": {
        "id": "6Mfo6ubbiQz_"
      }
    },
    {
      "cell_type": "code",
      "source": [
        "# **b. Una lista en Pyhton** \n",
        "B[[2, 3, 2, 4, 2]]  # nota: [2, 3, 2, 4, 2] es una lista Python\n",
        "B"
      ],
      "metadata": {
        "colab": {
          "base_uri": "https://localhost:8080/"
        },
        "id": "VG5yZTRWgfTA",
        "outputId": "9f5eebe0-fcc2-4b94-e785-0dfc210b22e1"
      },
      "execution_count": null,
      "outputs": [
        {
          "output_type": "execute_result",
          "data": {
            "text/plain": [
              "array([0, 1, 2, 3, 4, 5, 6, 7, 8, 9])"
            ]
          },
          "metadata": {},
          "execution_count": 493
        }
      ]
    },
    {
      "cell_type": "markdown",
      "source": [
        "# **c. Haciendo el cambio en el arreglo**"
      ],
      "metadata": {
        "id": "g1HEkG43igS9"
      }
    },
    {
      "cell_type": "code",
      "source": [
        "# **c. Haciendo el cambio en el arreglo**\n",
        "B[[9, 7]] = -10 # Las posiciones 9 y 7 se reemplazan por -10\n",
        "B"
      ],
      "metadata": {
        "colab": {
          "base_uri": "https://localhost:8080/"
        },
        "id": "-ZyZ4UZpgfW1",
        "outputId": "9f8a14d9-8716-4165-e2df-7bce9280feb3"
      },
      "execution_count": null,
      "outputs": [
        {
          "output_type": "execute_result",
          "data": {
            "text/plain": [
              "array([  0,   1,   2,   3,   4,   5,   6, -10,   8, -10])"
            ]
          },
          "metadata": {},
          "execution_count": 494
        }
      ]
    },
    {
      "cell_type": "markdown",
      "source": [
        "#**103. Atributos Numpy**"
      ],
      "metadata": {
        "id": "sY1dActwoW_y"
      }
    },
    {
      "cell_type": "markdown",
      "source": [
        "# **a. shape - Muestra la dimensión de una matriz** "
      ],
      "metadata": {
        "id": "OLLkNIqsjjcc"
      }
    },
    {
      "cell_type": "code",
      "source": [
        "# **a. shape**\n",
        "A = np.array([[1, 2, 5], [3, 4, 8], [13, 14, 18]]) # Muestra la dimensión de una matriz 3X3\n",
        "print('La Matriz A= ', A, 'Tiene dimensión igual a ',A.shape)"
      ],
      "metadata": {
        "colab": {
          "base_uri": "https://localhost:8080/"
        },
        "id": "vFF1A62qnjmW",
        "outputId": "bf2f89fc-7076-433f-a157-18a00aa77740"
      },
      "execution_count": null,
      "outputs": [
        {
          "output_type": "stream",
          "name": "stdout",
          "text": [
            "La Matriz A=  [[ 1  2  5]\n",
            " [ 3  4  8]\n",
            " [13 14 18]] Tiene dimensión igual a  (3, 3)\n"
          ]
        }
      ]
    },
    {
      "cell_type": "code",
      "source": [
        "B = np.array([[1, 2, 5], [3, 4, 8]]) # Una matriz 2X3\n",
        "print('La Matriz B= ', B, 'Tiene dimensión igual a ',B.shape)"
      ],
      "metadata": {
        "colab": {
          "base_uri": "https://localhost:8080/"
        },
        "id": "MyaEdgkWnjqh",
        "outputId": "4e553d89-3153-48a3-fc9e-b5f6daef9d31"
      },
      "execution_count": null,
      "outputs": [
        {
          "output_type": "stream",
          "name": "stdout",
          "text": [
            "La Matriz B=  [[1 2 5]\n",
            " [3 4 8]] Tiene dimensión igual a  (2, 3)\n"
          ]
        }
      ]
    },
    {
      "cell_type": "code",
      "source": [
        "C = np.array([[1, 2], [4, 5], [3,6]]) # Una matriz 3X2\n",
        "print('La Matriz C= ', C, 'Tiene dimensión igual a ',C.shape)"
      ],
      "metadata": {
        "colab": {
          "base_uri": "https://localhost:8080/"
        },
        "id": "wiPIlauGnjuQ",
        "outputId": "180c9a85-662a-4db6-d3ab-7ed59489d00b"
      },
      "execution_count": null,
      "outputs": [
        {
          "output_type": "stream",
          "name": "stdout",
          "text": [
            "La Matriz C=  [[1 2]\n",
            " [4 5]\n",
            " [3 6]] Tiene dimensión igual a  (3, 2)\n"
          ]
        }
      ]
    },
    {
      "cell_type": "markdown",
      "source": [
        "# **b. La función reshape**\n",
        "- La función numpy.reshape. Esta función devuelve un nuevo array con los datos del array cedido como primer argumento y el nuevo tamaño indicado:"
      ],
      "metadata": {
        "id": "UIPbkY0iljlT"
      }
    },
    {
      "cell_type": "code",
      "source": [
        "# **b. La función reshape**\n",
        "D = np.arange(24) # esto es una dimension del arreglo\n",
        "D.ndim # NOS DICE LA DIMENSION DEL ARREGLO\n",
        "E = D.reshape(1,6,4) # Construye un arreglo de 1 matriz de 6 filas y 4 columnas\n",
        "print('Para el arreglo ', D ,'con dimensión ', D.ndim, 'Construya la Matriz E =' , E, 'que tiene dimensión ', E.ndim)"
      ],
      "metadata": {
        "colab": {
          "base_uri": "https://localhost:8080/"
        },
        "id": "lM-c7Cjjq88C",
        "outputId": "0c46e8f3-6c0d-48be-9feb-171078102410"
      },
      "execution_count": null,
      "outputs": [
        {
          "output_type": "stream",
          "name": "stdout",
          "text": [
            "Para el arreglo  [ 0  1  2  3  4  5  6  7  8  9 10 11 12 13 14 15 16 17 18 19 20 21 22 23] con dimensión  1 Construya la Matriz E = [[[ 0  1  2  3]\n",
            "  [ 4  5  6  7]\n",
            "  [ 8  9 10 11]\n",
            "  [12 13 14 15]\n",
            "  [16 17 18 19]\n",
            "  [20 21 22 23]]] que tiene dimensión  3\n"
          ]
        }
      ]
    },
    {
      "cell_type": "code",
      "source": [
        "# **b. La función reshape**\n",
        "F = np.arange(48) # esto es una dimension del arreglo\n",
        "F.ndim # NOS DICE LA DIMENSION DEL ARREGLO\n",
        "G = F.reshape(3,4,4) # Construye un arreglo de 3 matrices de 4 filas y 4 columnas\n",
        "print('Para el arreglo ', F ,'con dimensión ', F.ndim, 'Construya la Matriz G =' , G, 'que tiene dimensión ', G.ndim)"
      ],
      "metadata": {
        "colab": {
          "base_uri": "https://localhost:8080/"
        },
        "id": "eTtg7voGnQD1",
        "outputId": "3d528ade-cf8b-40bc-bccd-6af45cfd084d"
      },
      "execution_count": null,
      "outputs": [
        {
          "output_type": "stream",
          "name": "stdout",
          "text": [
            "Para el arreglo  [ 0  1  2  3  4  5  6  7  8  9 10 11 12 13 14 15 16 17 18 19 20 21 22 23\n",
            " 24 25 26 27 28 29 30 31 32 33 34 35 36 37 38 39 40 41 42 43 44 45 46 47] con dimensión  1 Construya la Matriz G = [[[ 0  1  2  3]\n",
            "  [ 4  5  6  7]\n",
            "  [ 8  9 10 11]\n",
            "  [12 13 14 15]]\n",
            "\n",
            " [[16 17 18 19]\n",
            "  [20 21 22 23]\n",
            "  [24 25 26 27]\n",
            "  [28 29 30 31]]\n",
            "\n",
            " [[32 33 34 35]\n",
            "  [36 37 38 39]\n",
            "  [40 41 42 43]\n",
            "  [44 45 46 47]]] que tiene dimensión  3\n"
          ]
        }
      ]
    },
    {
      "cell_type": "code",
      "source": [
        "a = np.arange(12) # esto es una dimension del arreglo\n",
        "a.ndim\n",
        "b = a.reshape(1,3,4) # Construye un arreglo de 1 matriz de 3 filas y 4 columnas\n",
        "print('Para el arreglo ', a ,'con dimensión ', a.ndim, 'Construya la Matriz b =' , b, 'que tiene dimensión ', b.ndim)"
      ],
      "metadata": {
        "colab": {
          "base_uri": "https://localhost:8080/"
        },
        "id": "WL7NSIzfroEL",
        "outputId": "0241d363-a351-4d8c-eebe-3dec6c221280"
      },
      "execution_count": null,
      "outputs": [
        {
          "output_type": "stream",
          "name": "stdout",
          "text": [
            "Para el arreglo  [ 0  1  2  3  4  5  6  7  8  9 10 11] con dimensión  1 Construya la Matriz b = [[[ 0  1  2  3]\n",
            "  [ 4  5  6  7]\n",
            "  [ 8  9 10 11]]] que tiene dimensión  3\n"
          ]
        }
      ]
    },
    {
      "cell_type": "code",
      "source": [
        "a = np.arange(60) # esto es una dimension del arreglo\n",
        "a.ndim\n",
        "b = a.reshape(3,4,5) # Construye un arreglo de 3 matrices de 4 filas y 5 columnas\n",
        "print('Para el arreglo ', a ,'con dimensión ', a.ndim, 'Construya la Matriz b =' , b, 'que tiene dimensión ', b.ndim)"
      ],
      "metadata": {
        "id": "d_cd2TUTnj5f",
        "colab": {
          "base_uri": "https://localhost:8080/"
        },
        "outputId": "90ebf58b-5c85-48d7-abd4-c705d1787cdf"
      },
      "execution_count": null,
      "outputs": [
        {
          "output_type": "stream",
          "name": "stdout",
          "text": [
            "Para el arreglo  [ 0  1  2  3  4  5  6  7  8  9 10 11 12 13 14 15 16 17 18 19 20 21 22 23\n",
            " 24 25 26 27 28 29 30 31 32 33 34 35 36 37 38 39 40 41 42 43 44 45 46 47\n",
            " 48 49 50 51 52 53 54 55 56 57 58 59] con dimensión  1 Construya la Matriz b = [[[ 0  1  2  3  4]\n",
            "  [ 5  6  7  8  9]\n",
            "  [10 11 12 13 14]\n",
            "  [15 16 17 18 19]]\n",
            "\n",
            " [[20 21 22 23 24]\n",
            "  [25 26 27 28 29]\n",
            "  [30 31 32 33 34]\n",
            "  [35 36 37 38 39]]\n",
            "\n",
            " [[40 41 42 43 44]\n",
            "  [45 46 47 48 49]\n",
            "  [50 51 52 53 54]\n",
            "  [55 56 57 58 59]]] que tiene dimensión  3\n"
          ]
        }
      ]
    },
    {
      "cell_type": "markdown",
      "source": [
        "#**104. Rutinas**"
      ],
      "metadata": {
        "id": "sCh9n3unzadX"
      }
    },
    {
      "cell_type": "markdown",
      "source": [
        "# **a. Construye una matriz vacía de tamaño _m_*_n_**"
      ],
      "metadata": {
        "id": "Ij30yrjR8tTn"
      }
    },
    {
      "cell_type": "code",
      "source": [
        "# **a. Construye una matriz vacía de tamaño _m_*_n_**\n",
        "A = np.empty([3,2]) # Un arreglo vacio\n",
        "print('La Matriz construida es A =',A)"
      ],
      "metadata": {
        "id": "MnEIJJ2d1Odr",
        "colab": {
          "base_uri": "https://localhost:8080/"
        },
        "outputId": "869b585c-37c8-410d-8ed2-731644bf5ea0"
      },
      "execution_count": null,
      "outputs": [
        {
          "output_type": "stream",
          "name": "stdout",
          "text": [
            "La Matriz construida es A = [[0. 0.]\n",
            " [0. 0.]\n",
            " [0. 0.]]\n"
          ]
        }
      ]
    },
    {
      "cell_type": "code",
      "source": [
        "# **b. Construye una matriz vacía de tamaño _m_*_n_**\n",
        "x = np.zeros(5)\n",
        "print(x)"
      ],
      "metadata": {
        "id": "xnUqVt0szeia",
        "colab": {
          "base_uri": "https://localhost:8080/"
        },
        "outputId": "554919c6-b462-436c-d110-18d11b9bb269"
      },
      "execution_count": null,
      "outputs": [
        {
          "output_type": "stream",
          "name": "stdout",
          "text": [
            "[0. 0. 0. 0. 0.]\n"
          ]
        }
      ]
    },
    {
      "cell_type": "code",
      "source": [
        "x = np.zeros([2,3])\n",
        "print(x)"
      ],
      "metadata": {
        "id": "BHh1J8F3zemL",
        "colab": {
          "base_uri": "https://localhost:8080/"
        },
        "outputId": "ea5fdde3-1410-436e-bd38-dd2cbb4f245f"
      },
      "execution_count": null,
      "outputs": [
        {
          "output_type": "stream",
          "name": "stdout",
          "text": [
            "[[0. 0. 0.]\n",
            " [0. 0. 0.]]\n"
          ]
        }
      ]
    },
    {
      "cell_type": "code",
      "source": [
        "x = np.zeros((2,2))\n",
        "print(x)"
      ],
      "metadata": {
        "id": "Py195BSLzeqZ",
        "colab": {
          "base_uri": "https://localhost:8080/"
        },
        "outputId": "db2794ff-b641-4d59-fff3-941bc35bf353"
      },
      "execution_count": null,
      "outputs": [
        {
          "output_type": "stream",
          "name": "stdout",
          "text": [
            "[[0. 0.]\n",
            " [0. 0.]]\n"
          ]
        }
      ]
    },
    {
      "cell_type": "code",
      "source": [
        "u = np.ones((2,2))\n",
        "print(u)"
      ],
      "metadata": {
        "id": "NXXLJIXVzeue",
        "colab": {
          "base_uri": "https://localhost:8080/"
        },
        "outputId": "e2370ffb-da66-4aa3-bf58-09ab2f301e49"
      },
      "execution_count": null,
      "outputs": [
        {
          "output_type": "stream",
          "name": "stdout",
          "text": [
            "[[1. 1.]\n",
            " [1. 1.]]\n"
          ]
        }
      ]
    },
    {
      "cell_type": "code",
      "source": [
        "u = np.ones(5)\n",
        "print(u)"
      ],
      "metadata": {
        "id": "oA-RjdImzeyu",
        "colab": {
          "base_uri": "https://localhost:8080/"
        },
        "outputId": "983f99cc-a240-4c0f-86de-8d1e3614afae"
      },
      "execution_count": null,
      "outputs": [
        {
          "output_type": "stream",
          "name": "stdout",
          "text": [
            "[1. 1. 1. 1. 1.]\n"
          ]
        }
      ]
    },
    {
      "cell_type": "code",
      "source": [
        "u = np.ones([2,2], dtype = int)\n",
        "print(u)"
      ],
      "metadata": {
        "id": "4NkETaKaze22",
        "colab": {
          "base_uri": "https://localhost:8080/"
        },
        "outputId": "1f438879-9759-4002-a069-9d3185aa45c8"
      },
      "execution_count": null,
      "outputs": [
        {
          "output_type": "stream",
          "name": "stdout",
          "text": [
            "[[1 1]\n",
            " [1 1]]\n"
          ]
        }
      ]
    },
    {
      "cell_type": "code",
      "source": [
        "u = np.ones(5, dtype = int)\n",
        "print(u)"
      ],
      "metadata": {
        "id": "tRHpWacize6N",
        "colab": {
          "base_uri": "https://localhost:8080/"
        },
        "outputId": "49f82836-e5d6-4c42-ac7e-531eb95a31ad"
      },
      "execution_count": null,
      "outputs": [
        {
          "output_type": "stream",
          "name": "stdout",
          "text": [
            "[1 1 1 1 1]\n"
          ]
        }
      ]
    },
    {
      "cell_type": "code",
      "source": [
        "w = np.zeros(5, dtype = int)\n",
        "print(w)"
      ],
      "metadata": {
        "id": "RmbKF1_6ze-e",
        "colab": {
          "base_uri": "https://localhost:8080/"
        },
        "outputId": "37410645-1d15-47df-a14b-81a82440c31f"
      },
      "execution_count": null,
      "outputs": [
        {
          "output_type": "stream",
          "name": "stdout",
          "text": [
            "[0 0 0 0 0]\n"
          ]
        }
      ]
    },
    {
      "cell_type": "code",
      "source": [
        "w = np.zeros((2,2), dtype = [(\"x\",\"i4\"), (\"y\",\"i4\") ])\n",
        "print(w)"
      ],
      "metadata": {
        "id": "DapZoiXKzfCC",
        "colab": {
          "base_uri": "https://localhost:8080/"
        },
        "outputId": "5b159b66-0f0a-4890-90f8-c3ffa1d6f161"
      },
      "execution_count": null,
      "outputs": [
        {
          "output_type": "stream",
          "name": "stdout",
          "text": [
            "[[(0, 0) (0, 0)]\n",
            " [(0, 0) (0, 0)]]\n"
          ]
        }
      ]
    },
    {
      "cell_type": "code",
      "source": [
        "w = np.ones((2,2), dtype = [(\"x\",\"i4\"), (\"y\",\"i4\") ])\n",
        "print(w)"
      ],
      "metadata": {
        "id": "uI7NdhqLzfFh",
        "colab": {
          "base_uri": "https://localhost:8080/"
        },
        "outputId": "04e05cb7-91cc-40dd-e267-88fba6f3b683"
      },
      "execution_count": null,
      "outputs": [
        {
          "output_type": "stream",
          "name": "stdout",
          "text": [
            "[[(1, 1) (1, 1)]\n",
            " [(1, 1) (1, 1)]]\n"
          ]
        }
      ]
    },
    {
      "cell_type": "markdown",
      "source": [
        "#**105. Arreglos de Datos existentes con el método  _asarray_**"
      ],
      "metadata": {
        "id": "GusvEUj4NzJE"
      }
    },
    {
      "cell_type": "markdown",
      "source": [
        "# **a. Convertir una lista en un _np.array_**"
      ],
      "metadata": {
        "id": "SGgh_qAuRV5D"
      }
    },
    {
      "cell_type": "code",
      "source": [
        "# **a. Convertir una lista en un _np.array_**\n",
        "x = [ 1, 2, 3] # convertir una lista a ndarray\n",
        "a = np.asarray(x)\n",
        "print('La lista x =',x, 'se ha convertido en el vector a =' ,a)"
      ],
      "metadata": {
        "id": "O47dyuLSzfRu",
        "colab": {
          "base_uri": "https://localhost:8080/"
        },
        "outputId": "711cd202-3196-45ea-fcfb-8da51cbde658"
      },
      "execution_count": null,
      "outputs": [
        {
          "output_type": "stream",
          "name": "stdout",
          "text": [
            "La lista x [1, 2, 3] se ha convertido en el vector a = [1 2 3]\n"
          ]
        }
      ]
    },
    {
      "cell_type": "code",
      "source": [
        "# **a. Convertir una lista en un _np.array_**\n",
        "y = [ 1, 2, 3] # dtype is set\n",
        "b = np.asarray(y, dtype = float)\n",
        "print('La lista y= ',y, 'se ha convertido en el vector b =' ,b)"
      ],
      "metadata": {
        "id": "Duv7w2LrzfVf",
        "colab": {
          "base_uri": "https://localhost:8080/"
        },
        "outputId": "4636f75e-1827-4adc-a541-1aebbba47daa"
      },
      "execution_count": null,
      "outputs": [
        {
          "output_type": "stream",
          "name": "stdout",
          "text": [
            "La lista y=  [1, 2, 3] se ha convertido en el vector b = [1. 2. 3.]\n"
          ]
        }
      ]
    },
    {
      "cell_type": "markdown",
      "source": [
        "# **b. Convertir una tupla en un _np.array_**"
      ],
      "metadata": {
        "id": "7VutuEufShu5"
      }
    },
    {
      "cell_type": "code",
      "source": [
        "# **b. Convertir una tupla en un _np.array_**\n",
        "z = ( 1, 2, 3) # convertir una tupla en un ndarray\n",
        "c = np.asarray(z)\n",
        "print('La tupla z= ',z, 'se ha convertido en el vector c =' ,c)"
      ],
      "metadata": {
        "id": "W65-y6ARzfpS",
        "colab": {
          "base_uri": "https://localhost:8080/"
        },
        "outputId": "0dde1fcc-935f-436d-cf8f-81af7cfe78a4"
      },
      "execution_count": null,
      "outputs": [
        {
          "output_type": "stream",
          "name": "stdout",
          "text": [
            "La tupla z=  (1, 2, 3) se ha convertido en el vector c = [1 2 3]\n"
          ]
        }
      ]
    },
    {
      "cell_type": "markdown",
      "source": [
        "#**106. Arreglos para rangos numéricos:**\n",
        "- **numpy.arange: np.arange(inicio, parada, pasos, dtype)**"
      ],
      "metadata": {
        "id": "BNuEFSD0m2qV"
      }
    },
    {
      "cell_type": "markdown",
      "source": [
        "# **a. np.arange(_n_)**"
      ],
      "metadata": {
        "id": "D15-izhWUzuQ"
      }
    },
    {
      "cell_type": "code",
      "source": [
        "# **a. np.arange()**\n",
        "x = np.arange(5)\n",
        "print('El arreglo creado es x =',x)"
      ],
      "metadata": {
        "id": "bGwPXd3gmjUp",
        "colab": {
          "base_uri": "https://localhost:8080/"
        },
        "outputId": "fa61e477-59ac-4f6d-ab01-30dcbf1e1348"
      },
      "execution_count": null,
      "outputs": [
        {
          "output_type": "stream",
          "name": "stdout",
          "text": [
            "El arreglo creado es x = [0 1 2 3 4]\n"
          ]
        }
      ]
    },
    {
      "cell_type": "code",
      "source": [
        "# **a. np.arange()**\n",
        "y = np.arange(5, dtype=float)\n",
        "print('El arreglo creado es y =',y)"
      ],
      "metadata": {
        "id": "O0BAyUNymjYe",
        "colab": {
          "base_uri": "https://localhost:8080/"
        },
        "outputId": "18dbe9be-66be-4dea-a66b-6717260117cd"
      },
      "execution_count": null,
      "outputs": [
        {
          "output_type": "stream",
          "name": "stdout",
          "text": [
            "El arreglo creado es y = [0. 1. 2. 3. 4.]\n"
          ]
        }
      ]
    },
    {
      "cell_type": "markdown",
      "source": [
        "# **b. numpy.arange: np.arange(inicio, parada, pasos, dtype)**"
      ],
      "metadata": {
        "id": "T3UkRAwJVpGT"
      }
    },
    {
      "cell_type": "code",
      "source": [
        "# **b. numpy.arange: np.arange(inicio, parada, pasos, dtype)**\n",
        "z = np.arange(5, 10, 2)\n",
        "print('El arreglo creado es z =',z)"
      ],
      "metadata": {
        "id": "Whd3L7anmjb3",
        "colab": {
          "base_uri": "https://localhost:8080/"
        },
        "outputId": "31c0ad37-df7e-42a1-c8af-59a80fc7990b"
      },
      "execution_count": null,
      "outputs": [
        {
          "output_type": "stream",
          "name": "stdout",
          "text": [
            "El arreglo creado es z = [5 7 9]\n"
          ]
        }
      ]
    },
    {
      "cell_type": "code",
      "source": [
        "# **b. numpy.arange: np.arange(inicio, parada, pasos, dtype)**\n",
        "w = np.arange(5, 100, 2)\n",
        "print('El arreglo creado es w =',w)"
      ],
      "metadata": {
        "id": "GWCUbZ7bmjfv",
        "colab": {
          "base_uri": "https://localhost:8080/"
        },
        "outputId": "898559b6-7158-4b72-ae36-c3848fa5fc33"
      },
      "execution_count": null,
      "outputs": [
        {
          "output_type": "stream",
          "name": "stdout",
          "text": [
            "El arreglo creado es w = [ 5  7  9 11 13 15 17 19 21 23 25 27 29 31 33 35 37 39 41 43 45 47 49 51\n",
            " 53 55 57 59 61 63 65 67 69 71 73 75 77 79 81 83 85 87 89 91 93 95 97 99]\n"
          ]
        }
      ]
    },
    {
      "cell_type": "code",
      "source": [
        "# **b. numpy.arange: np.arange(inicio, parada, pasos, dtype)**\n",
        "x = np.arange(5, 100, 0.5)\n",
        "print('El arreglo creado es x =',x)"
      ],
      "metadata": {
        "id": "meS-z1AZmjjH",
        "colab": {
          "base_uri": "https://localhost:8080/"
        },
        "outputId": "7c05290b-f9c4-4361-a27e-d95fa33ab5c3"
      },
      "execution_count": null,
      "outputs": [
        {
          "output_type": "stream",
          "name": "stdout",
          "text": [
            "El arreglo creado es x = [ 5.   5.5  6.   6.5  7.   7.5  8.   8.5  9.   9.5 10.  10.5 11.  11.5\n",
            " 12.  12.5 13.  13.5 14.  14.5 15.  15.5 16.  16.5 17.  17.5 18.  18.5\n",
            " 19.  19.5 20.  20.5 21.  21.5 22.  22.5 23.  23.5 24.  24.5 25.  25.5\n",
            " 26.  26.5 27.  27.5 28.  28.5 29.  29.5 30.  30.5 31.  31.5 32.  32.5\n",
            " 33.  33.5 34.  34.5 35.  35.5 36.  36.5 37.  37.5 38.  38.5 39.  39.5\n",
            " 40.  40.5 41.  41.5 42.  42.5 43.  43.5 44.  44.5 45.  45.5 46.  46.5\n",
            " 47.  47.5 48.  48.5 49.  49.5 50.  50.5 51.  51.5 52.  52.5 53.  53.5\n",
            " 54.  54.5 55.  55.5 56.  56.5 57.  57.5 58.  58.5 59.  59.5 60.  60.5\n",
            " 61.  61.5 62.  62.5 63.  63.5 64.  64.5 65.  65.5 66.  66.5 67.  67.5\n",
            " 68.  68.5 69.  69.5 70.  70.5 71.  71.5 72.  72.5 73.  73.5 74.  74.5\n",
            " 75.  75.5 76.  76.5 77.  77.5 78.  78.5 79.  79.5 80.  80.5 81.  81.5\n",
            " 82.  82.5 83.  83.5 84.  84.5 85.  85.5 86.  86.5 87.  87.5 88.  88.5\n",
            " 89.  89.5 90.  90.5 91.  91.5 92.  92.5 93.  93.5 94.  94.5 95.  95.5\n",
            " 96.  96.5 97.  97.5 98.  98.5 99.  99.5]\n"
          ]
        }
      ]
    },
    {
      "cell_type": "code",
      "source": [
        "# **b. numpy.arange: np.arange(inicio, parada, pasos, dtype)**\n",
        "x = np.arange(5, 10)\n",
        "print('El arreglo creado es x =',x)"
      ],
      "metadata": {
        "id": "7ZnJhCGimjpQ",
        "colab": {
          "base_uri": "https://localhost:8080/"
        },
        "outputId": "fb3d4c26-771d-4d72-9fd5-ac3142414666"
      },
      "execution_count": null,
      "outputs": [
        {
          "output_type": "stream",
          "name": "stdout",
          "text": [
            "El arreglo creado es x = [5 6 7 8 9]\n"
          ]
        }
      ]
    },
    {
      "cell_type": "markdown",
      "source": [
        "## **c. numpy.linspace**\n",
        "- **np.linspace(inicio, parada, num, endpoint, retstep, dtype)**\n",
        "- Devuelve números espaciados uniformemente en un intervalo específico."
      ],
      "metadata": {
        "id": "56ZBV85JpHh_"
      }
    },
    {
      "cell_type": "code",
      "source": [
        "## **c. numpy.linspace**\n",
        "x = np.linspace(10, 20, 5) #(inicio = 10, parada = 20, num = 5, endpoint =True, retstep =True, dtype =True)\n",
        "print('El arreglo creado es x =',x)"
      ],
      "metadata": {
        "id": "xW15po2vmjw4",
        "colab": {
          "base_uri": "https://localhost:8080/"
        },
        "outputId": "d24f9c12-e486-47a2-dd29-54aba6c0502f"
      },
      "execution_count": null,
      "outputs": [
        {
          "output_type": "stream",
          "name": "stdout",
          "text": [
            "El arreglo creado es x = [10.  12.5 15.  17.5 20. ]\n"
          ]
        }
      ]
    },
    {
      "cell_type": "code",
      "source": [
        "## **c. numpy.linspace**\n",
        "x = np.linspace(10, 20, 10) #(inicio = 10, parada = 20, num = 10, endpoint =True, retstep =True, dtype =True)\n",
        "print('El arreglo creado es x =',x)"
      ],
      "metadata": {
        "id": "1jCw_ysWmjtL",
        "colab": {
          "base_uri": "https://localhost:8080/"
        },
        "outputId": "749a2ba3-05ba-4a21-e5a8-dc84e145e2b3"
      },
      "execution_count": null,
      "outputs": [
        {
          "output_type": "stream",
          "name": "stdout",
          "text": [
            "El arreglo creado es x = [10.         11.11111111 12.22222222 13.33333333 14.44444444 15.55555556\n",
            " 16.66666667 17.77777778 18.88888889 20.        ]\n"
          ]
        }
      ]
    },
    {
      "cell_type": "code",
      "source": [
        "## **c. numpy.linspace**\n",
        "x = np.linspace(10, 20, 10, endpoint=False) #(inicio = 10, parada = 20, num = 10, endpoint =False, retstep =True, dtype =True)\n",
        "print('El arreglo creado es x =',x)"
      ],
      "metadata": {
        "id": "f4uhYcgDmj0w",
        "colab": {
          "base_uri": "https://localhost:8080/"
        },
        "outputId": "751b358c-a542-4f1d-9a19-204805753857"
      },
      "execution_count": null,
      "outputs": [
        {
          "output_type": "stream",
          "name": "stdout",
          "text": [
            "El arreglo creado es x = [10. 11. 12. 13. 14. 15. 16. 17. 18. 19.]\n"
          ]
        }
      ]
    },
    {
      "cell_type": "code",
      "source": [
        "## **c. numpy.linspace**\n",
        "x = np.linspace(10, 20, 10, endpoint=False, retstep =False) #(inicio = 10, parada = 20, num = 10, endpoint =False, retstep =True, dtype =True)\n",
        "print('El arreglo creado es x =',x)"
      ],
      "metadata": {
        "colab": {
          "base_uri": "https://localhost:8080/"
        },
        "id": "1obYtLtcalz8",
        "outputId": "f930d6f2-2a95-4aaf-a0cd-80ce3909dcf6"
      },
      "execution_count": null,
      "outputs": [
        {
          "output_type": "stream",
          "name": "stdout",
          "text": [
            "El arreglo creado es x = [10. 11. 12. 13. 14. 15. 16. 17. 18. 19.]\n"
          ]
        }
      ]
    },
    {
      "cell_type": "code",
      "source": [
        "x = np.linspace(1, 10, 10, retstep=False) #(inicio = 1, parada = 0, num = 10, endpoint =True, retstep =False, dtype =True)\n",
        "print(x)"
      ],
      "metadata": {
        "id": "gu67NhgAmj4v",
        "colab": {
          "base_uri": "https://localhost:8080/"
        },
        "outputId": "a2600ea4-d319-40ca-b798-cf0d813fae71"
      },
      "execution_count": null,
      "outputs": [
        {
          "output_type": "stream",
          "name": "stdout",
          "text": [
            "[ 1.  2.  3.  4.  5.  6.  7.  8.  9. 10.]\n"
          ]
        }
      ]
    },
    {
      "cell_type": "markdown",
      "source": [
        "## **d. numpy.arange: np.logspace(inicio, parada, num, endpoint, base, dtype)**\n",
        "- **Devuelve números espaciados uniformemente en una escala logarítmica.**"
      ],
      "metadata": {
        "id": "VCmpOslTrWbU"
      }
    },
    {
      "cell_type": "code",
      "source": [
        "## **d. numpy.arange: np.logspace(inicio, parada, num, endpoint, base, dtype)**\n",
        "a = np.logspace(1,2, num = 10)\n",
        "print('El arreglo creado es a =',a)"
      ],
      "metadata": {
        "id": "21e4b71mmj8_",
        "colab": {
          "base_uri": "https://localhost:8080/"
        },
        "outputId": "2ddf6920-9c64-4d0c-bef1-542bf8738d6e"
      },
      "execution_count": null,
      "outputs": [
        {
          "output_type": "stream",
          "name": "stdout",
          "text": [
            "El arreglo creado es a = [ 10.          12.91549665  16.68100537  21.5443469   27.82559402\n",
            "  35.93813664  46.41588834  59.94842503  77.42636827 100.        ]\n"
          ]
        }
      ]
    },
    {
      "cell_type": "code",
      "source": [
        "## **d. numpy.arange: np.logspace(inicio, parada, num, endpoint, base, dtype)**\n",
        "a = np.logspace(1,10, num = 10, base = 2)\n",
        "print('El arreglo creado es a =',a)"
      ],
      "metadata": {
        "id": "F5rYCCBKsb8O",
        "colab": {
          "base_uri": "https://localhost:8080/"
        },
        "outputId": "dc552f66-274c-42cc-9464-d944720a5470"
      },
      "execution_count": null,
      "outputs": [
        {
          "output_type": "stream",
          "name": "stdout",
          "text": [
            "El arreglo creado es a = [   2.    4.    8.   16.   32.   64.  128.  256.  512. 1024.]\n"
          ]
        }
      ]
    },
    {
      "cell_type": "markdown",
      "source": [
        "##**107. Indexing & Slicing**"
      ],
      "metadata": {
        "id": "6JIWX8AUu14a"
      }
    },
    {
      "cell_type": "markdown",
      "source": [
        "# **a. Tomando una parte del array**"
      ],
      "metadata": {
        "id": "A4NEDLfnfzPF"
      }
    },
    {
      "cell_type": "code",
      "source": [
        "# **a. Tomando una parte del array**\n",
        "a = np.arange(10)\n",
        "s = slice(2, 7, 2) # (inicio = 2, parada = 7, intervalo = 2)\n",
        "a[s]\n",
        "print('El array creado es a =', a,'se pide tomar de s =', s, 'Este es el resultado Tomado a[s] =',a[s], 'cuya longitud es L =', len(a[s]))"
      ],
      "metadata": {
        "id": "87UJ58eJscG7",
        "colab": {
          "base_uri": "https://localhost:8080/"
        },
        "outputId": "a604a9d6-76da-4d64-b75a-695011493a03"
      },
      "execution_count": null,
      "outputs": [
        {
          "output_type": "stream",
          "name": "stdout",
          "text": [
            "El array creado es a = [0 1 2 3 4 5 6 7 8 9] se pide tomar de s = slice(2, 7, 2) Este es el resultado Tomado a[s] = [2 4 6] cuya longitud es L = 3\n"
          ]
        }
      ]
    },
    {
      "cell_type": "code",
      "source": [
        "# **a. Tomando una parte del array**\n",
        "a = np.arange(10)\n",
        "s = slice(2, 7, 3) # (inicio = 2, parada = 7, intervalo = 3)\n",
        "a[s]\n",
        "print('El array creado es a =', a,'se pide tomar de s =', s, 'Este es el resultado Tomado a[s] =',a[s], 'cuya longitud es L =', len(a[s]))"
      ],
      "metadata": {
        "id": "4fk9Q6F9scKT",
        "colab": {
          "base_uri": "https://localhost:8080/"
        },
        "outputId": "f028ad73-2880-43a4-f3ca-f86373aad6fc"
      },
      "execution_count": null,
      "outputs": [
        {
          "output_type": "stream",
          "name": "stdout",
          "text": [
            "El array creado es a = [0 1 2 3 4 5 6 7 8 9] se pide tomar de s = slice(2, 7, 3) Este es el resultado Tomado a[s] = [2 5] cuya longitud es L = 2\n"
          ]
        }
      ]
    },
    {
      "cell_type": "code",
      "source": [
        "# **a. Tomando una parte del array**\n",
        "a = np.arange(100)\n",
        "s = slice(2, 79, 20) # (inicio = 2, parada = 79, intervalo = 20)\n",
        "a[s]\n",
        "print('El array creado es a =', a,'se pide tomar de s =', s, 'Este es el resultado Tomado a[s] =',a[s], 'cuya longitud es L =', len(a[s]))"
      ],
      "metadata": {
        "colab": {
          "base_uri": "https://localhost:8080/"
        },
        "id": "cNM-YV4HhB78",
        "outputId": "c80ef479-966c-4fb7-a6de-0531cf96dd5b"
      },
      "execution_count": null,
      "outputs": [
        {
          "output_type": "stream",
          "name": "stdout",
          "text": [
            "El array creado es a = [ 0  1  2  3  4  5  6  7  8  9 10 11 12 13 14 15 16 17 18 19 20 21 22 23\n",
            " 24 25 26 27 28 29 30 31 32 33 34 35 36 37 38 39 40 41 42 43 44 45 46 47\n",
            " 48 49 50 51 52 53 54 55 56 57 58 59 60 61 62 63 64 65 66 67 68 69 70 71\n",
            " 72 73 74 75 76 77 78 79 80 81 82 83 84 85 86 87 88 89 90 91 92 93 94 95\n",
            " 96 97 98 99] se pide tomar de s = slice(2, 79, 20) Este es el resultado Tomado a[s] = [ 2 22 42 62] cuya longitud es L = 4\n"
          ]
        }
      ]
    },
    {
      "cell_type": "code",
      "source": [],
      "metadata": {
        "id": "QCSl-jyh7XgO"
      },
      "execution_count": null,
      "outputs": []
    }
  ]
}