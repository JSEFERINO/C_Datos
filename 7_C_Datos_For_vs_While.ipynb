{
  "cells": [
    {
      "cell_type": "markdown",
      "metadata": {
        "id": "view-in-github",
        "colab_type": "text"
      },
      "source": [
        "<a href=\"https://colab.research.google.com/github/JSEFERINO/C_Datos/blob/main/7_C_Datos_For_vs_While.ipynb\" target=\"_parent\"><img src=\"https://colab.research.google.com/assets/colab-badge.svg\" alt=\"Open In Colab\"/></a>"
      ]
    },
    {
      "cell_type": "markdown",
      "source": [
        "# **Curso Introductorio a la Ciencia de Datos por Julio Hurtado Márquez**\n",
        "## **Parte I**"
      ],
      "metadata": {
        "id": "IKh2T45AnwtN"
      }
    },
    {
      "cell_type": "code",
      "execution_count": null,
      "metadata": {
        "id": "NUJLmwAkEDNa"
      },
      "outputs": [],
      "source": [
        "import pandas as pd\n",
        "import numpy as np"
      ]
    },
    {
      "cell_type": "markdown",
      "source": [
        "#**33. Fortaleciendo programación - Estructura for**\n",
        "# **a. Imprima los numeros de 0 al 100 con _while_**"
      ],
      "metadata": {
        "id": "vGQwlbfOua4_"
      }
    },
    {
      "cell_type": "code",
      "source": [
        "# Estructura while\n",
        "x=0\n",
        "while x<=100:\n",
        "  print(x)\n",
        "  x = x+1"
      ],
      "metadata": {
        "id": "IOyPnaD74lPZ"
      },
      "execution_count": null,
      "outputs": []
    },
    {
      "cell_type": "markdown",
      "source": [
        "# **b. Imprima los numeros de 0 al 100 con _for_**"
      ],
      "metadata": {
        "id": "ZAJeiN0b5o5Q"
      }
    },
    {
      "cell_type": "code",
      "source": [
        "# Estructura for\n",
        "for x in range(101):\n",
        "  print(x)"
      ],
      "metadata": {
        "id": "9e1ieBsg30mV"
      },
      "execution_count": null,
      "outputs": []
    },
    {
      "cell_type": "markdown",
      "source": [
        "# **c. Imprima los numeros de 20 al 30 con _for_**"
      ],
      "metadata": {
        "id": "WZCwIg2C5swo"
      }
    },
    {
      "cell_type": "code",
      "source": [
        "# Estructura for\n",
        "for x in range(20,31):\n",
        "  print(x)"
      ],
      "metadata": {
        "id": "ZXgbeCAj30qZ"
      },
      "execution_count": null,
      "outputs": []
    },
    {
      "cell_type": "markdown",
      "source": [
        "# **d. Imprima los numeros de impares del 1 al 100  con _for_**"
      ],
      "metadata": {
        "id": "UafSseSC51H3"
      }
    },
    {
      "cell_type": "code",
      "source": [
        "# Estructura for\n",
        "for x in range(1,101,2):\n",
        "  print(x)"
      ],
      "metadata": {
        "id": "1P8IhJYS30ug"
      },
      "execution_count": null,
      "outputs": []
    },
    {
      "cell_type": "markdown",
      "source": [
        "## **e. Construir un programa que permita cargar 10 valores por teclado y posteriormente muestre la suma y el promedio**"
      ],
      "metadata": {
        "id": "5GCMacpx6mfn"
      }
    },
    {
      "cell_type": "code",
      "source": [
        "print('Inicio del programa')\n",
        "# Entrada de datos\n",
        "suma = 0 # acumulador de datos ingresados\n",
        "# Condición\n",
        "for x in range(10):\n",
        "    n = int(input('Ingrese un número n '))\n",
        "    suma = suma +n\n",
        "    \n",
        "promedio = suma/10\n",
        "print('la suma de los valores ingresado es igual a ', suma, 'y el promedio obtenido es ', promedio)\n",
        "\n",
        "print('Fin del programa')"
      ],
      "metadata": {
        "colab": {
          "base_uri": "https://localhost:8080/"
        },
        "id": "FzhM351u6pOG",
        "outputId": "5bcf636c-7e91-4829-9e94-9f081298beb6"
      },
      "execution_count": null,
      "outputs": [
        {
          "output_type": "stream",
          "name": "stdout",
          "text": [
            "Inicio del programa\n",
            "Ingrese un número n 5\n",
            "Ingrese un número n 7\n",
            "Ingrese un número n 5\n",
            "Ingrese un número n 4\n",
            "Ingrese un número n 7\n",
            "Ingrese un número n 8\n",
            "Ingrese un número n 5\n",
            "Ingrese un número n 4\n",
            "Ingrese un número n 4\n",
            "Ingrese un número n 4\n",
            "la suma de los valores ingresado es igual a  53 y el promedio obtenido es  5.3\n",
            "Fin del programa\n"
          ]
        }
      ]
    },
    {
      "cell_type": "markdown",
      "source": [
        "# **f. Escribir un programa que solicite el ingreso de notas $10$  alumnos y nos informe cuantos son mayores o iguales a 7 y cuantos menores**"
      ],
      "metadata": {
        "id": "7ynQFvGx7w61"
      }
    },
    {
      "cell_type": "code",
      "source": [
        "print('Inicio del programa')\n",
        "\n",
        "# Entrada de datos\n",
        "\n",
        "aprobados = 0 # acumulador de datos ingresados \n",
        "reprobados = 0 # acumulador de datos ingresados\n",
        "\n",
        "# Condición\n",
        "for x in range(10):\n",
        "    nota = float(input('Ingrese nota del estudiante = ')) # ingresamos los datos\n",
        "    if nota>=7:\n",
        "      aprobados = aprobados+1\n",
        "    else:\n",
        "      reprobados = reprobados+1\n",
        "   \n",
        "print ('El número de estudiantes aprobados son ', aprobados)\n",
        "print ('El número de estudiantes reprobados son ', reprobados)\n",
        "\n",
        "print('Fin del programa')"
      ],
      "metadata": {
        "colab": {
          "base_uri": "https://localhost:8080/"
        },
        "id": "JGiKcUGf7z_3",
        "outputId": "c1386e52-b0b0-46fb-b38b-8cc9674761e1"
      },
      "execution_count": null,
      "outputs": [
        {
          "output_type": "stream",
          "name": "stdout",
          "text": [
            "Inicio del programa\n",
            "Ingrese nota del estudiante = 7\n",
            "Ingrese nota del estudiante = 8\n",
            "Ingrese nota del estudiante = 5\n",
            "Ingrese nota del estudiante = 4\n",
            "Ingrese nota del estudiante = 9\n",
            "Ingrese nota del estudiante = 6\n",
            "Ingrese nota del estudiante = 7\n",
            "Ingrese nota del estudiante = 8\n",
            "Ingrese nota del estudiante = 9\n",
            "Ingrese nota del estudiante = 4\n",
            "El número de estudiantes aprobados son  6\n",
            "El número de estudiantes reprobados son  4\n",
            "Fin del programa\n"
          ]
        }
      ]
    },
    {
      "cell_type": "markdown",
      "source": [
        "# **g. Escribir un programa que solicite el ingreso de notas $n$  alumnos y nos informe cuantos son mayores o iguales a 7 y cuantos menores**"
      ],
      "metadata": {
        "id": "q-PfpCu69aCT"
      }
    },
    {
      "cell_type": "code",
      "source": [
        "print('Inicio del programa')\n",
        "\n",
        "# Entrada de datos\n",
        "n = int(input('Ingrese un número n que indique el  número de alumnos '))\n",
        "\n",
        "aprobados = 0 # acumulador de datos ingresados \n",
        "reprobados = 0 # acumulador de datos ingresados\n",
        "\n",
        "# Condición\n",
        "for x in range(n):\n",
        "    nota = float(input('Ingrese nota del estudiante = ')) # ingresamos los datos\n",
        "    if nota>=7:\n",
        "      aprobados = aprobados+1\n",
        "    else:\n",
        "      reprobados = reprobados+1\n",
        "    \n",
        "\n",
        "print ('El número de estudiantes aprobados son ', aprobados)\n",
        "print ('El número de estudiantes reprobados son ', reprobados)\n",
        "\n",
        "print('Fin del programa')"
      ],
      "metadata": {
        "colab": {
          "base_uri": "https://localhost:8080/"
        },
        "id": "2tmYcm-Q89vF",
        "outputId": "7789f032-c2b4-4f86-fa4e-3042d9d03411"
      },
      "execution_count": null,
      "outputs": [
        {
          "output_type": "stream",
          "name": "stdout",
          "text": [
            "Inicio del programa\n",
            "Ingrese un número n que indique el  número de alumnos 3\n",
            "Ingrese nota del estudiante = 8\n",
            "Ingrese nota del estudiante = 7\n",
            "Ingrese nota del estudiante = 5\n",
            "El número de estudiantes aprobados son  2\n",
            "El número de estudiantes reprobados son  1\n",
            "Fin del programa\n"
          ]
        }
      ]
    },
    {
      "cell_type": "markdown",
      "source": [
        "# **h. construya un programa que clasifique los numeros multiplos de 3 y de 5 que se ingresen por teclado**"
      ],
      "metadata": {
        "id": "fxp_hZle_aCR"
      }
    },
    {
      "cell_type": "code",
      "source": [
        "print('Inicio del programa')\n",
        "\n",
        "# Entrada de datos\n",
        "n = int(input('Ingrese un número n que indique el  número de números a ingresar '))\n",
        "\n",
        "mul3 = 0 # acumulador de datos ingresados \n",
        "mul5 = 0 # acumulador de datos ingresados\n",
        "mul3_5 = 0 # acumulador de datos ingresados\n",
        "\n",
        "# Condición\n",
        "for x in range(n):\n",
        "    num = int(input('Ingrese un número = ')) # ingresamos los datos\n",
        "    if num%3==0:\n",
        "      mul3 = mul3 +1\n",
        "    if num%5==0:\n",
        "      mul5 = mul5 +1\n",
        "    if num%15==0:\n",
        "      mul3_5 = mul3_5 +1\n",
        "    \n",
        "\n",
        "print ('El número de multipos de 3 son ', mul3)\n",
        "print ('El número de multipos de 5 son ', mul5)\n",
        "print ('El número de multipos de 3 y 5 son ', mul3_5)\n",
        "\n",
        "print('Fin del programa')"
      ],
      "metadata": {
        "colab": {
          "base_uri": "https://localhost:8080/"
        },
        "id": "c2XY77Lc_o5g",
        "outputId": "dd6f21a1-d594-4487-c323-08b73ad28280"
      },
      "execution_count": null,
      "outputs": [
        {
          "output_type": "stream",
          "name": "stdout",
          "text": [
            "Inicio del programa\n",
            "Ingrese un número n que indique el  número de números a ingresar 5\n",
            "Ingrese un número = 15\n",
            "Ingrese un número = 9\n",
            "Ingrese un número = 25\n",
            "Ingrese un número = 45\n",
            "Ingrese un número = 6\n",
            "El número de multipos de 3 son  4\n",
            "El número de multipos de 5 son  3\n",
            "El número de multipos de 3 y 5 son  2\n",
            "Fin del programa\n"
          ]
        }
      ]
    },
    {
      "cell_type": "markdown",
      "source": [
        "# **i. Confeccionar un programa que lea n pares de datos, cada par de datos corresponden a la medida de la base y altura de un triangulo. El Programa deberá informar: (a) De cada triangulo la medida de su base, su altura y su área y (b) la catidad de triangulos cuya superficie es mayor que 25**"
      ],
      "metadata": {
        "id": "VqG9w5tTCrmd"
      }
    },
    {
      "cell_type": "code",
      "source": [
        "print('Inicio del programa')\n",
        "\n",
        "# Entrada de datos\n",
        "n = int(input('Ingrese un número triangulo a ingresar '))\n",
        "\n",
        "\n",
        "superficie = 0 # acumulador de datos ingresados\n",
        "\n",
        "# Condición\n",
        "for x in range(n):\n",
        "    base = int(input('Ingrese base del triangulo = ')) # ingresamos los datos\n",
        "    altura = int(input('Ingrese altura del triangulo = ')) # ingresamos los datos\n",
        "    area = base*altura/2\n",
        "    print(area)\n",
        "    if area>25:\n",
        "      superficie = superficie +1\n",
        "    \n",
        "    \n",
        "\n",
        "print ('El número de triangulo con área mayor a 25 son ', superficie)\n",
        "\n",
        "\n",
        "print('Fin del programa')"
      ],
      "metadata": {
        "colab": {
          "base_uri": "https://localhost:8080/"
        },
        "id": "ycQibp7lF7TA",
        "outputId": "59e1b325-ed9d-4123-e572-a358e870e750"
      },
      "execution_count": null,
      "outputs": [
        {
          "output_type": "stream",
          "name": "stdout",
          "text": [
            "Inicio del programa\n",
            "Ingrese un número triangulo a ingresar 3\n",
            "Ingrese base del triangulo = 12\n",
            "Ingrese altura del triangulo = 5\n",
            "30.0\n",
            "Ingrese base del triangulo = 3\n",
            "Ingrese altura del triangulo = 9\n",
            "13.5\n",
            "Ingrese base del triangulo = 15\n",
            "Ingrese altura del triangulo = 4\n",
            "30.0\n",
            "El número de triangulo con área mayor a 25 son  2\n",
            "Fin del programa\n"
          ]
        }
      ]
    },
    {
      "cell_type": "markdown",
      "source": [
        "# **j. Construya un programa que solicite 10 numeros pero que sume y promedie los primeros cinco numeros y tambien los segundos cinco numeros**"
      ],
      "metadata": {
        "id": "Jh9X_lqzMTwu"
      }
    },
    {
      "cell_type": "code",
      "source": [
        "print('Inicio del programa')\n",
        "\n",
        "# Entrada de datos\n",
        "sum_pri=0\n",
        "\n",
        "sum_ult= 0 # acumulador de datos ingresados\n",
        "\n",
        "# Condición\n",
        "for x in range(10):\n",
        "    dato = int(input('Ingrese un dato = ')) # ingresamos los datos\n",
        "    \n",
        "    \n",
        "    if x<5:\n",
        "      sum_pri = sum_pri +dato\n",
        "    if x>=5:\n",
        "      sum_ult = sum_ult +dato\n",
        "    \n",
        "\n",
        "print ('La suma de lor primeros cinco numeros es igual a ', sum_pri)\n",
        "print ('La suma de lor últimos cinco numeros es igual a ', sum_ult)\n",
        "\n",
        "print('Fin del programa')"
      ],
      "metadata": {
        "colab": {
          "base_uri": "https://localhost:8080/"
        },
        "id": "Yk8x9bCBMpkb",
        "outputId": "14d86726-866a-495b-ed86-f5d5fb8fa0d8"
      },
      "execution_count": null,
      "outputs": [
        {
          "output_type": "stream",
          "name": "stdout",
          "text": [
            "Inicio del programa\n",
            "Ingrese un dato = 7\n",
            "Ingrese un dato = 8\n",
            "Ingrese un dato = 9\n",
            "Ingrese un dato = 6\n",
            "Ingrese un dato = 3\n",
            "Ingrese un dato = 1\n",
            "Ingrese un dato = 4\n",
            "Ingrese un dato = 4\n",
            "Ingrese un dato = 7\n",
            "Ingrese un dato = 8\n",
            "La suma de lor primeros cinco numeros es igual a  33\n",
            "La suma de lor últimos cinco numeros es igual a  24\n",
            "Fin del programa\n"
          ]
        }
      ]
    },
    {
      "cell_type": "markdown",
      "source": [
        "# **k. Tabla del 5**"
      ],
      "metadata": {
        "id": "I9liWKprOjhx"
      }
    },
    {
      "cell_type": "code",
      "source": [
        "# Estructura for\n",
        "for x in range(5,51,5):\n",
        "  print(x)"
      ],
      "metadata": {
        "colab": {
          "base_uri": "https://localhost:8080/"
        },
        "id": "OlaGamHLOV1A",
        "outputId": "8b1523fe-0a54-47b9-d89d-389ea5d970e4"
      },
      "execution_count": null,
      "outputs": [
        {
          "output_type": "stream",
          "name": "stdout",
          "text": [
            "5\n",
            "10\n",
            "15\n",
            "20\n",
            "25\n",
            "30\n",
            "35\n",
            "40\n",
            "45\n",
            "50\n"
          ]
        }
      ]
    },
    {
      "cell_type": "markdown",
      "source": [
        "# **k. Tabla del $n$**"
      ],
      "metadata": {
        "id": "-TLH8NlHPBuU"
      }
    },
    {
      "cell_type": "code",
      "source": [
        "# Estructura for\n",
        "n = int(input('Ingrese un número n '))\n",
        "for x in range(n,12*n+1,n):\n",
        "  print(x)"
      ],
      "metadata": {
        "colab": {
          "base_uri": "https://localhost:8080/"
        },
        "id": "IoSv1BxtPRpd",
        "outputId": "f2b78a1c-4cd5-470f-d41c-8614d79e4473"
      },
      "execution_count": null,
      "outputs": [
        {
          "output_type": "stream",
          "name": "stdout",
          "text": [
            "Ingrese un número n 100\n",
            "100\n",
            "200\n",
            "300\n",
            "400\n",
            "500\n",
            "600\n",
            "700\n",
            "800\n",
            "900\n",
            "1000\n",
            "1100\n",
            "1200\n"
          ]
        }
      ]
    },
    {
      "cell_type": "code",
      "source": [
        "# Estructura for\n",
        "n = int(input('Ingrese un número n '))\n",
        "for x in range(1,13):\n",
        "  tabla_n = n*x\n",
        "  print(tabla_n)"
      ],
      "metadata": {
        "colab": {
          "base_uri": "https://localhost:8080/"
        },
        "id": "SP8-UtNKQT5v",
        "outputId": "93e11f26-a0ef-46cf-af32-d5f7d685d9a7"
      },
      "execution_count": null,
      "outputs": [
        {
          "output_type": "stream",
          "name": "stdout",
          "text": [
            "Ingrese un número n 3\n",
            "3\n",
            "6\n",
            "9\n",
            "12\n",
            "15\n",
            "18\n",
            "21\n",
            "24\n",
            "27\n",
            "30\n",
            "33\n",
            "36\n"
          ]
        }
      ]
    },
    {
      "cell_type": "markdown",
      "source": [
        "#**l. Clasificación de los triangulos. Construya un programa que clasifique los triangulos segun sus lados y halle su area**\n"
      ],
      "metadata": {
        "id": "WQD29fdOROXf"
      }
    },
    {
      "cell_type": "code",
      "source": [
        "print('Inicio del programa')\n",
        "\n",
        "# Entrada de datos\n",
        "n = int(input('Ingrese un número n triangulos '))\n",
        "\n",
        "Triangulo_E = 0 # acumulador de datos ingresados \n",
        "Triangulo_I = 0 # acumulador de datos ingresados\n",
        "Triangulo_Es = 0 # acumulador de datos ingresados\n",
        "\n",
        "# Condición\n",
        "for x in range(n):\n",
        "    lado_1 = int(input('Ingrese primer lado del triangulo = ')) # ingresamos los datos\n",
        "    lado_2 = int(input('Ingrese segundo lado del triangulo = ')) # ingresamos los datos\n",
        "    lado_3 = int(input('Ingrese tercer lado del triangulo = ')) # ingresamos los datos\n",
        "    s = (lado_1+lado_2+lado_3)/2\n",
        "    area = (s*(s-lado_1)*(s-lado_2)*(s-lado_2))**0.5\n",
        "    print('el área del triangulo es igual a ', area, 'unidades cuadradas')\n",
        "    if (lado_1 ==lado_2) and (lado_1 ==lado_3) and (lado_2 ==lado_3):\n",
        "      Triangulo_E = Triangulo_E +1\n",
        "    if ((lado_1 ==lado_2) and  (lado_2 !=lado_3)) or ((lado_1 ==lado_3) and  (lado_2 !=lado_1)):\n",
        "      Triangulo_I = Triangulo_I +1\n",
        "    if (lado_1 !=lado_2) and (lado_1 !=lado_3) and (lado_2 !=lado_3):\n",
        "      Triangulo_Es = Triangulo_Es +1\n",
        "    \n",
        "\n",
        "print ('Cantidad de triangulos equilateros es ', Triangulo_E)\n",
        "print ('Cantidad de triangulos isosceles es ', Triangulo_I)\n",
        "print ('Cantidad de triangulos escalenos es ', Triangulo_Es)\n",
        "       \n",
        "print('Fin del programa')"
      ],
      "metadata": {
        "colab": {
          "base_uri": "https://localhost:8080/"
        },
        "id": "HvIhSuipPRxa",
        "outputId": "ec388f24-9942-4382-9a0f-31e9379c5aa1"
      },
      "execution_count": null,
      "outputs": [
        {
          "output_type": "stream",
          "name": "stdout",
          "text": [
            "Inicio del programa\n",
            "Ingrese un número n triangulos 3\n",
            "Ingrese primer lado del triangulo = 8\n",
            "Ingrese segundo lado del triangulo = 8\n",
            "Ingrese tercer lado del triangulo = 8\n",
            "el área del triangulo es igual a  27.712812921102035 unidades cuadradas\n",
            "Ingrese primer lado del triangulo = 7\n",
            "Ingrese segundo lado del triangulo = 7\n",
            "Ingrese tercer lado del triangulo = 5\n",
            "el área del triangulo es igual a  12.183492931011205 unidades cuadradas\n",
            "Ingrese primer lado del triangulo = 4\n",
            "Ingrese segundo lado del triangulo = 5\n",
            "Ingrese tercer lado del triangulo = 7\n",
            "el área del triangulo es igual a  16.97056274847714 unidades cuadradas\n",
            "Cantidad de triangulos equilateros es  1\n",
            "Cantidad de triangulos isosceles es  1\n",
            "Cantidad de triangulos escalenos es  1\n",
            "Fin del programa\n"
          ]
        }
      ]
    },
    {
      "cell_type": "markdown",
      "source": [
        "# **m. Un programa que indique enque cuadrante se encuentra un punto en el plano que se ingresa**"
      ],
      "metadata": {
        "id": "_2KakznBY2WW"
      }
    },
    {
      "cell_type": "code",
      "source": [
        "print('Inicio del programa')\n",
        "# Entrada de datos\n",
        "n = int(input('Ingrese un número n de puntos del plano '))\n",
        "# Condición\n",
        "for r in range(n):\n",
        "    x=int(input(\"Ingrese el valor de x: \"))\n",
        "    y=int(input(\"Ingrese el valor de y: \"))\n",
        "\n",
        "    if x>0 and y>0: # condicion verdadera\n",
        "        print(\"el punto \", '(', x,',' ,y,')', 'se encuentra en el primer cuadrante') # salida\n",
        "    else: # condición Falsa\n",
        "        if x<0 and y>0: # condicion verdadera\n",
        "             print(\"el punto \", '(', x,',' ,y,')', 'se encuentra en el segundo cuadrante') # salida\n",
        "        else: #condición Falsa salida\n",
        "            if x<0 and y<0: # condicion verdadera\n",
        "                print(\"el punto \",'(', x,',', y,')', 'se encuentra en el tercer cuadrante') # salida\n",
        "            else: #condición Falsa salida\n",
        "                if x>0 and y<0: # condicion verdadera\n",
        "                    print(\"el punto \",'(', x,',', y,')', 'se encuentra en el cuarto cuadrante') # salida\n",
        "                else: #condición Falsa salida\n",
        "                      print(\"el punto \", '(', x,',', y,')', 'se encuentra sobre un eje') # salida\n",
        "print('Fin del programa')"
      ],
      "metadata": {
        "colab": {
          "base_uri": "https://localhost:8080/"
        },
        "id": "Ht37KJQ-XOtZ",
        "outputId": "84c4f7e1-cabc-45b4-ca13-bf9db7480049"
      },
      "execution_count": null,
      "outputs": [
        {
          "output_type": "stream",
          "name": "stdout",
          "text": [
            "Inicio del programa\n",
            "Ingrese un número n triangulos 3\n",
            "Ingrese el valor de x: -1\n",
            "Ingrese el valor de y: 4\n",
            "el punto  ( -1 , 4 ) se encuentra en el segundo cuadrante\n",
            "Ingrese el valor de x: 8\n",
            "Ingrese el valor de y: 9\n",
            "el punto  ( 8 , 9 ) se encuentra en el primer cuadrante\n",
            "Ingrese el valor de x: 7\n",
            "Ingrese el valor de y: -7\n",
            "el punto  ( 7 , -7 ) se encuentra en el cuarto cuadrante\n",
            "Fin del programa\n"
          ]
        }
      ]
    },
    {
      "cell_type": "markdown",
      "source": [
        "# **n. Un programa que indique enque cuadrante se encuentra un punto en el plano que se ingresa y ademas indique cuantos hay en cada cuadrante**"
      ],
      "metadata": {
        "id": "IuJr-Kb7ZDo8"
      }
    },
    {
      "cell_type": "code",
      "source": [
        "print('Inicio del programa')\n",
        "# Entrada de datos\n",
        "n = int(input('Ingrese un número n de puntos del plano '))\n",
        "cuad_I = 0 # acumulador\n",
        "cuad_II = 0 # acumulador\n",
        "cuad_III = 0 # acumulador\n",
        "cuad_IV = 0 # acumulador\n",
        "Ejes = 0\n",
        "\n",
        "\n",
        "# Condición\n",
        "for r in range(n):\n",
        "    x=int(input(\"Ingrese el valor de x: \"))\n",
        "    y=int(input(\"Ingrese el valor de y: \"))\n",
        "\n",
        "    if x>0 and y>0: # condicion verdadera\n",
        "        print(\"el punto \", '(', x,',' ,y,')', 'se encuentra en el primer cuadrante') # salida\n",
        "        cuad_I = cuad_I + 1\n",
        "    else: # condición Falsa\n",
        "        if x<0 and y>0: # condicion verdadera\n",
        "             print(\"el punto \", '(', x,',' ,y,')', 'se encuentra en el segundo cuadrante') # salida\n",
        "             cuad_II = cuad_II + 1\n",
        "        else: #condición Falsa salida\n",
        "            if x<0 and y<0: # condicion verdadera\n",
        "                print(\"el punto \",'(', x,',', y,')', 'se encuentra en el tercer cuadrante') # salida\n",
        "                cuad_III = cuad_III + 1\n",
        "            else: #condición Falsa salida\n",
        "                if x>0 and y<0: # condicion verdadera\n",
        "                    print(\"el punto \",'(', x,',', y,')', 'se encuentra en el cuarto cuadrante') # salida\n",
        "                    cuad_IV = cuad_IV + 1\n",
        "                else: #condición Falsa salida\n",
        "                      print(\"el punto \", '(', x,',', y,')', 'se encuentra sobre un eje') # salida\n",
        "                      Ejes = Ejes + 1\n",
        "\n",
        "print('# de puntos en el cuadrante I =',cuad_I )\n",
        "print('# de puntos en el cuadrante II = ',cuad_II )\n",
        "print('# de puntos en el cuadrante III = ',cuad_III )\n",
        "print('# de puntos en el cuadrante IV = ',cuad_IV )\n",
        "print('# de puntos sobre los ejes = ',Ejes )\n",
        "\n",
        "print('Fin del programa')"
      ],
      "metadata": {
        "colab": {
          "base_uri": "https://localhost:8080/"
        },
        "id": "18OV5zXVZNbk",
        "outputId": "cf75e4cf-81a5-47c5-efee-2dda192c34ca"
      },
      "execution_count": null,
      "outputs": [
        {
          "output_type": "stream",
          "name": "stdout",
          "text": [
            "Inicio del programa\n",
            "Ingrese un número n de puntos del plano 6\n",
            "Ingrese el valor de x: -5\n",
            "Ingrese el valor de y: 6\n",
            "el punto  ( -5 , 6 ) se encuentra en el segundo cuadrante\n",
            "Ingrese el valor de x: 5\n",
            "Ingrese el valor de y: -4\n",
            "el punto  ( 5 , -4 ) se encuentra en el cuarto cuadrante\n",
            "Ingrese el valor de x: -1\n",
            "Ingrese el valor de y: -2\n",
            "el punto  ( -1 , -2 ) se encuentra en el tercer cuadrante\n",
            "Ingrese el valor de x: 0\n",
            "Ingrese el valor de y: 6\n",
            "el punto  ( 0 , 6 ) se encuentra sobre un eje\n",
            "Ingrese el valor de x: 9\n",
            "Ingrese el valor de y: 8\n",
            "el punto  ( 9 , 8 ) se encuentra en el primer cuadrante\n",
            "Ingrese el valor de x: 6\n",
            "Ingrese el valor de y: 0\n",
            "el punto  ( 6 , 0 ) se encuentra sobre un eje\n",
            "# de puntos en el cuadrante I = 1\n",
            "# de puntos en el cuadrante II =  1\n",
            "# de puntos en el cuadrante III =  1\n",
            "# de puntos en el cuadrante IV =  1\n",
            "# de puntos esobre los ejes =  2\n",
            "Fin del programa\n"
          ]
        }
      ]
    },
    {
      "cell_type": "markdown",
      "source": [
        "# **o. Un programa que cargue $n$ numeros, clasifique negativos y positivos y multiplos de 15, promedio de positivos, negativos, pares e impares**"
      ],
      "metadata": {
        "id": "NFk9iuKLgGrw"
      }
    },
    {
      "cell_type": "code",
      "source": [
        "print('Inicio del programa')\n",
        "# Entrada de datos\n",
        "n = int(input('Ingrese un número n que represente la cantidad de numeros a cargar '))\n",
        "neg = 0 # acumulador\n",
        "pos = 0 # acumulador\n",
        "pares = 0 # acumulador\n",
        "impares = 0 # acumulador\n",
        "mul15 = 0\n",
        "sum_neg = 0 # acumulador\n",
        "sum_pos = 0 # acumulador\n",
        "sum_pares = 0 # acumulador\n",
        "sum_impares = 0 # acumulador\n",
        "sum_mul15 = 0\n",
        "\n",
        "\n",
        "# Condición\n",
        "for r in range(n):\n",
        "    num=int(input(\"Ingrese un numero: \"))\n",
        "   \n",
        "    if num>0: # condicion verdadera\n",
        "       pos = pos + 1\n",
        "       sum_pos = sum_pos + num\n",
        "\n",
        "    if num<0: # condicion verdadera\n",
        "       neg = neg + 1\n",
        "       sum_neg = sum_neg + num\n",
        "\n",
        "    \n",
        "    if num%15==0: # condicion verdadera\n",
        "       mul15 = mul15 + 1\n",
        "       sum_mul15 = sum_mul15 + num\n",
        "    \n",
        "    if num%2==0: # condicion verdadera\n",
        "        pares = pares + 1\n",
        "        sum_pares = sum_pares + num   \n",
        "             \n",
        "    else: \n",
        "         impares = impares + 1\n",
        "         sum_impares = sum_impares + num\n",
        "\n",
        "print('# de puntos positivos =', pos,',' ,' la suma es',sum_pos, ',', 'el promedio de positivos', sum_pos/pos )\n",
        "print('# de puntos negativos =', neg,',' ,' la suma es',sum_neg, ',', 'el promedio de negativos', sum_neg/neg )\n",
        "print('# de puntos mul15 =', mul15,',' ,' la suma es',sum_mul15, ',', 'el promedio de mul15', sum_mul15/mul15 )\n",
        "print('# de puntos Pares =', pares,',' ,' la suma es',sum_pares, ',', 'el promedio de Pares', sum_pares/pares )\n",
        "print('# de puntos Impares =', impares,',' ,' la suma es',sum_impares, ',', 'el promedio de Impares', sum_impares/impares )\n",
        "\n",
        "print('Fin del programa')"
      ],
      "metadata": {
        "colab": {
          "base_uri": "https://localhost:8080/"
        },
        "id": "T-hkFXpOgi9O",
        "outputId": "a8c16bbd-7104-438c-cf2c-71c841b4fc5f"
      },
      "execution_count": null,
      "outputs": [
        {
          "output_type": "stream",
          "name": "stdout",
          "text": [
            "Inicio del programa\n",
            "Ingrese un número n que represente la cantidad de numeros a cargar 10\n",
            "Ingrese un numero: 4\n",
            "Ingrese un numero: 5\n",
            "Ingrese un numero: -3\n",
            "Ingrese un numero: 2\n",
            "Ingrese un numero: 20\n",
            "Ingrese un numero: 30\n",
            "Ingrese un numero: -40\n",
            "Ingrese un numero: -50\n",
            "Ingrese un numero: -21\n",
            "Ingrese un numero: 31\n",
            "# de puntos positivos = 6 ,  la suma es 92 , el promedio de positivos 15.333333333333334\n",
            "# de puntos negativos = 4 ,  la suma es -114 , el promedio de negativos -28.5\n",
            "# de puntos mul15 = 1 ,  la suma es 30 , el promedio de mul15 30.0\n",
            "# de puntos Pares = 6 ,  la suma es -34 , el promedio de Pares -5.666666666666667\n",
            "# de puntos Impares = 4 ,  la suma es 12 , el promedio de Impares 3.0\n",
            "Fin del programa\n"
          ]
        }
      ]
    }
  ],
  "metadata": {
    "colab": {
      "provenance": [],
      "authorship_tag": "ABX9TyNVl4zkINEBTOYUQxS0Cypf",
      "include_colab_link": true
    },
    "kernelspec": {
      "display_name": "Python 3",
      "name": "python3"
    },
    "language_info": {
      "name": "python"
    }
  },
  "nbformat": 4,
  "nbformat_minor": 0
}