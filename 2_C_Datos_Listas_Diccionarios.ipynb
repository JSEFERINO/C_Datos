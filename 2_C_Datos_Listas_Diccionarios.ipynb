{
  "cells": [
    {
      "cell_type": "markdown",
      "metadata": {
        "id": "view-in-github",
        "colab_type": "text"
      },
      "source": [
        "<a href=\"https://colab.research.google.com/github/JSEFERINO/C_Datos/blob/main/2_C_Datos_Listas_Diccionarios.ipynb\" target=\"_parent\"><img src=\"https://colab.research.google.com/assets/colab-badge.svg\" alt=\"Open In Colab\"/></a>"
      ]
    },
    {
      "cell_type": "markdown",
      "source": [
        "# **Curso Introductorio a la Ciencia de Datos por Julio Hurtado Márquez**\n",
        "## **Parte I**"
      ],
      "metadata": {
        "id": "IKh2T45AnwtN"
      }
    },
    {
      "cell_type": "code",
      "execution_count": null,
      "metadata": {
        "id": "NUJLmwAkEDNa"
      },
      "outputs": [],
      "source": [
        "import pandas as pd\n",
        "import numpy as np"
      ]
    },
    {
      "cell_type": "markdown",
      "source": [
        "# **Clase No. 2: Introducción Informal**"
      ],
      "metadata": {
        "id": "xPcsXm1UnvF2"
      }
    },
    {
      "cell_type": "markdown",
      "metadata": {
        "id": "zqofJYIngQCB"
      },
      "source": [
        "# **11. Variables**"
      ]
    },
    {
      "cell_type": "markdown",
      "metadata": {
        "id": "LS_YSU-ChZwP"
      },
      "source": [
        "# **a. Creando variables - simbolo =**"
      ]
    },
    {
      "cell_type": "code",
      "execution_count": null,
      "metadata": {
        "colab": {
          "base_uri": "https://localhost:8080/",
          "height": 35
        },
        "id": "dJUi0EX1ew1c",
        "outputId": "b6f58b29-9b89-432d-b27c-c51513a55978"
      },
      "outputs": [
        {
          "output_type": "execute_result",
          "data": {
            "text/plain": [
              "'Dayana esta de pasantía en Corea del Sur'"
            ],
            "application/vnd.google.colaboratory.intrinsic+json": {
              "type": "string"
            }
          },
          "metadata": {},
          "execution_count": 1
        }
      ],
      "source": [
        "message_1 = \"Dayana esta de pasantía en Corea del Sur\"\n",
        "message_1 "
      ]
    },
    {
      "cell_type": "code",
      "execution_count": null,
      "metadata": {
        "id": "xbUqmOhhew5a",
        "colab": {
          "base_uri": "https://localhost:8080/",
          "height": 35
        },
        "outputId": "c2f76d96-4085-45f2-b988-ed6cc34ae1b7"
      },
      "outputs": [
        {
          "output_type": "execute_result",
          "data": {
            "text/plain": [
              "'y Aris esta realizando sus estudios doctorales'"
            ],
            "application/vnd.google.colaboratory.intrinsic+json": {
              "type": "string"
            }
          },
          "metadata": {},
          "execution_count": 3
        }
      ],
      "source": [
        "message_2 = \"y Aris esta realizando sus estudios doctorales\"\n",
        "message_2"
      ]
    },
    {
      "cell_type": "code",
      "execution_count": null,
      "metadata": {
        "id": "JshJif9mjmc7",
        "colab": {
          "base_uri": "https://localhost:8080/",
          "height": 35
        },
        "outputId": "22ffc6a1-d289-4033-85f6-c05802a5c36e"
      },
      "outputs": [
        {
          "output_type": "execute_result",
          "data": {
            "text/plain": [
              "'Mi esposa y yo estamos muy felices'"
            ],
            "application/vnd.google.colaboratory.intrinsic+json": {
              "type": "string"
            }
          },
          "metadata": {},
          "execution_count": 4
        }
      ],
      "source": [
        "message_3 = \"Mi esposa y yo estamos muy felices\"\n",
        "message_3"
      ]
    },
    {
      "cell_type": "markdown",
      "metadata": {
        "id": "TDhRDTf2hkpw"
      },
      "source": [
        "# **b. Concatenando variables: simbolo +**"
      ]
    },
    {
      "cell_type": "code",
      "execution_count": null,
      "metadata": {
        "id": "fDZL5025ew94",
        "colab": {
          "base_uri": "https://localhost:8080/",
          "height": 35
        },
        "outputId": "e442aa91-9a51-4d4d-bc22-3a17e5b84e20"
      },
      "outputs": [
        {
          "output_type": "execute_result",
          "data": {
            "text/plain": [
              "'Dayana esta de pasantía en Corea del Sury Aris esta realizando sus estudios doctoralesMi esposa y yo estamos muy felices'"
            ],
            "application/vnd.google.colaboratory.intrinsic+json": {
              "type": "string"
            }
          },
          "metadata": {},
          "execution_count": 6
        }
      ],
      "source": [
        "message_1+message_2+message_3 # Los mensajes no se encuentran separados"
      ]
    },
    {
      "cell_type": "markdown",
      "metadata": {
        "id": "l4Db1jrKh9xK"
      },
      "source": [
        "#**c. Creando el espacio**"
      ]
    },
    {
      "cell_type": "code",
      "execution_count": null,
      "metadata": {
        "id": "DIGYOt2QexBu",
        "colab": {
          "base_uri": "https://localhost:8080/",
          "height": 35
        },
        "outputId": "e95f40b3-9652-41b2-85de-9369f9da13ba"
      },
      "outputs": [
        {
          "output_type": "execute_result",
          "data": {
            "text/plain": [
              "'Dayana esta de pasantía en Corea del Sur y Aris esta realizando sus estudios doctorales Mi esposa y yo estamos muy felices'"
            ],
            "application/vnd.google.colaboratory.intrinsic+json": {
              "type": "string"
            }
          },
          "metadata": {},
          "execution_count": 9
        }
      ],
      "source": [
        "message_1+\" \" +message_2 +\" \"+message_3 # Los mensajes fueron separados"
      ]
    },
    {
      "cell_type": "markdown",
      "metadata": {
        "id": "LxAsNtZKi1ef"
      },
      "source": [
        "# **d. Concatenando texto con la cadena f\"{}\"**"
      ]
    },
    {
      "cell_type": "code",
      "execution_count": null,
      "metadata": {
        "id": "jWpOrloxexFX",
        "colab": {
          "base_uri": "https://localhost:8080/",
          "height": 35
        },
        "outputId": "387dd351-7440-4608-c5ea-f33cdf3ab543"
      },
      "outputs": [
        {
          "output_type": "execute_result",
          "data": {
            "text/plain": [
              "'Dayana esta de pasantía en Corea del Sur y Aris esta realizando sus estudios doctorales'"
            ],
            "application/vnd.google.colaboratory.intrinsic+json": {
              "type": "string"
            }
          },
          "metadata": {},
          "execution_count": 10
        }
      ],
      "source": [
        "f\"{message_1} {message_2}\" # se deja un espacio entre las comillas"
      ]
    },
    {
      "cell_type": "code",
      "execution_count": null,
      "metadata": {
        "id": "LVTaTgCaexIa",
        "colab": {
          "base_uri": "https://localhost:8080/",
          "height": 35
        },
        "outputId": "d3501d87-5281-4e01-fd69-0e51be3ad2ca"
      },
      "outputs": [
        {
          "output_type": "execute_result",
          "data": {
            "text/plain": [
              "'Dayana esta de pasantía en Corea del Sur y Aris esta realizando sus estudios doctorales. Mi esposa y yo estamos muy felices'"
            ],
            "application/vnd.google.colaboratory.intrinsic+json": {
              "type": "string"
            }
          },
          "metadata": {},
          "execution_count": 11
        }
      ],
      "source": [
        "f\"{message_1} {message_2}. {message_3}\" #Colocamos un punto al final del mensaje 2"
      ]
    },
    {
      "cell_type": "markdown",
      "metadata": {
        "id": "aB1JikFpkLMW"
      },
      "source": [
        "#**12. Listas**\n",
        "- Las listas nos permiten almacenar cualquier tipo de valor como numeros enteros, numeros con decimal, valores booleanos y cadenas de texto\n",
        "- Los corchetes unicamente funcionan para crear listas\n",
        "- Su estructura es la siguiente\n",
        "- Lista = [4, 5, 7, \"Hola\", \"Julio\", 3.85]\n",
        "\n",
        "- **Un vistazo a los diferentes métodos**.\n",
        "Puedes utilizar los siguientes métodos en tu lista de Python. Probablemente ya conozcas algunos de ellos si leíste el tutorial para aprender Python.\n",
        "\n",
        "|Método\t|Descripción|\n",
        "|:--:|:--:|\n",
        "|Append|\tAñade un elemento al final de la lista.|\n",
        "|Clear|\tElimina todos los elementos de la lista de Python.|\n",
        "|Copy\t|Realiza una copia de tu lista.|\n",
        "|Count\t|Cuenta todos los elementos con un determinado valor en la lista de Python.|\n",
        "|Extend\t|Añade todos los elementos de otra lista a la lista actual.|\n",
        "|Index\t|Busca un elemento específico dentro de la lista de Python y retorna su número de índice.|\n",
        "|Insert|\tInserta un elemento en una posición determinada.|\n",
        "|Pop\t|Elimina un elemento de una posición concreta y lo utiliza como valor de retorno.|\n",
        "|Remove\t|Elimina el primer elemento que tiene un valor específico.|\n",
        "|Reverse|\tInvierte el orden de la lista de Python.|\n",
        "|Sort|\tOrdena la lista.|"
      ]
    },
    {
      "cell_type": "markdown",
      "metadata": {
        "id": "7TXlLGvUlZJW"
      },
      "source": [
        "#**a. Creando listas**\n",
        "## **Una lista con las ciudades capitales de Colombia**"
      ]
    },
    {
      "cell_type": "code",
      "execution_count": null,
      "metadata": {
        "colab": {
          "base_uri": "https://localhost:8080/"
        },
        "id": "lZSOFpZxexMr",
        "outputId": "8d7c1e3e-6836-4a64-86f1-ead82b8fda13"
      },
      "outputs": [
        {
          "output_type": "execute_result",
          "data": {
            "text/plain": [
              "['Cartagena',\n",
              " 'Barranquilla',\n",
              " 'Santa Marta',\n",
              " 'Montería',\n",
              " 'Sincelejo',\n",
              " 'Valledupar',\n",
              " 'Riohacha']"
            ]
          },
          "metadata": {},
          "execution_count": 12
        }
      ],
      "source": [
        "ciudad = [\"Cartagena\", \"Barranquilla\", \"Santa Marta\", \"Montería\", \"Sincelejo\", \"Valledupar\", \"Riohacha\"]\n",
        "ciudad"
      ]
    },
    {
      "cell_type": "code",
      "execution_count": null,
      "metadata": {
        "colab": {
          "base_uri": "https://localhost:8080/"
        },
        "id": "dnY1FbFVexQn",
        "outputId": "7fd9946e-494f-4f4c-94a0-4a7270070d0c"
      },
      "outputs": [
        {
          "output_type": "execute_result",
          "data": {
            "text/plain": [
              "['Bolívar', 'Atlántico', 'Magdalena', 'Córdoba', 'Sucre', 'Cesar', 'Guajira']"
            ]
          },
          "metadata": {},
          "execution_count": 13
        }
      ],
      "source": [
        "dpto = [\"Bolívar\", \"Atlántico\", \"Magdalena\", \"Córdoba\", \"Sucre\", \"Cesar\", \"Guajira\"]\n",
        "dpto"
      ]
    },
    {
      "cell_type": "markdown",
      "source": [
        "# **b. Como vamos a trabajar con las listas, creemos una copia de ellas**"
      ],
      "metadata": {
        "id": "rXq1zoFXqiyl"
      }
    },
    {
      "cell_type": "code",
      "execution_count": null,
      "metadata": {
        "id": "tQPtqi8pPmyw",
        "colab": {
          "base_uri": "https://localhost:8080/"
        },
        "outputId": "edd5f8b0-966f-4900-eee3-81abb5302468"
      },
      "outputs": [
        {
          "output_type": "execute_result",
          "data": {
            "text/plain": [
              "['Cartagena',\n",
              " 'Barranquilla',\n",
              " 'Santa Marta',\n",
              " 'Montería',\n",
              " 'Sincelejo',\n",
              " 'Valledupar',\n",
              " 'Riohacha']"
            ]
          },
          "metadata": {},
          "execution_count": 14
        }
      ],
      "source": [
        "ciudad_2 = ciudad.copy()\n",
        "ciudad_2"
      ]
    },
    {
      "cell_type": "code",
      "execution_count": null,
      "metadata": {
        "id": "iXh4aTs_Pm3i",
        "colab": {
          "base_uri": "https://localhost:8080/"
        },
        "outputId": "6971e98f-816c-479f-d95b-b38e465fca1f"
      },
      "outputs": [
        {
          "output_type": "execute_result",
          "data": {
            "text/plain": [
              "['Bolívar', 'Atlántico', 'Magdalena', 'Córdoba', 'Sucre', 'Cesar', 'Guajira']"
            ]
          },
          "metadata": {},
          "execution_count": 15
        }
      ],
      "source": [
        "dpto_2 = dpto.copy()\n",
        "dpto_2"
      ]
    },
    {
      "cell_type": "markdown",
      "metadata": {
        "id": "0pSFePsbldlI"
      },
      "source": [
        "#**b. Indexación: En python se comienza con el número 0**\n",
        "\n",
        "## **Vamos a localizar elementos particulares en las listas**\n",
        "\n",
        "### **Quienes ocupan las primeras posiciones en cada lista**"
      ]
    },
    {
      "cell_type": "code",
      "execution_count": null,
      "metadata": {
        "colab": {
          "base_uri": "https://localhost:8080/"
        },
        "id": "gHrcMv6Nk3Sw",
        "outputId": "0db3c6ce-8e09-43c5-dad7-acb09bf84815"
      },
      "outputs": [
        {
          "output_type": "execute_result",
          "data": {
            "text/plain": [
              "('Cartagena', 'Bolívar')"
            ]
          },
          "metadata": {},
          "execution_count": 16
        }
      ],
      "source": [
        "# Posición inicial\n",
        "ciudad[0], dpto[0]"
      ]
    },
    {
      "cell_type": "code",
      "execution_count": null,
      "metadata": {
        "colab": {
          "base_uri": "https://localhost:8080/"
        },
        "id": "oNQEg41kk3W_",
        "outputId": "d497eb54-1e40-4f25-99e0-3efacf053af7"
      },
      "outputs": [
        {
          "output_type": "execute_result",
          "data": {
            "text/plain": [
              "('Barranquilla', 'Atlántico')"
            ]
          },
          "metadata": {},
          "execution_count": 18
        }
      ],
      "source": [
        "# Posición 2\n",
        "ciudad[1], dpto[1]"
      ]
    },
    {
      "cell_type": "code",
      "execution_count": null,
      "metadata": {
        "colab": {
          "base_uri": "https://localhost:8080/"
        },
        "id": "O8ELZmnTk3a3",
        "outputId": "66246861-7858-41e5-efc3-56146045aec3"
      },
      "outputs": [
        {
          "output_type": "execute_result",
          "data": {
            "text/plain": [
              "('Riohacha', 'Guajira')"
            ]
          },
          "metadata": {},
          "execution_count": 20
        }
      ],
      "source": [
        "# Posición 7\n",
        "ciudad[6], dpto[6]"
      ]
    },
    {
      "cell_type": "markdown",
      "source": [
        "## **En orden contrario usamos el negativo**"
      ],
      "metadata": {
        "id": "bXmYG_k1rkNR"
      }
    },
    {
      "cell_type": "code",
      "execution_count": null,
      "metadata": {
        "colab": {
          "base_uri": "https://localhost:8080/"
        },
        "id": "yXWioDVLk3fk",
        "outputId": "ec6c696d-55ae-454e-a7ed-d46f2bcea0fc"
      },
      "outputs": [
        {
          "output_type": "execute_result",
          "data": {
            "text/plain": [
              "('Riohacha', 'Guajira')"
            ]
          },
          "metadata": {},
          "execution_count": 21
        }
      ],
      "source": [
        "# Posición Final\n",
        "ciudad[-1], dpto[-1]"
      ]
    },
    {
      "cell_type": "code",
      "execution_count": null,
      "metadata": {
        "colab": {
          "base_uri": "https://localhost:8080/"
        },
        "id": "8kcRJOp4l_zr",
        "outputId": "244299ad-cdff-4219-9cba-d004ac1473c4"
      },
      "outputs": [
        {
          "output_type": "execute_result",
          "data": {
            "text/plain": [
              "('Santa Marta', 'Magdalena')"
            ]
          },
          "metadata": {},
          "execution_count": 22
        }
      ],
      "source": [
        "ciudad[-5], dpto[-5]"
      ]
    },
    {
      "cell_type": "markdown",
      "metadata": {
        "id": "0WdjR5fxmH1Y"
      },
      "source": [
        "#**c. Rebanada / Slicing**\n",
        "\n",
        "## **Las tres primeras posiciones en las listas**"
      ]
    },
    {
      "cell_type": "code",
      "execution_count": null,
      "metadata": {
        "id": "G4Tchesbl_46",
        "colab": {
          "base_uri": "https://localhost:8080/"
        },
        "outputId": "8b5da1dc-2d81-46f7-a642-058f238fa73d"
      },
      "outputs": [
        {
          "output_type": "execute_result",
          "data": {
            "text/plain": [
              "(['Cartagena', 'Barranquilla', 'Santa Marta'],\n",
              " ['Bolívar', 'Atlántico', 'Magdalena'])"
            ]
          },
          "metadata": {},
          "execution_count": 23
        }
      ],
      "source": [
        "ciudad[0:3],dpto[0:3]# recuerden que la posición 3 es obviado, la lista termina en uno menos"
      ]
    },
    {
      "cell_type": "code",
      "execution_count": null,
      "metadata": {
        "id": "NOfUFj7rl__J",
        "colab": {
          "base_uri": "https://localhost:8080/"
        },
        "outputId": "12ea4095-8984-4775-a9d7-a132c91c2ae5"
      },
      "outputs": [
        {
          "output_type": "execute_result",
          "data": {
            "text/plain": [
              "['Sucre', 'Cesar']"
            ]
          },
          "metadata": {},
          "execution_count": 24
        }
      ],
      "source": [
        "dpto[-3:-1]# la posición -1 se omite"
      ]
    },
    {
      "cell_type": "code",
      "execution_count": null,
      "metadata": {
        "id": "t66nHtOxmADq",
        "colab": {
          "base_uri": "https://localhost:8080/"
        },
        "outputId": "aea09fe2-881d-4dda-928c-52eda0bb4891"
      },
      "outputs": [
        {
          "output_type": "execute_result",
          "data": {
            "text/plain": [
              "(['Cartagena',\n",
              "  'Barranquilla',\n",
              "  'Santa Marta',\n",
              "  'Montería',\n",
              "  'Sincelejo',\n",
              "  'Valledupar',\n",
              "  'Riohacha'],\n",
              " ['Montería', 'Sincelejo', 'Valledupar', 'Riohacha'])"
            ]
          },
          "metadata": {},
          "execution_count": 28
        }
      ],
      "source": [
        "ciudad, ciudad[3:] # Posición tres en adelante"
      ]
    },
    {
      "cell_type": "markdown",
      "source": [
        "## **Posición acumulada**"
      ],
      "metadata": {
        "id": "miEW7BXxsLhE"
      }
    },
    {
      "cell_type": "code",
      "execution_count": null,
      "metadata": {
        "id": "LZZ6ZejMmAIT",
        "colab": {
          "base_uri": "https://localhost:8080/"
        },
        "outputId": "f38d589a-03ce-4708-92dd-c27713e3afee"
      },
      "outputs": [
        {
          "output_type": "execute_result",
          "data": {
            "text/plain": [
              "['Cartagena', 'Barranquilla', 'Santa Marta']"
            ]
          },
          "metadata": {},
          "execution_count": 27
        }
      ],
      "source": [
        "ciudad[:3] #Hasta la posición 2 porque la cuenta empieza desde cero"
      ]
    },
    {
      "cell_type": "code",
      "execution_count": null,
      "metadata": {
        "id": "gxoUeVk8mAMw",
        "colab": {
          "base_uri": "https://localhost:8080/"
        },
        "outputId": "ba85d71a-74ec-4774-a391-88221c4354c7"
      },
      "outputs": [
        {
          "output_type": "execute_result",
          "data": {
            "text/plain": [
              "(['Bolívar', 'Atlántico', 'Magdalena', 'Córdoba', 'Sucre', 'Cesar', 'Guajira'],\n",
              " ['Bolívar', 'Atlántico', 'Magdalena'])"
            ]
          },
          "metadata": {},
          "execution_count": 29
        }
      ],
      "source": [
        "dpto, dpto[:3]"
      ]
    },
    {
      "cell_type": "markdown",
      "metadata": {
        "id": "r6ieNCAVoHoL"
      },
      "source": [
        "# **d. Operaciones y métodos: append**\n",
        "* *Append\tAñade un elemento al final de la lista.*\n",
        "\n",
        "---\n",
        "\n"
      ]
    },
    {
      "cell_type": "code",
      "execution_count": null,
      "metadata": {
        "id": "lZMEENC-n040",
        "colab": {
          "base_uri": "https://localhost:8080/"
        },
        "outputId": "1298c075-646c-4911-8b2b-7c765366b0bb"
      },
      "outputs": [
        {
          "output_type": "execute_result",
          "data": {
            "text/plain": [
              "['Cartagena',\n",
              " 'Barranquilla',\n",
              " 'Santa Marta',\n",
              " 'Montería',\n",
              " 'Sincelejo',\n",
              " 'Valledupar',\n",
              " 'Riohacha']"
            ]
          },
          "metadata": {},
          "execution_count": 30
        }
      ],
      "source": [
        "ciudad = [\"Cartagena\", \"Barranquilla\", \"Santa Marta\", \"Montería\", \"Sincelejo\", \"Valledupar\", \"Riohacha\"]\n",
        "ciudad"
      ]
    },
    {
      "cell_type": "markdown",
      "source": [
        "## **Añadir la ciudad de Bogotá**"
      ],
      "metadata": {
        "id": "xjyV17cvs1Qo"
      }
    },
    {
      "cell_type": "code",
      "execution_count": null,
      "metadata": {
        "id": "tVi9r-hRn0-W",
        "colab": {
          "base_uri": "https://localhost:8080/"
        },
        "outputId": "9b052dbe-fd22-4d8a-8914-056c915028c9"
      },
      "outputs": [
        {
          "output_type": "execute_result",
          "data": {
            "text/plain": [
              "['Cartagena',\n",
              " 'Barranquilla',\n",
              " 'Santa Marta',\n",
              " 'Montería',\n",
              " 'Sincelejo',\n",
              " 'Valledupar',\n",
              " 'Riohacha',\n",
              " 'Bogotá',\n",
              " 'Bogotá']"
            ]
          },
          "metadata": {},
          "execution_count": 32
        }
      ],
      "source": [
        "ciudad.append(\"Bogotá\")\n",
        "ciudad"
      ]
    },
    {
      "cell_type": "code",
      "source": [
        "ciudad[7]"
      ],
      "metadata": {
        "colab": {
          "base_uri": "https://localhost:8080/",
          "height": 35
        },
        "id": "hNqF-JeltNqY",
        "outputId": "812f33ce-d058-44e1-bcb1-9d2a20c0aefe"
      },
      "execution_count": null,
      "outputs": [
        {
          "output_type": "execute_result",
          "data": {
            "text/plain": [
              "'Bogotá'"
            ],
            "application/vnd.google.colaboratory.intrinsic+json": {
              "type": "string"
            }
          },
          "metadata": {},
          "execution_count": 36
        }
      ]
    },
    {
      "cell_type": "markdown",
      "source": [
        "## **Añadir el Dpto. de Cundinamarca**"
      ],
      "metadata": {
        "id": "KlxF-2sWtEgZ"
      }
    },
    {
      "cell_type": "code",
      "execution_count": null,
      "metadata": {
        "id": "grdPY3mNp-ew",
        "colab": {
          "base_uri": "https://localhost:8080/"
        },
        "outputId": "ed57327d-4e68-4ed7-9458-7ae57cb0161e"
      },
      "outputs": [
        {
          "output_type": "execute_result",
          "data": {
            "text/plain": [
              "['Bolívar', 'Atlántico', 'Magdalena', 'Córdoba', 'Sucre', 'Cesar', 'Guajira']"
            ]
          },
          "metadata": {},
          "execution_count": 33
        }
      ],
      "source": [
        "dpto = [\"Bolívar\", \"Atlántico\", \"Magdalena\", \"Córdoba\", \"Sucre\", \"Cesar\", \"Guajira\"]\n",
        "dpto"
      ]
    },
    {
      "cell_type": "code",
      "execution_count": null,
      "metadata": {
        "id": "D5Ve5Ni-n1Cl",
        "colab": {
          "base_uri": "https://localhost:8080/"
        },
        "outputId": "fc9d4fac-8b29-462c-b8c2-3faf737f045f"
      },
      "outputs": [
        {
          "output_type": "execute_result",
          "data": {
            "text/plain": [
              "['Bolívar',\n",
              " 'Atlántico',\n",
              " 'Magdalena',\n",
              " 'Córdoba',\n",
              " 'Sucre',\n",
              " 'Cesar',\n",
              " 'Guajira',\n",
              " 'Cundinamarca']"
            ]
          },
          "metadata": {},
          "execution_count": 34
        }
      ],
      "source": [
        "dpto.append(\"Cundinamarca\")\n",
        "dpto"
      ]
    },
    {
      "cell_type": "code",
      "execution_count": null,
      "metadata": {
        "id": "75_wOidMn1G2",
        "colab": {
          "base_uri": "https://localhost:8080/",
          "height": 35
        },
        "outputId": "2bc4c102-e888-4464-e289-acb83efbfd4a"
      },
      "outputs": [
        {
          "output_type": "execute_result",
          "data": {
            "text/plain": [
              "'Cundinamarca'"
            ],
            "application/vnd.google.colaboratory.intrinsic+json": {
              "type": "string"
            }
          },
          "metadata": {},
          "execution_count": 35
        }
      ],
      "source": [
        "dpto[7]"
      ]
    },
    {
      "cell_type": "markdown",
      "metadata": {
        "id": "GsHWfeHyqVVx"
      },
      "source": [
        "# **e. Operaciones y métodos: insert**\n",
        "\n",
        "* **Insert**:\tInserta un elemento en una posición determinada."
      ]
    },
    {
      "cell_type": "markdown",
      "source": [
        "## **Insertar Medellin en la posición inicial de _ciudad_**"
      ],
      "metadata": {
        "id": "QWDdElCktkLM"
      }
    },
    {
      "cell_type": "code",
      "execution_count": null,
      "metadata": {
        "id": "C4Rme4Czn1Ll",
        "colab": {
          "base_uri": "https://localhost:8080/"
        },
        "outputId": "7d6e8b63-a51a-4156-dba0-cfbbdafb2505"
      },
      "outputs": [
        {
          "output_type": "execute_result",
          "data": {
            "text/plain": [
              "['Medellin',\n",
              " 'Cartagena',\n",
              " 'Barranquilla',\n",
              " 'Santa Marta',\n",
              " 'Montería',\n",
              " 'Sincelejo',\n",
              " 'Valledupar',\n",
              " 'Riohacha',\n",
              " 'Bogotá',\n",
              " 'Bogotá']"
            ]
          },
          "metadata": {},
          "execution_count": 37
        }
      ],
      "source": [
        "ciudad.insert(0, \"Medellin\")\n",
        "ciudad"
      ]
    },
    {
      "cell_type": "markdown",
      "source": [
        "## **Insertar Antioquia en la posición inicial de _Dpto_**"
      ],
      "metadata": {
        "id": "Ye1-LbCEttoC"
      }
    },
    {
      "cell_type": "code",
      "execution_count": null,
      "metadata": {
        "id": "hYsfmgIsn1eO",
        "colab": {
          "base_uri": "https://localhost:8080/"
        },
        "outputId": "d6eed707-1e3f-47f7-bed3-756cee872ffd"
      },
      "outputs": [
        {
          "output_type": "execute_result",
          "data": {
            "text/plain": [
              "['Antioquia',\n",
              " 'Bolívar',\n",
              " 'Atlántico',\n",
              " 'Magdalena',\n",
              " 'Córdoba',\n",
              " 'Sucre',\n",
              " 'Cesar',\n",
              " 'Guajira',\n",
              " 'Cundinamarca']"
            ]
          },
          "metadata": {},
          "execution_count": 38
        }
      ],
      "source": [
        "dpto.insert(0,\"Antioquia\")\n",
        "dpto"
      ]
    },
    {
      "cell_type": "markdown",
      "source": [
        "# **Vamos a concatenar ciudad con Dpto**\n",
        "\n",
        "## **Usando la cadena _f_**"
      ],
      "metadata": {
        "id": "Da7B59F5t-47"
      }
    },
    {
      "cell_type": "code",
      "execution_count": null,
      "metadata": {
        "id": "9LW6B5iun1j-",
        "colab": {
          "base_uri": "https://localhost:8080/",
          "height": 53
        },
        "outputId": "0890b988-e53a-4384-ef0d-9932c43aaa8b"
      },
      "outputs": [
        {
          "output_type": "execute_result",
          "data": {
            "text/plain": [
              "\"['Medellin', 'Cartagena', 'Barranquilla', 'Santa Marta', 'Montería', 'Sincelejo', 'Valledupar', 'Riohacha', 'Bogotá', 'Bogotá'] ['Antioquia', 'Bolívar', 'Atlántico', 'Magdalena', 'Córdoba', 'Sucre', 'Cesar', 'Guajira', 'Cundinamarca']\""
            ],
            "application/vnd.google.colaboratory.intrinsic+json": {
              "type": "string"
            }
          },
          "metadata": {},
          "execution_count": 41
        }
      ],
      "source": [
        "f\"{ciudad} {dpto}\""
      ]
    },
    {
      "cell_type": "code",
      "execution_count": null,
      "metadata": {
        "id": "z1483Dcyn1ov",
        "colab": {
          "base_uri": "https://localhost:8080/"
        },
        "outputId": "98fdfc25-d2ad-4f52-d2d4-6149fcc93971"
      },
      "outputs": [
        {
          "output_type": "stream",
          "name": "stdout",
          "text": [
            "['Medellin', 'Cartagena', 'Barranquilla', 'Santa Marta', 'Montería', 'Sincelejo', 'Valledupar', 'Riohacha', 'Bogotá', 'Bogotá'] ['Antioquia', 'Bolívar', 'Atlántico', 'Magdalena', 'Córdoba', 'Sucre', 'Cesar', 'Guajira', 'Cundinamarca']\n"
          ]
        }
      ],
      "source": [
        "print(f\"{ciudad} {dpto}\")"
      ]
    },
    {
      "cell_type": "markdown",
      "source": [
        "## **sumamos ambas listas**"
      ],
      "metadata": {
        "id": "OP2dtVAIuew7"
      }
    },
    {
      "cell_type": "code",
      "execution_count": null,
      "metadata": {
        "id": "oMhSk2Qhn1tj",
        "colab": {
          "base_uri": "https://localhost:8080/"
        },
        "outputId": "7c3ee43d-76d6-4c07-c3d0-2f58f241466a"
      },
      "outputs": [
        {
          "output_type": "execute_result",
          "data": {
            "text/plain": [
              "['Medellin',\n",
              " 'Cartagena',\n",
              " 'Barranquilla',\n",
              " 'Santa Marta',\n",
              " 'Montería',\n",
              " 'Sincelejo',\n",
              " 'Valledupar',\n",
              " 'Riohacha',\n",
              " 'Bogotá',\n",
              " 'Bogotá',\n",
              " 'Antioquia',\n",
              " 'Bolívar',\n",
              " 'Atlántico',\n",
              " 'Magdalena',\n",
              " 'Córdoba',\n",
              " 'Sucre',\n",
              " 'Cesar',\n",
              " 'Guajira',\n",
              " 'Cundinamarca']"
            ]
          },
          "metadata": {},
          "execution_count": 43
        }
      ],
      "source": [
        "ciudad + dpto # Concatenar dos listas"
      ]
    },
    {
      "cell_type": "markdown",
      "metadata": {
        "id": "10C5sOhpsdrJ"
      },
      "source": [
        "#**f. Listas anidadas**"
      ]
    },
    {
      "cell_type": "code",
      "execution_count": null,
      "metadata": {
        "id": "GJatNsE1n19e",
        "colab": {
          "base_uri": "https://localhost:8080/"
        },
        "outputId": "c4cd8dc2-2f6e-456d-bca8-ea318002356c"
      },
      "outputs": [
        {
          "output_type": "execute_result",
          "data": {
            "text/plain": [
              "[['Medellin',\n",
              "  'Cartagena',\n",
              "  'Barranquilla',\n",
              "  'Santa Marta',\n",
              "  'Montería',\n",
              "  'Sincelejo',\n",
              "  'Valledupar',\n",
              "  'Riohacha',\n",
              "  'Bogotá',\n",
              "  'Bogotá'],\n",
              " ['Antioquia',\n",
              "  'Bolívar',\n",
              "  'Atlántico',\n",
              "  'Magdalena',\n",
              "  'Córdoba',\n",
              "  'Sucre',\n",
              "  'Cesar',\n",
              "  'Guajira',\n",
              "  'Cundinamarca']]"
            ]
          },
          "metadata": {},
          "execution_count": 44
        }
      ],
      "source": [
        "region = [ciudad, dpto]\n",
        "region"
      ]
    },
    {
      "cell_type": "markdown",
      "metadata": {
        "id": "W9itIh7ho4jR"
      },
      "source": [
        "#**g. Eliminar elementos de una lista usando remove(), pop(), del**"
      ]
    },
    {
      "cell_type": "code",
      "source": [
        "# Conservemos nuestras ciudades originales\n",
        "ciudad3 =ciudad.copy()\n",
        "ciudad3"
      ],
      "metadata": {
        "colab": {
          "base_uri": "https://localhost:8080/"
        },
        "id": "S13ptVtQw4Ug",
        "outputId": "9c44e1d3-0e1e-4626-c2d3-f2eb2a903405"
      },
      "execution_count": null,
      "outputs": [
        {
          "output_type": "execute_result",
          "data": {
            "text/plain": [
              "['Medellin',\n",
              " 'Cartagena',\n",
              " 'Barranquilla',\n",
              " 'Santa Marta',\n",
              " 'Montería',\n",
              " 'Sincelejo',\n",
              " 'Valledupar',\n",
              " 'Riohacha',\n",
              " 'Bogotá',\n",
              " 'Bogotá']"
            ]
          },
          "metadata": {},
          "execution_count": 47
        }
      ]
    },
    {
      "cell_type": "markdown",
      "source": [
        "# **Usando -remove_**\n",
        "- _Remove_:  \tElimina el primer elemento que tiene un valor específico."
      ],
      "metadata": {
        "id": "IIFzU3N2yE1i"
      }
    },
    {
      "cell_type": "code",
      "execution_count": null,
      "metadata": {
        "id": "Z3xTn2HKn2C9",
        "colab": {
          "base_uri": "https://localhost:8080/"
        },
        "outputId": "3722d838-c156-4bb4-efc8-374d607287d9"
      },
      "outputs": [
        {
          "output_type": "execute_result",
          "data": {
            "text/plain": [
              "['Medellin',\n",
              " 'Cartagena',\n",
              " 'Barranquilla',\n",
              " 'Santa Marta',\n",
              " 'Montería',\n",
              " 'Sincelejo',\n",
              " 'Valledupar',\n",
              " 'Riohacha']"
            ]
          },
          "metadata": {},
          "execution_count": 49
        }
      ],
      "source": [
        "# Vamos a eliminar Bogota\n",
        "ciudad.remove(\"Bogotá\") # Usando remove()\n",
        "ciudad"
      ]
    },
    {
      "cell_type": "code",
      "execution_count": null,
      "metadata": {
        "id": "gVILe6b-rCUY",
        "colab": {
          "base_uri": "https://localhost:8080/"
        },
        "outputId": "894b2bba-5fec-47bc-c29e-9d7a26d709bd"
      },
      "outputs": [
        {
          "output_type": "execute_result",
          "data": {
            "text/plain": [
              "['Bolívar',\n",
              " 'Atlántico',\n",
              " 'Magdalena',\n",
              " 'Córdoba',\n",
              " 'Sucre',\n",
              " 'Cesar',\n",
              " 'Guajira',\n",
              " 'Cundinamarca']"
            ]
          },
          "metadata": {},
          "execution_count": 52
        }
      ],
      "source": [
        "# Agregemos cundinamarca\n",
        "dpto = [\"Bolívar\", \"Atlántico\", \"Magdalena\", \"Córdoba\", \"Sucre\", \"Cesar\", \"Guajira\"]\n",
        "dpto.append('Cundinamarca')\n",
        "dpto"
      ]
    },
    {
      "cell_type": "markdown",
      "source": [
        "## **_Pop_\tElimina un elemento de una posición concreta y lo utiliza como valor de retorno.**"
      ],
      "metadata": {
        "id": "BeeRLvF_ydCa"
      }
    },
    {
      "cell_type": "code",
      "execution_count": null,
      "metadata": {
        "id": "14r6-OrPp1Di",
        "colab": {
          "base_uri": "https://localhost:8080/"
        },
        "outputId": "e30afb99-8864-425c-eccf-bdceab54944b"
      },
      "outputs": [
        {
          "output_type": "execute_result",
          "data": {
            "text/plain": [
              "['Bolívar', 'Atlántico', 'Magdalena', 'Córdoba', 'Sucre', 'Cesar', 'Guajira']"
            ]
          },
          "metadata": {},
          "execution_count": 53
        }
      ],
      "source": [
        "# Removamos Cundinamarca\n",
        "dpto.pop(7) # Usando pop()\n",
        "dpto"
      ]
    },
    {
      "cell_type": "markdown",
      "source": [
        "## **-del_ tambien es util para eliminar una posión de la lista**"
      ],
      "metadata": {
        "id": "t02M_JF_y7pR"
      }
    },
    {
      "cell_type": "code",
      "execution_count": null,
      "metadata": {
        "id": "hG3N_fwjp1Oe",
        "colab": {
          "base_uri": "https://localhost:8080/"
        },
        "outputId": "cadbe507-6fc6-45e4-c2df-57430196508d"
      },
      "outputs": [
        {
          "output_type": "execute_result",
          "data": {
            "text/plain": [
              "['Cartagena',\n",
              " 'Barranquilla',\n",
              " 'Santa Marta',\n",
              " 'Montería',\n",
              " 'Sincelejo',\n",
              " 'Valledupar',\n",
              " 'Riohacha']"
            ]
          },
          "metadata": {},
          "execution_count": 54
        }
      ],
      "source": [
        "del ciudad[0]\n",
        "ciudad"
      ]
    },
    {
      "cell_type": "code",
      "execution_count": null,
      "metadata": {
        "id": "yYE-iqCJp1Ve",
        "colab": {
          "base_uri": "https://localhost:8080/"
        },
        "outputId": "dbe8a341-52f5-475f-f11f-ad05174d12d6"
      },
      "outputs": [
        {
          "output_type": "execute_result",
          "data": {
            "text/plain": [
              "['Atlántico', 'Magdalena', 'Córdoba', 'Sucre', 'Cesar', 'Guajira']"
            ]
          },
          "metadata": {},
          "execution_count": 55
        }
      ],
      "source": [
        "del dpto[0]\n",
        "dpto"
      ]
    },
    {
      "cell_type": "code",
      "source": [
        "dpto.insert(0,'Bolivar')\n",
        "dpto"
      ],
      "metadata": {
        "colab": {
          "base_uri": "https://localhost:8080/"
        },
        "id": "SievqAB1zR0f",
        "outputId": "52af8df8-767d-4729-ef17-43f1ae8a95a3"
      },
      "execution_count": null,
      "outputs": [
        {
          "output_type": "execute_result",
          "data": {
            "text/plain": [
              "['Bolivar', 'Atlántico', 'Magdalena', 'Córdoba', 'Sucre', 'Cesar', 'Guajira']"
            ]
          },
          "metadata": {},
          "execution_count": 59
        }
      ]
    },
    {
      "cell_type": "markdown",
      "metadata": {
        "id": "PM6u7ehXPrmM"
      },
      "source": [
        "#**h. Ordenar una lista: sort() y reverse()**\n",
        "\n",
        "- **Reverse**\n",
        "- - Invierte el orden de la lista de Python.\n",
        "- **Sort**\n",
        "- - Ordena la lista."
      ]
    },
    {
      "cell_type": "code",
      "execution_count": null,
      "metadata": {
        "id": "2KbjgThSPmM9",
        "colab": {
          "base_uri": "https://localhost:8080/"
        },
        "outputId": "afda7499-7519-4f11-cf67-305449a87e36"
      },
      "outputs": [
        {
          "output_type": "execute_result",
          "data": {
            "text/plain": [
              "[1, 4, 7, 2, 9, 6, 3, 6, 7]"
            ]
          },
          "metadata": {},
          "execution_count": 60
        }
      ],
      "source": [
        "# Creamos una lista d numeros\n",
        "numeros = [1, 4, 7, 2,9,6, 3,6,7]\n",
        "numeros"
      ]
    },
    {
      "cell_type": "code",
      "execution_count": null,
      "metadata": {
        "id": "qJg4VqSePmZ9",
        "colab": {
          "base_uri": "https://localhost:8080/"
        },
        "outputId": "44f59722-63ee-4504-83b0-591a13f0acf6"
      },
      "outputs": [
        {
          "output_type": "execute_result",
          "data": {
            "text/plain": [
              "[1, 2, 3, 4, 6, 6, 7, 7, 9]"
            ]
          },
          "metadata": {},
          "execution_count": 61
        }
      ],
      "source": [
        "# ordenamos la lista\n",
        "numeros.sort()\n",
        "numeros"
      ]
    },
    {
      "cell_type": "code",
      "execution_count": null,
      "metadata": {
        "id": "A6AItIbsPmfK",
        "colab": {
          "base_uri": "https://localhost:8080/"
        },
        "outputId": "5335efc5-3d78-49f5-c2d1-7d18bc8d24fd"
      },
      "outputs": [
        {
          "output_type": "execute_result",
          "data": {
            "text/plain": [
              "[9, 7, 7, 6, 6, 4, 3, 2, 1]"
            ]
          },
          "metadata": {},
          "execution_count": 62
        }
      ],
      "source": [
        "# Revertimos el orden\n",
        "numeros.sort(reverse = True)\n",
        "numeros"
      ]
    },
    {
      "cell_type": "code",
      "source": [
        "#creamos otra lista\n",
        "numeros2 = [1, 4, 7, 2,9,6, 3,6,7, 3, 4, 5,8, 9,4,6,2]\n",
        "numeros2.reverse() #Revertimos el orden\n",
        "numeros2"
      ],
      "metadata": {
        "colab": {
          "base_uri": "https://localhost:8080/"
        },
        "id": "XuYwSANU0GQH",
        "outputId": "ee6c8c4a-4991-4010-db2e-5ab67d91f3fa"
      },
      "execution_count": null,
      "outputs": [
        {
          "output_type": "execute_result",
          "data": {
            "text/plain": [
              "[2, 6, 4, 9, 8, 5, 4, 3, 7, 6, 3, 6, 9, 2, 7, 4, 1]"
            ]
          },
          "metadata": {},
          "execution_count": 66
        }
      ]
    },
    {
      "cell_type": "code",
      "source": [
        "# Ordemamos la lista\n",
        "numeros2.sort()\n",
        "numeros2"
      ],
      "metadata": {
        "colab": {
          "base_uri": "https://localhost:8080/"
        },
        "id": "KiHJrYhb0ppV",
        "outputId": "322fa5c9-d85f-4f73-dc4b-bbce3b3c77df"
      },
      "execution_count": null,
      "outputs": [
        {
          "output_type": "execute_result",
          "data": {
            "text/plain": [
              "[1, 2, 2, 3, 3, 4, 4, 4, 5, 6, 6, 6, 7, 7, 8, 9, 9]"
            ]
          },
          "metadata": {},
          "execution_count": 69
        }
      ]
    },
    {
      "cell_type": "code",
      "execution_count": null,
      "metadata": {
        "id": "QV_YDBgRPmj8",
        "colab": {
          "base_uri": "https://localhost:8080/"
        },
        "outputId": "87635bf8-44e1-4dba-e358-3537d414daa1"
      },
      "outputs": [
        {
          "output_type": "execute_result",
          "data": {
            "text/plain": [
              "[1, 2, 2, 5, 3, 4, 4, 4, 5, 6, 6, 6, 7, 7, 8, 9, 9]"
            ]
          },
          "metadata": {},
          "execution_count": 70
        }
      ],
      "source": [
        "# Remplazamos la posición 3 por 5\n",
        "numeros2[3] = 5\n",
        "numeros2\n"
      ]
    },
    {
      "cell_type": "code",
      "execution_count": null,
      "metadata": {
        "id": "BvXiO20uPmow",
        "colab": {
          "base_uri": "https://localhost:8080/"
        },
        "outputId": "b3ffd29c-8d61-4a9c-ba1e-3656f3b4af05"
      },
      "outputs": [
        {
          "output_type": "execute_result",
          "data": {
            "text/plain": [
              "[9, 9, 8, 7, 7, 6, 6, 6, 5, 5, 4, 4, 4, 3, 2, 2, 1]"
            ]
          },
          "metadata": {},
          "execution_count": 72
        }
      ],
      "source": [
        "numeros2.sort(reverse = True)\n",
        "numeros2"
      ]
    },
    {
      "cell_type": "code",
      "execution_count": null,
      "metadata": {
        "id": "ImdTq9jtPmtw",
        "colab": {
          "base_uri": "https://localhost:8080/"
        },
        "outputId": "b4f00261-f95f-4e10-a4e3-a580b99330fd"
      },
      "outputs": [
        {
          "output_type": "execute_result",
          "data": {
            "text/plain": [
              "[9, 18, 8, 7, 7, 6, 6, 6, 5, 5, 4, 4, 4, 3, 2, 2, 1]"
            ]
          },
          "metadata": {},
          "execution_count": 73
        }
      ],
      "source": [
        "numeros2[1] = 18\n",
        "numeros2"
      ]
    },
    {
      "cell_type": "code",
      "source": [
        "numeros2.sort(reverse = True)\n",
        "numeros2"
      ],
      "metadata": {
        "id": "b81Ggult25io",
        "outputId": "94e1f885-9725-44ab-c6ee-b7a229cc4518",
        "colab": {
          "base_uri": "https://localhost:8080/"
        }
      },
      "execution_count": null,
      "outputs": [
        {
          "output_type": "execute_result",
          "data": {
            "text/plain": [
              "[18, 9, 8, 7, 7, 6, 6, 6, 5, 5, 4, 4, 4, 3, 2, 2, 1]"
            ]
          },
          "metadata": {},
          "execution_count": 74
        }
      ]
    },
    {
      "cell_type": "markdown",
      "metadata": {
        "id": "Qjn8jw1ATxPH"
      },
      "source": [
        "# **13. Diccionarios**\n",
        "## **¿Qué es un diccionario en Python?**\n",
        "\n",
        "- Los diccionarios en Python nos permiten almacenar una serie de mapeos entre dos conjuntos de elementos, llamados keys and values (Claves y Valores).\n",
        "\n",
        "- Todos los elementos en el diccionario se encuentran encerrados en un par de corchetes {}.\n",
        "- Cada elemento en un diccionario contiene una clave y un valor - es decir un par de clave-valor.\n",
        "- Cada par de clave-valor es denominado como elemento (item).\n",
        "- La ventaja de esto es que puedes acceder a todos los valores almacenados usando simplemente las claves."
      ]
    },
    {
      "cell_type": "markdown",
      "source": [
        "## **a. Estructura de un diccionario**"
      ],
      "metadata": {
        "id": "MYiikkNx70Ro"
      }
    },
    {
      "cell_type": "code",
      "execution_count": null,
      "metadata": {
        "id": "8lKLpOLCZwSH"
      },
      "outputs": [],
      "source": [
        "## **a. Estructura de un diccionario**\n",
        "mi_diccionario = {\"key1\":\"value1\",\"key2\":\"value2\"}"
      ]
    },
    {
      "cell_type": "markdown",
      "source": [
        "## **b. Los Cumpleaños en mi Familia**"
      ],
      "metadata": {
        "id": "_ozdwPwN7-He"
      }
    },
    {
      "cell_type": "code",
      "execution_count": null,
      "metadata": {
        "id": "wpuYRC0GS1Pd",
        "colab": {
          "base_uri": "https://localhost:8080/"
        },
        "outputId": "beb7c968-424b-49d5-e81c-009ea0a36a21"
      },
      "outputs": [
        {
          "output_type": "execute_result",
          "data": {
            "text/plain": [
              "{'Papá': '6 de Febrero',\n",
              " 'Mamá': '23 de Septiembre',\n",
              " 'Hija_mayor': '21 de Marzo',\n",
              " 'Hija_menor': '21 de Julio'}"
            ]
          },
          "metadata": {},
          "execution_count": 76
        }
      ],
      "source": [
        "## **b. Los Cumpleaños en mi Familia**\n",
        "cumpleaños = {\"Papá\":\"6 de Febrero\", \"Mamá\":\"23 de Septiembre\", \"Hija_mayor\":\"21 de Marzo\", \"Hija_menor\":\"21 de Julio\"}\n",
        "cumpleaños"
      ]
    },
    {
      "cell_type": "markdown",
      "source": [
        "## **c. ¿Cuando cumple Papá?**"
      ],
      "metadata": {
        "id": "tVEonKc38YBW"
      }
    },
    {
      "cell_type": "code",
      "execution_count": null,
      "metadata": {
        "id": "cl-k14J6S1U2",
        "colab": {
          "base_uri": "https://localhost:8080/",
          "height": 35
        },
        "outputId": "39abfa7a-a84b-4c35-c24a-1bfbd770ba9a"
      },
      "outputs": [
        {
          "output_type": "execute_result",
          "data": {
            "text/plain": [
              "'6 de Febrero'"
            ],
            "application/vnd.google.colaboratory.intrinsic+json": {
              "type": "string"
            }
          },
          "metadata": {},
          "execution_count": 77
        }
      ],
      "source": [
        "## **c. ¿Cuando cumple Papá?**\n",
        "cumpleaños[\"Papá\"]"
      ]
    },
    {
      "cell_type": "markdown",
      "source": [
        "## **d. ¿Cuando cumple la hija menor?**\n"
      ],
      "metadata": {
        "id": "jsNFiPCs8a9N"
      }
    },
    {
      "cell_type": "code",
      "execution_count": null,
      "metadata": {
        "id": "F4YMdOVcalWf",
        "colab": {
          "base_uri": "https://localhost:8080/",
          "height": 35
        },
        "outputId": "731e5983-011e-4d43-bf44-a1178485fa47"
      },
      "outputs": [
        {
          "output_type": "execute_result",
          "data": {
            "text/plain": [
              "'21 de Julio'"
            ],
            "application/vnd.google.colaboratory.intrinsic+json": {
              "type": "string"
            }
          },
          "metadata": {},
          "execution_count": 78
        }
      ],
      "source": [
        "## **d. ¿Cuando cumple la hija menor?**\n",
        "cumpleaños[\"Hija_menor\"]"
      ]
    },
    {
      "cell_type": "markdown",
      "source": [
        "## **e. ¿Los miembros de mi familia?**"
      ],
      "metadata": {
        "id": "N4apG5cE8y4N"
      }
    },
    {
      "cell_type": "code",
      "execution_count": null,
      "metadata": {
        "id": "rdkjTIyFaljL",
        "colab": {
          "base_uri": "https://localhost:8080/"
        },
        "outputId": "ad978948-e9e4-4cd0-87bf-459142f143b3"
      },
      "outputs": [
        {
          "output_type": "execute_result",
          "data": {
            "text/plain": [
              "dict_keys(['Papá', 'Mamá', 'Hija_mayor', 'Hija_menor'])"
            ]
          },
          "metadata": {},
          "execution_count": 79
        }
      ],
      "source": [
        "## **e. ¿Los miembros de mi familia?**\n",
        "cumpleaños.keys()"
      ]
    },
    {
      "cell_type": "code",
      "execution_count": null,
      "metadata": {
        "id": "FDB8RDQ4alot",
        "colab": {
          "base_uri": "https://localhost:8080/"
        },
        "outputId": "6d5bb254-9900-451f-9c65-bd6a5284a2a4"
      },
      "outputs": [
        {
          "output_type": "execute_result",
          "data": {
            "text/plain": [
              "dict_values(['6 de Febrero', '23 de Septiembre', '21 de Marzo', '21 de Julio'])"
            ]
          },
          "metadata": {},
          "execution_count": 80
        }
      ],
      "source": [
        "## **f. ¿las fechas de cumpleaños?**\n",
        "cumpleaños.values()"
      ]
    },
    {
      "cell_type": "markdown",
      "source": [
        "## **g. Los items del diccionario**"
      ],
      "metadata": {
        "id": "iszU2ZlM9PGf"
      }
    },
    {
      "cell_type": "code",
      "execution_count": null,
      "metadata": {
        "id": "uam30Uq3als3",
        "colab": {
          "base_uri": "https://localhost:8080/"
        },
        "outputId": "92b06d1f-2861-4e30-8423-ca4812669339"
      },
      "outputs": [
        {
          "output_type": "execute_result",
          "data": {
            "text/plain": [
              "dict_items([('Papá', '6 de Febrero'), ('Mamá', '23 de Septiembre'), ('Hija_mayor', '21 de Marzo'), ('Hija_menor', '21 de Julio')])"
            ]
          },
          "metadata": {},
          "execution_count": 81
        }
      ],
      "source": [
        "## **g. Los items del diccionario**\n",
        "cumpleaños.items()"
      ]
    },
    {
      "cell_type": "markdown",
      "metadata": {
        "id": "dEMoyo2GcYLk"
      },
      "source": [
        "#**h. Podemos Agregar**"
      ]
    },
    {
      "cell_type": "markdown",
      "source": [
        "### **Recordemos los cumpleaños de mi familia**"
      ],
      "metadata": {
        "id": "OTfhMJut96pJ"
      }
    },
    {
      "cell_type": "code",
      "execution_count": null,
      "metadata": {
        "id": "HTsZEAgzS1aG",
        "colab": {
          "base_uri": "https://localhost:8080/"
        },
        "outputId": "2ef45826-5c51-4480-c757-34fd9ff57119"
      },
      "outputs": [
        {
          "output_type": "execute_result",
          "data": {
            "text/plain": [
              "{'Papá': '6 de Febrero',\n",
              " 'Mamá': '23 de Septiembre',\n",
              " 'Hija_mayor': '21 de Marzo',\n",
              " 'Hija_menor': '21 de Julio'}"
            ]
          },
          "metadata": {},
          "execution_count": 82
        }
      ],
      "source": [
        "### **Recordemos los cumpleaños de mi familia**\n",
        "cumpleaños"
      ]
    },
    {
      "cell_type": "markdown",
      "source": [
        "## **Agregamos el cumpleaños de la abuela paterna**"
      ],
      "metadata": {
        "id": "9LVMINcN9-CY"
      }
    },
    {
      "cell_type": "code",
      "execution_count": null,
      "metadata": {
        "id": "aybzbK-7c_sC",
        "colab": {
          "base_uri": "https://localhost:8080/"
        },
        "outputId": "d99d2c81-b20e-4962-95c9-5496172e76c5"
      },
      "outputs": [
        {
          "output_type": "execute_result",
          "data": {
            "text/plain": [
              "{'Papá': '6 de Febrero',\n",
              " 'Mamá': '23 de Septiembre',\n",
              " 'Hija_mayor': '21 de Marzo',\n",
              " 'Hija_menor': '21 de Julio',\n",
              " 'Abuela_P': '4 de Mayo'}"
            ]
          },
          "metadata": {},
          "execution_count": 83
        }
      ],
      "source": [
        "## **Agregamos el cumpleaños de la abuela paterna**\n",
        "cumpleaños[\"Abuela_P\"] = \"4 de Mayo\"\n",
        "cumpleaños"
      ]
    },
    {
      "cell_type": "markdown",
      "source": [
        "## **Agregamos el cumpleaños de la abuela materna**"
      ],
      "metadata": {
        "id": "qUMXJ7he-Z7R"
      }
    },
    {
      "cell_type": "code",
      "source": [
        "## **Agregamos el cumpleaños de la abuela materna**\n",
        "cumpleaños[\"Abuela_M\"] = \"16 de Febrero\"\n",
        "cumpleaños"
      ],
      "metadata": {
        "colab": {
          "base_uri": "https://localhost:8080/"
        },
        "id": "53NBFCbd-LCO",
        "outputId": "aff4eb01-e8ec-4abc-d9ef-ac7fb552cb5f"
      },
      "execution_count": null,
      "outputs": [
        {
          "output_type": "execute_result",
          "data": {
            "text/plain": [
              "{'Papá': '6 de Febrero',\n",
              " 'Mamá': '23 de Septiembre',\n",
              " 'Hija_mayor': '21 de Marzo',\n",
              " 'Hija_menor': '21 de Julio',\n",
              " 'Abuela_P': '4 de Mayo',\n",
              " 'Abuela_M': '16 de Febrero'}"
            ]
          },
          "metadata": {},
          "execution_count": 84
        }
      ]
    },
    {
      "cell_type": "markdown",
      "source": [
        "## **Agregamos el cumpleaños de las mascotas**"
      ],
      "metadata": {
        "id": "wR39RUpw--hF"
      }
    },
    {
      "cell_type": "code",
      "source": [
        "## **Agregamos el cumpleaños de las mascotas**\n",
        "cumpleaños[\"Mascota_1\"] = \"10 de Diciembre\"\n",
        "cumpleaños[\"Mascota_2\"] = \"21 de Septiembre\"\n",
        "cumpleaños"
      ],
      "metadata": {
        "colab": {
          "base_uri": "https://localhost:8080/"
        },
        "id": "XZb3QuRk-p11",
        "outputId": "329633bd-82a3-4fd1-887e-f927c2267ab6"
      },
      "execution_count": null,
      "outputs": [
        {
          "output_type": "execute_result",
          "data": {
            "text/plain": [
              "{'Papá': '6 de Febrero',\n",
              " 'Mamá': '23 de Septiembre',\n",
              " 'Hija_mayor': '21 de Marzo',\n",
              " 'Hija_menor': '21 de Julio',\n",
              " 'Abuela_P': '4 de Mayo',\n",
              " 'Abuela_M': '16 de Febrero',\n",
              " 'Mascota_1': '10 de Diciembre',\n",
              " 'Mascota_2': '21 de Septiembre'}"
            ]
          },
          "metadata": {},
          "execution_count": 85
        }
      ]
    },
    {
      "cell_type": "markdown",
      "source": [
        "## **i. Hagamos una copia de mi diccionario**"
      ],
      "metadata": {
        "id": "LawjJhjc_Fpq"
      }
    },
    {
      "cell_type": "code",
      "source": [
        "## **i. Hagamos una copia de mi diccionario**\n",
        "cumpleaños2 = cumpleaños.copy()\n",
        "cumpleaños2"
      ],
      "metadata": {
        "colab": {
          "base_uri": "https://localhost:8080/"
        },
        "id": "CmB5NVjb_Qof",
        "outputId": "e75874d2-58a7-4df7-f0e8-e278e1850f23"
      },
      "execution_count": null,
      "outputs": [
        {
          "output_type": "execute_result",
          "data": {
            "text/plain": [
              "{'Papá': '6 de Febrero',\n",
              " 'Mamá': '23 de Septiembre',\n",
              " 'Hija_mayor': '21 de Marzo',\n",
              " 'Hija_menor': '21 de Julio',\n",
              " 'Abuela_P': '4 de Mayo',\n",
              " 'Abuela_M': '16 de Febrero',\n",
              " 'Mascota_1': '10 de Diciembre',\n",
              " 'Mascota_2': '21 de Septiembre'}"
            ]
          },
          "metadata": {},
          "execution_count": 87
        }
      ]
    },
    {
      "cell_type": "markdown",
      "source": [
        "#**j. Vamos Actualizar la información**"
      ],
      "metadata": {
        "id": "0-aDwN1v_fKu"
      }
    },
    {
      "cell_type": "code",
      "execution_count": null,
      "metadata": {
        "id": "WSEV-rdhc_zN",
        "colab": {
          "base_uri": "https://localhost:8080/"
        },
        "outputId": "6444bdef-daa7-4bd4-80b5-6f22d9ce947e"
      },
      "outputs": [
        {
          "output_type": "execute_result",
          "data": {
            "text/plain": [
              "{'Papá': '6 de Febrero',\n",
              " 'Mamá': '23 de Septiembre',\n",
              " 'Hija_mayor': '21 de Marzo',\n",
              " 'Hija_menor': '21 de Julio',\n",
              " 'Abuela_P': '4 de Mayo',\n",
              " 'Abuela_M': '16 de Febrero',\n",
              " 'Mascota_1': '10 de Diciembre',\n",
              " 'Mascota_2': '21 de Septiembre',\n",
              " 'Parentesco': ['Papa',\n",
              "  'Mama',\n",
              "  'Hija mayor',\n",
              "  'Hija menor',\n",
              "  'Abuela Paterna',\n",
              "  'Abuela Materna',\n",
              "  'Mascota_1',\n",
              "  'Mascota_2']}"
            ]
          },
          "metadata": {},
          "execution_count": 88
        }
      ],
      "source": [
        "cumpleaños.update({\"Parentesco\":[\"Papa\", \"Mama\", \"Hija mayor\", \"Hija menor\", \"Abuela Paterna\", \"Abuela Materna\", 'Mascota_1', 'Mascota_2']})\n",
        "cumpleaños"
      ]
    },
    {
      "cell_type": "markdown",
      "metadata": {
        "id": "zL1n3diRYfM-"
      },
      "source": [
        "#**k. Eliminar elementos del diccionario: pop, del, clear**"
      ]
    },
    {
      "cell_type": "code",
      "execution_count": null,
      "metadata": {
        "id": "b0f9VoEJiiTw",
        "colab": {
          "base_uri": "https://localhost:8080/"
        },
        "outputId": "b56c9cae-f3eb-4b37-9d0c-54dc8da0f96d"
      },
      "outputs": [
        {
          "output_type": "execute_result",
          "data": {
            "text/plain": [
              "{'Papá': '6 de Febrero',\n",
              " 'Mamá': '23 de Septiembre',\n",
              " 'Hija_mayor': '21 de Marzo',\n",
              " 'Hija_menor': '21 de Julio',\n",
              " 'Abuela_P': '4 de Mayo',\n",
              " 'Abuela_M': '16 de Febrero',\n",
              " 'Mascota_1': '10 de Diciembre',\n",
              " 'Mascota_2': '21 de Septiembre',\n",
              " 'Parentesco': ['Papa',\n",
              "  'Mama',\n",
              "  'Hija mayor',\n",
              "  'Hija menor',\n",
              "  'Abuela Paterna',\n",
              "  'Abuela Materna',\n",
              "  'Mascota_1',\n",
              "  'Mascota_2']}"
            ]
          },
          "metadata": {},
          "execution_count": 91
        }
      ],
      "source": [
        "# **Recordemos nuestro diccionario**\n",
        "cumpleaños"
      ]
    },
    {
      "cell_type": "code",
      "execution_count": null,
      "metadata": {
        "id": "UlgZe_MjiifR",
        "colab": {
          "base_uri": "https://localhost:8080/"
        },
        "outputId": "ed80566c-59f0-4eb0-dc44-92bb5a500580"
      },
      "outputs": [
        {
          "output_type": "execute_result",
          "data": {
            "text/plain": [
              "{'Papá': '6 de Febrero',\n",
              " 'Mamá': '23 de Septiembre',\n",
              " 'Hija_mayor': '21 de Marzo',\n",
              " 'Hija_menor': '21 de Julio',\n",
              " 'Abuela_P': '4 de Mayo',\n",
              " 'Abuela_M': '16 de Febrero',\n",
              " 'Mascota_1': '10 de Diciembre',\n",
              " 'Parentesco': ['Papa',\n",
              "  'Mama',\n",
              "  'Hija mayor',\n",
              "  'Hija menor',\n",
              "  'Abuela Paterna',\n",
              "  'Abuela Materna',\n",
              "  'Mascota_1',\n",
              "  'Mascota_2']}"
            ]
          },
          "metadata": {},
          "execution_count": 92
        }
      ],
      "source": [
        "## **a. Eliminemos del dicionario las mascotas**\n",
        "cumpleaños3 = cumpleaños.copy()\n",
        "cumpleaños3.pop(\"Mascota_2\")\n",
        "cumpleaños3"
      ]
    },
    {
      "cell_type": "code",
      "execution_count": null,
      "metadata": {
        "id": "gHx8JBQzZjbG"
      },
      "outputs": [],
      "source": [
        "del cumpleaños3[\"Parentesco\"]"
      ]
    },
    {
      "cell_type": "code",
      "execution_count": null,
      "metadata": {
        "id": "s5nM9DrJZjiY",
        "colab": {
          "base_uri": "https://localhost:8080/"
        },
        "outputId": "5168543a-798b-4fd2-e665-25e3a9f79d1b"
      },
      "outputs": [
        {
          "output_type": "execute_result",
          "data": {
            "text/plain": [
              "{'Papá': '6 de Febrero',\n",
              " 'Mamá': '23 de Septiembre',\n",
              " 'Hija_mayor': '21 de Marzo',\n",
              " 'Hija_menor': '21 de Julio',\n",
              " 'Abuela_P': '4 de Mayo',\n",
              " 'Abuela_M': '16 de Febrero',\n",
              " 'Mascota_1': '10 de Diciembre'}"
            ]
          },
          "metadata": {},
          "execution_count": 94
        }
      ],
      "source": [
        "cumpleaños3"
      ]
    },
    {
      "cell_type": "code",
      "execution_count": null,
      "metadata": {
        "id": "7yzqyHsZZjnk"
      },
      "outputs": [],
      "source": [
        "cumpleaños3.clear()#elimina los item de un diccionario"
      ]
    },
    {
      "cell_type": "code",
      "execution_count": null,
      "metadata": {
        "id": "icbJqQncZjxY",
        "colab": {
          "base_uri": "https://localhost:8080/"
        },
        "outputId": "cd0c87af-6746-46b3-9835-0d6d0cbf8238"
      },
      "outputs": [
        {
          "output_type": "execute_result",
          "data": {
            "text/plain": [
              "{}"
            ]
          },
          "metadata": {},
          "execution_count": 96
        }
      ],
      "source": [
        "cumpleaños3"
      ]
    }
  ],
  "metadata": {
    "colab": {
      "provenance": [],
      "authorship_tag": "ABX9TyMBcK8ihY3ed1WtSEIp0e+v",
      "include_colab_link": true
    },
    "kernelspec": {
      "display_name": "Python 3",
      "name": "python3"
    },
    "language_info": {
      "name": "python"
    }
  },
  "nbformat": 4,
  "nbformat_minor": 0
}