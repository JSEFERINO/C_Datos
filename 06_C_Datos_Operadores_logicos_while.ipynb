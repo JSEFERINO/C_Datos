{
  "cells": [
    {
      "cell_type": "markdown",
      "metadata": {
        "id": "view-in-github",
        "colab_type": "text"
      },
      "source": [
        "<a href=\"https://colab.research.google.com/github/JSEFERINO/Estadistica_Moderna/blob/main/06_C_Datos_Operadores_logicos_while.ipynb\" target=\"_parent\"><img src=\"https://colab.research.google.com/assets/colab-badge.svg\" alt=\"Open In Colab\"/></a>"
      ]
    },
    {
      "cell_type": "markdown",
      "source": [
        "# **Curso Introductorio a la Ciencia de Datos por Julio Hurtado Márquez**\n",
        "## **Parte I**"
      ],
      "metadata": {
        "id": "IKh2T45AnwtN"
      }
    },
    {
      "cell_type": "code",
      "execution_count": null,
      "metadata": {
        "id": "NUJLmwAkEDNa"
      },
      "outputs": [],
      "source": [
        "import pandas as pd\n",
        "import numpy as np"
      ]
    },
    {
      "cell_type": "markdown",
      "source": [
        "# **Clase No. 6: Fortaleciendo programación - Funciones**"
      ],
      "metadata": {
        "id": "xPcsXm1UnvF2"
      }
    },
    {
      "cell_type": "markdown",
      "source": [
        "Andina: Antioquia, Boyacá, Caldas, Caquetá, Cauca, Cesar, Chocó, Cundinamarca, Huila, Nariño, Norte de Santander, Putumayo, Quindío, Risaralda, Santander, Tolima y Valle del Cauca.\n",
        "Amazonia: Amazonas, Caquetá, Guainía, Guaviare, Meta, Putumayo, Vaupés y Vichada.\n",
        "Caribe: Atlántico, Bolívar, Cesar, Córdoba, La Guajira, Magdalena, Chocó (Acandí y Ungía), Antioquia y Sucre.\n",
        "Insular: San Andrés y Providencia, Bolívar (Islas del Rosario), Bolívar (Islas de San Bernardo), Cauca (Isla Gorgona), Valle del Cauca (Isla de Malpelo).\n",
        "Orinoquía: Arauca, Casanare, Meta y Vichada.\n",
        "Pacífica: Cauca, Valle del Cauca, Chocó y Nariño."
      ],
      "metadata": {
        "id": "l3JyJEYFWaMm"
      }
    },
    {
      "cell_type": "markdown",
      "source": [
        "#**30. Fortaleciendo programación - Parte II**"
      ],
      "metadata": {
        "id": "vGQwlbfOua4_"
      }
    },
    {
      "cell_type": "markdown",
      "source": [
        "## **a. Programando usando el operador lógico or**\n",
        "## **Problema. Organizar una fecha**"
      ],
      "metadata": {
        "id": "fKU7wjLuusqn"
      }
    },
    {
      "cell_type": "code",
      "source": [
        "# **a. Programando usando el operador lógico or**\n",
        "print('Inicio del programa')\n",
        "# Entrada de datos\n",
        "dia=int(input(\"Ingrese el día:\"))\n",
        "mes=int(input(\"Ingrese el mes:\"))\n",
        "año=int(input(\"Ingrese el año:\"))\n",
        "\n",
        "# Condición\n",
        "if (mes ==1) or (mes ==2) or (mes ==3): # condicion verdadera\n",
        "   print(\"La fecha: \",'el dia', dia,'el mes', mes,'del año', año, 'SI corresponde al primer trimestre del año') # salida\n",
        "\n",
        "else: # condición Falsa\n",
        "    print(\"La fecha: \",'el dia', dia,'el mes', mes,'del año', año, 'NO corresponde al primer trimestre del año') # salida\n",
        "\n",
        "print('Fin del programa')\n"
      ],
      "metadata": {
        "colab": {
          "base_uri": "https://localhost:8080/"
        },
        "id": "C2O2qYbpuicR",
        "outputId": "0a4dfee3-1c3a-4043-ebb9-5f9428e84761"
      },
      "execution_count": null,
      "outputs": [
        {
          "output_type": "stream",
          "name": "stdout",
          "text": [
            "Inicio del programa\n",
            "Ingrese el día:5\n",
            "Ingrese el mes:6\n",
            "Ingrese el año:2023\n",
            "La fecha:  el dia 5 el mes 6 del año 2023 NO corresponde al primer trimestre del año\n",
            "Fin del programa\n"
          ]
        }
      ]
    },
    {
      "cell_type": "markdown",
      "source": [
        "## **b. Programando SIN usanr el operador lógico or**\n",
        "## **Problema. Organizar una fecha**"
      ],
      "metadata": {
        "id": "z3BaUS9wygBQ"
      }
    },
    {
      "cell_type": "code",
      "source": [
        "# **b. Programando SIN usar el operador lógico or**\n",
        "print('Inicio del programa')\n",
        "# Entrada de datos\n",
        "dia=int(input(\"Ingrese el día:\"))\n",
        "mes=int(input(\"Ingrese el mes:\"))\n",
        "año=int(input(\"Ingrese el año:\"))\n",
        "\n",
        "# Condición\n",
        "if (mes <=3): # condicion verdadera\n",
        "   print(\"La fecha: \",'el dia', dia,'el mes', mes,'del año', año, 'SI corresponde al primer trimestre del año') # salida\n",
        "\n",
        "else: # condición Falsa\n",
        "    print(\"La fecha: \",'el dia', dia,'el mes', mes,'del año', año, 'NO corresponde al primer trimestre del año') # salida\n",
        "\n",
        "print('Fin del programa')"
      ],
      "metadata": {
        "colab": {
          "base_uri": "https://localhost:8080/"
        },
        "id": "xcarYZsPxgYr",
        "outputId": "f9f41741-ea6e-4dfb-da2a-4b1bea82421e"
      },
      "execution_count": null,
      "outputs": [
        {
          "output_type": "stream",
          "name": "stdout",
          "text": [
            "Inicio del programa\n",
            "Ingrese el día:5\n",
            "Ingrese el mes:6\n",
            "Ingrese el año:2023\n",
            "La fecha:  el dia 5 el mes 6 del año 2023 NO corresponde al primer trimestre del año\n",
            "Fin del programa\n"
          ]
        }
      ]
    },
    {
      "cell_type": "markdown",
      "source": [
        "## **c. Programando usando el operador lógico and**\n",
        "## **Problema. Organizar una fecha navidad**"
      ],
      "metadata": {
        "id": "v9E4CCrlyleu"
      }
    },
    {
      "cell_type": "code",
      "source": [
        "# **c. Programando SIN usar el operador lógico or**\n",
        "print('Inicio del programa')\n",
        "# Entrada de datos\n",
        "dia=int(input(\"Ingrese el día:\"))\n",
        "mes=int(input(\"Ingrese el mes:\"))\n",
        "año=int(input(\"Ingrese el año:\"))\n",
        "\n",
        "# Condición\n",
        "if (mes==12) and (dia==25) : # condicion verdadera\n",
        "   print(\"La fecha: \",'el dia', dia,'el mes', mes,'del año', año, 'SI corresponde a la Navidad') # salida\n",
        "\n",
        "else: # condición Falsa\n",
        "    print(\"La fecha: \",'el dia', dia,'el mes', mes,'del año', año, 'NO corresponde a la Navidad') # salida\n",
        "\n",
        "print('Fin del programa')"
      ],
      "metadata": {
        "colab": {
          "base_uri": "https://localhost:8080/"
        },
        "id": "NEINwLYjy5rg",
        "outputId": "0ba748e4-833d-428b-cb87-71a791ffbb4b"
      },
      "execution_count": null,
      "outputs": [
        {
          "output_type": "stream",
          "name": "stdout",
          "text": [
            "Inicio del programa\n",
            "Ingrese el día:25\n",
            "Ingrese el mes:12\n",
            "Ingrese el año:2023\n",
            "La fecha:  el dia 25 el mes 12 del año 2023 SI corresponde a la Navidad\n",
            "Fin del programa\n"
          ]
        }
      ]
    },
    {
      "cell_type": "markdown",
      "source": [
        "# **d. Tres numeros menores que 10**"
      ],
      "metadata": {
        "id": "CKvHK_GFzt1k"
      }
    },
    {
      "cell_type": "code",
      "source": [
        "print('Inicio del programa')\n",
        "# Entrada de datos\n",
        "nota1=int(input(\"Ingrese primer nota:\"))\n",
        "nota2=int(input(\"Ingrese segunda nota:\"))\n",
        "nota3=int(input(\"Ingrese tercera nota:\"))\n",
        "\n",
        "# Condición\n",
        "if ((nota1<10 and nota2<10 and nota3<10)): # condicion verdadera\n",
        "    print(\"Todos los numeros son menores que 10 y son\", nota1, nota2, nota3) # salida\n",
        "else: # condición Falsa\n",
        "    print(\"No se cumple la condición \")# salida\n",
        "print('Fin del programa')"
      ],
      "metadata": {
        "colab": {
          "base_uri": "https://localhost:8080/"
        },
        "id": "1PzdxZGWzrfa",
        "outputId": "fc0113ed-4d1c-428a-a23e-0aa550276b81"
      },
      "execution_count": null,
      "outputs": [
        {
          "output_type": "stream",
          "name": "stdout",
          "text": [
            "Inicio del programa\n",
            "Ingrese primer nota:5\n",
            "Ingrese segunda nota:9\n",
            "Ingrese tercera nota:8\n",
            "Todos los numeros son menores que 10 y son 5 9 8\n",
            "Fin del programa\n"
          ]
        }
      ]
    },
    {
      "cell_type": "markdown",
      "source": [
        "# **e. Ubicar un punto en el plano cartesano**"
      ],
      "metadata": {
        "id": "sMMqHdAC4FE7"
      }
    },
    {
      "cell_type": "code",
      "source": [
        "print('Inicio del programa')\n",
        "# Entrada de datos\n",
        "x=int(input(\"Ingrese el valor de x: \"))\n",
        "y=int(input(\"Ingrese el valor de y: \"))\n",
        "\n",
        "# Condición\n",
        "if x>0 and y>0: # condicion verdadera\n",
        "    print(\"el punto \", '(', x,',' ,y,')', 'se encuentra en el primer cuadrante') # salida\n",
        "else: # condición Falsa\n",
        "    if x<0 and y>0: # condicion verdadera\n",
        "       print(\"el punto \", '(', x,',' ,y,')', 'se encuentra en el segundo cuadrante') # salida\n",
        "    else: #condición Falsa salida\n",
        "        if x<0 and y<0: # condicion verdadera\n",
        "            print(\"el punto \",'(', x,',', y,')', 'se encuentra en el tercer cuadrante') # salida\n",
        "        else: #condición Falsa salida\n",
        "            if x>0 and y<0: # condicion verdadera\n",
        "               print(\"el punto \",'(', x,',', y,')', 'se encuentra en el cuarto cuadrante') # salida\n",
        "            else: #condición Falsa salida\n",
        "                print(\"el punto \", '(', x,',', y,')', 'se encuentra sobre un eje') # salida\n",
        "print('Fin del programa')"
      ],
      "metadata": {
        "colab": {
          "base_uri": "https://localhost:8080/"
        },
        "id": "uoCzCpkHzrjB",
        "outputId": "3bf69107-f8cc-47c0-f823-d11ed5520c1a"
      },
      "execution_count": null,
      "outputs": [
        {
          "output_type": "stream",
          "name": "stdout",
          "text": [
            "Inicio del programa\n",
            "Ingrese el valor de x: 7\n",
            "Ingrese el valor de y: 0\n",
            "el punto  ( 7 , 0 ) se encuentra sobre un eje\n",
            "Fin del programa\n"
          ]
        }
      ]
    },
    {
      "cell_type": "markdown",
      "source": [
        "# **31. Fortaleciendo l Programación - Estructura repetitiva - while**"
      ],
      "metadata": {
        "id": "yEMt05e64qtl"
      }
    },
    {
      "cell_type": "markdown",
      "source": [
        "# **a. Imprimir los primeros 30 numeros**"
      ],
      "metadata": {
        "id": "nHt0ynIo6qSK"
      }
    },
    {
      "cell_type": "code",
      "source": [
        "print('Inicio del programa')\n",
        "# Entrada de datos\n",
        "x=1\n",
        "\n",
        "# Condición\n",
        "while x<=30:\n",
        "    print(x) # salida\n",
        "    x = x+1  # Entrada\n",
        "\n",
        "print('Fin del programa')\n",
        ""
      ],
      "metadata": {
        "colab": {
          "base_uri": "https://localhost:8080/"
        },
        "id": "vMGQmCVczrmU",
        "outputId": "2661bbdd-f112-443f-9a6a-6275732daa23"
      },
      "execution_count": null,
      "outputs": [
        {
          "output_type": "stream",
          "name": "stdout",
          "text": [
            "Inicio del programa\n",
            "1\n",
            "2\n",
            "3\n",
            "4\n",
            "5\n",
            "6\n",
            "7\n",
            "8\n",
            "9\n",
            "10\n",
            "11\n",
            "12\n",
            "13\n",
            "14\n",
            "15\n",
            "16\n",
            "17\n",
            "18\n",
            "19\n",
            "20\n",
            "21\n",
            "22\n",
            "23\n",
            "24\n",
            "25\n",
            "26\n",
            "27\n",
            "28\n",
            "29\n",
            "30\n",
            "Fin del programa\n"
          ]
        }
      ]
    },
    {
      "cell_type": "markdown",
      "source": [
        "# **b. Imprimir los numeros entre -10 y 10**"
      ],
      "metadata": {
        "id": "i8Jtq_4a7sdv"
      }
    },
    {
      "cell_type": "code",
      "source": [
        "print('Inicio del programa')\n",
        "# Entrada de datos\n",
        "x=-10 # recibe el numero de contador\n",
        "\n",
        "# Condición\n",
        "while x<=10:\n",
        "    print(x) # salida\n",
        "    x = x+1  # Entrada\n",
        "\n",
        "print('Fin del programa')"
      ],
      "metadata": {
        "colab": {
          "base_uri": "https://localhost:8080/"
        },
        "id": "3aNOm3Lszrpl",
        "outputId": "bdbe8f9a-2088-4d1f-c054-c8e6b9e92d66"
      },
      "execution_count": null,
      "outputs": [
        {
          "output_type": "stream",
          "name": "stdout",
          "text": [
            "Inicio del programa\n",
            "-10\n",
            "-9\n",
            "-8\n",
            "-7\n",
            "-6\n",
            "-5\n",
            "-4\n",
            "-3\n",
            "-2\n",
            "-1\n",
            "0\n",
            "1\n",
            "2\n",
            "3\n",
            "4\n",
            "5\n",
            "6\n",
            "7\n",
            "8\n",
            "9\n",
            "10\n",
            "Fin del programa\n"
          ]
        }
      ]
    },
    {
      "cell_type": "markdown",
      "source": [
        "# **c. Imprimir los numeros pares entre -10 y 10**"
      ],
      "metadata": {
        "id": "iG1dRAhs8QbL"
      }
    },
    {
      "cell_type": "code",
      "source": [
        "print('Inicio del programa')\n",
        "# Entrada de datos\n",
        "x=-10\n",
        "\n",
        "# Condición\n",
        "while x<=10:\n",
        "    print(x) # salida\n",
        "    x = x+2  # Entrada\n",
        "\n",
        "print('Fin del programa')"
      ],
      "metadata": {
        "colab": {
          "base_uri": "https://localhost:8080/"
        },
        "id": "c7vIre5dzrtB",
        "outputId": "55750386-887b-418f-de67-80f03c1e04df"
      },
      "execution_count": null,
      "outputs": [
        {
          "output_type": "stream",
          "name": "stdout",
          "text": [
            "Inicio del programa\n",
            "-10\n",
            "-8\n",
            "-6\n",
            "-4\n",
            "-2\n",
            "0\n",
            "2\n",
            "4\n",
            "6\n",
            "8\n",
            "10\n",
            "Fin del programa\n"
          ]
        }
      ]
    },
    {
      "cell_type": "markdown",
      "source": [
        "# **d. Imprimir los numeros impares entre -10 y 10**"
      ],
      "metadata": {
        "id": "VxESHWBL8eI3"
      }
    },
    {
      "cell_type": "code",
      "source": [
        "print('Inicio del programa')\n",
        "# Entrada de datos\n",
        "x=-9\n",
        "\n",
        "# Condición\n",
        "while x<=10:\n",
        "    print(x) # salida\n",
        "    x = x+2  # Entrada\n",
        "\n",
        "print('Fin del programa')"
      ],
      "metadata": {
        "colab": {
          "base_uri": "https://localhost:8080/"
        },
        "id": "DK9HKgBAzrwJ",
        "outputId": "83937ac9-606f-4a3f-fb48-8e415987c335"
      },
      "execution_count": null,
      "outputs": [
        {
          "output_type": "stream",
          "name": "stdout",
          "text": [
            "Inicio del programa\n",
            "-9\n",
            "-7\n",
            "-5\n",
            "-3\n",
            "-1\n",
            "1\n",
            "3\n",
            "5\n",
            "7\n",
            "9\n",
            "Fin del programa\n"
          ]
        }
      ]
    },
    {
      "cell_type": "markdown",
      "source": [
        "# **e. Imprimir los primeros $n$ numeros**"
      ],
      "metadata": {
        "id": "zx4rnqjE9aa2"
      }
    },
    {
      "cell_type": "code",
      "source": [
        "print('Inicio del programa')\n",
        "# Entrada de datos\n",
        "n = int(input('Ingrese el valor de n '))\n",
        "x=1 # contador\n",
        "\n",
        "# Condición\n",
        "while x<=n:\n",
        "    print(x) # salida\n",
        "    x = x+1  # Entrada\n",
        "\n",
        "print('Fin del programa')"
      ],
      "metadata": {
        "colab": {
          "base_uri": "https://localhost:8080/"
        },
        "id": "Pm0o0k_szrzL",
        "outputId": "79715994-bf5d-425b-f38d-15c29f1ff624"
      },
      "execution_count": null,
      "outputs": [
        {
          "output_type": "stream",
          "name": "stdout",
          "text": [
            "Inicio del programa\n",
            "Ingrese el valor de n 10\n",
            "1\n",
            "2\n",
            "3\n",
            "4\n",
            "5\n",
            "6\n",
            "7\n",
            "8\n",
            "9\n",
            "10\n",
            "Fin del programa\n"
          ]
        }
      ]
    },
    {
      "cell_type": "markdown",
      "source": [
        "# **32. Ejemplos mas complejos con la estructura _while_**\n",
        "## **a. Construir un programa que permita cargar 10 valores por teclado y posteriormente muestre la suma y el promedio**"
      ],
      "metadata": {
        "id": "5QM3uPfy9ZId"
      }
    },
    {
      "cell_type": "code",
      "source": [
        "print('Inicio del programa')\n",
        "# Entrada de datos\n",
        "\n",
        "x=1 # contador\n",
        "suma = 0 # acumulador de datos ingresados\n",
        "# Condición\n",
        "while x<=10:\n",
        "    n = int(input('Ingrese un número n '))\n",
        "    suma = suma +n\n",
        "    x = x+1  # Entrada\n",
        "promedio = suma/10\n",
        "print('la suma de los valores ingresado es igual a ', suma, 'y el promedio obtenido es ', promedio)\n",
        "\n",
        "print('Fin del programa')"
      ],
      "metadata": {
        "colab": {
          "base_uri": "https://localhost:8080/"
        },
        "id": "jPaOoNG8aani",
        "outputId": "ccf69d87-fafd-4983-8ef9-b848b69fd7d5"
      },
      "execution_count": null,
      "outputs": [
        {
          "output_type": "stream",
          "name": "stdout",
          "text": [
            "Inicio del programa\n",
            "Ingrese un número n 5\n",
            "Ingrese un número n 6\n",
            "Ingrese un número n 7\n",
            "Ingrese un número n 8\n",
            "Ingrese un número n 4\n",
            "Ingrese un número n 9\n",
            "Ingrese un número n 4\n",
            "Ingrese un número n 5\n",
            "Ingrese un número n 9\n",
            "Ingrese un número n 8\n",
            "la suma de los valores ingresado es igual a  65 y e promedio obtenido es  6.5\n",
            "Fin del programa\n"
          ]
        }
      ]
    },
    {
      "cell_type": "markdown",
      "source": [
        "# **b. Una planta fabrica perfiles de hierro posee un lote de n piezas. Confecciona un programa que pida ingresar por teclado la cantidad de piezas a procesar y luego ingrese la longitud de cada perfil; sabiendo que la pieza cuya longitud esté comprendida en el rango de 1.20 y 1.30 son aptas. Imprimir la cantidad de piezas aptas que hay en el lote**"
      ],
      "metadata": {
        "id": "Vr9_gD3EiMCW"
      }
    },
    {
      "cell_type": "code",
      "source": [
        "print('Inicio del programa')\n",
        "# Entrada de datos\n",
        "n = int(input('Ingrese un número n que indique el  número de piezas '))\n",
        "\n",
        "x=1 # contador\n",
        "cantidad = 0 # acumulador de datos ingresados para que haga la suma\n",
        "\n",
        "# Condición\n",
        "while x<=n:\n",
        "    largo = float(input('Ingrese largo del perfil = ')) # ingresamos los datos\n",
        "    if largo>=1.2 and largo<=1.3:\n",
        "      cantidad = cantidad+1\n",
        "    x = x+1  # Entrada # para que haga el ciclo completo\n",
        "\n",
        "print ('El número de piezas que cumple con las especificaciones son ', cantidad)\n",
        "print('Fin del programa')"
      ],
      "metadata": {
        "colab": {
          "base_uri": "https://localhost:8080/"
        },
        "id": "en-jExBxjxJd",
        "outputId": "8ca4b5c9-68be-4eb5-e8d2-a660124fa3b7"
      },
      "execution_count": null,
      "outputs": [
        {
          "output_type": "stream",
          "name": "stdout",
          "text": [
            "Inicio del programa\n",
            "Ingrese un número n que indique el numero número de piezas 5\n",
            "Ingrese largo del perfil = 1.6\n",
            "Ingrese largo del perfil = 1.3\n",
            "Ingrese largo del perfil = 1.25\n",
            "Ingrese largo del perfil = 1.28\n",
            "Ingrese largo del perfil = 3\n",
            "El número de piezas que cumple con las especificaciones son  3\n"
          ]
        }
      ]
    },
    {
      "cell_type": "markdown",
      "source": [
        "# **c. Escribir un programa que solicite el ingreso de notas $n$  alumnos y nos informe cuantos son mayores o iguales a 7 y cuantos menores**"
      ],
      "metadata": {
        "id": "ZGcMRe3wm8DZ"
      }
    },
    {
      "cell_type": "code",
      "source": [
        "print('Inicio del programa')\n",
        "\n",
        "# Entrada de datos\n",
        "n = int(input('Ingrese un número n que indique el  número de alumnos '))\n",
        "\n",
        "x=1 # contador\n",
        "aprobados = 0 # acumulador de datos ingresados\n",
        "reprobados = 0 # acumulador de datos ingresados\n",
        "\n",
        "# Condición\n",
        "while x<=n:\n",
        "    nota = float(input('Ingrese nota del estudiante = ')) # ingresamos los datos\n",
        "    if nota>=7:\n",
        "      aprobados = aprobados+1\n",
        "    else:\n",
        "      reprobados = reprobados+1\n",
        "    x = x+1  # Entrada  para que haga el ciclo completo\n",
        "\n",
        "print ('El número de estudiantes aprobados son ', aprobados)\n",
        "print ('El número de estudiantes reprobados son ', reprobados)\n",
        "\n",
        "print('Fin del programa')"
      ],
      "metadata": {
        "colab": {
          "base_uri": "https://localhost:8080/"
        },
        "id": "-AbxGxm8otzb",
        "outputId": "ce0ac8c5-1694-4208-aec2-a3262b5bbae4"
      },
      "execution_count": null,
      "outputs": [
        {
          "output_type": "stream",
          "name": "stdout",
          "text": [
            "Inicio del programa\n",
            "Ingrese un número n que indique el  número de alumnos 5\n",
            "Ingrese nota del estudiante = 8\n",
            "Ingrese nota del estudiante = 5\n",
            "Ingrese nota del estudiante = 9\n",
            "Ingrese nota del estudiante = 6\n",
            "Ingrese nota del estudiante = 4\n",
            "El número de estudiantes aprobados son  2\n",
            "El número de estudiantes reprobados son  3\n",
            "Fin del programa\n"
          ]
        }
      ]
    },
    {
      "cell_type": "markdown",
      "source": [
        "# **d. Escribir un programa que solicite el ingreso de notas $n$  alumnos y nos informe cuantos son mayores o iguales a 7 y cuantos menores y sus promedios**"
      ],
      "metadata": {
        "id": "4wQTIW9nqD5t"
      }
    },
    {
      "cell_type": "code",
      "source": [
        "print('Inicio del programa')\n",
        "\n",
        "# Entrada de datos\n",
        "n = int(input('Ingrese un número n que indique el  número de alumnos '))\n",
        "\n",
        "x=1 # contador\n",
        "aprobados = 0 # acumulador de datos ingresados\n",
        "reprobados = 0 # acumulador de datos ingresados\n",
        "suma_aprobados = 0\n",
        "suma_reprobados = 0\n",
        "\n",
        "# Condición\n",
        "while x<=n:\n",
        "    nota = float(input('Ingrese nota del estudiante = ')) # ingresamos los datos\n",
        "    if nota>=7:\n",
        "      aprobados = aprobados+1\n",
        "      suma_aprobados = suma_aprobados +nota\n",
        "    else:\n",
        "      reprobados = reprobados+1\n",
        "      suma_reprobados = suma_reprobados +nota\n",
        "    x = x+1  # Entrada  para que haga el ciclo completo\n",
        "\n",
        "promedio_aprobados = suma_aprobados/(aprobados)\n",
        "promedio_reprobados = suma_reprobados/(reprobados)\n",
        "\n",
        "print ('El número de estudiantes aprobados son ', aprobados,'con promedio igual a ', promedio_aprobados)\n",
        "\n",
        "print ('El número de estudiantes reprobados son ', reprobados, 'con promedio igual a ', promedio_reprobados)\n",
        "\n",
        "\n",
        "print('Fin del programa')"
      ],
      "metadata": {
        "colab": {
          "base_uri": "https://localhost:8080/"
        },
        "id": "GTIjiq6pqPOG",
        "outputId": "ad2f925c-b40a-4ff2-cb92-29df67646d68"
      },
      "execution_count": null,
      "outputs": [
        {
          "output_type": "stream",
          "name": "stdout",
          "text": [
            "Inicio del programa\n",
            "Ingrese un número n que indique el  número de alumnos 5\n",
            "Ingrese nota del estudiante = 8\n",
            "Ingrese nota del estudiante = 9\n",
            "Ingrese nota del estudiante = 6\n",
            "Ingrese nota del estudiante = 5\n",
            "Ingrese nota del estudiante = 7\n",
            "El número de estudiantes aprobados son  3 con promedio igual a  8.0\n",
            "El número de estudiantes reprobados son  2 con promedio igual a  5.5\n",
            "Fin del programa\n"
          ]
        }
      ]
    },
    {
      "cell_type": "markdown",
      "source": [
        "## **e. Construir un programa que permita cargar n valores por teclado y posteriormente muestre la suma, el promedio y la varianza**"
      ],
      "metadata": {
        "id": "CkwIIoqNc0pu"
      }
    },
    {
      "cell_type": "code",
      "source": [
        "print('Inicio del programa')\n",
        "# Entrada de datos\n",
        "n = int(input('Ingrese un número n que indique el numero valos a ingresar '))\n",
        "\n",
        "x=1 # contador\n",
        "suma = 0 # acumulador de datos ingresados para que haga la suma\n",
        "suma_2 = 0 # acumulador de datos ingresados para que haga la suma de cuadrados\n",
        "# Condición\n",
        "while x<=n:\n",
        "    x_i = int(input('Ingrese un número x_i = ')) # ingresamos los datos\n",
        "    cuadrado = x_i**2\n",
        "    suma = suma + x_i # se acumula la suma de los datos\n",
        "    suma_2 = suma_2 +cuadrado # se acumula la suma de los cuadrados de los datos\n",
        "\n",
        "    x = x+1  # Entrada # para que haga el ciclo completo\n",
        "\n",
        "promedio = suma/n # promedio fuera del while\n",
        "variabilidad = suma_2-n*promedio**2\n",
        "varianza = variabilidad/(n-1)\n",
        "\n",
        "print('la suma de los valores ingresado es igual a ', suma, 'y el promedio obtenido es ', promedio)\n",
        "\n",
        "print('la variabilidad de los valores ingresado es igual a ', variabilidad, 'la varianza es ', varianza)\n",
        "print(suma_2)\n",
        "print('Fin del programa')"
      ],
      "metadata": {
        "colab": {
          "base_uri": "https://localhost:8080/"
        },
        "id": "YFfOcTmFdB3c",
        "outputId": "eb9b272e-68f7-4445-90f5-34546249b150"
      },
      "execution_count": null,
      "outputs": [
        {
          "output_type": "stream",
          "name": "stdout",
          "text": [
            "Inicio del programa\n",
            "Ingrese un número n que indique el numero valos a ingresar 3\n",
            "Ingrese un número x_i = 1\n",
            "Ingrese un número x_i = 2\n",
            "Ingrese un número x_i = 3\n",
            "la suma de los valores ingresado es igual a  6 y el promedio obtenido es  2.0\n",
            "la variabilidad de los valores ingresado es igual a  2.0 la varianza es  1.0\n",
            "14\n",
            "Fin del programa\n"
          ]
        }
      ]
    },
    {
      "cell_type": "markdown",
      "source": [
        "# **f. En una empresa trabajan $n$ empleados cuyos sueldos oscilan entre $100$ y $500$, realizar un programa que lea los sueldos que cobra cada empleado e informe cuantos empleados cobran entre $100$ y $300$ y cuantos cobran mas de $300. Además el programa deberá informar el importe que gasta la empresa en sueldos al personal**"
      ],
      "metadata": {
        "id": "MHZnLhyuywtW"
      }
    },
    {
      "cell_type": "code",
      "source": [
        "print('Inicio del programa')\n",
        "\n",
        "# Entrada de datos\n",
        "n = int(input('Ingrese un número n que indique el  número de empleados '))\n",
        "\n",
        "x=1 # contador\n",
        "ganan_menos = 0 # acumulador de datos ingresados\n",
        "ganan_mas = 0 # acumulador de datos ingresados\n",
        "suma_ganan_menos = 0\n",
        "suma_ganan_mas = 0\n",
        "salarios = 0\n",
        "\n",
        "# Condición\n",
        "while x<=n:\n",
        "    sueldo = float(input('Ingrese sueldo de empleado = ')) # ingresamos los datos\n",
        "    salarios = salarios + sueldo\n",
        "    if sueldo>=100 and sueldo<=300:\n",
        "      ganan_menos = ganan_menos+1\n",
        "      suma_ganan_menos = suma_ganan_menos +sueldo\n",
        "    else:\n",
        "      ganan_mas = ganan_mas+1\n",
        "      suma_ganan_mas = suma_ganan_mas +sueldo\n",
        "    x = x+1  # Entrada  para que haga el ciclo completo\n",
        "\n",
        "promedio_ganan_menos = suma_ganan_menos/(ganan_menos)\n",
        "promedio_ganan_mas = suma_ganan_mas/(ganan_mas)\n",
        "salarios_total = salarios\n",
        "\n",
        "print ('El número de empleados que ganan menos 300', ganan_menos,'con promedio igual a ', promedio_ganan_menos)\n",
        "\n",
        "print ('El número de empleados que ganan mas 300', ganan_mas, 'con promedio igual a ', promedio_ganan_mas)\n",
        "\n",
        "print('La empresa paga en total a sus empleados ', salarios_total)\n",
        "\n",
        "\n",
        "print('Fin del programa')"
      ],
      "metadata": {
        "colab": {
          "base_uri": "https://localhost:8080/"
        },
        "id": "ralqsrmW2NG8",
        "outputId": "0f08c28f-89c8-42a2-dedb-ec206f6a366f"
      },
      "execution_count": null,
      "outputs": [
        {
          "output_type": "stream",
          "name": "stdout",
          "text": [
            "Inicio del programa\n",
            "Ingrese un número n que indique el  número de empleados 5\n",
            "Ingrese sueldo de empleado = 430\n",
            "Ingrese sueldo de empleado = 250\n",
            "Ingrese sueldo de empleado = 320\n",
            "Ingrese sueldo de empleado = 180\n",
            "Ingrese sueldo de empleado = 276\n",
            "El número de empleados que ganan menos  3 con promedio igual a  235.33333333333334\n",
            "El número de empleados que ganan mas  2 con promedio igual a  375.0\n",
            "La empresa paga en total a sus empleados  1456.0\n",
            "Fin del programa\n"
          ]
        }
      ]
    },
    {
      "cell_type": "markdown",
      "source": [
        "# **g. Construya un programa que origine los primeros 25 numeros de la serie 11, 22, 33,...**"
      ],
      "metadata": {
        "id": "IKNPY8Qyq9WW"
      }
    },
    {
      "cell_type": "code",
      "source": [
        "print('Inicio del programa')\n",
        "# Entrada de datos\n",
        "serie = 11\n",
        "x=1 # contador\n",
        "\n",
        "# Condición\n",
        "while x<=25:\n",
        "    print(serie)\n",
        "    serie = serie +11\n",
        "    x = x+1 # Entrada\n",
        "\n",
        "\n",
        "print('Fin del programa')"
      ],
      "metadata": {
        "colab": {
          "base_uri": "https://localhost:8080/"
        },
        "id": "y1OWBwgrrJAt",
        "outputId": "f8156355-cd5f-48b7-c172-bdc4fc8327fc"
      },
      "execution_count": null,
      "outputs": [
        {
          "output_type": "stream",
          "name": "stdout",
          "text": [
            "Inicio del programa\n",
            "11\n",
            "22\n",
            "33\n",
            "44\n",
            "55\n",
            "66\n",
            "77\n",
            "88\n",
            "99\n",
            "110\n",
            "121\n",
            "132\n",
            "143\n",
            "154\n",
            "165\n",
            "176\n",
            "187\n",
            "198\n",
            "209\n",
            "220\n",
            "231\n",
            "242\n",
            "253\n",
            "264\n",
            "275\n",
            "Fin del programa\n"
          ]
        }
      ]
    },
    {
      "cell_type": "markdown",
      "source": [
        "# **h. Construya un programa que origine los multiplos de 8 hasta el 500**"
      ],
      "metadata": {
        "id": "QPuJLB7RtOfW"
      }
    },
    {
      "cell_type": "code",
      "source": [
        "print('Inicio del programa')\n",
        "# Entrada de datos\n",
        "serie = 8\n",
        "x=1 # contador\n",
        "\n",
        "# Condición\n",
        "while x<=500:\n",
        "    print(serie)\n",
        "    serie = serie +8\n",
        "    x = x+1 # Entrada"
      ],
      "metadata": {
        "id": "cu6g2gGwth5q"
      },
      "execution_count": null,
      "outputs": []
    },
    {
      "cell_type": "markdown",
      "source": [
        "# **i. Realizar un programa que permita cargar dos listas de 15 valores cada una. Informa con un mensaje cual de las dos tiene un valor acumulado mayor.**"
      ],
      "metadata": {
        "id": "DfWrrBzRuF7l"
      }
    },
    {
      "cell_type": "code",
      "source": [
        "print('Inicio del programa')\n",
        "# Entrada de datos\n",
        "\n",
        "x=1 # contador\n",
        "lista = 0 # acumulador de datos ingresados para que haga la suma\n",
        "lista_2 = 0 # acumulador de datos ingresados para que haga la suma de cuadrados\n",
        "# Condición\n",
        "while x<=5:\n",
        "    x_i = int(input('Ingrese un número x_i = ')) # ingresamos los datos\n",
        "    lista = lista + x_i # se acumula la suma de los datos\n",
        "\n",
        "    x = x+1  # Entrada # para que haga el ciclo completo\n",
        "\n",
        "x=1 # contador\n",
        "while x<=5:\n",
        "    y_i = int(input('Ingrese un número y_i = ')) # ingresamos los datos\n",
        "    lista_2 = lista_2 + y_i # se acumula la suma de los datos\n",
        "\n",
        "    x = x+1  # Entrada # para que haga el ciclo completo\n",
        "\n",
        "if lista>lista_2:\n",
        "  print('la lista con mayor valor acumulado es la lista 1', lista)\n",
        "else:\n",
        "  if lista<lista_2:\n",
        "     print('la lista con mayor valor acumulado es la lista 2', lista_2)\n",
        "  else:\n",
        "    print('la lista tienen el mismo valor acumulado ', 'lista 1 =',lista, 'lista_2 =', lista_2)\n",
        "\n",
        "\n",
        "\n",
        "print('Fin del programa')"
      ],
      "metadata": {
        "colab": {
          "base_uri": "https://localhost:8080/"
        },
        "id": "E3O0cICUueJQ",
        "outputId": "d36cfc37-9792-48b3-8944-b4ea1eaf78b9"
      },
      "execution_count": null,
      "outputs": [
        {
          "output_type": "stream",
          "name": "stdout",
          "text": [
            "Inicio del programa\n",
            "Ingrese un número x_i = 7\n",
            "Ingrese un número x_i = 8\n",
            "Ingrese un número x_i = 6\n",
            "Ingrese un número x_i = 4\n",
            "Ingrese un número x_i = 5\n",
            "Ingrese un número y_i = 4\n",
            "Ingrese un número y_i = 5\n",
            "Ingrese un número y_i = 4\n",
            "Ingrese un número y_i = 6\n",
            "Ingrese un número y_i = 4\n",
            "la lista con mayor valor acumulado es la lista 1 30\n",
            "Fin del programa\n"
          ]
        }
      ]
    }
  ],
  "metadata": {
    "colab": {
      "provenance": [],
      "authorship_tag": "ABX9TyNm+fxg6yV4cUQ6oUOFrxy/",
      "include_colab_link": true
    },
    "kernelspec": {
      "display_name": "Python 3",
      "name": "python3"
    },
    "language_info": {
      "name": "python"
    }
  },
  "nbformat": 4,
  "nbformat_minor": 0
}