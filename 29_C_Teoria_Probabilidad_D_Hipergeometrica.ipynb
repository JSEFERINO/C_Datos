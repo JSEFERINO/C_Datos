{
  "cells": [
    {
      "cell_type": "markdown",
      "metadata": {
        "id": "view-in-github",
        "colab_type": "text"
      },
      "source": [
        "<a href=\"https://colab.research.google.com/github/JSEFERINO/Estadistica_Moderna/blob/main/29_C_Teoria_Probabilidad_D_Hipergeometrica.ipynb\" target=\"_parent\"><img src=\"https://colab.research.google.com/assets/colab-badge.svg\" alt=\"Open In Colab\"/></a>"
      ]
    },
    {
      "cell_type": "markdown",
      "metadata": {
        "id": "tvWruVdAfPkW"
      },
      "source": [
        "# **Curso Teoría de Probabilidad por Julio Hurtado Márquez**\n",
        "## **Parte XII- Modelos Probabilísticos Discretos**\n",
        "# **Librerias para usar en esta parte del curso**"
      ]
    },
    {
      "cell_type": "code",
      "execution_count": null,
      "metadata": {
        "colab": {
          "base_uri": "https://localhost:8080/"
        },
        "id": "oMTb2sIusSdw",
        "outputId": "8164b33b-1e7e-4ceb-9c67-379bc69fe3d5"
      },
      "outputs": [
        {
          "output_type": "stream",
          "name": "stdout",
          "text": [
            "Setup Complete\n"
          ]
        }
      ],
      "source": [
        "# **Librerias para usar en esta parte del cursor**\n",
        "import pandas as pd\n",
        "import numpy as np\n",
        "import matplotlib.pyplot as plt\n",
        "%matplotlib inline\n",
        "import seaborn as sns\n",
        "from scipy import stats\n",
        "import warnings\n",
        "warnings.filterwarnings(\"ignore\", category=FutureWarning)\n",
        "\n",
        "print(\"Setup Complete\")"
      ]
    },
    {
      "cell_type": "markdown",
      "source": [
        "# **162. Modelos Probabilísticos Discretos -La Distribución Hipergeometrica**\n",
        "## **a. La Definición**\n",
        "\n",
        "+ En teoría de la probabilidad y estadística, la *Distribución Hipergeométrica* es una distribución de probabilidad discreta relacionada con muestreos aleatorios y sin reemplazo.\n",
        "+ Suponga que se tiene una población de $M$ elementos de los cuales, $N$ pertenecen a la categoría $A={Exitos}$ y restante $M-N$ pertenecen a la categoría $B={fracasos}$.\n",
        "+ La distribución hipergeométrica mide la probabilidad de obtener $x∈ [0,N]$ elementos de la categoría $A$ en una muestra sin reemplazo de  $n$ elementos de la población original.\n",
        "\n",
        "+ Una variable aleatoria discreta $X$ sigue una distribución Hipergeométrica de parámetros $M$, $n$ y $N$, lo cual denotamos por $$X∼H(M,n,N)$$ si tiene funcion FMP dada por la formula:\n",
        "$$ P(X=x)= f(x,M,n,N) = \\frac{\\begin{pmatrix} N \\\\ x \\end{pmatrix}{{\\begin{pmatrix} M-N \\\\ n-x \\end{pmatrix}}}}{\\begin{pmatrix} M \\\\ n \\end{pmatrix}},  x=0, 1, 2, ..., min{(N,n)}$$\n"
      ],
      "metadata": {
        "id": "LI0ImjAo-F80"
      }
    },
    {
      "cell_type": "markdown",
      "source": [
        "## **b. Valor Esperado y Varianza de una variable aleatoria discreta de Hipergeométrica**\n",
        "\n",
        "+ **Recordemos la Definción del coeficiente binomial**\n",
        "\n",
        "$$\\begin{pmatrix} n \\\\ x \\end{pmatrix}=\\frac{n!}{x!(n-x)!}$$\n",
        "\n",
        "\n",
        "+ **Valor Esperado** $$E(X)=\\mu=\\sum_{x=o}^{n}x\\frac{\\begin{pmatrix} N \\\\ x \\end{pmatrix}{{\\begin{pmatrix} M-N \\\\ n-x \\end{pmatrix}}}}{\\begin{pmatrix} M \\\\ n \\end{pmatrix}},  x=0, 1, 2, ..., min{(N,n)}$$\n",
        "\n",
        "+ **Desarrollando los coeficientes binomiales**\n",
        "\n",
        "$$E(X)=\\mu=\\frac{1}{\\begin{pmatrix} M \\\\ n \\end{pmatrix}}\\sum_{x=o}^{n}x\\begin{pmatrix} N \\\\ x \\end{pmatrix}\\begin{pmatrix} M-N \\\\ n-x \\end{pmatrix}=\\frac{1}{\\begin{pmatrix} M \\\\ n \\end{pmatrix}}\\sum_{x=o}^{n}x\\frac{N!}{x!(N-x)!}\\frac{(M-N)!}{(n-x)!((M-N)-(n-x))!}$$\n",
        "\n",
        "\n",
        "+ **Desarrollando los coeficientes binomiales**\n",
        "\n",
        "$$E(X)=\\mu=\\frac{1}{\\begin{pmatrix} M \\\\ n \\end{pmatrix}}\\sum_{x=o}^{n}x\\begin{pmatrix} N \\\\ x \\end{pmatrix}\\begin{pmatrix} M-N \\\\ n-x \\end{pmatrix}=\\frac{1}{\\begin{pmatrix} M \\\\ n \\end{pmatrix}}\\sum_{x=o}^{n}x\\frac{N(N-1)!}{x(x-1)!(N-x)!}\\frac{(M-N)!}{(n-x)!((M-N)-(n-x))!}$$\n",
        "\n",
        "\n",
        "+ **Desarrollando los coeficientes binomiales**\n",
        "\n",
        "$$E(X)=\\frac{N}{\\begin{pmatrix} M \\\\ n \\end{pmatrix}}\\sum_{x=1}^{n}\\frac{(N-1)!}{(x-1)!((N-1)-(x-1))!}\\frac{((M-1)-(N-1))!}{((n-1)-(x-1))!(((M-1)-(N-1))-((n-1)-(x-1)))!}$$\n",
        "\n",
        "\n",
        "\n",
        "+ **Usando la definción arriba del coeficiente binomial tenemos:**\n",
        "\n",
        "$$E(X)=\\frac{N}{\\begin{pmatrix} M \\\\ n \\end{pmatrix}}\\sum_{x=1}^{n}\\begin{pmatrix} N-1 \\\\ x-1 \\end{pmatrix}\\begin{pmatrix} (M-1)-(N-1) \\\\ (n-1)-(x-1) \\end{pmatrix}$$\n",
        "\n",
        "+ **Reorganizando, hagamos $y=x-1$**\n",
        "\n",
        "\n",
        "$$E(X)=\\frac{N}{\\begin{pmatrix} M \\\\ n \\end{pmatrix}}\\sum_{y=0}^{n-1}\\begin{pmatrix} N-1 \\\\ y \\end{pmatrix}\\begin{pmatrix} (M-1)-(N-1) \\\\ (n-1)-y \\end{pmatrix}$$\n",
        "\n",
        "+ **Recordemos que**\n",
        "\n",
        "\n",
        "$$ \\sum_{x=0}^{n}P(X=x)= \\sum_{x=0}^{n} \\frac{\\begin{pmatrix} N \\\\ x \\end{pmatrix}{{\\begin{pmatrix} M-N \\\\ n-x \\end{pmatrix}}}}{\\begin{pmatrix} M \\\\ n \\end{pmatrix}} = 1$$\n",
        "\n",
        "+ **En otras palabras**\n",
        "\n",
        "$$\\sum_{x=0}^{n} \\begin{pmatrix} N \\\\ x \\end{pmatrix}\\begin{pmatrix} M-N \\\\ n-x \\end{pmatrix}= \\begin{pmatrix} M \\\\ n \\end{pmatrix}$$\n",
        "\n",
        "\n",
        "+ **Reemplazando arriba**\n",
        "\n",
        "\n",
        "$$E(X)=\\frac{N}{\\begin{pmatrix} M \\\\ n \\end{pmatrix}}\\begin{pmatrix} M-1 \\\\ n-1 \\end{pmatrix}$$$$\n",
        "\n",
        "+ **Usando Nuevamente la Definción del coeficiente binomial**\n",
        "\n",
        "\n",
        "+ $$\\begin{pmatrix} M-1 \\\\ n-1 \\end{pmatrix}=\\frac{(M-1)!}{(n-1)!(M-n)!}$$\n",
        "\n",
        "+ $$\\begin{pmatrix} M \\\\ n \\end{pmatrix}=\\frac{M(M-1)!}{n(n-1)!(M-n)!}$$\n",
        "\n",
        "+ $$\\begin{pmatrix} M \\\\ n \\end{pmatrix}=\\frac{M}{n}*\\begin{pmatrix} M-1 \\\\ n-1 \\end{pmatrix}$$\n",
        "\n",
        "\n",
        "+ **Reemplazando arriba**\n",
        "\n",
        "$$E(X)=\\frac{nN}{M}=np$$"
      ],
      "metadata": {
        "id": "zOvfGHDPI5_h"
      }
    },
    {
      "cell_type": "markdown",
      "source": [
        "## **c. Varianza de una variable aleatoria discreta de Hipergeométrica**\n",
        "\n",
        "+ **Recordemos la Definción del coeficiente binomial**\n",
        "\n",
        "$$\\begin{pmatrix} n \\\\ x \\end{pmatrix}=\\frac{n!}{x!(n-x)!}$$\n",
        "\n",
        "\n",
        "+ **Valor Esperado** $$E(X(X-1))=\\sum_{x=o}^{n}x(x-1)\\frac{\\begin{pmatrix} N \\\\ x \\end{pmatrix}{{\\begin{pmatrix} M-N \\\\ n-x \\end{pmatrix}}}}{\\begin{pmatrix} M \\\\ n \\end{pmatrix}},  x=0, 1, 2, ..., min{(N,n)}$$\n",
        "\n",
        "+ **Desarrollando los coeficientes binomiales**\n",
        "\n",
        "$$E(X(X-1))=\\frac{1}{\\begin{pmatrix} M \\\\ n \\end{pmatrix}}\\sum_{x=o}^{n}x(x-1)\\begin{pmatrix} N \\\\ x \\end{pmatrix}\\begin{pmatrix} M-N \\\\ n-x \\end{pmatrix}=\\frac{1}{\\begin{pmatrix} M \\\\ n \\end{pmatrix}}\\sum_{x=o}^{n}x(x-1)\\frac{N!}{x!(N-x)!}\\begin{pmatrix} M-N \\\\ n-x \\end{pmatrix}$$\n",
        "\n",
        "\n",
        "+ **Desarrollando los coeficientes binomiales**\n",
        "\n",
        "$$E(X(X-1))=\\frac{1}{\\begin{pmatrix} M \\\\ n \\end{pmatrix}}\\sum_{x=o}^{n}x(x-1)\\frac{N!}{x(x-1)(x-2)!(N-x)!}\\begin{pmatrix} M-N \\\\ n-x \\end{pmatrix}$$\n",
        "\n",
        "\n",
        "+ **Desarrollando los coeficientes binomiales**\n",
        "\n",
        "$$E(X(X-1))=\\frac{1}{\\begin{pmatrix} M \\\\ n \\end{pmatrix}}\\sum_{x=o}^{n}x(x-1)\\frac{N!}{x(x-1)(x-2)!(N-x)!}\\begin{pmatrix} M-N \\\\ n-x \\end{pmatrix}$$\n",
        "\n",
        "\n",
        "\n",
        "\n",
        "+ **Usando la definción arriba del coeficiente binomial tenemos:**\n",
        "\n",
        "$$E(X(X-1))=\\frac{N(N-1)}{\\begin{pmatrix} M \\\\ n \\end{pmatrix}}\\sum_{x=2}^{n}\\frac{(N-2)!}{(x-2)!((N-2)-(x-2))!}\\begin{pmatrix} (M-2)-(N-2) \\\\ (n-2)-(x-2) \\end{pmatrix}$$\n",
        "\n",
        "\n",
        "+ **Reorganizando, hagamos $y=x-2$**\n",
        "\n",
        "\n",
        "+ $$E(X(X-1))=\\frac{N(N-1)}{\\begin{pmatrix} M \\\\ n \\end{pmatrix}}\\sum_{x=2}^{n}\\begin{pmatrix} N-2 \\\\ x-2 \\end{pmatrix}\\begin{pmatrix} (M-2)-(N-2) \\\\ (n-2)-(x-2) \\end{pmatrix}$$\n",
        "\n",
        "+ $$E(X(X-1))=\\frac{N(N-1)}{\\begin{pmatrix} M \\\\ n \\end{pmatrix}}\\sum_{y=0}^{n-2}\\begin{pmatrix} N-2 \\\\ y \\end{pmatrix}\\begin{pmatrix} (M-2)-(N-2) \\\\ (n-2)-y \\end{pmatrix}$$\n",
        "\n",
        "+ **Recordemos que**\n",
        "\n",
        "\n",
        "$$ \\sum_{x=0}^{n}P(X=x)= \\sum_{x=0}^{n} \\frac{\\begin{pmatrix} N \\\\ x \\end{pmatrix}{{\\begin{pmatrix} M-N \\\\ n-x \\end{pmatrix}}}}{\\begin{pmatrix} M \\\\ n \\end{pmatrix}} = 1$$\n",
        "\n",
        "+ **En otras palabras**\n",
        "\n",
        "$$\\sum_{x=0}^{n} \\begin{pmatrix} N \\\\ x \\end{pmatrix}\\begin{pmatrix} M-N \\\\ n-x \\end{pmatrix}= \\begin{pmatrix} M \\\\ n \\end{pmatrix}$$\n",
        "\n",
        "+ $$\\sum_{y=0}^{n-2}\\begin{pmatrix} N-2 \\\\ y \\end{pmatrix}\\begin{pmatrix} (M-2)-(N-2) \\\\ (n-2)-y \\end{pmatrix}= \\begin{pmatrix} M-2 \\\\ n-2 \\end{pmatrix}$$\n",
        "\n",
        "\n",
        "+ **Reemplazando arriba**\n",
        "\n",
        "\n",
        "$$E(X(X-1))=\\frac{N(N-1)}{\\begin{pmatrix} M \\\\ n \\end{pmatrix}}\\begin{pmatrix} M-2 \\\\ n-2 \\end{pmatrix}$$\n",
        "\n",
        "+ **Usando Nuevamente la Definción del coeficiente binomial**\n",
        "\n",
        "\n",
        "+ $$\\begin{pmatrix} M-2 \\\\ n-2 \\end{pmatrix}=\\frac{(M-2)!}{(n-2)!(M-n)!}$$\n",
        "\n",
        "+ $$\\begin{pmatrix} M \\\\ n \\end{pmatrix}=\\frac{M(M-1)(M-2)!}{n(n-1)(n-2)!(M-n)!}$$\n",
        "\n",
        "+ $$\\begin{pmatrix} M \\\\ n \\end{pmatrix}=\\frac{M(M-1)}{n(n-1)}*\\begin{pmatrix} M-2 \\\\ n-2 \\end{pmatrix}$$\n",
        "\n",
        "\n",
        "+ **Reemplazando arriba**\n",
        "\n",
        "+ $$E(X(X-1))=\\frac{N(N-1)}{\\begin{pmatrix} M \\\\ n \\end{pmatrix}}\\begin{pmatrix} M-2 \\\\ n-2 \\end{pmatrix}$$\n",
        "\n",
        "+ $$E(X(X-1))=\\frac{N(N-1)n(n-1)}{M(M-1)}$$\n",
        "\n",
        "+ **Siguiendo el desarrollo**\n",
        "+ $$E(X^2)=E(X(X-1))+E(X)=\\frac{N(N-1)n(n-1)}{M(M-1)}+\\frac{nN}{M}$$\n",
        "\n",
        "+ **La varianza de $X$ es igual a**\n",
        "\n",
        "+  $$V(X)=\\sigma ^2 = E(X^2)-E(X)^2=\\frac{N(N-1)n(n-1)}{M(M-1)}+\\frac{nN}{M}-[\\frac{nN}{M}]^2$$\n",
        "\n",
        "+  $$\\sigma ^2 = \\frac{nN}{M}(\\frac{(N-1)(n-1)}{(M-1)}+1-\\frac{nN}{M})$$\n",
        "\n",
        "+  $$\\sigma ^2 = \\frac{nN}{M}[\\frac{M(N-1)(n-1)+M(M-1)-nN(M-1)}{(M(M-1))}]$$\n",
        "\n",
        "\n",
        "+  $$\\sigma ^2 = \\frac{nN}{M}[\\frac{MNn-MN-Mn+M+M^2-M-MNn+Nn}{(M(M-1))}]$$\n",
        "\n",
        "\n",
        "+  $$\\sigma ^2 = \\frac{nN}{M}[\\frac{-MN-Mn+M^2+Nn}{(M(M-1))}]$$\n",
        "\n",
        "+ **Factorzando**\n",
        "\n",
        "\n",
        "+  $$\\sigma ^2 = \\frac{nN}{M}[\\frac{-N(M-n)+M(M-n)}{(M(M-1))}]$$\n",
        "\n",
        "\n",
        "+  $$\\sigma ^2 = \\frac{nN}{M}[\\frac{(M-n)(M-N)}{(M(M-1))}]$$\n",
        "\n",
        "+  $$\\sigma ^2 = \\frac{nN}{M}[\\frac{(M-n)M(1-\\frac{N}{M})}{(M(M-1))}]$$\n",
        "\n",
        "\n",
        "\n",
        "+  $$\\sigma ^2 = \\frac{nN}{M}[\\frac{(M-n)(1-\\frac{N}{M})}{(M-1)}]$$\n",
        "\n",
        "\n",
        "\n",
        "+  $$\\sigma ^2 = \\frac{nN}{M}(1-\\frac{N}{M})\\frac{(M-n)}{(M-1)}$$\n",
        "\n",
        "\n",
        "+  $$\\sigma ^2 =np(1-p)\\frac{(M-n)}{(M-1)}$$\n",
        "\n",
        "\n",
        "\n",
        "\n",
        "\n"
      ],
      "metadata": {
        "id": "kDiEL7zXpgmr"
      }
    },
    {
      "cell_type": "markdown",
      "source": [
        "# **163. Ejercicio Distribución Hipergeométrica - Problema 1**\n",
        "## **Problema**. _Suponga que se pone a la venta un conjunto de 30 articulos, de los cuales 12 estan defectuosos. Si se toma una muestra al azar (sin orden y sin reemplazo) de 10 articulos_:\n",
        "+ **a. Construya el gráfico de la Distribución dada**\n",
        "+ **b. Calcule la PMF y la FDA para Distribución dada**\n",
        "+ **c. Valores críticos. Si se conoce que en la muestra se extrajeron el 60 porciento defectuosos, a cuantos corresponde**\n",
        "+ **d. Suponga que se tienen 3 Lotes de éstos productos y se conocen que los defectuosos de cada lote son 10, 15 y 20, Construya en un solo cuadro las distribuciones que representan cada caso**\n",
        "+ **e. Construya el histograma para la distribución dada**\n",
        "+ **f. ¿cuál es la probabilidad de que no aparezca ningun articulo defectuoso en el lote considerado arriba**\n",
        "+ **g. ¿cuál es la probabilidad de que aparezca entre 5 y 8 arículos defectuosos en el lote considerado arriba**\n",
        "+ **h. g. ¿cuál es la probabilidad de que aparezca exactamente 7 arículos defectuosos en el lote considerado arriba**\n",
        "+ **i. El numero esperado de arículos defectuosos en el lote considerado arriba***\n",
        "+ **j. La Varianza de la variable aleatoria**"
      ],
      "metadata": {
        "id": "LbRoIHeoJcl3"
      }
    },
    {
      "cell_type": "markdown",
      "metadata": {
        "id": "t3lTnL37V9EF"
      },
      "source": [
        "# **a. Graficando la Distribución Hipergeométrica**"
      ]
    },
    {
      "cell_type": "code",
      "execution_count": null,
      "metadata": {
        "colab": {
          "base_uri": "https://localhost:8080/",
          "height": 472
        },
        "id": "gbAZ3kFoQA-Q",
        "outputId": "75876ba9-8e74-4ffe-97d4-8b1299c9945c"
      },
      "outputs": [
        {
          "output_type": "display_data",
          "data": {
            "text/plain": [
              "<Figure size 640x480 with 1 Axes>"
            ],
            "image/png": "[encoded data removed]"
          },
          "metadata": {}
        }
      ],
      "source": [
        "# **a. Graficando la Distribución Hipergeométrica**\n",
        "M, n, N = 30, 10, 12 # parametros de forma\n",
        "hipergeometrica = stats.hypergeom(M, n, N) # Distribución\n",
        "x = np.arange(0, n+1)\n",
        "fmp = hipergeometrica.pmf(x) # Función de Masa de Probabilidad\n",
        "plt.plot(x, fmp, '--')\n",
        "plt.vlines(x, 0, fmp, colors='b', lw=5, alpha=0.5)\n",
        "plt.title('Distribución Hipergeométrica')\n",
        "plt.ylabel('probabilidad')\n",
        "plt.xlabel('valores')\n",
        "plt.show()"
      ]
    },
    {
      "cell_type": "markdown",
      "metadata": {
        "id": "pHqWQ2GYWT3E"
      },
      "source": [
        "# **b. PMF y FDA la Distribución Hipergeométrica**"
      ]
    },
    {
      "cell_type": "code",
      "execution_count": null,
      "metadata": {
        "colab": {
          "base_uri": "https://localhost:8080/",
          "height": 394
        },
        "id": "HI4c6hxeTR8E",
        "outputId": "40341153-329c-45f0-b252-b227aa17e227"
      },
      "outputs": [
        {
          "output_type": "execute_result",
          "data": {
            "text/plain": [
              "     i  Probabilidad P{X=i}  Distribución F(i)\n",
              "0    0             0.001456           0.001456\n",
              "1    1             0.019419           0.020875\n",
              "2    2             0.096123           0.116999\n",
              "3    3             0.233026           0.350025\n",
              "4    4             0.305847           0.655872\n",
              "5    5             0.225856           0.881728\n",
              "6    6             0.094107           0.975835\n",
              "7    7             0.021510           0.997345\n",
              "8    8             0.002521           0.999866\n",
              "9    9             0.000132           0.999998\n",
              "10  10             0.000002           1.000000"
            ],
            "text/html": [
              "\n",
              "  <div id=\"df-81ad7564-7126-42fe-ba59-58eeab513f1c\">\n",
              "    <div class=\"colab-df-container\">\n",
              "      <div>\n",
              "<style scoped>\n",
              "    .dataframe tbody tr th:only-of-type {\n",
              "        vertical-align: middle;\n",
              "    }\n",
              "\n",
              "    .dataframe tbody tr th {\n",
              "        vertical-align: top;\n",
              "    }\n",
              "\n",
              "    .dataframe thead th {\n",
              "        text-align: right;\n",
              "    }\n",
              "</style>\n",
              "<table border=\"1\" class=\"dataframe\">\n",
              "  <thead>\n",
              "    <tr style=\"text-align: right;\">\n",
              "      <th></th>\n",
              "      <th>i</th>\n",
              "      <th>Probabilidad P{X=i}</th>\n",
              "      <th>Distribución F(i)</th>\n",
              "    </tr>\n",
              "  </thead>\n",
              "  <tbody>\n",
              "    <tr>\n",
              "      <th>0</th>\n",
              "      <td>0</td>\n",
              "      <td>0.001456</td>\n",
              "      <td>0.001456</td>\n",
              "    </tr>\n",
              "    <tr>\n",
              "      <th>1</th>\n",
              "      <td>1</td>\n",
              "      <td>0.019419</td>\n",
              "      <td>0.020875</td>\n",
              "    </tr>\n",
              "    <tr>\n",
              "      <th>2</th>\n",
              "      <td>2</td>\n",
              "      <td>0.096123</td>\n",
              "      <td>0.116999</td>\n",
              "    </tr>\n",
              "    <tr>\n",
              "      <th>3</th>\n",
              "      <td>3</td>\n",
              "      <td>0.233026</td>\n",
              "      <td>0.350025</td>\n",
              "    </tr>\n",
              "    <tr>\n",
              "      <th>4</th>\n",
              "      <td>4</td>\n",
              "      <td>0.305847</td>\n",
              "      <td>0.655872</td>\n",
              "    </tr>\n",
              "    <tr>\n",
              "      <th>5</th>\n",
              "      <td>5</td>\n",
              "      <td>0.225856</td>\n",
              "      <td>0.881728</td>\n",
              "    </tr>\n",
              "    <tr>\n",
              "      <th>6</th>\n",
              "      <td>6</td>\n",
              "      <td>0.094107</td>\n",
              "      <td>0.975835</td>\n",
              "    </tr>\n",
              "    <tr>\n",
              "      <th>7</th>\n",
              "      <td>7</td>\n",
              "      <td>0.021510</td>\n",
              "      <td>0.997345</td>\n",
              "    </tr>\n",
              "    <tr>\n",
              "      <th>8</th>\n",
              "      <td>8</td>\n",
              "      <td>0.002521</td>\n",
              "      <td>0.999866</td>\n",
              "    </tr>\n",
              "    <tr>\n",
              "      <th>9</th>\n",
              "      <td>9</td>\n",
              "      <td>0.000132</td>\n",
              "      <td>0.999998</td>\n",
              "    </tr>\n",
              "    <tr>\n",
              "      <th>10</th>\n",
              "      <td>10</td>\n",
              "      <td>0.000002</td>\n",
              "      <td>1.000000</td>\n",
              "    </tr>\n",
              "  </tbody>\n",
              "</table>\n",
              "</div>\n",
              "      <button class=\"colab-df-convert\" onclick=\"convertToInteractive('df-81ad7564-7126-42fe-ba59-58eeab513f1c')\"\n",
              "              title=\"Convert this dataframe to an interactive table.\"\n",
              "              style=\"display:none;\">\n",
              "        \n",
              "  <svg xmlns=\"http://www.w3.org/2000/svg\" height=\"24px\"viewBox=\"0 0 24 24\"\n",
              "       width=\"24px\">\n",
              "    <path d=\"M0 0h24v24H0V0z\" fill=\"none\"/>\n",
              "    <path d=\"M18.56 5.44l.94 2.06.94-2.06 2.06-.94-2.06-.94-.94-2.06-.94 2.06-2.06.94zm-11 1L8.5 8.5l.94-2.06 2.06-.94-2.06-.94L8.5 2.5l-.94 2.06-2.06.94zm10 10l.94 2.06.94-2.06 2.06-.94-2.06-.94-.94-2.06-.94 2.06-2.06.94z\"/><path d=\"M17.41 7.96l-1.37-1.37c-.4-.4-.92-.59-1.43-.59-.52 0-1.04.2-1.43.59L10.3 9.45l-7.72 7.72c-.78.78-.78 2.05 0 2.83L4 21.41c.39.39.9.59 1.41.59.51 0 1.02-.2 1.41-.59l7.78-7.78 2.81-2.81c.8-.78.8-2.07 0-2.86zM5.41 20L4 18.59l7.72-7.72 1.47 1.35L5.41 20z\"/>\n",
              "  </svg>\n",
              "      </button>\n",
              "      \n",
              "  <style>\n",
              "    .colab-df-container {\n",
              "      display:flex;\n",
              "      flex-wrap:wrap;\n",
              "      gap: 12px;\n",
              "    }\n",
              "\n",
              "    .colab-df-convert {\n",
              "      background-color: #E8F0FE;\n",
              "      border: none;\n",
              "      border-radius: 50%;\n",
              "      cursor: pointer;\n",
              "      display: none;\n",
              "      fill: #1967D2;\n",
              "      height: 32px;\n",
              "      padding: 0 0 0 0;\n",
              "      width: 32px;\n",
              "    }\n",
              "\n",
              "    .colab-df-convert:hover {\n",
              "      background-color: #E2EBFA;\n",
              "      box-shadow: 0px 1px 2px rgba(60, 64, 67, 0.3), 0px 1px 3px 1px rgba(60, 64, 67, 0.15);\n",
              "      fill: #174EA6;\n",
              "    }\n",
              "\n",
              "    [theme=dark] .colab-df-convert {\n",
              "      background-color: #3B4455;\n",
              "      fill: #D2E3FC;\n",
              "    }\n",
              "\n",
              "    [theme=dark] .colab-df-convert:hover {\n",
              "      background-color: #434B5C;\n",
              "      box-shadow: 0px 1px 3px 1px rgba(0, 0, 0, 0.15);\n",
              "      filter: drop-shadow(0px 1px 2px rgba(0, 0, 0, 0.3));\n",
              "      fill: #FFFFFF;\n",
              "    }\n",
              "  </style>\n",
              "\n",
              "      <script>\n",
              "        const buttonEl =\n",
              "          document.querySelector('#df-81ad7564-7126-42fe-ba59-58eeab513f1c button.colab-df-convert');\n",
              "        buttonEl.style.display =\n",
              "          google.colab.kernel.accessAllowed ? 'block' : 'none';\n",
              "\n",
              "        async function convertToInteractive(key) {\n",
              "          const element = document.querySelector('#df-81ad7564-7126-42fe-ba59-58eeab513f1c');\n",
              "          const dataTable =\n",
              "            await google.colab.kernel.invokeFunction('convertToInteractive',\n",
              "                                                     [key], {});\n",
              "          if (!dataTable) return;\n",
              "\n",
              "          const docLinkHtml = 'Like what you see? Visit the ' +\n",
              "            '<a target=\"_blank\" href=https://colab.research.google.com/notebooks/data_table.ipynb>data table notebook</a>'\n",
              "            + ' to learn more about interactive tables.';\n",
              "          element.innerHTML = '';\n",
              "          dataTable['output_type'] = 'display_data';\n",
              "          await google.colab.output.renderOutput(dataTable, element);\n",
              "          const docLink = document.createElement('div');\n",
              "          docLink.innerHTML = docLinkHtml;\n",
              "          element.appendChild(docLink);\n",
              "        }\n",
              "      </script>\n",
              "    </div>\n",
              "  </div>\n",
              "  "
            ]
          },
          "metadata": {},
          "execution_count": 3
        }
      ],
      "source": [
        "# **b. PMF y FDA la Distribución Hipergeométrica**\n",
        "x=list(range(0,11))\n",
        "rv=stats.hypergeom(M = 30, n = 10, N=12)\n",
        "df=pd.DataFrame({'i':x,'Probabilidad P{X=i}':rv.pmf(x),'Distribución F(i)':rv.cdf(x),})\n",
        "df"
      ]
    },
    {
      "cell_type": "markdown",
      "source": [
        "\n",
        "# **c. Valores críticos. Si se conoce que en la muestra se extrajeron el 60 porciento defectuosos, a cuantos corresponde**\n"
      ],
      "metadata": {
        "id": "NOSktNNFNNfz"
      }
    },
    {
      "cell_type": "code",
      "source": [
        "# **c. Valores críticos. Si se conoce que en la muestra se extrajeron el 60 porciento defectuosos, a cuantos corresponde**\n",
        "stats.hypergeom(M = 30, n = 10, N=12).ppf(0.6)"
      ],
      "metadata": {
        "colab": {
          "base_uri": "https://localhost:8080/"
        },
        "id": "f35eComQNAOU",
        "outputId": "069381c8-1c71-42e8-eea2-7efc035a0497"
      },
      "execution_count": null,
      "outputs": [
        {
          "output_type": "execute_result",
          "data": {
            "text/plain": [
              "4.0"
            ]
          },
          "metadata": {},
          "execution_count": 4
        }
      ]
    },
    {
      "cell_type": "markdown",
      "source": [
        "# **d. Suponga que se tienen 3 Lotes de éstos productos y se conocen que los defectuosos de cada lote son 10, 15 y 20, Construya en un solo cuadro las distribuciones que representan cada caso**"
      ],
      "metadata": {
        "id": "8eb4UshhNX2M"
      }
    },
    {
      "cell_type": "code",
      "execution_count": null,
      "metadata": {
        "colab": {
          "base_uri": "https://localhost:8080/",
          "height": 490
        },
        "id": "K4DiYzTLfv5y",
        "outputId": "01c78464-bfab-4a3f-d358-5051ebdbb6ad"
      },
      "outputs": [
        {
          "data": {
            "text/plain": [
              "<Figure size 1500x2000 with 0 Axes>"
            ]
          },
          "metadata": {},
          "output_type": "display_data"
        },
        {
          "data": {
            "image/png": "[encoded data removed]",
            "text/plain": [
              "<Figure size 640x480 with 1 Axes>"
            ]
          },
          "metadata": {},
          "output_type": "display_data"
        }
      ],
      "source": [
        "# **d. Comparaciones Distribución Hipergeométricas**\n",
        "plt.figure(figsize=(15, 20))\n",
        "M, n, N = 30, 10, 12 # parametros de forma\n",
        "x = np.arange(0, n+1)\n",
        "\n",
        "distributions = pd.DataFrame({\n",
        "    'x': x,\n",
        "    'dist_N=10': stats.hypergeom(30, 10, 10).pmf(x),\n",
        "    'dist_N=15': stats.hypergeom(30, 10, 15).pmf(x),\n",
        "    'dist_N=20': stats.hypergeom(30, 10, 20).pmf(x),\n",
        "})\n",
        "ax = distributions.plot(x='x', y='dist_N=10', legend=True, color='r')\n",
        "distributions.plot(x='x', y='dist_N=15', legend=True, ax=ax, color='b', linestyle='--')\n",
        "distributions.plot(x='x', y='dist_N=20', legend=True, ax=ax, color='g', linestyle='-.')\n",
        "ax.set_ylim(0, 0.4)\n",
        "\n",
        "plt.title('Función de Masa de Probabilidad Binomial Hipergeometrica')\n",
        "plt.ylabel('probabilidad')\n",
        "plt.xlabel('valores')\n",
        "ax.get_legend()\n",
        "plt.show()"
      ]
    },
    {
      "cell_type": "markdown",
      "source": [
        "\n",
        "# **e. Construya el histograma para la distribución dada**"
      ],
      "metadata": {
        "id": "OJiQrl12Nrh3"
      }
    },
    {
      "cell_type": "code",
      "execution_count": null,
      "metadata": {
        "colab": {
          "base_uri": "https://localhost:8080/",
          "height": 472
        },
        "id": "R3lUQfDJftWC",
        "outputId": "a0ffd955-526d-4a7d-a036-57ad13fe8863"
      },
      "outputs": [
        {
          "output_type": "display_data",
          "data": {
            "text/plain": [
              "<Figure size 640x480 with 1 Axes>"
            ],
            "image/png": "[encoded data removed]"
          },
          "metadata": {}
        }
      ],
      "source": [
        "# **e. Construya el histograma para la distribución dada**\n",
        "aleatorios = stats.hypergeom(30, 10, 12).rvs(10000) # genera aleatorios\n",
        "cuenta, cajas, ignorar = plt.hist(aleatorios, 20)\n",
        "plt.ylabel('frequencia')\n",
        "plt.xlabel('valores')\n",
        "plt.title('Histograma Distribución Hipergeometrica ')\n",
        "plt.show()"
      ]
    },
    {
      "cell_type": "markdown",
      "source": [
        "\n",
        "# **f. ¿cuál es la probabilidad de que no aparezca ningun articulo defectuoso en el lote considerado arriba**"
      ],
      "metadata": {
        "id": "2s2e9XsuOAys"
      }
    },
    {
      "cell_type": "code",
      "source": [
        "# **f. ¿cuál es la probabilidad de que no aparezca ningun articulo defectuoso en el lote considerado arriba**\n",
        "rv=stats.hypergeom(30, 10, 12)\n",
        "print('La probabilidad de que no aparezca ningun articulo defectuoso es ','P{X=0} =',rv.pmf(0))"
      ],
      "metadata": {
        "colab": {
          "base_uri": "https://localhost:8080/"
        },
        "id": "9GripF2oODRt",
        "outputId": "a766a66c-8b37-4919-f846-02a83ebdc9bb"
      },
      "execution_count": null,
      "outputs": [
        {
          "output_type": "stream",
          "name": "stdout",
          "text": [
            "La probabilidad de que no aparezca ningun articulo defectuoso es  P{X=0} = 0.001456414649817948\n"
          ]
        }
      ]
    },
    {
      "cell_type": "markdown",
      "source": [
        "\n",
        "# **g. ¿cuál es la probabilidad de que aparezca entre 5 y 8 arículos defectuosos en el lote considerado arriba**"
      ],
      "metadata": {
        "id": "bwKcjgo1O0Dj"
      }
    },
    {
      "cell_type": "code",
      "source": [
        "# **g. ¿cuál es la probabilidad de que aparezca entre 5 y 8 arículos defectuosos en el lote considerado arriba**\n",
        "rv=stats.hypergeom(30, 10, 12)\n",
        "print('La probabilidad de que no aparezca ningun articulo defectuoso es ','P{5=<X<=8} =',rv.cdf(8)-rv.cdf(4))"
      ],
      "metadata": {
        "colab": {
          "base_uri": "https://localhost:8080/"
        },
        "id": "5gLCKMd7ODXF",
        "outputId": "c986f2a8-1d93-4891-b71d-619896040ccf"
      },
      "execution_count": null,
      "outputs": [
        {
          "output_type": "stream",
          "name": "stdout",
          "text": [
            "La probabilidad de que no aparezca ningun articulo defectuoso es  P{5=<X<=8} = 0.34399393709738535\n"
          ]
        }
      ]
    },
    {
      "cell_type": "markdown",
      "source": [
        "\n",
        "#**h. ¿cuál es la probabilidad de que aparezca exactamente 7 arículos defectuosos en el lote considerado arriba**"
      ],
      "metadata": {
        "id": "_Km-PGITQCTp"
      }
    },
    {
      "cell_type": "code",
      "source": [
        "#**h. ¿cuál es la probabilidad de que aparezca exactamente 7 arículos defectuosos en el lote considerado arriba**\n",
        "rv=stats.hypergeom(30, 10, 12)\n",
        "print('La probabilidad de que no aparezca ningun articulo defectuoso es ','P{X=7} =',rv.pmf(7))"
      ],
      "metadata": {
        "colab": {
          "base_uri": "https://localhost:8080/"
        },
        "id": "nTvgJnBHODce",
        "outputId": "449cc186-6071-4e14-c594-19590a8eab0d"
      },
      "execution_count": null,
      "outputs": [
        {
          "output_type": "stream",
          "name": "stdout",
          "text": [
            "La probabilidad de que no aparezca ningun articulo defectuoso es  P{X=7} = 0.021510124058849698\n"
          ]
        }
      ]
    },
    {
      "cell_type": "markdown",
      "source": [
        "\n",
        "# **i. El numero esperado de arículos defectuosos en el lote considerado arriba**"
      ],
      "metadata": {
        "id": "7xIWFTrRQV09"
      }
    },
    {
      "cell_type": "code",
      "source": [
        "# **i. El numero esperado de arículos defectuosos en el lote considerado arriba**\n",
        "rv=stats.hypergeom(30, 10, 12)\n",
        "rv.mean()"
      ],
      "metadata": {
        "colab": {
          "base_uri": "https://localhost:8080/"
        },
        "id": "q0v8fXtmODiG",
        "outputId": "ef17dfeb-760d-4631-ba77-88d870ded05b"
      },
      "execution_count": null,
      "outputs": [
        {
          "output_type": "execute_result",
          "data": {
            "text/plain": [
              "4.0"
            ]
          },
          "metadata": {},
          "execution_count": 13
        }
      ]
    },
    {
      "cell_type": "markdown",
      "source": [
        "\n",
        "# **j. La Varianza de la variable aleatoria**"
      ],
      "metadata": {
        "id": "-wO6hoVaQwaZ"
      }
    },
    {
      "cell_type": "code",
      "source": [
        "# **j. La Varianza de la variable aleatoria**\n",
        "rv=stats.hypergeom(30, 10, 12)\n",
        "rv.var()"
      ],
      "metadata": {
        "colab": {
          "base_uri": "https://localhost:8080/"
        },
        "id": "efCvzCuyODv8",
        "outputId": "20ce2c17-62ce-441f-894b-e7edfe709361"
      },
      "execution_count": null,
      "outputs": [
        {
          "output_type": "execute_result",
          "data": {
            "text/plain": [
              "1.6551724137931034"
            ]
          },
          "metadata": {},
          "execution_count": 14
        }
      ]
    }
  ],
  "metadata": {
    "colab": {
      "provenance": [],
      "mount_file_id": "13X7nPE01ohpMi0ISyxuJIiqLTpL66n3c",
      "authorship_tag": "ABX9TyMvd79yHQx2b+SddcqYFRAJ",
      "include_colab_link": true
    },
    "kernelspec": {
      "display_name": "Python 3",
      "name": "python3"
    },
    "language_info": {
      "name": "python"
    }
  },
  "nbformat": 4,
  "nbformat_minor": 0
}