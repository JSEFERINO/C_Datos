{
  "cells": [
    {
      "cell_type": "markdown",
      "metadata": {
        "id": "view-in-github",
        "colab_type": "text"
      },
      "source": [
        "<a href=\"https://colab.research.google.com/github/JSEFERINO/C_Datos/blob/main/5_C_Datos_funciones_if.ipynb\" target=\"_parent\"><img src=\"https://colab.research.google.com/assets/colab-badge.svg\" alt=\"Open In Colab\"/></a>"
      ]
    },
    {
      "cell_type": "markdown",
      "source": [
        "# **Curso Introductorio a la Ciencia de Datos por Julio Hurtado Márquez**\n",
        "## **Parte I**"
      ],
      "metadata": {
        "id": "IKh2T45AnwtN"
      }
    },
    {
      "cell_type": "code",
      "execution_count": null,
      "metadata": {
        "id": "NUJLmwAkEDNa"
      },
      "outputs": [],
      "source": [
        "import pandas as pd\n",
        "import numpy as np"
      ]
    },
    {
      "cell_type": "markdown",
      "source": [
        "# **Clase No. 5: Introducción Informal - Funciones**"
      ],
      "metadata": {
        "id": "xPcsXm1UnvF2"
      }
    },
    {
      "cell_type": "markdown",
      "source": [
        "Andina: Antioquia, Boyacá, Caldas, Caquetá, Cauca, Cesar, Chocó, Cundinamarca, Huila, Nariño, Norte de Santander, Putumayo, Quindío, Risaralda, Santander, Tolima y Valle del Cauca.\n",
        "Amazonia: Amazonas, Caquetá, Guainía, Guaviare, Meta, Putumayo, Vaupés y Vichada.\n",
        "Caribe: Atlántico, Bolívar, Cesar, Córdoba, La Guajira, Magdalena, Chocó (Acandí y Ungía), Antioquia y Sucre.\n",
        "Insular: San Andrés y Providencia, Bolívar (Islas del Rosario), Bolívar (Islas de San Bernardo), Cauca (Isla Gorgona), Valle del Cauca (Isla de Malpelo).\n",
        "Orinoquía: Arauca, Casanare, Meta y Vichada.\n",
        "Pacífica: Cauca, Valle del Cauca, Chocó y Nariño."
      ],
      "metadata": {
        "id": "l3JyJEYFWaMm"
      }
    },
    {
      "cell_type": "markdown",
      "source": [
        "# **26. Ejemplos con los Elementos de Programación estudiados**\n",
        "- Un programa en Python puede definir además del algoritmo propiamente dicho una serie de comentarios en el código fuente que sirvan para aclarar los objetivos de ciertas partes del programa."
      ],
      "metadata": {
        "id": "KVcyUoZVftQ5"
      }
    },
    {
      "cell_type": "markdown",
      "source": [
        "## **a. Mostrar la tabla de multiplicar del 5 empleando primero el while y seguidamente de nuevo empleando el for.**"
      ],
      "metadata": {
        "id": "rKaEYzThgXq1"
      }
    },
    {
      "cell_type": "code",
      "source": [
        "\"\"\"\n",
        "Mostrar la tabla de 5 con las estructuras repetitivas:\n",
        "  while\n",
        "  y\n",
        "  for\n",
        "\"\"\"\n",
        "\n",
        "#utilizando el while\n",
        "print(\"Tabla del 5 empleando el while\")\n",
        "x=5\n",
        "while x<=50:\n",
        "    print(x)\n",
        "    x=x+5\n",
        "\n",
        "#utilizando el for\n",
        "print(\"Tabla del 5 empleando el for\")\n",
        "for x in range(5,51,5):\n",
        "    print(x) "
      ],
      "metadata": {
        "colab": {
          "base_uri": "https://localhost:8080/"
        },
        "id": "4Y8Y215rgdd2",
        "outputId": "fe50313c-1489-4254-8a52-a45f7f7a0841"
      },
      "execution_count": null,
      "outputs": [
        {
          "output_type": "stream",
          "name": "stdout",
          "text": [
            "Tabla del 5 empleando el while\n",
            "5\n",
            "10\n",
            "15\n",
            "20\n",
            "25\n",
            "30\n",
            "35\n",
            "40\n",
            "45\n",
            "50\n",
            "Tabla del 5 empleando el for\n",
            "5\n",
            "10\n",
            "15\n",
            "20\n",
            "25\n",
            "30\n",
            "35\n",
            "40\n",
            "45\n",
            "50\n"
          ]
        }
      ]
    },
    {
      "cell_type": "markdown",
      "source": [
        "# **b. Realizar un programa que solicite la carga de valores enteros por teclado y los sume. Finalizar la carga al ingresar el valor -1. Dejar como comentario dentro del código fuente el enunciado del problema.**"
      ],
      "metadata": {
        "id": "6Ees4NKKiRgE"
      }
    },
    {
      "cell_type": "code",
      "source": [
        "\"\"\"\n",
        "Este programa es imposible realizarlo con el for prque no sabemos cuantas veces se va a repetir\n",
        "o cuantos numeros hay que sumar.\n",
        "Se soloca el acumulador en cero\n",
        "El primer valor se ingresa antes de la estructura repetitiva\n",
        "\"\"\"\n",
        "suma = 0 # acumulador\n",
        "valor = int(input('ingrese el valor y con -1 finalice la carga  ')) # se carga el primer valor\n",
        "while valor!=-1: # cuando se coloque -1, se sale del while\n",
        "  suma = suma + valor\n",
        "  valor = int(input('ingrese el valor y con -1 finalice la carga  ')) # se carga el segundo valor hasta el último valor\n",
        "print('suma de los valores ingresados', suma)"
      ],
      "metadata": {
        "colab": {
          "base_uri": "https://localhost:8080/"
        },
        "id": "t2yi80L6iVG6",
        "outputId": "a3da4be6-e1e4-494d-a855-8239bccb1991"
      },
      "execution_count": null,
      "outputs": [
        {
          "output_type": "stream",
          "name": "stdout",
          "text": [
            "ingrese el valor y con -1 finalice la carga  10\n",
            "ingrese el valor y con -1 finalice la carga  25\n",
            "ingrese el valor y con -1 finalice la carga  69\n",
            "ingrese el valor y con -1 finalice la carga  -1\n",
            "suma de los valores ingresado 104\n"
          ]
        }
      ]
    },
    {
      "cell_type": "markdown",
      "source": [
        "# **c. Confeccionar un programa que solicite la carga de 10 valores reales por teclado. Mostrar al final su suma.**"
      ],
      "metadata": {
        "id": "-dCp6kDrlQqM"
      }
    },
    {
      "cell_type": "code",
      "source": [
        "suma = 0\n",
        "for x in range (10):\n",
        "  valor = float(input(\"Ingrese un valor \"))\n",
        "  suma = suma + valor\n",
        "print('La suma de los 10 valores ingresados son ', suma)"
      ],
      "metadata": {
        "colab": {
          "base_uri": "https://localhost:8080/"
        },
        "id": "Be_blbatloof",
        "outputId": "738f2001-cb48-43a8-c10b-1ee520e7aca8"
      },
      "execution_count": null,
      "outputs": [
        {
          "output_type": "stream",
          "name": "stdout",
          "text": [
            "Ingrese un valor 5\n",
            "Ingrese un valor 7\n",
            "Ingrese un valor 6\n",
            "Ingrese un valor 9\n",
            "Ingrese un valor 5\n",
            "Ingrese un valor 4\n",
            "Ingrese un valor 5\n",
            "Ingrese un valor 3\n",
            "Ingrese un valor 8\n",
            "Ingrese un valor 9\n",
            "La suma de los 10 valores ingresados son  61.0\n"
          ]
        }
      ]
    },
    {
      "cell_type": "markdown",
      "source": [
        "# **d. Realizar la carga de dos nombres por teclado. Mostrar cual de los dos es mayor alfabéticamente o si son iguales.**"
      ],
      "metadata": {
        "id": "eU2jVWEHnK3y"
      }
    },
    {
      "cell_type": "code",
      "source": [
        "nombre1=input(\"Ingrese el primer nombre:\")\n",
        "nombre2=input(\"Ingrese el segundo nombre:\")\n",
        "if nombre1==nombre2:\n",
        "    print(\"Ingreso dos nombre iguales\")\n",
        "else:\n",
        "    if nombre1>nombre2:\n",
        "        print(nombre1)\n",
        "        print(\"es mayor alfabeticamente\")\n",
        "    else:\n",
        "        print(nombre2)\n",
        "        print(\"es mayor alfabeticamente\")"
      ],
      "metadata": {
        "colab": {
          "base_uri": "https://localhost:8080/"
        },
        "id": "BtB-QA95nRLq",
        "outputId": "3188f02b-221d-4fa5-cf20-cc5a996dcfac"
      },
      "execution_count": null,
      "outputs": [
        {
          "output_type": "stream",
          "name": "stdout",
          "text": [
            "Ingrese el primer nombre:Marelis\n",
            "Ingrese el segundo nombre:Yomarlys\n",
            "Yomarlys\n",
            "es mayor alfabeticamente\n"
          ]
        }
      ]
    },
    {
      "cell_type": "markdown",
      "source": [
        "# **e. Realizar la carga por teclado del nombre, edad y altura de dos personas. Mostrar por pantalla el nombre de la persona con mayor altura.**"
      ],
      "metadata": {
        "id": "_T052tWmni4p"
      }
    },
    {
      "cell_type": "code",
      "source": [
        "print(\"Datos de la primer persona\")\n",
        "nombre1=input(\"Ingrese nombre:\")\n",
        "edad1=int(input(\"Ingrese la edad:\"))\n",
        "altura1=float(input(\"Ingrese la altura Ej 1.75:\"))\n",
        "print(\"Datos de la segunda persona\")\n",
        "nombre2=input(\"Ingrese nombre:\")\n",
        "edad2=int(input(\"Ingrese la edad:\"))\n",
        "altura2=float(input(\"Ingrese la altura Ej 1.75:\"))\n",
        "print(\"La persona mas alta es:\")\n",
        "if altura1>altura2:\n",
        "    print(nombre1)\n",
        "else:\n",
        "    print(nombre2)"
      ],
      "metadata": {
        "colab": {
          "base_uri": "https://localhost:8080/"
        },
        "id": "4zHBorcKnu3o",
        "outputId": "0686d0e2-5221-4bfd-f331-649faf1a4d03"
      },
      "execution_count": null,
      "outputs": [
        {
          "output_type": "stream",
          "name": "stdout",
          "text": [
            "Datos de la primer persona\n",
            "Ingrese nombre:Julio\n",
            "Ingrese la edad:54\n",
            "Ingrese la altura Ej 1.75:1.74\n",
            "Datos de la segunda persona\n",
            "Ingrese nombre:Marelys\n",
            "Ingrese la edad:53\n",
            "Ingrese la altura Ej 1.75:1.70\n",
            "La persona mas alta es:\n",
            "Julio\n"
          ]
        }
      ]
    },
    {
      "cell_type": "markdown",
      "source": [
        "# **f. Definir una lista que almacene 5 enteros. Sumar todos sus elementos y mostrar dicha suma.**"
      ],
      "metadata": {
        "id": "0CZzJi-8z3qA"
      }
    },
    {
      "cell_type": "code",
      "source": [
        "lista=[10,7,3,7,2] # Primero definimos una lista por asignación con 5 elementos:\n",
        "suma=0 # Definimos un acumulador para sumar los elementos de la lista y un contador para indicar que posición de la lista accedemos:\n",
        "x=0\n",
        "while x<len(lista): # Mediante un ciclo while recorremos y sumamos cada elementos de la lista:\n",
        "    suma=suma+lista[x]\n",
        "    x=x+1\n",
        "print(\"Los elementos de la lista son\")\n",
        "\"\"\" \n",
        "Cuando llamamos a la función print pasando como dato una lista \n",
        "luego se muestra en pantalla todos los elementos de la lista entre corchetes y separados por coma tal cual como la definimos:\n",
        "\"\"\"\n",
        "print(lista)\n",
        "# Finalmente mostramos el acumulador:\n",
        "print(\"La suma de todos sus elementos es\")    \n",
        "print(suma) "
      ],
      "metadata": {
        "colab": {
          "base_uri": "https://localhost:8080/"
        },
        "id": "ZbZA9qsjz_ym",
        "outputId": "40fe0fb0-b15f-42b6-a97d-e69c5495b5bc"
      },
      "execution_count": null,
      "outputs": [
        {
          "output_type": "stream",
          "name": "stdout",
          "text": [
            "Los elementos de la lista son\n",
            "[10, 7, 3, 7, 2]\n",
            "La suma de todos sus elementos es\n",
            "29\n"
          ]
        }
      ]
    },
    {
      "cell_type": "markdown",
      "metadata": {
        "id": "lcyvV73fpB96"
      },
      "source": [
        "#**27. Concepto de funciones - Programación estructurada**\n",
        "#**a. Funciones pre-fabricadas - _insert_()**\n"
      ]
    },
    {
      "cell_type": "code",
      "source": [
        "# Comenzamos con una lista\n",
        "dpto = [\"Bolívar\", \"Atlántico\", \"Magdalena\", \"Córdoba\", \"Sucre\", \"Cesar\", \"Guajira\"]\n",
        "ciudad = [\"Cartagena\", \"Barranquilla\", \"Santa Marta\", \"Montería\", \"Sincelejo\", \"Valledupar\", \"Riohacha\"]"
      ],
      "metadata": {
        "id": "z2-9GmvMqPgl"
      },
      "execution_count": null,
      "outputs": []
    },
    {
      "cell_type": "code",
      "execution_count": null,
      "metadata": {
        "id": "Rtl1IxexmbOb",
        "colab": {
          "base_uri": "https://localhost:8080/"
        },
        "outputId": "f5d5726f-c32d-42a4-b3b0-09998edd4627"
      },
      "outputs": [
        {
          "output_type": "execute_result",
          "data": {
            "text/plain": [
              "['Antioquia',\n",
              " 'Bolívar',\n",
              " 'Atlántico',\n",
              " 'Magdalena',\n",
              " 'Córdoba',\n",
              " 'Sucre',\n",
              " 'Cesar',\n",
              " 'Guajira']"
            ]
          },
          "metadata": {},
          "execution_count": 15
        }
      ],
      "source": [
        "dpto.insert(0, \"Antioquia\")\n",
        "dpto"
      ]
    },
    {
      "cell_type": "code",
      "execution_count": null,
      "metadata": {
        "id": "KAZQ4pB8mbSG",
        "colab": {
          "base_uri": "https://localhost:8080/"
        },
        "outputId": "a8589aa4-ed9a-4fac-9c18-41b5b299b589"
      },
      "outputs": [
        {
          "output_type": "execute_result",
          "data": {
            "text/plain": [
              "['Medellin',\n",
              " 'Cartagena',\n",
              " 'Barranquilla',\n",
              " 'Santa Marta',\n",
              " 'Montería',\n",
              " 'Sincelejo',\n",
              " 'Valledupar',\n",
              " 'Riohacha']"
            ]
          },
          "metadata": {},
          "execution_count": 16
        }
      ],
      "source": [
        "ciudad.insert(0, \"Medellin\")\n",
        "ciudad"
      ]
    },
    {
      "cell_type": "markdown",
      "source": [
        "#**b. Funciones pre-fabricadas - len()**"
      ],
      "metadata": {
        "id": "jCVtn585qtsL"
      }
    },
    {
      "cell_type": "code",
      "execution_count": null,
      "metadata": {
        "id": "JciBDnLPfL8Q",
        "colab": {
          "base_uri": "https://localhost:8080/"
        },
        "outputId": "993eeef2-33fe-4cef-c88b-8a71abf18351"
      },
      "outputs": [
        {
          "output_type": "execute_result",
          "data": {
            "text/plain": [
              "(8, 8)"
            ]
          },
          "metadata": {},
          "execution_count": 17
        }
      ],
      "source": [
        "len(dpto), len(ciudad)"
      ]
    },
    {
      "cell_type": "markdown",
      "source": [
        "# **c. Funciones pre-fabricadas - _max_(), _min_(), _type_()**"
      ],
      "metadata": {
        "id": "B1DeXh4Hq9gJ"
      }
    },
    {
      "cell_type": "code",
      "execution_count": null,
      "metadata": {
        "id": "SueD3-KtfMGE",
        "colab": {
          "base_uri": "https://localhost:8080/"
        },
        "outputId": "e34e14b3-428d-4fce-d7e3-b18a6add5856"
      },
      "outputs": [
        {
          "output_type": "execute_result",
          "data": {
            "text/plain": [
              "90"
            ]
          },
          "metadata": {},
          "execution_count": 18
        }
      ],
      "source": [
        "max([23,56,87,90,64])"
      ]
    },
    {
      "cell_type": "code",
      "execution_count": null,
      "metadata": {
        "id": "HsYaFdSYfMOY",
        "colab": {
          "base_uri": "https://localhost:8080/"
        },
        "outputId": "b558d4dd-3afa-4f41-a076-637b5b87a940"
      },
      "outputs": [
        {
          "output_type": "execute_result",
          "data": {
            "text/plain": [
              "23"
            ]
          },
          "metadata": {},
          "execution_count": 19
        }
      ],
      "source": [
        "min([23,56,87,90,64])"
      ]
    },
    {
      "cell_type": "code",
      "execution_count": null,
      "metadata": {
        "id": "QqUxQZSAfMXb",
        "colab": {
          "base_uri": "https://localhost:8080/"
        },
        "outputId": "c68a577d-0829-43e4-f215-2f8566586325"
      },
      "outputs": [
        {
          "output_type": "execute_result",
          "data": {
            "text/plain": [
              "list"
            ]
          },
          "metadata": {},
          "execution_count": 20
        }
      ],
      "source": [
        "type([23,56,87,90,64])"
      ]
    },
    {
      "cell_type": "code",
      "execution_count": null,
      "metadata": {
        "id": "baSFyT7MoTPp",
        "colab": {
          "base_uri": "https://localhost:8080/"
        },
        "outputId": "fdb58982-2933-483c-afed-464be1c28109"
      },
      "outputs": [
        {
          "output_type": "execute_result",
          "data": {
            "text/plain": [
              "list"
            ]
          },
          "metadata": {},
          "execution_count": 21
        }
      ],
      "source": [
        "type(dpto)"
      ]
    },
    {
      "cell_type": "code",
      "execution_count": null,
      "metadata": {
        "id": "6PnnYAFhoTcu",
        "colab": {
          "base_uri": "https://localhost:8080/"
        },
        "outputId": "87f2baeb-8902-4f39-c67d-5bc335fd4f09"
      },
      "outputs": [
        {
          "output_type": "execute_result",
          "data": {
            "text/plain": [
              "list"
            ]
          },
          "metadata": {},
          "execution_count": 22
        }
      ],
      "source": [
        "type(ciudad)"
      ]
    },
    {
      "cell_type": "markdown",
      "source": [
        "# **d. Funciones pre-fabricadas - _round_()**"
      ],
      "metadata": {
        "id": "3mQ5nUARrW-G"
      }
    },
    {
      "cell_type": "code",
      "execution_count": null,
      "metadata": {
        "id": "EbWKP8ZhqGmG",
        "colab": {
          "base_uri": "https://localhost:8080/"
        },
        "outputId": "a9146a26-f150-4db3-f130-7615fbee5c81"
      },
      "outputs": [
        {
          "output_type": "execute_result",
          "data": {
            "text/plain": [
              "2.57"
            ]
          },
          "metadata": {},
          "execution_count": 23
        }
      ],
      "source": [
        "round(2.5677,2)"
      ]
    },
    {
      "cell_type": "code",
      "execution_count": null,
      "metadata": {
        "id": "eTWnTeQTqGsT",
        "colab": {
          "base_uri": "https://localhost:8080/"
        },
        "outputId": "ce140230-15a2-48d9-f2a2-aba34dc2e30f"
      },
      "outputs": [
        {
          "output_type": "execute_result",
          "data": {
            "text/plain": [
              "2.6"
            ]
          },
          "metadata": {},
          "execution_count": 24
        }
      ],
      "source": [
        "round(2.5677,1)"
      ]
    },
    {
      "cell_type": "code",
      "execution_count": null,
      "metadata": {
        "id": "uPfgQE8yqGw0",
        "colab": {
          "base_uri": "https://localhost:8080/"
        },
        "outputId": "2b3719cb-151a-427d-c3ee-a58bf94fe7a5"
      },
      "outputs": [
        {
          "output_type": "execute_result",
          "data": {
            "text/plain": [
              "3.0"
            ]
          },
          "metadata": {},
          "execution_count": 25
        }
      ],
      "source": [
        "round(2.5677,0)"
      ]
    },
    {
      "cell_type": "markdown",
      "source": [
        "# **e. Funciones pre-fabricadas - _range()_**"
      ],
      "metadata": {
        "id": "yPVNVRKvrkxi"
      }
    },
    {
      "cell_type": "code",
      "execution_count": null,
      "metadata": {
        "id": "1HDNxmFsqG1A",
        "colab": {
          "base_uri": "https://localhost:8080/"
        },
        "outputId": "861d3cde-f756-4fae-d2d9-77cdde486858"
      },
      "outputs": [
        {
          "output_type": "execute_result",
          "data": {
            "text/plain": [
              "range(1, 10, 2)"
            ]
          },
          "metadata": {},
          "execution_count": 26
        }
      ],
      "source": [
        "range(1, 10, 2)"
      ]
    },
    {
      "cell_type": "code",
      "execution_count": null,
      "metadata": {
        "id": "Oph9WAndqG51",
        "colab": {
          "base_uri": "https://localhost:8080/"
        },
        "outputId": "21716a68-2c50-4768-a699-583ebf958c6c"
      },
      "outputs": [
        {
          "output_type": "stream",
          "name": "stdout",
          "text": [
            "1\n",
            "3\n",
            "5\n",
            "7\n",
            "9\n"
          ]
        }
      ],
      "source": [
        "for i in range(1, 10, 2):\n",
        "    print(i)"
      ]
    },
    {
      "cell_type": "markdown",
      "metadata": {
        "id": "YjjBbLJ5tjqg"
      },
      "source": [
        "#**28 Crear tu propia función**\n",
        "+ def function({<params>}):\n",
        "*     {<code>}\n",
        "+     return {<data>}"
      ]
    },
    {
      "cell_type": "markdown",
      "source": [
        "# **a. La suma de dos valores**"
      ],
      "metadata": {
        "id": "y1iVJoONugjM"
      }
    },
    {
      "cell_type": "code",
      "execution_count": null,
      "metadata": {
        "id": "tImwu-57ttEn"
      },
      "outputs": [],
      "source": [
        "def suma(a,b):\n",
        "  total = a+b\n",
        "  return print(\"total es =\", total)"
      ]
    },
    {
      "cell_type": "code",
      "execution_count": null,
      "metadata": {
        "id": "IB4YMRODttO-",
        "colab": {
          "base_uri": "https://localhost:8080/"
        },
        "outputId": "ad4afcd6-8e98-4ed2-80f0-f6e7159bd489"
      },
      "outputs": [
        {
          "output_type": "stream",
          "name": "stdout",
          "text": [
            "total es = 10\n"
          ]
        }
      ],
      "source": [
        "suma(3,7)"
      ]
    },
    {
      "cell_type": "markdown",
      "source": [
        "# **b. La suma de dos valores**"
      ],
      "metadata": {
        "id": "Zaa6XTs5usQr"
      }
    },
    {
      "cell_type": "code",
      "source": [
        "a = float(input(' Ingresa un numero  '))\n",
        "b = float(input('Ingresa otro número '))\n",
        "suma = a+b  \n",
        "print(\"total es = \", suma)"
      ],
      "metadata": {
        "colab": {
          "base_uri": "https://localhost:8080/"
        },
        "id": "enOSpjhkuyaK",
        "outputId": "d9998ab5-7f96-4709-a527-356f2a1d534c"
      },
      "execution_count": null,
      "outputs": [
        {
          "output_type": "stream",
          "name": "stdout",
          "text": [
            " Ingresa un numero  8\n",
            "Ingresa otro número 9\n",
            "total es =  17.0\n"
          ]
        }
      ]
    },
    {
      "cell_type": "markdown",
      "source": [
        "# **c. El producto de dos valores**"
      ],
      "metadata": {
        "id": "5oLXKbIyy1NZ"
      }
    },
    {
      "cell_type": "code",
      "execution_count": null,
      "metadata": {
        "id": "Ppa9uHnXttUP"
      },
      "outputs": [],
      "source": [
        "def multiplica(a,b):\n",
        "  producto = a*b\n",
        "  return print(\"producto es =\", producto)"
      ]
    },
    {
      "cell_type": "code",
      "execution_count": null,
      "metadata": {
        "id": "xuBQSCMCttYy",
        "colab": {
          "base_uri": "https://localhost:8080/"
        },
        "outputId": "cf0c27a3-f45d-439f-cc05-5c2c2733412e"
      },
      "outputs": [
        {
          "output_type": "stream",
          "name": "stdout",
          "text": [
            "producto es = 135\n"
          ]
        }
      ],
      "source": [
        "multiplica(15,9)"
      ]
    },
    {
      "cell_type": "markdown",
      "source": [
        "# **d. Suma y producto de dos valores**"
      ],
      "metadata": {
        "id": "Upzgh7DT4DZE"
      }
    },
    {
      "cell_type": "code",
      "source": [
        "# **d. Suma y producto de dos valores**\n",
        "# Inicio\n",
        "num1=float(input(\"ingrese primer valor:\")) # Entrada de Datos\n",
        "num2=float(input(\"ingrese segundo valor:\"))# Entrada de Datos\n",
        "suma=num1+num2 # operaciones\n",
        "producto=num1*num2 # operaciones\n",
        "print(\"La suma de los dos valores es\", suma) # salida\n",
        "\n",
        "print(\"El producto de los dos valores es\", producto) # salida\n",
        "# Fin"
      ],
      "metadata": {
        "colab": {
          "base_uri": "https://localhost:8080/"
        },
        "id": "DcxoIcPV38HY",
        "outputId": "d94aa50b-3715-43ca-8d66-38dae63f339b"
      },
      "execution_count": null,
      "outputs": [
        {
          "output_type": "stream",
          "name": "stdout",
          "text": [
            "ingrese primer valor:2.5\n",
            "ingrese segundo valor:3.8\n",
            "La suma de los dos valores es 6.3\n",
            "El producto de los dos valores es 9.5\n"
          ]
        }
      ]
    },
    {
      "cell_type": "markdown",
      "source": [
        "# **e. El cociente de dos valores**"
      ],
      "metadata": {
        "id": "RiU5ErVqy8PJ"
      }
    },
    {
      "cell_type": "code",
      "execution_count": null,
      "metadata": {
        "id": "9Vf98YmJttdg"
      },
      "outputs": [],
      "source": [
        "def divide(a,b):\n",
        "  cociente = a/b\n",
        "  return print(\"cociente es =\", cociente)"
      ]
    },
    {
      "cell_type": "code",
      "execution_count": null,
      "metadata": {
        "id": "B5iSZAMQttiN",
        "colab": {
          "base_uri": "https://localhost:8080/"
        },
        "outputId": "6a930a89-3507-4576-f592-fa33c760e239"
      },
      "outputs": [
        {
          "output_type": "stream",
          "name": "stdout",
          "text": [
            "cociente es = 2.0\n"
          ]
        }
      ],
      "source": [
        "divide(8,4)"
      ]
    },
    {
      "cell_type": "code",
      "execution_count": null,
      "metadata": {
        "id": "FHFEdFFnttnA",
        "colab": {
          "base_uri": "https://localhost:8080/"
        },
        "outputId": "f4ba64c7-486a-4acb-81d7-d87ede7a69d9"
      },
      "outputs": [
        {
          "output_type": "stream",
          "name": "stdout",
          "text": [
            "cociente es = 0.8\n"
          ]
        }
      ],
      "source": [
        "divide(8,10)"
      ]
    },
    {
      "cell_type": "markdown",
      "source": [
        "# **f. La raiz _n_sima**"
      ],
      "metadata": {
        "id": "6xA3ln4TzIwi"
      }
    },
    {
      "cell_type": "code",
      "execution_count": null,
      "metadata": {
        "id": "cAI-tzDRttsV"
      },
      "outputs": [],
      "source": [
        "def raiz(n,b):\n",
        "  raiz = b**(1/n)\n",
        "  return print(\"raiz es =\", round(raiz,1))"
      ]
    },
    {
      "cell_type": "code",
      "execution_count": null,
      "metadata": {
        "id": "x-C1r79uttxF",
        "colab": {
          "base_uri": "https://localhost:8080/"
        },
        "outputId": "970abc3a-9de5-4b78-f44b-28ea345c55b5"
      },
      "outputs": [
        {
          "output_type": "stream",
          "name": "stdout",
          "text": [
            "raiz es = 3.0\n"
          ]
        }
      ],
      "source": [
        "raiz(2,9)"
      ]
    },
    {
      "cell_type": "code",
      "execution_count": null,
      "metadata": {
        "id": "Am4wjmxLtuCk",
        "colab": {
          "base_uri": "https://localhost:8080/"
        },
        "outputId": "f564461a-c599-4e77-d81b-905a474fd8bc"
      },
      "outputs": [
        {
          "output_type": "stream",
          "name": "stdout",
          "text": [
            "raiz es = 3.0\n"
          ]
        }
      ],
      "source": [
        "raiz(4,81)"
      ]
    },
    {
      "cell_type": "code",
      "execution_count": null,
      "metadata": {
        "id": "UTOyeVJCyPuZ",
        "colab": {
          "base_uri": "https://localhost:8080/"
        },
        "outputId": "6b95949b-3459-4044-83c3-e4e8abff5820"
      },
      "outputs": [
        {
          "output_type": "stream",
          "name": "stdout",
          "text": [
            "raiz es = 10.0\n"
          ]
        }
      ],
      "source": [
        "raiz(5,100000)"
      ]
    },
    {
      "cell_type": "markdown",
      "source": [
        "# **g. Aréa de una superficie y perimetro**"
      ],
      "metadata": {
        "id": "26XVimQ321oo"
      }
    },
    {
      "cell_type": "code",
      "source": [
        "lado=float(input(\"Ingrese la medida del lado del cuadrado: \")) # Entrada de Datos\n",
        "\n",
        "superficie=lado*lado # Operación 1\n",
        "perimetro = 4*lado # Operación 2\n",
        "print(\"La superficie del cuadrado es \", superficie) # Salida\n",
        "print(\"El Perímetro cuadrado es \", perimetro) # Salida"
      ],
      "metadata": {
        "colab": {
          "base_uri": "https://localhost:8080/"
        },
        "id": "y8qKpGOv2lB4",
        "outputId": "5a1dc2ca-9526-4e46-c13a-eec7bffc1025"
      },
      "execution_count": null,
      "outputs": [
        {
          "output_type": "stream",
          "name": "stdout",
          "text": [
            "Ingrese la medida del lado del cuadrado: 2.5\n",
            "La superficie del cuadrado es  6.25\n",
            "El Perímetro cuadrado es  10.0\n"
          ]
        }
      ]
    },
    {
      "cell_type": "code",
      "source": [
        "# No importa el orden entre la salida y la operación\n",
        "lado=float(input(\"Ingrese la medida del lado del cuadrado: \")) # # Entrada de Datos\n",
        "print(\"La superficie del cuadrado es \", superficie) # Salida\n",
        "print(\"El Perímetro cuadrado es \", perimetro) # Salida\n",
        "superficie=lado*lado # Operación 1\n",
        "perimetro = 4*lado # Operación 2\n"
      ],
      "metadata": {
        "colab": {
          "base_uri": "https://localhost:8080/"
        },
        "id": "K0ooSqq2G-Kb",
        "outputId": "2e18e21b-81fa-417d-b62f-dab7feed1019"
      },
      "execution_count": null,
      "outputs": [
        {
          "output_type": "stream",
          "name": "stdout",
          "text": [
            "Ingrese la medida del lado del cuadrado: 5\n",
            "La superficie del cuadrado es  6.25\n",
            "El Perímetro cuadrado es  10.0\n"
          ]
        }
      ]
    },
    {
      "cell_type": "markdown",
      "source": [
        "# **h. Volumen de la esfera**"
      ],
      "metadata": {
        "id": "WcMPn6Op3uR6"
      }
    },
    {
      "cell_type": "code",
      "source": [
        "radio=float(input(\"Ingrese el Radio de la Espera: \"))\n",
        "\n",
        "Volumen=4/3*3.1416*radio**3\n",
        "area = 4*3.1416*radio**2\n",
        "print(\"Volumen de la esfera es \", Volumen, 'y su área es ', area)"
      ],
      "metadata": {
        "colab": {
          "base_uri": "https://localhost:8080/"
        },
        "id": "3KMZFejw3MyI",
        "outputId": "a00c0711-e84a-4091-dac1-166e99e76de1"
      },
      "execution_count": null,
      "outputs": [
        {
          "output_type": "stream",
          "name": "stdout",
          "text": [
            "Ingrese el Radio de la Espera: 5\n",
            "Volumen de la esfera es  523.5999999999999 y su área es  314.15999999999997\n"
          ]
        }
      ]
    },
    {
      "cell_type": "markdown",
      "source": [
        "#**29. Fortaleciendo programación - Parte I**"
      ],
      "metadata": {
        "id": "IW-9NsJcs_jh"
      }
    },
    {
      "cell_type": "markdown",
      "source": [
        "# **Estructura de programación sencilla**\n",
        "## **a. Problema. Realizar la carga del precio de un producto y la cantidad a llevar. Mostrar cuanto se debe pagar (se ingresa un valor entero en el precio del producto)**"
      ],
      "metadata": {
        "id": "p6aCtwiF4XHx"
      }
    },
    {
      "cell_type": "code",
      "source": [
        "# Inicio de programa\n",
        "precio=float(input(\"Ingrese el precio del producto:\")) # Entrada de Datos\n",
        "cantidad=float(input(\"Ingrese la cantidad de productos a llevar:\")) # Entrada de Datos\n",
        "importe=precio*cantidad # Operación \n",
        "print(\"El importe a pagar es\", importe) # salida\n",
        "# fin del progrma"
      ],
      "metadata": {
        "colab": {
          "base_uri": "https://localhost:8080/"
        },
        "id": "1kodftXX3td-",
        "outputId": "7515acd5-4f23-473e-8427-76fcfacfc3ef"
      },
      "execution_count": null,
      "outputs": [
        {
          "output_type": "stream",
          "name": "stdout",
          "text": [
            "Ingrese el precio del producto:2500\n",
            "Ingrese la cantidad de productos a llevar:500\n",
            "El importe a pagar es 1250000.0\n"
          ]
        }
      ]
    },
    {
      "cell_type": "markdown",
      "source": [
        "# **b. Estrucutra condcional simple: _if_**\n",
        "## **Problema. La UVT que rige para el 2023 es de 42.412 pesos, lo que quiere decir que la base gravable sobre la que aplica la retención de la fuente por salarios es igual a 4.029.140 pesos y a un salario mensual por 5903540 pesos.**"
      ],
      "metadata": {
        "id": "X93YZKYi6CQT"
      }
    },
    {
      "cell_type": "code",
      "source": [
        "# Estructura condicional simple\n",
        "#Inicio del Programa\n",
        "sueldo=int(input(\"Ingrese salario mensual: \")) # Entrada de datos\n",
        "# Condición\n",
        "if sueldo>5903540:\n",
        "    print(\"Esta persona debe abonar impuestos\") # Salida\n",
        "print('Fin del programa')"
      ],
      "metadata": {
        "colab": {
          "base_uri": "https://localhost:8080/"
        },
        "id": "QoY7TYuj6UD5",
        "outputId": "c7edc389-c474-40b8-9055-156c8e9e9166"
      },
      "execution_count": null,
      "outputs": [
        {
          "output_type": "stream",
          "name": "stdout",
          "text": [
            "Ingrese salario mensual: 5800\n",
            "Fin del programa\n"
          ]
        }
      ]
    },
    {
      "cell_type": "markdown",
      "source": [
        "# **c. Estructura condicional compuesta: _if_-_else_**\n",
        "## **Problema. Realizar un programa que solicite ingresar dos números distintos y muestre por pantalla el mayor de ellos.**"
      ],
      "metadata": {
        "id": "d-v2Gtkp7Flm"
      }
    },
    {
      "cell_type": "code",
      "source": [
        "# **k. Estrucutra condcional compuesta: _if_-_else_**\n",
        "# Inicio del programa\n",
        "num1=int(input(\"Ingrese primer valor:\")) # Entrada 1\n",
        "num2=int(input(\"ingrese segundo valor:\")) # Entrada 1\n",
        "print(\"El valor mayor es\") # salida va  aparecer siempre\n",
        "# Condición \n",
        "if num1>num2: # Si la condición verdadera\n",
        "    print(num1)  # salida\n",
        "else: # Si la condición es falsa\n",
        "    print(num2)  # salida\n",
        "print('Fin del programa')"
      ],
      "metadata": {
        "colab": {
          "base_uri": "https://localhost:8080/"
        },
        "id": "4tMWCn2m7LVR",
        "outputId": "4976a2ee-eff0-4630-d56c-664e2e785014"
      },
      "execution_count": null,
      "outputs": [
        {
          "output_type": "stream",
          "name": "stdout",
          "text": [
            "Ingrese primer valor:15\n",
            "ingrese segundo valor:3\n",
            "El valor mayor es\n",
            "15\n",
            "Fin del programa\n"
          ]
        }
      ]
    },
    {
      "cell_type": "markdown",
      "source": [
        "# **d. Estructuras condicionales simples y compuestas: _if_-_else_**\n",
        "## **Problema: Construya un programa que solicite ingresar dos numeros, el primer numero es mayor que el segundo realice suma y resta, sino, realice producto y división primero respecto al segundo**"
      ],
      "metadata": {
        "id": "CFnIQ6H6T2Xl"
      }
    },
    {
      "cell_type": "code",
      "source": [
        "# **d. Estrucutra condcional compuesta: _if_-_else_**\n",
        "# Inicio del programa\n",
        "num1=int(input(\"Ingrese primer valor:\")) # Entrada 1\n",
        "num2=int(input(\"ingrese segundo valor:\")) # Entrada 1\n",
        "print(\"El valor mayor es\") # salida va  aparecer siempre\n",
        "# Condición \n",
        "if num1>num2: # Si la condición verdadera\n",
        "    print(num1)  # salida\n",
        "    suma = num1+num2 # operación\n",
        "    resta = num1-num2 # operación\n",
        "    print('El total es igual a ', suma, 'y la diferencia es ', resta)\n",
        "else: # Si la condición es falsa\n",
        "    print(num2)  # salida\n",
        "    producto = num1*num2 # operación\n",
        "    cociente = num1/num2 # operación\n",
        "    print('El producto es igual a ', producto, 'y el cociente es ', cociente)\n",
        "print('Fin del programa')"
      ],
      "metadata": {
        "colab": {
          "base_uri": "https://localhost:8080/"
        },
        "id": "vCdlSzt9T1Mz",
        "outputId": "018ce717-65aa-4d26-9e98-fcafb32c8dd3"
      },
      "execution_count": null,
      "outputs": [
        {
          "output_type": "stream",
          "name": "stdout",
          "text": [
            "Ingrese primer valor:5\n",
            "ingrese segundo valor:9\n",
            "El valor mayor es\n",
            "9\n",
            "El producto es igual a  45 y el cociente es  0.5555555555555556\n",
            "Fin del programa\n"
          ]
        }
      ]
    },
    {
      "cell_type": "markdown",
      "source": [
        "# **Estructuras condicionales Anidadas: _if_-_else_**\n",
        "## **e. Confeccionar un programa que pida por teclado tres notas de un alumno, calcule el promedio e imprima alguno de estos mensajes: Si el promedio es $\\geq7$ mostrar \"Promocionado\". Si el promedio es $\\geq4$ y $<7$ mostrar \"Regular\". Si el promedio es $<4$ mostrar \"Reprobado\".**"
      ],
      "metadata": {
        "id": "i-uD0lbj7m5j"
      }
    },
    {
      "cell_type": "code",
      "source": [
        "print('Inicio del programa')\n",
        "# Entrada de datos\n",
        "nota1=int(input(\"Ingrese primer nota:\"))\n",
        "nota2=int(input(\"Ingrese segunda nota:\"))\n",
        "nota3=int(input(\"Ingrese tercera nota:\"))\n",
        "# Operación\n",
        "prom=(nota1+nota2+nota3)/3\n",
        "# Condición\n",
        "if prom>=7: # condicion verdadera\n",
        "    print(\"Haz sido promocionado por tu promedio de \", prom) # salida\n",
        "else: # condición Falsa\n",
        "    if prom>=4: #condición verdadera\n",
        "        print(\"Haz sido un estudiante regular por tu promedio de \", prom) #salida\n",
        "    else: #condición Falsa salida\n",
        "        print(\"Haz sido reprobado por tu promedio de \", prom)# salida\n",
        "print('Fin del programa')"
      ],
      "metadata": {
        "colab": {
          "base_uri": "https://localhost:8080/"
        },
        "id": "G1rTfc5o74Fo",
        "outputId": "54acfe77-be0f-48b8-8c4a-4b0a2e72e9c3"
      },
      "execution_count": null,
      "outputs": [
        {
          "output_type": "stream",
          "name": "stdout",
          "text": [
            "Inicio del programa\n",
            "Ingrese primer nota:9\n",
            "Ingrese segunda nota:8\n",
            "Ingrese tercer nota:6\n",
            "Haz sido promocionado por tu promedio de  7.666666666666667\n",
            "Fin del programa\n"
          ]
        }
      ]
    },
    {
      "cell_type": "markdown",
      "source": [
        "\n",
        "## **e. Eligiendo el mayor entre tres numeros: Forma 1**"
      ],
      "metadata": {
        "id": "Ffokx7VPdPuk"
      }
    },
    {
      "cell_type": "code",
      "source": [
        "print('Inicio del programa')\n",
        "# Entrada de datos\n",
        "nota1=int(input(\"Ingrese primer nota:\"))\n",
        "nota2=int(input(\"Ingrese segunda nota:\"))\n",
        "nota3=int(input(\"Ingrese tercera nota:\"))\n",
        "\n",
        "# Condición\n",
        "if (nota1>nota2): # condicion verdadera\n",
        "  if (nota1>nota3): # condicion verdadera\n",
        "    print(\"el numero mayor es \", nota1) # salida\n",
        "  else:\n",
        "    print(\"el numero mayor es \", nota3)\n",
        "else: # condición Falsa\n",
        "    if (nota2>nota3): #condición verdadera\n",
        "        print(\"el numero mayor es \", nota2) #salida\n",
        "    else:\n",
        "        print(\"el numero mayor es \", nota3)\n",
        "    \n",
        "print('Fin del programa')"
      ],
      "metadata": {
        "colab": {
          "base_uri": "https://localhost:8080/"
        },
        "id": "vDcZvpBqeyRb",
        "outputId": "2a8eef5e-5352-426e-98db-dc54a5ea5ad9"
      },
      "execution_count": null,
      "outputs": [
        {
          "output_type": "stream",
          "name": "stdout",
          "text": [
            "Inicio del programa\n",
            "Ingrese primer nota:5\n",
            "Ingrese segunda nota:4\n",
            "Ingrese tercera nota:8\n",
            "el numero mayor es  8\n",
            "Fin del programa\n"
          ]
        }
      ]
    },
    {
      "cell_type": "markdown",
      "source": [
        "## **f. Eligiendo el mayor entre tres numeros: Forma 2 con operadores lógicos**"
      ],
      "metadata": {
        "id": "XZd8dU4jfckr"
      }
    },
    {
      "cell_type": "code",
      "source": [
        "print('Inicio del programa')\n",
        "# Entrada de datos\n",
        "nota1=int(input(\"Ingrese primer nota:\"))\n",
        "nota2=int(input(\"Ingrese segunda nota:\"))\n",
        "nota3=int(input(\"Ingrese tercera nota:\"))\n",
        "\n",
        "# Condición\n",
        "if ((nota1>nota2) and (nota1>nota3)): # condicion verdadera\n",
        "    print(\"el numero mayor es \", nota1) # salida\n",
        "else: # condición Falsa\n",
        "    if (nota2>nota3): #condición verdadera\n",
        "        print(\"el numero mayor es \", nota2) #salida\n",
        "    else: #condición Falsa salida\n",
        "        print(\"el numero mayor es \", nota3)# salida\n",
        "print('Fin del programa')"
      ],
      "metadata": {
        "colab": {
          "base_uri": "https://localhost:8080/"
        },
        "id": "ARtWZ_ZodeCK",
        "outputId": "a74847eb-f24f-43c4-d1f8-e3c447109b79"
      },
      "execution_count": null,
      "outputs": [
        {
          "output_type": "stream",
          "name": "stdout",
          "text": [
            "Inicio del programa\n",
            "Ingrese primer nota:8\n",
            "Ingrese segunda nota:9\n",
            "Ingrese tercera nota:5\n",
            "el numero mayor es  9\n",
            "Fin del programa\n"
          ]
        }
      ]
    },
    {
      "cell_type": "markdown",
      "source": [
        "# **g. Estructuras condicionales Anidadas: _if_-_else_**\n",
        "## **Problema: Clasifica un numero entero como nulo, positivo o negativo**"
      ],
      "metadata": {
        "id": "-iT8TdDSic4J"
      }
    },
    {
      "cell_type": "code",
      "source": [
        "print('Inicio del programa')\n",
        "# Entrada de datos\n",
        "a =int(input(\"Ingrese un numero entero: \"))\n",
        "\n",
        "\n",
        "# Condición\n",
        "if (a == 0): # condicion verdadera\n",
        "  \n",
        "    print(\"Haz ingresado el entero nulo \", a) # salida\n",
        "  \n",
        "else: # condición Falsa\n",
        "    if (a>0): #condición verdadera\n",
        "        print(\"Haz ingresado el entero positivo \", a) #salida\n",
        "    else:\n",
        "        print(\"Haz ingresado el entero negativo \", a)\n",
        "    \n",
        "print('Fin del programa')"
      ],
      "metadata": {
        "colab": {
          "base_uri": "https://localhost:8080/"
        },
        "id": "k3tftW57ixEP",
        "outputId": "072602f5-2a99-40ac-8361-4a6ffb1fca67"
      },
      "execution_count": null,
      "outputs": [
        {
          "output_type": "stream",
          "name": "stdout",
          "text": [
            "Inicio del programa\n",
            "Ingrese un numero entero: 0\n",
            "Haz ingresado el entero nulo  0\n",
            "Fin del programa\n"
          ]
        }
      ]
    },
    {
      "cell_type": "markdown",
      "source": [
        "# **h. Estructuras condicionales Anidadas: _if_-_else_**\n",
        "## **Problema: Clasifica un numero entero por su cantidad de digitos**"
      ],
      "metadata": {
        "id": "B0JSBIqulETV"
      }
    },
    {
      "cell_type": "code",
      "source": [
        "print('Inicio del programa')\n",
        "# Entrada de datos\n",
        "a =int(input(\"Ingrese un numero entero: \"))\n",
        "\n",
        "\n",
        "# Condición\n",
        "if (a < 10): # condicion verdadera\n",
        "  \n",
        "    print(\"El entero ingresado tiene un dígito y es \", a) # salida\n",
        "  \n",
        "else: # condición Falsa\n",
        "    if (a<100): #condición verdadera\n",
        "        print(\"El entero ingresado tiene dos dígito y es \", a) #salida\n",
        "    else:\n",
        "        if (a<1000): #condición verdadera\n",
        "          print(\"El entero ingresado tiene tres dígito y es \", a) #salida\n",
        "        else:\n",
        "          print(\"El entero ingresado tiene mas tres dígito y es \", a)\n",
        "    \n",
        "print('Fin del programa')"
      ],
      "metadata": {
        "colab": {
          "base_uri": "https://localhost:8080/"
        },
        "id": "qikqEV_zlMLM",
        "outputId": "93fdac64-2c3f-4646-de50-d0732dec1d63"
      },
      "execution_count": null,
      "outputs": [
        {
          "output_type": "stream",
          "name": "stdout",
          "text": [
            "Inicio del programa\n",
            "Ingrese un numero entero: 1523\n",
            "El entero ingresado tiene mas tres dígito y es  1523\n",
            "Fin del programa\n"
          ]
        }
      ]
    },
    {
      "cell_type": "markdown",
      "source": [
        "# **i. Estructuras condicionales Anidadas: _if_-_else_**\n",
        "## **Problema: Clasifica el rendimiento de un aspirante a un empleo**"
      ],
      "metadata": {
        "id": "Vg5j1obTnmmS"
      }
    },
    {
      "cell_type": "code",
      "source": [
        "print('Inicio del programa')\n",
        "# Entrada de datos\n",
        "n =int(input(\"Ingrese el numero de preguntas del cuestionario: \"))\n",
        "k =int(input(\"Ingrese el numero de preguntas del cuestionario con respuestas correctas: \"))\n",
        "p = k/n*100\n",
        "\n",
        "# Condición\n",
        "if p>=90: # condicion verdadera\n",
        "   print(\"Tu desempeño es excelente, haz alcanzado un porcentaje de respuestas correctas de \", p) # salida\n",
        "else: # condición Falsa\n",
        "    if p>=75: # condicion verdadera\n",
        "        print(\"Tu desempeño es bueno, haz alcanzado un porcentaje de respuestas correctas de \", p) # salida\n",
        "    else:\n",
        "        if p>=50: #condición verdadera\n",
        "            print(\"Tu desempeño es regular, haz alcanzado un porcentaje de respuestas correctas de \", p) #salida\n",
        "        else:\n",
        "            print(\"Tu desempeño es deficiente, haz alcanzado un porcentaje de respuestas correctas de \", p)\n",
        "    \n",
        "print('Fin del programa')"
      ],
      "metadata": {
        "colab": {
          "base_uri": "https://localhost:8080/"
        },
        "id": "jteqD40Enzqh",
        "outputId": "329047d8-a411-495e-f4e0-1297d1f24dc8"
      },
      "execution_count": null,
      "outputs": [
        {
          "output_type": "stream",
          "name": "stdout",
          "text": [
            "Inicio del programa\n",
            "Ingrese el numero de preguntas del cuestionario: 89\n",
            "Ingrese el numero de preguntas del cuestionario con respuestas correctas: 45\n",
            "Tu desempeño es regular, haz alcanzado un porcentaje de respuestas correctas de  50.56179775280899\n",
            "Fin del programa\n"
          ]
        }
      ]
    },
    {
      "cell_type": "markdown",
      "source": [
        "# **j. Realizar la carga de enteros por teclado. Preguntar después que ingresa el valor si desea cargar otro valor debiendo el operador ingresar la cadena 'si' o 'no' por teclado.**"
      ],
      "metadata": {
        "id": "v-e8inTN9BCG"
      }
    },
    {
      "cell_type": "code",
      "source": [
        "opcion=\"si\"\n",
        "suma=0\n",
        "while opcion==\"si\":\n",
        "    valor=int(input(\"Ingrese un valor:\"))\n",
        "    suma=suma+valor\n",
        "    opcion=input(\"Desea cargar otro numero (si/no):\")\n",
        "print(\"La suma de valores ingresados es\")\n",
        "print(suma)"
      ],
      "metadata": {
        "colab": {
          "base_uri": "https://localhost:8080/"
        },
        "id": "rJCwXchC9HBz",
        "outputId": "292917c1-f17b-4670-e338-ec4f49ff09ce"
      },
      "execution_count": null,
      "outputs": [
        {
          "output_type": "stream",
          "name": "stdout",
          "text": [
            "Ingrese un valor:30\n",
            "Desea cargar otro numero (si/no):si\n",
            "Ingrese un valor:40\n",
            "Desea cargar otro numero (si/no):no\n",
            "La suma de valores ingresados es\n",
            "70\n"
          ]
        }
      ]
    },
    {
      "cell_type": "markdown",
      "source": [
        "# **k. Definir una lista por asignación que almacene en la primer componente el nombre de un alumno y en las dos siguientes sus notas. Imprimir luego el nombre y el promedio de las dos notas.**"
      ],
      "metadata": {
        "id": "jnOZnzSw9n-i"
      }
    },
    {
      "cell_type": "code",
      "source": [
        "lista=[\"ana\", 7, 9]\n",
        "print(\"Nombre del alumno:\")\n",
        "print(lista[0])\n",
        "promedio=(lista[1]+lista[2])//2\n",
        "print(\"Promedio de sus dos notas:\")\n",
        "print(promedio)"
      ],
      "metadata": {
        "colab": {
          "base_uri": "https://localhost:8080/"
        },
        "id": "KWj5FaSw9rlx",
        "outputId": "8b17b185-908c-4bee-9df4-6e739933f61a"
      },
      "execution_count": null,
      "outputs": [
        {
          "output_type": "stream",
          "name": "stdout",
          "text": [
            "Nombre del alumno:\n",
            "ana\n",
            "Promedio de sus dos notas:\n",
            "8\n"
          ]
        }
      ]
    },
    {
      "cell_type": "markdown",
      "source": [
        "# **l. Definir por asignación una lista con 10 elementos enteros. Contar cuantos de dichos valores almacenan un valor superior a 95.**"
      ],
      "metadata": {
        "id": "EM3Smx5--9qR"
      }
    },
    {
      "cell_type": "code",
      "source": [
        "lista = [10, 23, 58, 100, 456, 256, 521, 486,  96, 58] # definimos una lista con 10 elementos\n",
        "contador = 0 # definimos el contadorr\n",
        "x = 0 # vamos avanzando en el while\n",
        "while x<len(lista):\n",
        "  if lista[x]>95:\n",
        "    contador = contador +1\n",
        "  x= x+1\n",
        "print('la lista contiene los valores mayores ', lista)\n",
        "print('la lista contiene los valores mayores  a 95 ', contador)\n"
      ],
      "metadata": {
        "colab": {
          "base_uri": "https://localhost:8080/"
        },
        "id": "R_7RlRFN-5Ln",
        "outputId": "8e582d5f-bb68-456b-a17c-7d95612ef302"
      },
      "execution_count": null,
      "outputs": [
        {
          "output_type": "stream",
          "name": "stdout",
          "text": [
            "la lista contiene los valores mayores  [10, 23, 58, 100, 456, 256, 521, 486, 96, 58]\n",
            "la lista contiene los valores mayores  a 95  6\n"
          ]
        }
      ]
    },
    {
      "cell_type": "markdown",
      "source": [
        "# **m. construya un programa que solicite cuatro numeros haga su suma y el promedio**\n",
        "\n",
        "> Bloc con sangría\n",
        "\n",
        "\n"
      ],
      "metadata": {
        "id": "0v-Qeqd9NWTv"
      }
    },
    {
      "cell_type": "code",
      "source": [
        "# inicio\n",
        "num1=int(input(\"Ingrese primer valor:\")) # Entrada\n",
        "num2=int(input(\"ingrese segundo valor:\")) # Entrada\n",
        "num3=int(input(\"Ingrese primer valor:\")) # Entrada\n",
        "num4=int(input(\"ingrese segundo valor:\")) # Entrada\n",
        "suma = num1+num2+num3+num4 # Operacion\n",
        "promedio = suma/4 # Operacion\n",
        "print('la suma total es ', suma) # salida\n",
        "print('la promedio total es ', promedio) # salida"
      ],
      "metadata": {
        "colab": {
          "base_uri": "https://localhost:8080/"
        },
        "id": "MW06xETUM2lG",
        "outputId": "0a4176e3-ca46-498a-abcb-0570751c6369"
      },
      "execution_count": null,
      "outputs": [
        {
          "output_type": "stream",
          "name": "stdout",
          "text": [
            "Ingrese primer valor:8\n",
            "ingrese segundo valor:5\n",
            "Ingrese primer valor:6\n",
            "ingrese segundo valor:5\n",
            "la suma total es  24\n",
            "la promedio total es  6.0\n"
          ]
        }
      ]
    }
  ],
  "metadata": {
    "colab": {
      "provenance": [],
      "authorship_tag": "ABX9TyOc0Dvma/NJBUwsi8ZOtnA9",
      "include_colab_link": true
    },
    "kernelspec": {
      "display_name": "Python 3",
      "name": "python3"
    },
    "language_info": {
      "name": "python"
    }
  },
  "nbformat": 4,
  "nbformat_minor": 0
}